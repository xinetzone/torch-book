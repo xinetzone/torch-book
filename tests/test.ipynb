{
 "cells": [
  {
   "cell_type": "markdown",
   "metadata": {},
   "source": [
    "# 测试"
   ]
  },
  {
   "cell_type": "code",
   "execution_count": null,
   "metadata": {},
   "outputs": [],
   "source": [
    "from env import temp_dir, mm_env\n",
    "import subprocess\n",
    "import os\n",
    "ENV = os.environ.copy()\n",
    "ENV[\"PYTHONPATH\"] = \":\".join(mm_env)\n",
    "\n",
    "def run_mm(cmds, env=ENV):\n",
    "    with subprocess.Popen(cmds, shell=True, stdout=subprocess.PIPE, env=env) as proc:\n",
    "        output = proc.stdout.read().decode()\n",
    "    return output\n",
    "\n",
    "# 测试\n",
    "output = run_mm(['python -c \"import mmcv;print(mmcv)\"'])\n",
    "print(output)"
   ]
  },
  {
   "cell_type": "code",
   "execution_count": null,
   "metadata": {},
   "outputs": [],
   "source": [
    "cmd = \"python tools/train.py configs/srcnn/srcnn_x4k915_1xb16-1000k_div2k.py --resume\"\n",
    "output = run_mm([\n",
    "    f\"cd {temp_dir}/mmagic&&{cmd}\",\n",
    "])\n",
    "print(output)"
   ]
  },
  {
   "cell_type": "code",
   "execution_count": null,
   "metadata": {},
   "outputs": [],
   "source": []
  }
 ],
 "metadata": {
  "kernelspec": {
   "display_name": "ai",
   "language": "python",
   "name": "python3"
  },
  "language_info": {
   "codemirror_mode": {
    "name": "ipython",
    "version": 3
   },
   "file_extension": ".py",
   "mimetype": "text/x-python",
   "name": "python",
   "nbconvert_exporter": "python",
   "pygments_lexer": "ipython3",
   "version": "3.12.7"
  }
 },
 "nbformat": 4,
 "nbformat_minor": 2
}
