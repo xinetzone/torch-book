{
 "cells": [
  {
   "cell_type": "code",
   "execution_count": 1,
   "metadata": {},
   "outputs": [],
   "source": [
    "import logging\n",
    "import torch\n",
    "from torch import nn\n",
    "from torch.profiler import profile, record_function, ProfilerActivity\n",
    "from torchvision.models import resnet18, ResNet18_Weights\n",
    "from torch_book.vision.classifier import Classifier, evaluate_accuracy\n",
    "from torch_book.datasets.cifar10 import Cifar10\n",
    "torch.cuda.empty_cache() # 清空 GPU 缓存\n",
    "\n",
    "\n",
    "logging.basicConfig(filename='logs/debug-graph.log',\n",
    "                    filemode=\"w\",\n",
    "                    format='%(asctime)s|%(levelname)s|%(name)s->%(funcName)s@%(message)s',\n",
    "                    level=logging.INFO)"
   ]
  },
  {
   "cell_type": "code",
   "execution_count": 2,
   "metadata": {},
   "outputs": [
    {
     "name": "stdout",
     "output_type": "stream",
     "text": [
      "Files already downloaded and verified\n",
      "Files already downloaded and verified\n"
     ]
    }
   ],
   "source": [
    "data = Cifar10(batch_size = 128, num_workers=8, cutout=None)\n",
    "train_iter = data.train_loader()\n",
    "test_iter = data.val_loader()"
   ]
  },
  {
   "cell_type": "code",
   "execution_count": 3,
   "metadata": {},
   "outputs": [],
   "source": [
    "model = torch.jit.load(\"params/resnet18_cifar10_silu_cutout.pt\")"
   ]
  },
  {
   "cell_type": "code",
   "execution_count": 5,
   "metadata": {},
   "outputs": [
    {
     "data": {
      "text/plain": [
       "0.9485"
      ]
     },
     "execution_count": 5,
     "metadata": {},
     "output_type": "execute_result"
    }
   ],
   "source": [
    "test_acc = evaluate_accuracy(model, test_iter, device=torch.device(\"cuda:0\"))\n",
    "test_acc"
   ]
  },
  {
   "cell_type": "code",
   "execution_count": 7,
   "metadata": {},
   "outputs": [
    {
     "data": {
      "text/plain": [
       "torch.jit._script.RecursiveScriptModule"
      ]
     },
     "execution_count": 7,
     "metadata": {},
     "output_type": "execute_result"
    }
   ],
   "source": [
    "type(model)"
   ]
  },
  {
   "cell_type": "code",
   "execution_count": null,
   "metadata": {},
   "outputs": [],
   "source": []
  }
 ],
 "metadata": {
  "kernelspec": {
   "display_name": "tvmz",
   "language": "python",
   "name": "python3"
  },
  "language_info": {
   "codemirror_mode": {
    "name": "ipython",
    "version": 3
   },
   "file_extension": ".py",
   "mimetype": "text/x-python",
   "name": "python",
   "nbconvert_exporter": "python",
   "pygments_lexer": "ipython3",
   "version": "3.10.13"
  }
 },
 "nbformat": 4,
 "nbformat_minor": 2
}
