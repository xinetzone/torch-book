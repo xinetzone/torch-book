{
 "cells": [
  {
   "cell_type": "markdown",
   "metadata": {},
   "source": [
    "# Torch 参数\n",
    "\n",
    "{class}`~torch.nn.parameter.Parameter` 被视为 module 参数的一种张量。{class}`~torch.nn.parameter.Parameter` 是 {class}`~torch.Tensor` 的子类，当与 {class}`~torch.nn.Module` 一起使用时，它们有一个非常特殊的属性——当它们被赋值为  {class}`~torch.nn.Module` 属性时，它们会自动添加到它的参数列表中，并会出现在 {meth}`~torch.nn.Module.parameters` 迭代器中。赋值 {class}`~torch.Tensor` 没有这样的效果。这是因为可能需要在模型中缓存一些临时状态，比如 RNN 的最后一个隐藏状态。如果没有 {class}`~torch.nn.parameter.Parameter` 这样的类，这些临时变量也会被注册。"
   ]
  },
  {
   "cell_type": "code",
   "execution_count": 3,
   "metadata": {},
   "outputs": [
    {
     "data": {
      "text/plain": [
       "<function torch.nn.modules.module.Module.parameters(self, recurse: bool = True) -> Iterator[torch.nn.parameter.Parameter]>"
      ]
     },
     "execution_count": 3,
     "metadata": {},
     "output_type": "execute_result"
    }
   ],
   "source": [
    "import torch\n",
    "torch.nn.Module.parameters"
   ]
  },
  {
   "cell_type": "code",
   "execution_count": null,
   "metadata": {},
   "outputs": [],
   "source": []
  }
 ],
 "metadata": {
  "kernelspec": {
   "display_name": "Python 3.10.4 ('tvmx': conda)",
   "language": "python",
   "name": "python3"
  },
  "language_info": {
   "codemirror_mode": {
    "name": "ipython",
    "version": 3
   },
   "file_extension": ".py",
   "mimetype": "text/x-python",
   "name": "python",
   "nbconvert_exporter": "python",
   "pygments_lexer": "ipython3",
   "version": "3.10.4"
  },
  "orig_nbformat": 4,
  "vscode": {
   "interpreter": {
    "hash": "e579259ee6098e2b9319de590d145b4b096774fe457bdf04260e3ba5c171e887"
   }
  }
 },
 "nbformat": 4,
 "nbformat_minor": 2
}
