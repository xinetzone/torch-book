{
 "cells": [
  {
   "cell_type": "markdown",
   "metadata": {},
   "source": [
    "# FX API 参考\n",
    "\n",
    "## {func}`~torch.fx.symbolic_trace`\n",
    "\n",
    "给定 {class}`~torch.nn.Module` 或函数实例 `root`，此函数将返回 {class}`~torch.fx.GraphModule`，该 {class}`~!torch.fx.GraphModule` 是通过记录跟踪 `root` 时看到的运算构造的。\n",
    "\n",
    "`concrete_args` 允许您对函数进行部分专门化，无论是删除控制流还是数据结构。\n",
    "\n",
    "例如："
   ]
  },
  {
   "cell_type": "code",
   "execution_count": 1,
   "metadata": {},
   "outputs": [],
   "source": [
    "def f(a, b):\n",
    "    if b == True:\n",
    "        return a\n",
    "    else:\n",
    "        return a*2"
   ]
  },
  {
   "cell_type": "markdown",
   "metadata": {},
   "source": [
    "由于控制流的存在，FX 通常无法进行跟踪。但是，可以使用 `concrete_args` 专门化 `b` 的值来跟踪它。"
   ]
  },
  {
   "cell_type": "code",
   "execution_count": 2,
   "metadata": {},
   "outputs": [],
   "source": [
    "from torch import fx\n",
    "\n",
    "f = fx.symbolic_trace(f, \n",
    "                      concrete_args={\"b\": False}) \n",
    "assert f(3, False) == 6"
   ]
  },
  {
   "cell_type": "markdown",
   "metadata": {},
   "source": [
    "注意，尽管您仍然可以传入 `b` 的不同值，但它们将被忽略。\n",
    "\n",
    "还可以使用 `concrete_args` 从函数中消除数据结构处理。这将使用 pytrees 来平展您的输入。为了避免过度专门化，传入 `fx.PH` 值不应该特化。例如："
   ]
  },
  {
   "cell_type": "code",
   "execution_count": 3,
   "metadata": {},
   "outputs": [],
   "source": [
    "def f(x):\n",
    "    out = 0\n",
    "    for v in x.values():\n",
    "        out += v\n",
    "    return out\n",
    "f = fx.symbolic_trace(f, \n",
    "                      concrete_args={'x': {'a': fx.PH, \n",
    "                                           'b': fx.PH, \n",
    "                                           'c': fx.PH}})\n",
    "assert f({'a': 1, 'b': 2, 'c': 4}) == 7"
   ]
  },
  {
   "cell_type": "markdown",
   "metadata": {},
   "source": [
    "## {func}`torch.fx.wrap`\n",
    "\n",
    "{func}`~torch.fx.wrap` 函数可以在模块级范围内调用，将 `fn_or_name` 注册为“叶函数”。“叶函数”将被保留为 FX 跟踪中的 CallFunction 节点，而不是被跟踪：\n",
    "\n",
    "```python\n",
    "# foo/bar/baz.py\n",
    "def my_custom_function(x, y):\n",
    "    return x * x + y * y\n",
    "\n",
    "torch.fx.wrap('my_custom_function')\n",
    "\n",
    "def fn_to_be_traced(x, y):\n",
    "    # When symbolic tracing, the below call to my_custom_function will be inserted into\n",
    "    # the graph rather than tracing it.\n",
    "    return my_custom_function(x, y)\n",
    "```\n",
    "\n",
    "这个函数也可以等价地用作装饰器：\n",
    "\n",
    "```python\n",
    "# foo/bar/baz.py\n",
    "@torch.fx.wrap\n",
    "def my_custom_function(x, y):\n",
    "    return x * x + y * y\n",
    "```"
   ]
  },
  {
   "cell_type": "markdown",
   "metadata": {},
   "source": []
  }
 ],
 "metadata": {
  "kernelspec": {
   "display_name": "Python 3.10.4 ('tvmx': conda)",
   "language": "python",
   "name": "python3"
  },
  "language_info": {
   "codemirror_mode": {
    "name": "ipython",
    "version": 3
   },
   "file_extension": ".py",
   "mimetype": "text/x-python",
   "name": "python",
   "nbconvert_exporter": "python",
   "pygments_lexer": "ipython3",
   "version": "3.10.4"
  },
  "orig_nbformat": 4,
  "vscode": {
   "interpreter": {
    "hash": "e579259ee6098e2b9319de590d145b4b096774fe457bdf04260e3ba5c171e887"
   }
  }
 },
 "nbformat": 4,
 "nbformat_minor": 2
}
