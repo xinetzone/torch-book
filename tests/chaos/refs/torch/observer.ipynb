{
 "cells": [
  {
   "cell_type": "markdown",
   "metadata": {},
   "source": [
    "# 观测器"
   ]
  },
  {
   "cell_type": "code",
   "execution_count": null,
   "metadata": {},
   "outputs": [],
   "source": []
  },
  {
   "cell_type": "markdown",
   "metadata": {},
   "source": [
    "\\begin{array}{ll}\n",
    "        x_\\text{min} &= \\begin{cases}\n",
    "            \\min(X) & \\text{if~}x_\\text{min} = \\text{None} \\\\\n",
    "            \\min\\left(x_\\text{min}, \\min(X)\\right) & \\text{otherwise}\n",
    "        \\end{cases}\\\\\n",
    "        x_\\text{max} &= \\begin{cases}\n",
    "            \\max(X) & \\text{if~}x_\\text{max} = \\text{None} \\\\\n",
    "            \\max\\left(x_\\text{max}, \\max(X)\\right) & \\text{otherwise}\n",
    "        \\end{cases}\\\\\n",
    "        \\end{array}\n"
   ]
  },
  {
   "cell_type": "code",
   "execution_count": null,
   "metadata": {},
   "outputs": [],
   "source": []
  },
  {
   "cell_type": "code",
   "execution_count": null,
   "metadata": {},
   "outputs": [],
   "source": []
  },
  {
   "cell_type": "code",
   "execution_count": null,
   "metadata": {},
   "outputs": [],
   "source": [
    "PerChannelMinMaxObserver.with_args(\n",
    "    dtype=torch.qint8, qscheme=torch.per_channel_symmetric\n",
    ")"
   ]
  },
  {
   "cell_type": "code",
   "execution_count": null,
   "metadata": {},
   "outputs": [],
   "source": [
    "qconfig = QConfig(activation=HistogramObserver.with_args(reduce_range=False),\n",
    "                  weight=MinMaxObserver.with_args(dtype=torch.qint8, qscheme=torch.per_tensor_symmetric))"
   ]
  }
 ],
 "metadata": {
  "kernelspec": {
   "display_name": "tvmz",
   "language": "python",
   "name": "python3"
  },
  "language_info": {
   "name": "python",
   "version": "3.10.13"
  }
 },
 "nbformat": 4,
 "nbformat_minor": 2
}
