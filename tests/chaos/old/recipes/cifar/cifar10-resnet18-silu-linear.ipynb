{
 "cells": [
  {
   "cell_type": "markdown",
   "metadata": {},
   "source": [
    "# Cifar10 上的 ReNet18 SiLU 线性化\n",
    "\n",
    "本文主要介绍在 cifar10 的试验 resnet18 的性能。\n",
    "\n",
    "导入一些必要包："
   ]
  },
  {
   "cell_type": "code",
   "execution_count": 2,
   "metadata": {},
   "outputs": [],
   "source": [
    "import logging\n",
    "import torch\n",
    "from torch.fx.node import Argument\n",
    "from typing import Any\n",
    "from torch import nn, fx\n",
    "from torchvision.models import resnet18, ResNet18_Weights\n",
    "from torch_book.vision.classifier import Classifier, evaluate_accuracy\n",
    "from torch_book.datasets.cifar10 import Cifar10\n",
    "torch.cuda.empty_cache() # 清空 GPU 缓存\n",
    "from torch_book.transforms.cutout import Cutout"
   ]
  },
  {
   "cell_type": "code",
   "execution_count": 3,
   "metadata": {},
   "outputs": [],
   "source": [
    "model = torch.jit.load(\"params/resnet18_cifar10_silu_cutout.pt\")"
   ]
  },
  {
   "cell_type": "code",
   "execution_count": 11,
   "metadata": {},
   "outputs": [
    {
     "name": "stdout",
     "output_type": "stream",
     "text": [
      "Files already downloaded and verified\n",
      "Files already downloaded and verified\n"
     ]
    }
   ],
   "source": [
    "dataset = Cifar10(root=\"../data\", batch_size=64, num_workers=4)\n",
    "train_iter = dataset.train_loader()\n",
    "test_iter = dataset.val_loader()"
   ]
  },
  {
   "cell_type": "code",
   "execution_count": 14,
   "metadata": {},
   "outputs": [
    {
     "data": {
      "text/plain": [
       "0.9463"
      ]
     },
     "execution_count": 14,
     "metadata": {},
     "output_type": "execute_result"
    }
   ],
   "source": [
    "valid_acc = evaluate_accuracy(model, test_iter, device=torch.device(\"cuda:0\"))\n",
    "valid_acc"
   ]
  },
  {
   "cell_type": "code",
   "execution_count": null,
   "metadata": {},
   "outputs": [],
   "source": []
  }
 ],
 "metadata": {
  "kernelspec": {
   "display_name": "Python 3.10.4 ('tvmx': conda)",
   "language": "python",
   "name": "python3"
  },
  "language_info": {
   "codemirror_mode": {
    "name": "ipython",
    "version": 3
   },
   "file_extension": ".py",
   "mimetype": "text/x-python",
   "name": "python",
   "nbconvert_exporter": "python",
   "pygments_lexer": "ipython3",
   "version": "3.10.13"
  },
  "orig_nbformat": 4,
  "vscode": {
   "interpreter": {
    "hash": "e579259ee6098e2b9319de590d145b4b096774fe457bdf04260e3ba5c171e887"
   }
  }
 },
 "nbformat": 4,
 "nbformat_minor": 2
}
