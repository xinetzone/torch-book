{
 "cells": [
  {
   "cell_type": "markdown",
   "metadata": {},
   "source": [
    "# DMAs\n",
    "\n",
    "DMAs：直接内存访问（direct memory accesses）\n",
    "\n",
    "参考：[DMAs](https://en.wikipedia.org/wiki/Direct_memory_access)"
   ]
  }
 ],
 "metadata": {
  "language_info": {
   "name": "python"
  }
 },
 "nbformat": 4,
 "nbformat_minor": 2
}
