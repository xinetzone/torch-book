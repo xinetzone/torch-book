{
 "cells": [
  {
   "cell_type": "markdown",
   "metadata": {},
   "source": [
    "# MACs\n",
    "\n",
    "参考：[MACs](https://en.wikipedia.org/wiki/Multiply%E2%80%93accumulate_operation)\n",
    "\n",
    "MACs: mutiply-accumulate operations \n",
    "\n",
    "在计算中，特别是在数字信号处理中，乘法累加（MAC）或乘法加法（MAD）运算是常见的步骤，用于计算两个数的乘积并将该乘积添加到累加器中。执行此操作的硬件单元称为乘法累加器（MAC 单元）；该操作本身也经常被称为 MAC 或 MAD 操作。MAC 操作修改累加器 `a`：\n",
    "\n",
    "$$\n",
    "a \\leftarrow a + (b \\times c)\n",
    "$$\n",
    "\n",
    "当使用浮点数时，可能会执行两次舍入（在许多 [DSPs](https://en.wikipedia.org/wiki/Digital_signal_processors) 中是典型的），或只执行一次舍入。当只执行一次舍入时，它被称为融合乘法加法（FMA）或融合乘法累加（FMAC）。现代计算机可能包含专用的 MAC，由组合逻辑实现的乘法器、加法器和存储结果的累加器寄存器组成。寄存器的输出反馈到加法器的输入端，因此每个时钟周期，乘法器的输出被添加到寄存器中。组合乘法器需要大量的逻辑，但可以比早期计算机的典型移位和相加方法更快地计算乘积。"
   ]
  },
  {
   "cell_type": "code",
   "execution_count": 3,
   "metadata": {},
   "outputs": [
    {
     "name": "stdout",
     "output_type": "stream",
     "text": [
      "___________________________________________________________________\n",
      "Layer     Type      Output Shape         Param #    Receptive field\n",
      "===================================================================\n",
      "conv2d    Conv2d    (-1, 8, 222, 222)    224        3              \n",
      "===================================================================\n",
      "Trainable params: 224\n",
      "Non-trainable params: 0\n",
      "Total params: 224\n",
      "-------------------------------------------------------------------\n",
      "Model size (params + buffers): 0.00 Mb\n",
      "Framework & CUDA overhead: 254.00 Mb\n",
      "Total RAM usage: 254.00 Mb\n",
      "-------------------------------------------------------------------\n",
      "Floating Point Operations on forward: 21.29 MFLOPs\n",
      "Multiply-Accumulations on forward: 10.65 MMACs\n",
      "Direct memory accesses on forward: 11.04 MDMAs\n",
      "___________________________________________________________________\n"
     ]
    }
   ],
   "source": [
    "import torch.nn as nn\n",
    "from torch_book.scan.crawler import summary, crawl_module\n",
    "mod = nn.Conv2d(3, 8, 3)\n",
    "summary(mod, (3, 224, 224), receptive_field=True)"
   ]
  },
  {
   "cell_type": "code",
   "execution_count": 5,
   "metadata": {},
   "outputs": [],
   "source": [
    "input_shape = (3, 224, 224)\n",
    "module_info = crawl_module(mod, input_shape)"
   ]
  },
  {
   "cell_type": "code",
   "execution_count": 6,
   "metadata": {},
   "outputs": [
    {
     "data": {
      "text/plain": [
       "{'overheads': {'cuda': {'pre': 254.0, 'fwd': 254.0},\n",
       "  'framework': {'pre': 0.0, 'fwd': 0.0}},\n",
       " 'layers': [{'name': 'conv2d',\n",
       "   'depth': 0,\n",
       "   'type': 'Conv2d',\n",
       "   'input_shape': (-1, 224, 224),\n",
       "   'output_shape': (-1, 8, 222, 222),\n",
       "   'grad_params': 224,\n",
       "   'nograd_params': 0,\n",
       "   'param_size': 896,\n",
       "   'num_buffers': 0,\n",
       "   'buffer_size': 0,\n",
       "   'flops': 21290688,\n",
       "   'macs': 10645344,\n",
       "   'dmas': 11039840,\n",
       "   'rf': 3,\n",
       "   's': 1,\n",
       "   'p': 0,\n",
       "   'is_shared': False,\n",
       "   'is_leaf': True}],\n",
       " 'overall': {'grad_params': 224,\n",
       "  'nograd_params': 0,\n",
       "  'param_size': 896,\n",
       "  'num_buffers': 0,\n",
       "  'buffer_size': 0}}"
      ]
     },
     "execution_count": 6,
     "metadata": {},
     "output_type": "execute_result"
    }
   ],
   "source": [
    "module_info"
   ]
  },
  {
   "cell_type": "code",
   "execution_count": null,
   "metadata": {},
   "outputs": [],
   "source": []
  }
 ],
 "metadata": {
  "kernelspec": {
   "display_name": "py311",
   "language": "python",
   "name": "python3"
  },
  "language_info": {
   "codemirror_mode": {
    "name": "ipython",
    "version": 3
   },
   "file_extension": ".py",
   "mimetype": "text/x-python",
   "name": "python",
   "nbconvert_exporter": "python",
   "pygments_lexer": "ipython3",
   "version": "3.11.7"
  }
 },
 "nbformat": 4,
 "nbformat_minor": 2
}
