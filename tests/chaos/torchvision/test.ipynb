{
 "cells": [
  {
   "cell_type": "markdown",
   "metadata": {},
   "source": [
    "# 测试\n",
    "\n",
    "- [目标检测](https://xinetzone.github.io/torch-use/tutorials/object-detection/index.html)\n",
    "- [笔记](https://xinetzone.github.io/torch-use/tutorials/notes/index.html)\n",
    "- [微调分割](https://xinetzone.github.io/torch-use/tutorials/seg-fine-tuning.html)"
   ]
  },
  {
   "cell_type": "code",
   "execution_count": 1,
   "metadata": {},
   "outputs": [
    {
     "name": "stdout",
     "output_type": "stream",
     "text": [
      "torch.Size([1, 2048, 7, 7])\n"
     ]
    }
   ],
   "source": [
    "import torch\n",
    "from torchvision.models import resnet50\n",
    "from torchvision.models.feature_extraction import create_feature_extractor\n",
    "\n",
    "\n",
    "x = torch.rand(1, 3, 224, 224)\n",
    "\n",
    "model = resnet50()\n",
    "\n",
    "return_nodes = {\n",
    "\"layer4.2.relu_2\": \"layer4\"\n",
    "}\n",
    "model2 = create_feature_extractor(model, return_nodes=return_nodes)\n",
    "intermediate_outputs = model2(x)\n",
    "\n",
    "print(intermediate_outputs['layer4'].shape)"
   ]
  },
  {
   "cell_type": "markdown",
   "metadata": {},
   "source": [
    "参考：[automatic augmentation transforms](https://pytorch.org/vision/master/transforms.html#automatic-augmentation-transforms)\n",
    "\n",
    "```python\n",
    "from torchvision import transforms\n",
    "\n",
    "t = transforms.RandAugment()\n",
    "# t = transforms.TrivialAugmentWide()\n",
    "transformed = t(image)\n",
    "\n",
    "transform = transforms.Compose([\n",
    "transforms.Resize(256),\n",
    "transforms.RandAugment(), # transforms.TrivialAugmentWide()\n",
    "transforms.ToTensor()])\n",
    "```"
   ]
  },
  {
   "cell_type": "code",
   "execution_count": null,
   "metadata": {},
   "outputs": [],
   "source": []
  }
 ],
 "metadata": {
  "kernelspec": {
   "display_name": "Python 3.10.4 ('tvmx': conda)",
   "language": "python",
   "name": "python3"
  },
  "language_info": {
   "codemirror_mode": {
    "name": "ipython",
    "version": 3
   },
   "file_extension": ".py",
   "mimetype": "text/x-python",
   "name": "python",
   "nbconvert_exporter": "python",
   "pygments_lexer": "ipython3",
   "version": "3.10.4"
  },
  "vscode": {
   "interpreter": {
    "hash": "e579259ee6098e2b9319de590d145b4b096774fe457bdf04260e3ba5c171e887"
   }
  }
 },
 "nbformat": 4,
 "nbformat_minor": 2
}
