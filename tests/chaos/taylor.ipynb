{
 "cells": [
  {
   "cell_type": "markdown",
   "metadata": {},
   "source": [
    "# 泰勒公式与量化\n",
    "\n",
    "```{admonition} 定理\n",
    "假设 $f(x)$ 在 $x_0 \\in [a, b]$ 内有直到 $n+1$ 阶导，则当 $x \\in [a, b]$ 时，泰勒多项式\n",
    "\n",
    "$$\n",
    "p_n (x) = \\sum_{k=0}^n \\cfrac{f^{(k)}(x_0)}{k!} (x - x_0)^k\n",
    "$$ (P1)\n",
    "\n",
    "满足\n",
    "\n",
    "$$\n",
    "f(x) - p_n(x) = \\cfrac{f^{(n+1)}(\\xi)}{(n+1)!} (x - x_0)^{n+1}\n",
    "$$ (P2)\n",
    "\n",
    "其中 $\\xi \\in [x_0, x]$，因而，$\\xi \\in [a, b]$。\n",
    "```\n",
    "\n",
    "这样，可以使用 $p$ 进制数近似浮点数：\n",
    "\n",
    "$$\n",
    "x = \\sum_{k=0}^{\\infty} x_k p^k \n",
    "$$ (P3)\n",
    "\n",
    "其中 $x_k \\in Q$。\n",
    "\n",
    "这里 $Q$ 表示 $p$ 进制数的值域。\n",
    "\n",
    "比特（bit）是表示信息量的最小单位，可以用 $0$ （不存在）和 $1$ （存在）来度量。这样二进制数域 $\\{0, 1\\}$ 便可等价于信息量。\n",
    "\n",
    "```{note}\n",
    "计算机中数据存储是以“字节”（Byte，简写为 B）为单位，数据传输大多是以“位”（bit，又名“比特”）为单位，且有 $1 \\text{B} = 8 \\text{bit}$，$1 \\text{bit}$ 表示 $0$ 与 $1$ 两种状态。\n",
    "\n",
    "计算机存储整数可能有 int8，uint8，int32，int64 等。\n",
    "```\n",
    "\n",
    "如若限定 $k=8, p=2, x_k \\in \\{0, 1\\}$，则 $x \\in [0,2^8-1] \\cap \\mathbb{N} $。这种约束下的集合便是值域为 $[0, 255]$ 的 uint8 数据。"
   ]
  },
  {
   "cell_type": "code",
   "execution_count": 1,
   "metadata": {},
   "outputs": [
    {
     "data": {
      "text/plain": [
       "array(2, dtype=uint8)"
      ]
     },
     "execution_count": 1,
     "metadata": {},
     "output_type": "execute_result"
    }
   ],
   "source": [
    "import numpy as np\n",
    "\n",
    "a = np.array(2, dtype=\"uint8\")\n",
    "a"
   ]
  },
  {
   "cell_type": "markdown",
   "metadata": {},
   "source": [
    "查看数据占用字节数："
   ]
  },
  {
   "cell_type": "code",
   "execution_count": 2,
   "metadata": {},
   "outputs": [
    {
     "data": {
      "text/plain": [
       "1"
      ]
     },
     "execution_count": 2,
     "metadata": {},
     "output_type": "execute_result"
    }
   ],
   "source": [
    "a.itemsize # 1字节=8比特"
   ]
  },
  {
   "cell_type": "markdown",
   "metadata": {},
   "source": [
    "可以存储两个 uint8 数据为一个块："
   ]
  },
  {
   "cell_type": "code",
   "execution_count": 3,
   "metadata": {},
   "outputs": [
    {
     "data": {
      "text/plain": [
       "array([2, 7], dtype=uint8)"
      ]
     },
     "execution_count": 3,
     "metadata": {},
     "output_type": "execute_result"
    }
   ],
   "source": [
    "a = np.array([2, 7], dtype=\"uint8\")\n",
    "a"
   ]
  },
  {
   "cell_type": "markdown",
   "metadata": {},
   "source": [
    "单个元素占用字节数："
   ]
  },
  {
   "cell_type": "code",
   "execution_count": 4,
   "metadata": {},
   "outputs": [
    {
     "data": {
      "text/plain": [
       "1"
      ]
     },
     "execution_count": 4,
     "metadata": {},
     "output_type": "execute_result"
    }
   ],
   "source": [
    "a.itemsize"
   ]
  },
  {
   "cell_type": "markdown",
   "metadata": {},
   "source": [
    "全部数据集合占用字节数："
   ]
  },
  {
   "cell_type": "code",
   "execution_count": 5,
   "metadata": {},
   "outputs": [
    {
     "data": {
      "text/plain": [
       "2"
      ]
     },
     "execution_count": 5,
     "metadata": {},
     "output_type": "execute_result"
    }
   ],
   "source": [
    "a.nbytes"
   ]
  },
  {
   "cell_type": "markdown",
   "metadata": {},
   "source": [
    "单个 uint8 数据，图示：\n",
    "\n",
    "```{mermaid}\n",
    "flowchart LR\n",
    "subgraph uint8\n",
    "    x0[0或1]\n",
    "    x1[0或1]\n",
    "    x2[0或1] \n",
    "    x3[0或1]\n",
    "    x4[0或1] \n",
    "    x5[0或1] \n",
    "    x6[0或1] \n",
    "    x7[0或1]\n",
    "end\n",
    "```"
   ]
  },
  {
   "cell_type": "markdown",
   "metadata": {},
   "source": [
    "其他数据类型可以类推。也可以对数据类型进行转换："
   ]
  },
  {
   "cell_type": "code",
   "execution_count": 6,
   "metadata": {},
   "outputs": [
    {
     "data": {
      "text/plain": [
       "array([300,   5, 100, -20], dtype=int32)"
      ]
     },
     "execution_count": 6,
     "metadata": {},
     "output_type": "execute_result"
    }
   ],
   "source": [
    "v = np.array([300, 5, 100, -20], dtype=\"int32\")\n",
    "v"
   ]
  },
  {
   "cell_type": "markdown",
   "metadata": {},
   "source": [
    "转换为 uint8 数据："
   ]
  },
  {
   "cell_type": "code",
   "execution_count": 7,
   "metadata": {},
   "outputs": [
    {
     "data": {
      "text/plain": [
       "array([ 44,   5, 100, 236], dtype=uint8)"
      ]
     },
     "execution_count": 7,
     "metadata": {},
     "output_type": "execute_result"
    }
   ],
   "source": [
    "q = v.astype(\"uint8\")\n",
    "q"
   ]
  },
  {
   "cell_type": "markdown",
   "metadata": {},
   "source": [
    "可见数据被截断了。"
   ]
  },
  {
   "cell_type": "code",
   "execution_count": 8,
   "metadata": {},
   "outputs": [
    {
     "data": {
      "text/plain": [
       "array([ 44,   5, 100, 236], dtype=int32)"
      ]
     },
     "execution_count": 8,
     "metadata": {},
     "output_type": "execute_result"
    }
   ],
   "source": [
    "v % 256"
   ]
  },
  {
   "cell_type": "markdown",
   "metadata": {},
   "source": [
    "## 量化数据"
   ]
  },
  {
   "cell_type": "code",
   "execution_count": 9,
   "metadata": {},
   "outputs": [],
   "source": [
    "def normalize(v):\n",
    "    \"\"\"将数据缩放到 [0, 1]\"\"\"\n",
    "    b = v.min() # \\alpha\n",
    "    a = v.max() - b # \\beta\n",
    "    v = v - b\n",
    "    return v/a"
   ]
  },
  {
   "cell_type": "code",
   "execution_count": 16,
   "metadata": {},
   "outputs": [],
   "source": [
    "class Quant:\n",
    "    def __init__(self, x, dtype=\"uint8\"):\n",
    "        self.x = x\n",
    "        self.dtype = dtype\n",
    "        self.q = x.astype(self.dtype)\n",
    "    \n",
    "    @property \n",
    "    def scale(self):\n",
    "        a = self.x.max() - self.x.min()\n",
    "        b =  self.q.max() - self.q.min()\n",
    "        return a/b\n",
    "    \n",
    "    @property\n",
    "    def zero_point(self):\n",
    "        return np.round(self.q.max() - self.x.max()/self.scale)"
   ]
  },
  {
   "cell_type": "code",
   "execution_count": 17,
   "metadata": {},
   "outputs": [
    {
     "data": {
      "text/plain": [
       "array([300,   5, 100, -20], dtype=int32)"
      ]
     },
     "execution_count": 17,
     "metadata": {},
     "output_type": "execute_result"
    }
   ],
   "source": [
    "v = np.array([300, 5, 100, -20], dtype=\"int32\")\n",
    "v"
   ]
  },
  {
   "cell_type": "code",
   "execution_count": 18,
   "metadata": {},
   "outputs": [],
   "source": [
    "self = Quant(v)"
   ]
  },
  {
   "cell_type": "code",
   "execution_count": 19,
   "metadata": {},
   "outputs": [
    {
     "data": {
      "text/plain": [
       "(1.3852813852813852, 19.0)"
      ]
     },
     "execution_count": 19,
     "metadata": {},
     "output_type": "execute_result"
    }
   ],
   "source": [
    "self.scale, self.zero_point"
   ]
  },
  {
   "cell_type": "code",
   "execution_count": 20,
   "metadata": {},
   "outputs": [
    {
     "data": {
      "text/plain": [
       "array([ 34, -19, 112, 300], dtype=int32)"
      ]
     },
     "execution_count": 20,
     "metadata": {},
     "output_type": "execute_result"
    }
   ],
   "source": [
    "x = (self.q - self.zero_point) * self.scale\n",
    "x = x.astype(\"int32\")\n",
    "x"
   ]
  },
  {
   "cell_type": "code",
   "execution_count": 21,
   "metadata": {},
   "outputs": [
    {
     "data": {
      "text/plain": [
       "array([300,   5, 100, -20], dtype=int32)"
      ]
     },
     "execution_count": 21,
     "metadata": {},
     "output_type": "execute_result"
    }
   ],
   "source": [
    "v"
   ]
  },
  {
   "cell_type": "code",
   "execution_count": null,
   "metadata": {},
   "outputs": [],
   "source": []
  }
 ],
 "metadata": {
  "kernelspec": {
   "display_name": "Python 3.10.4 ('tvmx': conda)",
   "language": "python",
   "name": "python3"
  },
  "language_info": {
   "codemirror_mode": {
    "name": "ipython",
    "version": 3
   },
   "file_extension": ".py",
   "mimetype": "text/x-python",
   "name": "python",
   "nbconvert_exporter": "python",
   "pygments_lexer": "ipython3",
   "version": "3.10.4"
  },
  "orig_nbformat": 4,
  "vscode": {
   "interpreter": {
    "hash": "e579259ee6098e2b9319de590d145b4b096774fe457bdf04260e3ba5c171e887"
   }
  }
 },
 "nbformat": 4,
 "nbformat_minor": 2
}
