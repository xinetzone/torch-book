{
 "cells": [
  {
   "cell_type": "markdown",
   "metadata": {},
   "source": [
    "# 测试 executorch"
   ]
  },
  {
   "cell_type": "code",
   "execution_count": null,
   "metadata": {},
   "outputs": [],
   "source": [
    "%%bash\n",
    "export PATH=\"/media/pc/data/lxw/ai/executorch/third-party/flatbuffers/cmake-out:${PATH}\"\n",
    "# bash /media/pc/data/lxw/ai/executorch/build/install_flatc.sh"
   ]
  },
  {
   "cell_type": "code",
   "execution_count": 1,
   "metadata": {},
   "outputs": [
    {
     "ename": "AttributeError",
     "evalue": "'HigherOrderOperator' object has no attribute 'py_functionalize_impl'",
     "output_type": "error",
     "traceback": [
      "\u001b[0;31m---------------------------------------------------------------------------\u001b[0m",
      "\u001b[0;31mAttributeError\u001b[0m                            Traceback (most recent call last)",
      "\u001b[1;32m/media/pc/data/lxw/ai/torch-book/tests/executorch-test.ipynb 单元格 3\u001b[0m line \u001b[0;36m1\n\u001b[0;32m----> <a href='vscode-notebook-cell://ssh-remote%2B10.16.11.3/media/pc/data/lxw/ai/torch-book/tests/executorch-test.ipynb#W2sdnNjb2RlLXJlbW90ZQ%3D%3D?line=0'>1</a>\u001b[0m \u001b[39mfrom\u001b[39;00m \u001b[39mexecutorch\u001b[39;00m \u001b[39mimport\u001b[39;00m exir\n",
      "File \u001b[0;32m/media/pc/data/tmp/cache/conda/envs/tvmz/lib/python3.10/site-packages/executorch/exir/__init__.py:9\u001b[0m\n\u001b[1;32m      1\u001b[0m \u001b[39m# Copyright (c) Meta Platforms, Inc. and affiliates.\u001b[39;00m\n\u001b[1;32m      2\u001b[0m \u001b[39m# All rights reserved.\u001b[39;00m\n\u001b[1;32m      3\u001b[0m \u001b[39m#\u001b[39;00m\n\u001b[1;32m      4\u001b[0m \u001b[39m# This source code is licensed under the BSD-style license found in the\u001b[39;00m\n\u001b[1;32m      5\u001b[0m \u001b[39m# LICENSE file in the root directory of this source tree.\u001b[39;00m\n\u001b[1;32m      7\u001b[0m \u001b[39mfrom\u001b[39;00m \u001b[39mtyping\u001b[39;00m \u001b[39mimport\u001b[39;00m Any\n\u001b[0;32m----> 9\u001b[0m \u001b[39mfrom\u001b[39;00m \u001b[39mexecutorch\u001b[39;00m\u001b[39m.\u001b[39;00m\u001b[39mexir\u001b[39;00m\u001b[39m.\u001b[39;00m\u001b[39mcapture\u001b[39;00m \u001b[39mimport\u001b[39;00m (\n\u001b[1;32m     10\u001b[0m     _capture_legacy_do_not_use,\n\u001b[1;32m     11\u001b[0m     capture,\n\u001b[1;32m     12\u001b[0m     capture_multiple,\n\u001b[1;32m     13\u001b[0m     CaptureConfig,\n\u001b[1;32m     14\u001b[0m     EdgeCompileConfig,\n\u001b[1;32m     15\u001b[0m     ExecutorchBackendConfig,\n\u001b[1;32m     16\u001b[0m )\n\u001b[1;32m     17\u001b[0m \u001b[39mfrom\u001b[39;00m \u001b[39mexecutorch\u001b[39;00m\u001b[39m.\u001b[39;00m\u001b[39mexir\u001b[39;00m\u001b[39m.\u001b[39;00m\u001b[39memit\u001b[39;00m \u001b[39mimport\u001b[39;00m emit_program, EmitterOutput\n\u001b[1;32m     18\u001b[0m \u001b[39mfrom\u001b[39;00m \u001b[39mexecutorch\u001b[39;00m\u001b[39m.\u001b[39;00m\u001b[39mexir\u001b[39;00m\u001b[39m.\u001b[39;00m\u001b[39mprogram\u001b[39;00m \u001b[39mimport\u001b[39;00m (\n\u001b[1;32m     19\u001b[0m     _to_edge,\n\u001b[1;32m     20\u001b[0m     edge_to_executorch_passes,\n\u001b[0;32m   (...)\u001b[0m\n\u001b[1;32m     28\u001b[0m     to_edge,\n\u001b[1;32m     29\u001b[0m )\n",
      "File \u001b[0;32m/media/pc/data/tmp/cache/conda/envs/tvmz/lib/python3.10/site-packages/executorch/exir/capture/__init__.py:9\u001b[0m\n\u001b[1;32m      1\u001b[0m \u001b[39m# Copyright (c) Meta Platforms, Inc. and affiliates.\u001b[39;00m\n\u001b[1;32m      2\u001b[0m \u001b[39m# All rights reserved.\u001b[39;00m\n\u001b[1;32m      3\u001b[0m \u001b[39m#\u001b[39;00m\n\u001b[0;32m   (...)\u001b[0m\n\u001b[1;32m      6\u001b[0m \n\u001b[1;32m      7\u001b[0m \u001b[39m# pyre-strict\u001b[39;00m\n\u001b[0;32m----> 9\u001b[0m \u001b[39mfrom\u001b[39;00m \u001b[39mexecutorch\u001b[39;00m\u001b[39m.\u001b[39;00m\u001b[39mexir\u001b[39;00m\u001b[39m.\u001b[39;00m\u001b[39mcapture\u001b[39;00m\u001b[39m.\u001b[39;00m\u001b[39m_capture\u001b[39;00m \u001b[39mimport\u001b[39;00m (\n\u001b[1;32m     10\u001b[0m     _capture_legacy_do_not_use,\n\u001b[1;32m     11\u001b[0m     capture,\n\u001b[1;32m     12\u001b[0m     capture_multiple,\n\u001b[1;32m     13\u001b[0m )\n\u001b[1;32m     15\u001b[0m \u001b[39mfrom\u001b[39;00m \u001b[39mexecutorch\u001b[39;00m\u001b[39m.\u001b[39;00m\u001b[39mexir\u001b[39;00m\u001b[39m.\u001b[39;00m\u001b[39mcapture\u001b[39;00m\u001b[39m.\u001b[39;00m\u001b[39m_config\u001b[39;00m \u001b[39mimport\u001b[39;00m (\n\u001b[1;32m     16\u001b[0m     CaptureConfig,\n\u001b[1;32m     17\u001b[0m     EdgeCompileConfig,\n\u001b[1;32m     18\u001b[0m     ExecutorchBackendConfig,\n\u001b[1;32m     19\u001b[0m )\n\u001b[1;32m     21\u001b[0m __all__ \u001b[39m=\u001b[39m [\n\u001b[1;32m     22\u001b[0m     \u001b[39m\"\u001b[39m\u001b[39mcapture\u001b[39m\u001b[39m\"\u001b[39m,\n\u001b[1;32m     23\u001b[0m     \u001b[39m\"\u001b[39m\u001b[39m_capture_legacy_do_not_use\u001b[39m\u001b[39m\"\u001b[39m,\n\u001b[0;32m   (...)\u001b[0m\n\u001b[1;32m     27\u001b[0m     \u001b[39m\"\u001b[39m\u001b[39mExecutorchBackendConfig\u001b[39m\u001b[39m\"\u001b[39m,\n\u001b[1;32m     28\u001b[0m ]\n",
      "File \u001b[0;32m/media/pc/data/tmp/cache/conda/envs/tvmz/lib/python3.10/site-packages/executorch/exir/capture/_capture.py:14\u001b[0m\n\u001b[1;32m     12\u001b[0m \u001b[39mimport\u001b[39;00m \u001b[39mtorch\u001b[39;00m\n\u001b[1;32m     13\u001b[0m \u001b[39mimport\u001b[39;00m \u001b[39mtorch\u001b[39;00m\u001b[39m.\u001b[39;00m\u001b[39m_export\u001b[39;00m\n\u001b[0;32m---> 14\u001b[0m \u001b[39mfrom\u001b[39;00m \u001b[39mexecutorch\u001b[39;00m\u001b[39m.\u001b[39;00m\u001b[39mexir\u001b[39;00m\u001b[39m.\u001b[39;00m\u001b[39mcapture\u001b[39;00m\u001b[39m.\u001b[39;00m\u001b[39m_config\u001b[39;00m \u001b[39mimport\u001b[39;00m CaptureConfig\n\u001b[1;32m     15\u001b[0m \u001b[39mfrom\u001b[39;00m \u001b[39mexecutorch\u001b[39;00m\u001b[39m.\u001b[39;00m\u001b[39mexir\u001b[39;00m\u001b[39m.\u001b[39;00m\u001b[39merror\u001b[39;00m \u001b[39mimport\u001b[39;00m ExportError, ExportErrorType, InternalError\n\u001b[1;32m     16\u001b[0m \u001b[39mfrom\u001b[39;00m \u001b[39mexecutorch\u001b[39;00m\u001b[39m.\u001b[39;00m\u001b[39mexir\u001b[39;00m\u001b[39m.\u001b[39;00m\u001b[39mprogram\u001b[39;00m \u001b[39mimport\u001b[39;00m ExirExportedProgram, MultiMethodExirExportedProgram\n",
      "File \u001b[0;32m/media/pc/data/tmp/cache/conda/envs/tvmz/lib/python3.10/site-packages/executorch/exir/capture/_config.py:12\u001b[0m\n\u001b[1;32m     10\u001b[0m \u001b[39mfrom\u001b[39;00m \u001b[39mexecutorch\u001b[39;00m\u001b[39m.\u001b[39;00m\u001b[39mexir\u001b[39;00m\u001b[39m.\u001b[39;00m\u001b[39mdynamic_shape\u001b[39;00m \u001b[39mimport\u001b[39;00m DynamicMemoryPlanningMode\n\u001b[1;32m     11\u001b[0m \u001b[39mfrom\u001b[39;00m \u001b[39mexecutorch\u001b[39;00m\u001b[39m.\u001b[39;00m\u001b[39mexir\u001b[39;00m\u001b[39m.\u001b[39;00m\u001b[39mpass_manager\u001b[39;00m \u001b[39mimport\u001b[39;00m PassType\n\u001b[0;32m---> 12\u001b[0m \u001b[39mfrom\u001b[39;00m \u001b[39mexecutorch\u001b[39;00m\u001b[39m.\u001b[39;00m\u001b[39mexir\u001b[39;00m\u001b[39m.\u001b[39;00m\u001b[39mpasses\u001b[39;00m \u001b[39mimport\u001b[39;00m MemoryPlanningPass, ToOutVarPass\n\u001b[1;32m     13\u001b[0m \u001b[39mfrom\u001b[39;00m \u001b[39mexecutorch\u001b[39;00m\u001b[39m.\u001b[39;00m\u001b[39mexir\u001b[39;00m\u001b[39m.\u001b[39;00m\u001b[39mpasses\u001b[39;00m\u001b[39m.\u001b[39;00m\u001b[39msym_shape_eval_pass\u001b[39;00m \u001b[39mimport\u001b[39;00m HintBasedSymShapeEvalPass\n\u001b[1;32m     14\u001b[0m \u001b[39mfrom\u001b[39;00m \u001b[39mexecutorch\u001b[39;00m\u001b[39m.\u001b[39;00m\u001b[39mexir\u001b[39;00m\u001b[39m.\u001b[39;00m\u001b[39mtracer\u001b[39;00m \u001b[39mimport\u001b[39;00m ExirDynamoConfig\n",
      "File \u001b[0;32m/media/pc/data/tmp/cache/conda/envs/tvmz/lib/python3.10/site-packages/executorch/exir/passes/__init__.py:19\u001b[0m\n\u001b[1;32m     16\u001b[0m \u001b[39mfrom\u001b[39;00m \u001b[39mtyping\u001b[39;00m \u001b[39mimport\u001b[39;00m Any, Callable, Dict, List, Optional, Set, Tuple, Union\n\u001b[1;32m     18\u001b[0m \u001b[39mimport\u001b[39;00m \u001b[39mtorch\u001b[39;00m\n\u001b[0;32m---> 19\u001b[0m \u001b[39mfrom\u001b[39;00m \u001b[39mexecutorch\u001b[39;00m\u001b[39m.\u001b[39;00m\u001b[39mexir\u001b[39;00m \u001b[39mimport\u001b[39;00m control_flow, memory, memory_planning\n\u001b[1;32m     20\u001b[0m \u001b[39mfrom\u001b[39;00m \u001b[39mexecutorch\u001b[39;00m\u001b[39m.\u001b[39;00m\u001b[39mexir\u001b[39;00m\u001b[39m.\u001b[39;00m\u001b[39mcommon\u001b[39;00m \u001b[39mimport\u001b[39;00m override_logger\n\u001b[1;32m     21\u001b[0m \u001b[39mfrom\u001b[39;00m \u001b[39mexecutorch\u001b[39;00m\u001b[39m.\u001b[39;00m\u001b[39mexir\u001b[39;00m\u001b[39m.\u001b[39;00m\u001b[39mdelegate\u001b[39;00m \u001b[39mimport\u001b[39;00m executorch_call_delegate\n",
      "File \u001b[0;32m/media/pc/data/tmp/cache/conda/envs/tvmz/lib/python3.10/site-packages/executorch/exir/memory_planning.py:20\u001b[0m\n\u001b[1;32m     18\u001b[0m \u001b[39mfrom\u001b[39;00m \u001b[39mexecutorch\u001b[39;00m\u001b[39m.\u001b[39;00m\u001b[39mexir\u001b[39;00m \u001b[39mimport\u001b[39;00m memory\n\u001b[1;32m     19\u001b[0m \u001b[39mfrom\u001b[39;00m \u001b[39mexecutorch\u001b[39;00m\u001b[39m.\u001b[39;00m\u001b[39mexir\u001b[39;00m\u001b[39m.\u001b[39;00m\u001b[39mcontrol_flow\u001b[39;00m \u001b[39mimport\u001b[39;00m while_loop \u001b[39mas\u001b[39;00m exir_while\n\u001b[0;32m---> 20\u001b[0m \u001b[39mfrom\u001b[39;00m \u001b[39mexecutorch\u001b[39;00m\u001b[39m.\u001b[39;00m\u001b[39mexir\u001b[39;00m\u001b[39m.\u001b[39;00m\u001b[39mdelegate\u001b[39;00m \u001b[39mimport\u001b[39;00m executorch_call_delegate\n\u001b[1;32m     21\u001b[0m \u001b[39mfrom\u001b[39;00m \u001b[39mexecutorch\u001b[39;00m\u001b[39m.\u001b[39;00m\u001b[39mexir\u001b[39;00m\u001b[39m.\u001b[39;00m\u001b[39merror\u001b[39;00m \u001b[39mimport\u001b[39;00m (\n\u001b[1;32m     22\u001b[0m     ExportError,\n\u001b[1;32m     23\u001b[0m     ExportErrorType,\n\u001b[1;32m     24\u001b[0m     internal_assert,\n\u001b[1;32m     25\u001b[0m     InternalError,\n\u001b[1;32m     26\u001b[0m )\n\u001b[1;32m     27\u001b[0m \u001b[39mfrom\u001b[39;00m \u001b[39mexecutorch\u001b[39;00m\u001b[39m.\u001b[39;00m\u001b[39mexir\u001b[39;00m\u001b[39m.\u001b[39;00m\u001b[39moperator\u001b[39;00m\u001b[39m.\u001b[39;00m\u001b[39mconvert\u001b[39;00m \u001b[39mimport\u001b[39;00m is_out_variant\n",
      "File \u001b[0;32m/media/pc/data/tmp/cache/conda/envs/tvmz/lib/python3.10/site-packages/executorch/exir/delegate.py:122\u001b[0m\n\u001b[1;32m    118\u001b[0m     \u001b[39mwith\u001b[39;00m mode:\n\u001b[1;32m    119\u001b[0m         \u001b[39mreturn\u001b[39;00m lowered_module\u001b[39m.\u001b[39moriginal_module(\u001b[39m*\u001b[39margs)\n\u001b[0;32m--> 122\u001b[0m \u001b[39m@executorch_call_delegate\u001b[39m\u001b[39m.\u001b[39;49mpy_functionalize_impl\n\u001b[1;32m    123\u001b[0m \u001b[39m# pyre-ignore\u001b[39;00m\n\u001b[1;32m    124\u001b[0m \u001b[39mdef\u001b[39;00m \u001b[39mcall_delegate_functionalize\u001b[39m(ctx, lowered_module, \u001b[39m*\u001b[39margs):\n\u001b[1;32m    125\u001b[0m     unwrapped_args \u001b[39m=\u001b[39m \u001b[39mtuple\u001b[39m(ctx\u001b[39m.\u001b[39munwrap_tensors(arg) \u001b[39mfor\u001b[39;00m arg \u001b[39min\u001b[39;00m args)\n\u001b[1;32m    126\u001b[0m     \u001b[39mwith\u001b[39;00m ctx\u001b[39m.\u001b[39mredispatch_to_next():\n",
      "\u001b[0;31mAttributeError\u001b[0m: 'HigherOrderOperator' object has no attribute 'py_functionalize_impl'"
     ]
    }
   ],
   "source": [
    "from executorch import exir"
   ]
  },
  {
   "cell_type": "code",
   "execution_count": null,
   "metadata": {},
   "outputs": [],
   "source": []
  }
 ],
 "metadata": {
  "kernelspec": {
   "display_name": "tvmz",
   "language": "python",
   "name": "python3"
  },
  "language_info": {
   "codemirror_mode": {
    "name": "ipython",
    "version": 3
   },
   "file_extension": ".py",
   "mimetype": "text/x-python",
   "name": "python",
   "nbconvert_exporter": "python",
   "pygments_lexer": "ipython3",
   "version": "3.10.13"
  }
 },
 "nbformat": 4,
 "nbformat_minor": 2
}
