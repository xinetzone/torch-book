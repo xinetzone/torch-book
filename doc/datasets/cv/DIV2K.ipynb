{
 "cells": [
  {
   "cell_type": "markdown",
   "metadata": {},
   "source": [
    "# DIV2K 数据\n",
    "\n",
    "[DIV2K 数据集](https://data.vision.ee.ethz.ch/cvl/DIV2K/)是广泛用于图像超分辨率（Super-Resolution, SR）研究的高质量图像数据集。它由2K分辨率的图像组成，提供了高分辨率（HR）图像和相应的低分辨率（LR）图像，用于训练和测试超分辨率算法。\n",
    "\n",
    "## 数据集概述\n",
    "\n",
    "DIV2K 数据集分为以下几部分：\n",
    "\n",
    "- 训练数据：从 800 张高清晰度的高分辨率图像开始，获取相应的低分辨率图像，并为2倍、3倍和4倍缩小因子提供高分辨率和低分辨率图像。\n",
    "- 验证数据：使用100张高清晰度的高分辨率图像来生成对应的低分辨率图像，低分辨率图像从挑战开始时就提供，目的是让参与者能够从验证服务器获得在线反馈；高分辨率图像将在挑战的最后阶段开始时发布。\n",
    "- 测试数据：使用100张多样化的图像来生成对应的低分辨率图像；参与者将在最终评估阶段开始时收到低分辨率图像，结果将在挑战结束后以及获胜者确定后公布。\n"
   ]
  },
  {
   "cell_type": "markdown",
   "metadata": {},
   "source": [
    "## 数据结构\n",
    "\n",
    "DIV2K 数据集具有以下结构：\n",
    "\n",
    "1000 张 2K 分辨率的图像，分为：800 张用于训练，100 张用于验证，100 张用于测试。\n",
    "\n",
    "对于每个挑战赛道（包括 1. 三次插值或2. 未知降级操作），拥有：\n",
    "\n",
    "- 高分辨率图像：0001.png, 0002.png, ..., 1000.png\n",
    "- 缩放后的图像：\n",
    "    `YYYYx2.png` 为缩放因子 `x2`；其中 `YYYY` 是图像 `ID`\n",
    "    `YYYYx3.png` 为缩放因子 `x3`；其中 `YYYY` 是图像 `ID`\n",
    "    `YYYYx4.png` 为缩放因子 `x4`；其中 `YYYY` 是图像 `ID`\n",
    "\n",
    "DIV2K 数据集的文件夹结构如下：\n",
    "\n",
    "- `DIV2K/DIV2K_train_HR/` -- `0001.png`, `0002.png`, ..., `0800.png` 训练高分辨率图像（提供给参赛者）\n",
    "- `DIV2K/DIV2K_train_LR_bicubic/` -- 使用 Matlab imresize 函数和默认设置（双三次插值）获得的相应低分辨率图像\n",
    "    - `DIV2K/DIV2K_train_LR_bicubic/X2/` -- `0001x2.png`, `0002x2.png`, ..., `0800x2.png` 训练低分辨率图像，下采样因子x2\n",
    "    - `DIV2K/DIV2K_train_LR_bicubic/X3/` -- `0001x3.png`, `0002x3.png`, ..., `0800x3.png` 训练低分辨率图像，下采样因子x3\n",
    "    - `DIV2K/DIV2K_train_LR_bicubic/X4/` -- `0001x4.png`, `0002x4.png`, ..., `0800x4.png` 训练低分辨率图像，下采样因子x4\n",
    "- `DIV2K/DIV2K_train_LR_unknown/` -- 使用隐藏的退化算子获得的相应低分辨率图像，对参赛者未知\n",
    "    - `DIV2K/DIV2K_train_LR_unknown/X2/` -- `0001x2.png`, `0002x2.png`, ..., `0800x2.png` 训练低分辨率图像，下采样因子x2\n",
    "    - `DIV2K/DIV2K_train_LR_unknown/X3/` -- `0001x3.png`, `0002x3.png`, ..., `0800x3.png` 训练低分辨率图像，下采样因子x3\n",
    "    - `DIV2K/DIV2K_train_LR_unknown/X4/` -- `0001x4.png`, `0002x4.png`, ..., `0800x4.png` 训练低分辨率图像，下采样因子x4\n",
    "\n",
    "- `DIV2K/DIV2K_valid_HR/` -- `0801.png`, `0802.png`, ..., `0900.png` 验证高分辨率图像（将在最终评估阶段开始时提供给参赛者）\n",
    "- `DIV2K/DIV2K_valid_LR_bicubic/` -- 使用 Matlab imresize 函数和默认设置（双三次插值）获得的相应低分辨率图像\n",
    "    - `DIV2K/DIV2K_valid_LR_bicubic/X2/` -- 0801x2.png, 0802x2.png, ..., 0900x2.png 验证低分辨率图像，下采样因子x2\n",
    "    - `DIV2K/DIV2K_valid_LR_bicubic/X3/` -- 0801x3.png, 0802x3.png, ..., 0900x3.png 验证低分辨率图像，下采样因子x3\n",
    "    - `DIV2K/DIV2K_valid_LR_bicubic/X4/` -- 0801x4.png, 0802x4.png, ..., 0900x4.png 验证低分辨率图像，下采样因子x4\n",
    "- `DIV2K/DIV2K_valid_LR_unknown/` -- 使用隐藏的退化算子获得的相应低分辨率图像，对参赛者未知\n",
    "    - `DIV2K/DIV2K_valid_LR_unknown/X2/` -- 0801x2.png, 0802x2.png, ..., 0900x2.png 验证低分辨率图像，下采样因子x2\n",
    "    - `DIV2K/DIV2K_valid_LR_unknown/X3/` -- 0801x3.png, 0802x3.png, ..., 0900x3.png 验证低分辨率图像，下采样因子x3\n",
    "    - `DIV2K/DIV2K_valid_LR_unknown/X4/` -- 0801x4.png, 0802x4.png, ..., 0900x4.png 验证低分辨率图像，下采样因子x4\n",
    "\n",
    "- `DIV2K/DIV2K_test_HR/` -- 0901.png, 0902.png, ..., 1000.png 测试高分辨率图像（不提供给参赛者，用于最终评估和排名）\n",
    "- `DIV2K/DIV2K_test_LR_bicubic/` -- 使用Matlab imresize函数和默认设置（双三次插值）获得的相应低分辨率图像\n",
    "    - `DIV2K/DIV2K_test_LR_bicubic/X2/` -- 0901x2.png, 0902x2.png, ..., 1000x2.png 测试低分辨率图像，下采样因子x2\n",
    "    - `DIV2K/DIV2K_test_LR_bicubic/X3/` -- 0901x3.png, 0902x3.png, ..., 1000x3.png 测试低分辨率图像，下采样因子x3\n",
    "    - `DIV2K/DIV2K_test_LR_bicubic/X4/` -- 0901x4.png, 0902x4.png, ..., 1000x4.png 测试低分辨率图像，下采样因子x4\n",
    "- `DIV2K/DIV2K_test_LR_unknown/` -- 使用隐藏的退化算子获得的相应低分辨率图像，对参赛者未知\n",
    "    - `DIV2K/DIV2K_test_LR_unknown/X2/` -- 0901x2.png, 0902x2.png, ..., 1000x2.png 测试低分辨率图像，下采样因子x2\n",
    "    - `DIV2K/DIV2K_test_LR_unknown/X3/` -- 0901x3.png, 0902x3.png, ..., 1000x3.png 测试低分辨率图像，下采样因子x3\n",
    "    - `DIV2K/DIV2K_test_LR_unknown/X4/` -- 0901x4.png, 0902x4.png, ..., 1000x4.png 测试低分辨率图像，下采样因子x4 "
   ]
  },
  {
   "cell_type": "markdown",
   "metadata": {},
   "source": [
    "## 数据处理"
   ]
  },
  {
   "cell_type": "markdown",
   "metadata": {},
   "source": [
    "为了方便使用，将训练数据和验证数据合并并打包为 zip 格式："
   ]
  },
  {
   "cell_type": "code",
   "execution_count": 1,
   "metadata": {},
   "outputs": [],
   "source": [
    "import sys\n",
    "from pathlib import Path\n",
    "root_dir = Path(\".\").resolve().parents[2]\n",
    "sys.path.extend([\n",
    "    f\"{root_dir}/src\",\n",
    "    f\"{root_dir}/tests\"\n",
    "])\n",
    "from env import temp_dir\n",
    "(temp_dir/\"output/datasets\").mkdir(exist_ok=True)"
   ]
  },
  {
   "cell_type": "markdown",
   "metadata": {},
   "source": [
    "列出下载后是数据集："
   ]
  },
  {
   "cell_type": "code",
   "execution_count": 2,
   "metadata": {},
   "outputs": [
    {
     "name": "stdout",
     "output_type": "stream",
     "text": [
      "DIV2K_valid_LR_x8.zip\n",
      "DIV2K_train_LR_bicubic_X2.zip\n",
      "DIV2K_train_LR_bicubic_X3.zip\n",
      "DIV2K_train_LR_bicubic_X4.zip\n",
      "DIV2K_train_LR_difficult.zip\n",
      "DIV2K_train_LR_mild.zip\n",
      "DIV2K_train_LR_unknown_X2.zip\n",
      "DIV2K_train_LR_unknown_X4.zip\n",
      "DIV2K_train_LR_wild.zip\n",
      "DIV2K_train_LR_x8.zip\n",
      "DIV2K_valid_LR_bicubic_X2.zip\n",
      "DIV2K_valid_LR_bicubic_X2_2.zip\n",
      "DIV2K_valid_LR_bicubic_X3.zip\n",
      "DIV2K_valid_LR_bicubic_X4.zip\n",
      "DIV2K_valid_LR_difficult.zip\n",
      "DIV2K_valid_LR_mild.zip\n",
      "DIV2K_valid_LR_unknown_X2.zip\n",
      "DIV2K_valid_LR_unknown_X3.zip\n",
      "DIV2K_valid_LR_unknown_X4.zip\n",
      "DIV2K_valid_LR_unknown_X4_2.zip\n",
      "DIV2K_valid_LR_wild.zip\n",
      "DIV2K_train_LR_unknown_X3.zip\n",
      "DIV2K_train_HR.zip\n",
      "DIV2K_valid_HR.zip\n"
     ]
    }
   ],
   "source": [
    "data_dir = \"/media/pc/data/lxw/data/SR/DIV2K\"\n",
    "data_dir = Path(data_dir)\n",
    "for item in data_dir.iterdir():\n",
    "    if item.is_file() and item.suffix == '.zip':\n",
    "        print(item.name)"
   ]
  },
  {
   "cell_type": "code",
   "execution_count": null,
   "metadata": {},
   "outputs": [],
   "source": [
    "import torch\n",
    "from torchvision.transforms import v2 as transforms\n",
    "from torch_book.datasets.cv.div2k import DIV2K\n",
    "# from torchvision import tv_tensors"
   ]
  },
  {
   "cell_type": "code",
   "execution_count": 9,
   "metadata": {},
   "outputs": [],
   "source": [
    "# 定义图像预处理步骤\n",
    "transform = transforms.Compose([\n",
    "    transforms.Resize((224, 224)),  # 调整图像大小\n",
    "    # transforms.ToImage(), transforms.ToDtype(torch.float32, scale=True),\n",
    "    # transforms.Normalize(mean=[0.485, 0.456, 0.406], std=[0.229, 0.224, 0.225])  # 归一化\n",
    "])\n",
    "train_HR_path = data_dir/\"DIV2K_train_HR.zip\"\n",
    "hr = DIV2K(train_HR_path, transform)\n",
    "train_LR_path = data_dir/\"DIV2K_train_LR_bicubic_X2.zip\"\n",
    "\n",
    "transform = None\n",
    "hr_dataset = DIV2K(train_HR_path, transform)\n",
    "lr_dataset = DIV2K(train_LR_path, transform)"
   ]
  },
  {
   "cell_type": "code",
   "execution_count": 10,
   "metadata": {},
   "outputs": [],
   "source": [
    "hr = hr_dataset[5]\n",
    "lr = lr_dataset[5]"
   ]
  },
  {
   "cell_type": "code",
   "execution_count": 13,
   "metadata": {},
   "outputs": [
    {
     "data": {
      "text/plain": [
       "(1356, 2040)"
      ]
     },
     "execution_count": 13,
     "metadata": {},
     "output_type": "execute_result"
    }
   ],
   "source": [
    "hr.size"
   ]
  },
  {
   "cell_type": "code",
   "execution_count": 14,
   "metadata": {},
   "outputs": [
    {
     "data": {
      "text/plain": [
       "(678, 1020)"
      ]
     },
     "execution_count": 14,
     "metadata": {},
     "output_type": "execute_result"
    }
   ],
   "source": [
    "lr.size"
   ]
  }
 ],
 "metadata": {
  "kernelspec": {
   "display_name": "ai",
   "language": "python",
   "name": "python3"
  },
  "language_info": {
   "codemirror_mode": {
    "name": "ipython",
    "version": 3
   },
   "file_extension": ".py",
   "mimetype": "text/x-python",
   "name": "python",
   "nbconvert_exporter": "python",
   "pygments_lexer": "ipython3",
   "version": "3.12.7"
  }
 },
 "nbformat": 4,
 "nbformat_minor": 2
}
