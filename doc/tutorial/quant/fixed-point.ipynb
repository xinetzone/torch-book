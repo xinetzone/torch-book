{
 "cells": [
  {
   "cell_type": "markdown",
   "metadata": {},
   "source": [
    "# 定点和浮点\n",
    "\n",
    "$n$ 位 $p$ 进制自然数可以表示为：\n",
    "\n",
    "$$\n",
    "\\begin{aligned}\n",
    "x &= x_0 x_1 \\cdots x_{n-1} x_{n} . x_{-1} \\cdots x_{-n+1} x_{-n}\\\\\n",
    "&= (x_0, x_1, \\cdots, x_{n-1}, x_{n}, x_{-1}, \\cdots, x_{-n+1}, x_{-n}) \\begin{bmatrix}\n",
    "p^n \\\\ p^{n-1} \\\\ \\vdots \\\\ p^1 \\\\ p^0 \\\\ p^{-1} \\\\ \\vdots \\\\ p^{-n+1} \\\\ p^{-n}\n",
    "\\end{bmatrix}\n",
    "\\end{aligned}\n",
    "$$ (FP1)\n",
    "\n",
    "这里 $p=2$。\n",
    "\n",
    "定点和浮点都是数值的表示，它们区别在于，将整数（integer）部分和小数（fractional）分开的点在哪里。定点保留特定位数整数和小数，而浮点保留特定位数的有效数字（significand）和指数（exponent）。"
   ]
  },
  {
   "cell_type": "markdown",
   "metadata": {},
   "source": [
    "## 定点数表示法\n",
    "\n",
    "定点数指的是小数点固定的存储方式，因为小数点固定，所以不需要额外使用存储空间存储小数点，只需要约定好即可。计算机中定点数有两种类型：\n",
    "\n",
    "`定点小数`\n",
    ":   纯小数，约定的小数点位置在符号位之后、有效数值部分最高位之前。\n",
    "\n",
    "    若数据 $x=s_0.x_{-1} x_{-2} \\cdots x_{-n}$，其中 $s_0$ 为符号位，$x_{-1} \\cdots x_{-n}$ 为数值有效部分，也称为 **尾数**；$x_{-1}$ 为最高有效位。\n",
    "\n",
    "    一般说来，如果最末位 $x_{-n} = 1$，前面各位都为 $0$，则数的绝对值最小，即 $|x|_{\\min} = 2^{-n}$。如果各位均为 $1$，则数的绝对值最大，即 $|x|_{\\max} = 1-2^{-n}$。所以定点小数的表示范围是：$2^{-n} \\leq |x| \\leq 1 - 2^{-n}$。\n",
    "\n",
    "`定点整数`\n",
    ":   纯整数，约定的小数点位置在有效数值部分最低位之后。\n",
    "\n",
    "    若数据 $x=s_0x_1 x_2 \\cdots x_n$，其中 $s_0$ 为符号位，$x_1 \\cdots x_n$ 为数值有效部分，也称为 **尾数**；$x_1$ 为最高有效位。\n",
    "\n",
    "    定点整数的表示范围是：$1 \\leq |x| \\leq 2^{n} - 1$。\n",
    "\n",
    "当数据小于定点数能表示的最小值时，计算机将它们作 $0$ 处理，称为 **下溢**；大于定点数能表示的最大值时，计算机将无法表示，称为 **上溢**，上溢和下溢统称为 **溢出**。\n",
    "\n",
    "计算机采用定点数表示时，对于既有整数又有小数的原始数据，需要设定一个缩放因子，数据按其缩小成定点小数或扩大成定点整数再参加运算，运算结果，根据缩放因子，还原成实际数值。若缩放因子选择不当，往往会使运算结果产生溢出或降低数据的有效精度。\n",
    "\n",
    "用定点数进行运算处理的计算机被称为 **定点机**。"
   ]
  },
  {
   "cell_type": "markdown",
   "metadata": {},
   "source": [
    "## 定点数实例\n",
    "\n",
    "可以使用 {func}`bin` 将整数转换为二进制表示。"
   ]
  },
  {
   "cell_type": "code",
   "execution_count": 1,
   "metadata": {},
   "outputs": [
    {
     "data": {
      "text/plain": [
       "('0b0', '0b1', '0b10', '0b11', '0b100', '0b101', '0b110')"
      ]
     },
     "execution_count": 1,
     "metadata": {},
     "output_type": "execute_result"
    }
   ],
   "source": [
    "bin(0), bin(1), bin(2), bin(3), bin(4), bin(5), bin(6)"
   ]
  },
  {
   "cell_type": "markdown",
   "metadata": {},
   "source": [
    "对于 `25.125` 表示为定点整数需要如下操作：\n",
    "\n",
    "1. 将整数部分转换为定点整数："
   ]
  },
  {
   "cell_type": "code",
   "execution_count": 2,
   "metadata": {},
   "outputs": [
    {
     "data": {
      "text/plain": [
       "'0b11001'"
      ]
     },
     "execution_count": 2,
     "metadata": {},
     "output_type": "execute_result"
    }
   ],
   "source": [
    "bin(25)"
   ]
  },
  {
   "cell_type": "code",
   "execution_count": 3,
   "metadata": {},
   "outputs": [],
   "source": [
    "def fixed_inter(x):\n",
    "    L = []\n",
    "    while x != 0:\n",
    "        L.append(str(x % 2))\n",
    "        x = x // 2\n",
    "    L.reverse()\n",
    "    x = \"0b\" + \"\".join(L)\n",
    "    return x"
   ]
  },
  {
   "cell_type": "code",
   "execution_count": 4,
   "metadata": {},
   "outputs": [
    {
     "data": {
      "text/plain": [
       "'0b11001'"
      ]
     },
     "execution_count": 4,
     "metadata": {},
     "output_type": "execute_result"
    }
   ],
   "source": [
    "fixed_inter(25)"
   ]
  },
  {
   "cell_type": "markdown",
   "metadata": {},
   "source": [
    "2. 小数部分转换为定点小数："
   ]
  },
  {
   "cell_type": "code",
   "execution_count": 5,
   "metadata": {},
   "outputs": [],
   "source": [
    "import numpy as np\n",
    "\n",
    "\n",
    "def fixed_decimal(x):\n",
    "    L = []\n",
    "    while x != 0:\n",
    "        x, b = np.modf(x * 2)\n",
    "        L.append(str(int(b)))\n",
    "    x = \".\" + \"\".join(L)\n",
    "    return x"
   ]
  },
  {
   "cell_type": "code",
   "execution_count": 7,
   "metadata": {},
   "outputs": [
    {
     "data": {
      "text/plain": [
       "'.001'"
      ]
     },
     "execution_count": 7,
     "metadata": {},
     "output_type": "execute_result"
    }
   ],
   "source": [
    "x = 0.125\n",
    "fixed_decimal(x)"
   ]
  },
  {
   "cell_type": "markdown",
   "metadata": {},
   "source": [
    "拼在一起就是："
   ]
  },
  {
   "cell_type": "code",
   "execution_count": 8,
   "metadata": {},
   "outputs": [
    {
     "data": {
      "text/plain": [
       "'0b11001.001'"
      ]
     },
     "execution_count": 8,
     "metadata": {},
     "output_type": "execute_result"
    }
   ],
   "source": [
    "fixed_inter(25) + fixed_decimal(x)"
   ]
  },
  {
   "cell_type": "markdown",
   "metadata": {},
   "source": [
    "\n",
    "\n",
    "\n",
    "\n",
    "## 浮点数表示法\n",
    "\n",
    "与科学计数法相似，任意 $J$ 进制数 $N$，总可以写成：\n",
    "\n",
    "$$\n",
    "N = J^E \\times M\n",
    "$$\n",
    "\n",
    "式中 $M$ 称为数 $N$ 的 **尾数** （mantissa），是一个纯小数；$E$ 为数 $N$ 的 **阶码** （exponent），是一个整数，$J$ 称为缩放因子 $J^E$ 的底数。这种表示方法相当于数的小数点位置随缩放因子的不同而在一定范围内可以自由浮动，所以称为 **浮点表示法**。\n",
    "\n",
    "底数是事先约定好的（常取 2），在计算机中不出现。在机器中表示一个浮点数时，一是要给出尾数，用定点小数形式表示。尾数部分给出有效数字的位数，因而决定了浮点数的表示精度。二是要给出阶码，用整数形式表示，阶码指明小数点在数据中的位置，因而决定了浮点数的表示范围。浮点数也要有符号位。因此一个机器浮点数应当由阶码和尾数及其符号位组成：\n",
    "\n",
    "$$\n",
    "x = E_s E_1 E_2 \\cdots E_n M_s M_1 M_2 \\cdots M_n\n",
    "$$\n",
    "\n",
    "其中 $E_s$ 是阶符（表示阶码的符号），$E_1 E_2 \\cdots E_n$ 的阶码，$M_s$ 是尾符（数 $N$ 的符号），$M_1 M_2 \\cdots M_n$ 的尾数。\n",
    "\n",
    "当底数取 2 时，二进制数 $N$ 的小数点每右移一位，阶码减小 $1$，相应尾数右移一位；反之，小数点每左移一位，阶码加 $1$，相应尾数左移一位。\n",
    "\n",
    "为了提高数据的表示精度，当尾数的值不为 $0$ 时，其绝对值应大于等于 $0.5$，即尾数域的最高有效位应为 $1$，否则要以修改阶码同时左右移小数点的方法，使其变成这一要求的表示形式，这称为 **浮点数的规格化表示**。\n",
    "\n",
    "当浮点数的尾数为 $0$ 时，不论其阶码为何值，或者当阶码的值遇到比它能表示的最小值还小时，不管其尾数为何值，计算机都把该浮点数看成 $0$ 值，称为 **机器零**。\n",
    "\n",
    "浮点数所表示的范围比定点数大。假设机器中的数由 $8$ 位二进制数表示（包括符号位）：在定点机中这 $8$ 位全部用来表示有效数字（包括符号）；在浮点机中若阶符、阶码占 $3$ 位，尾符、尾数占 $5$ 位，在此情况下，若只考虑正数值，定点机小数表示的数的范围是 $0.0000000$ 到 $0.1111111$，相当于十进制数的 $0$ 到 $127 ／128$，而浮点机所能表示的数的范围则是 $2^{-11} \\times 0.0001$ 到 $2^{11} \\times 0.1111$，相当于十进制数的 $1／128$ 到 $7.5$。显然，都用 $8$ 位，浮点机能表示的数的范围比定点机大得多。\n",
    "\n",
    "```{note}\n",
    "IEEE 754 浮点数计数标准，可以表示为：\n",
    "\n",
    "$$\n",
    "x = 1.M... \\times 2^E\n",
    "$$\n",
    "```\n",
    "\n",
    "因此，只要给出：符号（$S$）、阶码部分（$E$）、尾数部分（$M$） 这三个维度的信息，一个浮点数的表示就完全确定下来了，所以 float 和 double 这两种类型的浮点数在计算机中的存储结构就表示成下图所示这个样子：\n",
    "\n",
    "![](images/float_point.png)\n",
    "\n",
    "- 对于 float 型浮点数，指数部分 $8$ 位，考虑可正可负，因此可以表示的指数范围为 $[-127, 128]$；\n",
    "- 对于 double 型浮点数，指数部分 $11$ 位，考虑可正可负，因此可以表示的指数范围为 $[-1023, 1024]$。\n",
    "\n",
    "浮点数的精度是由尾数的位数来决定的：\n",
    "\n",
    "- 对于 float 型浮点数，尾数部分 $23$ 位，换算成十进制就是 $2^{23}=8388608$，所以十进制精度只有 $6 ~ 7$ 位；\n",
    "- 对于 double 型浮点数，尾数部分 $52$ 位，换算成十进制就是 $2^{52} = 4503599627370496$，所以十进制精度只有 $15 ~ 16$ 位。\n",
    "\n",
    "所以，浮点数交给计算机存储的时候，可能会有精度丢失问题！"
   ]
  },
  {
   "cell_type": "markdown",
   "metadata": {},
   "source": [
    "在指令集（Instruction Set Architecture）的内置数据类型中，定点数是整数，浮点是二进制格式。一般来说，指令集层面的定点是连续的，因为它是整数，且两个邻近的可表示数字的间隙是 $1$。另一方面，浮点代表实数，其数值间隙由指数确定，因而具有非常宽的值域（32 位数值最大整数是 $2^{31}-1$，而浮点值域为 $2 - 2^{-23} \\times 2^{127}$，值越接近零就越准确。在给定指数时，浮点在不同范围内拥有数值数量相同数量。\n",
    "\n"
   ]
  }
 ],
 "metadata": {
  "kernelspec": {
   "display_name": "Python 3.10.4 ('tvmx': conda)",
   "language": "python",
   "name": "python3"
  },
  "language_info": {
   "codemirror_mode": {
    "name": "ipython",
    "version": 3
   },
   "file_extension": ".py",
   "mimetype": "text/x-python",
   "name": "python",
   "nbconvert_exporter": "python",
   "pygments_lexer": "ipython3",
   "version": "3.10.4"
  },
  "orig_nbformat": 4,
  "vscode": {
   "interpreter": {
    "hash": "e579259ee6098e2b9319de590d145b4b096774fe457bdf04260e3ba5c171e887"
   }
  }
 },
 "nbformat": 4,
 "nbformat_minor": 2
}
