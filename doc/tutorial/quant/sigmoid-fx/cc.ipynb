{
 "cells": [
  {
   "cell_type": "code",
   "execution_count": 1,
   "metadata": {},
   "outputs": [],
   "source": [
    "import torch\n",
    "from torch_book.vision.mp_plot import plot\n",
    "from fixed_sigmoid import linear_sigmoid, get_nodes\n",
    "\n"
   ]
  },
  {
   "cell_type": "code",
   "execution_count": 10,
   "metadata": {},
   "outputs": [],
   "source": [
    "node_indexes = [-6, -5, -3, -2, -1, 0, 1, 2, 3]\n",
    "nodes = get_nodes(node_indexes)"
   ]
  },
  {
   "cell_type": "code",
   "execution_count": 12,
   "metadata": {},
   "outputs": [
    {
     "data": {
      "image/svg+xml": "<?xml version=\"1.0\" encoding=\"utf-8\" standalone=\"no\"?>\n<!DOCTYPE svg PUBLIC \"-//W3C//DTD SVG 1.1//EN\"\n  \"http://www.w3.org/Graphics/SVG/1.1/DTD/svg11.dtd\">\n<svg xmlns:xlink=\"http://www.w3.org/1999/xlink\" width=\"233.371023pt\" height=\"165.425pt\" viewBox=\"0 0 233.371023 165.425\" xmlns=\"http://www.w3.org/2000/svg\" version=\"1.1\">\n <metadata>\n  <rdf:RDF xmlns:dc=\"http://purl.org/dc/elements/1.1/\" xmlns:cc=\"http://creativecommons.org/ns#\" xmlns:rdf=\"http://www.w3.org/1999/02/22-rdf-syntax-ns#\">\n   <cc:Work>\n    <dc:type rdf:resource=\"http://purl.org/dc/dcmitype/StillImage\"/>\n    <dc:date>2022-10-27T19:43:52.956732</dc:date>\n    <dc:format>image/svg+xml</dc:format>\n    <dc:creator>\n     <cc:Agent>\n      <dc:title>Matplotlib v3.5.1, https://matplotlib.org/</dc:title>\n     </cc:Agent>\n    </dc:creator>\n   </cc:Work>\n  </rdf:RDF>\n </metadata>\n <defs>\n  <style type=\"text/css\">*{stroke-linejoin: round; stroke-linecap: butt}</style>\n </defs>\n <g id=\"figure_1\">\n  <g id=\"patch_1\">\n   <path d=\"M 0 165.425 \nL 233.371023 165.425 \nL 233.371023 0 \nL 0 0 \nL 0 165.425 \nz\n\" style=\"fill: none\"/>\n  </g>\n  <g id=\"axes_1\">\n   <g id=\"patch_2\">\n    <path d=\"M 29.2 143.1 \nL 224.5 143.1 \nL 224.5 7.2 \nL 29.2 7.2 \nz\n\" style=\"fill: #ffffff\"/>\n   </g>\n   <g id=\"matplotlib.axis_1\">\n    <g id=\"xtick_1\">\n     <g id=\"line2d_1\">\n      <path d=\"M 54.722159 143.1 \nL 54.722159 7.2 \n\" clip-path=\"url(#pc2d9844e8e)\" style=\"fill: none; stroke: #b0b0b0; stroke-width: 0.8; stroke-linecap: square\"/>\n     </g>\n     <g id=\"line2d_2\">\n      <defs>\n       <path id=\"m8dd39dd0f5\" d=\"M 0 0 \nL 0 3.5 \n\" style=\"stroke: #000000; stroke-width: 0.8\"/>\n      </defs>\n      <g>\n       <use xlink:href=\"#m8dd39dd0f5\" x=\"54.722159\" y=\"143.1\" style=\"stroke: #000000; stroke-width: 0.8\"/>\n      </g>\n     </g>\n     <g id=\"text_1\">\n      <!-- 0 -->\n      <g transform=\"translate(52.222159 156.935938)scale(0.1 -0.1)\">\n       <defs>\n        <path id=\"SimHei-30\" d=\"M 2975 2250 \nQ 2975 1350 2650 700 \nQ 2325 50 1600 50 \nQ 875 50 537 700 \nQ 200 1350 200 2250 \nQ 200 3150 537 3787 \nQ 875 4425 1600 4425 \nQ 2325 4425 2650 3787 \nQ 2975 3150 2975 2250 \nz\nM 2375 2250 \nQ 2375 3050 2187 3500 \nQ 2000 3950 1600 3950 \nQ 1200 3950 1000 3500 \nQ 800 3050 800 2250 \nQ 800 1450 1000 987 \nQ 1200 525 1600 525 \nQ 2000 525 2187 987 \nQ 2375 1450 2375 2250 \nz\n\" transform=\"scale(0.015625)\"/>\n       </defs>\n       <use xlink:href=\"#SimHei-30\"/>\n      </g>\n     </g>\n    </g>\n    <g id=\"xtick_2\">\n     <g id=\"line2d_3\">\n      <path d=\"M 110.205114 143.1 \nL 110.205114 7.2 \n\" clip-path=\"url(#pc2d9844e8e)\" style=\"fill: none; stroke: #b0b0b0; stroke-width: 0.8; stroke-linecap: square\"/>\n     </g>\n     <g id=\"line2d_4\">\n      <g>\n       <use xlink:href=\"#m8dd39dd0f5\" x=\"110.205114\" y=\"143.1\" style=\"stroke: #000000; stroke-width: 0.8\"/>\n      </g>\n     </g>\n     <g id=\"text_2\">\n      <!-- 10 -->\n      <g transform=\"translate(105.205114 156.935938)scale(0.1 -0.1)\">\n       <defs>\n        <path id=\"SimHei-31\" d=\"M 1950 100 \nL 1375 100 \nL 1375 3425 \nL 625 3425 \nL 625 3725 \nQ 1075 3725 1325 3900 \nQ 1575 4075 1650 4425 \nL 1950 4425 \nL 1950 100 \nz\n\" transform=\"scale(0.015625)\"/>\n       </defs>\n       <use xlink:href=\"#SimHei-31\"/>\n       <use xlink:href=\"#SimHei-30\" x=\"50\"/>\n      </g>\n     </g>\n    </g>\n    <g id=\"xtick_3\">\n     <g id=\"line2d_5\">\n      <path d=\"M 165.688068 143.1 \nL 165.688068 7.2 \n\" clip-path=\"url(#pc2d9844e8e)\" style=\"fill: none; stroke: #b0b0b0; stroke-width: 0.8; stroke-linecap: square\"/>\n     </g>\n     <g id=\"line2d_6\">\n      <g>\n       <use xlink:href=\"#m8dd39dd0f5\" x=\"165.688068\" y=\"143.1\" style=\"stroke: #000000; stroke-width: 0.8\"/>\n      </g>\n     </g>\n     <g id=\"text_3\">\n      <!-- 20 -->\n      <g transform=\"translate(160.688068 156.935938)scale(0.1 -0.1)\">\n       <defs>\n        <path id=\"SimHei-32\" d=\"M 2850 100 \nL 300 100 \nL 300 500 \nQ 450 900 712 1237 \nQ 975 1575 1475 2000 \nQ 1850 2325 2012 2600 \nQ 2175 2875 2175 3200 \nQ 2175 3525 2037 3737 \nQ 1900 3950 1600 3950 \nQ 1350 3950 1162 3725 \nQ 975 3500 975 2925 \nL 400 2925 \nQ 425 3650 737 4037 \nQ 1050 4425 1625 4425 \nQ 2175 4425 2475 4087 \nQ 2775 3750 2775 3175 \nQ 2775 2700 2500 2350 \nQ 2225 2000 1825 1650 \nQ 1375 1250 1200 1050 \nQ 1025 850 875 575 \nL 2850 575 \nL 2850 100 \nz\n\" transform=\"scale(0.015625)\"/>\n       </defs>\n       <use xlink:href=\"#SimHei-32\"/>\n       <use xlink:href=\"#SimHei-30\" x=\"50\"/>\n      </g>\n     </g>\n    </g>\n    <g id=\"xtick_4\">\n     <g id=\"line2d_7\">\n      <path d=\"M 221.171023 143.1 \nL 221.171023 7.2 \n\" clip-path=\"url(#pc2d9844e8e)\" style=\"fill: none; stroke: #b0b0b0; stroke-width: 0.8; stroke-linecap: square\"/>\n     </g>\n     <g id=\"line2d_8\">\n      <g>\n       <use xlink:href=\"#m8dd39dd0f5\" x=\"221.171023\" y=\"143.1\" style=\"stroke: #000000; stroke-width: 0.8\"/>\n      </g>\n     </g>\n     <g id=\"text_4\">\n      <!-- 30 -->\n      <g transform=\"translate(216.171023 156.935938)scale(0.1 -0.1)\">\n       <defs>\n        <path id=\"SimHei-33\" d=\"M 2825 1300 \nQ 2825 725 2462 387 \nQ 2100 50 1550 50 \nQ 1000 50 637 387 \nQ 275 725 275 1425 \nL 850 1425 \nQ 850 950 1037 737 \nQ 1225 525 1550 525 \nQ 1875 525 2050 725 \nQ 2225 925 2225 1350 \nQ 2225 1700 2037 1900 \nQ 1850 2100 1375 2100 \nL 1375 2525 \nQ 1775 2525 1962 2725 \nQ 2150 2925 2150 3325 \nQ 2150 3625 2012 3800 \nQ 1875 3975 1575 3975 \nQ 1275 3975 1112 3762 \nQ 950 3550 925 3150 \nL 375 3150 \nQ 425 3725 737 4075 \nQ 1050 4425 1575 4425 \nQ 2125 4425 2425 4112 \nQ 2725 3800 2725 3350 \nQ 2725 2925 2575 2687 \nQ 2425 2450 2075 2325 \nQ 2425 2250 2625 1975 \nQ 2825 1700 2825 1300 \nz\n\" transform=\"scale(0.015625)\"/>\n       </defs>\n       <use xlink:href=\"#SimHei-33\"/>\n       <use xlink:href=\"#SimHei-30\" x=\"50\"/>\n      </g>\n     </g>\n    </g>\n   </g>\n   <g id=\"matplotlib.axis_2\">\n    <g id=\"ytick_1\">\n     <g id=\"line2d_9\">\n      <path d=\"M 29.2 143.073696 \nL 224.5 143.073696 \n\" clip-path=\"url(#pc2d9844e8e)\" style=\"fill: none; stroke: #b0b0b0; stroke-width: 0.8; stroke-linecap: square\"/>\n     </g>\n     <g id=\"line2d_10\">\n      <defs>\n       <path id=\"m5d84a1fc2c\" d=\"M 0 0 \nL -3.5 0 \n\" style=\"stroke: #000000; stroke-width: 0.8\"/>\n      </defs>\n      <g>\n       <use xlink:href=\"#m5d84a1fc2c\" x=\"29.2\" y=\"143.073696\" style=\"stroke: #000000; stroke-width: 0.8\"/>\n      </g>\n     </g>\n     <g id=\"text_5\">\n      <!-- 0.0 -->\n      <g transform=\"translate(7.2 146.491665)scale(0.1 -0.1)\">\n       <defs>\n        <path id=\"SimHei-2e\" d=\"M 1100 100 \nL 525 100 \nL 525 650 \nL 1100 650 \nL 1100 100 \nz\n\" transform=\"scale(0.015625)\"/>\n       </defs>\n       <use xlink:href=\"#SimHei-30\"/>\n       <use xlink:href=\"#SimHei-2e\" x=\"50\"/>\n       <use xlink:href=\"#SimHei-30\" x=\"100\"/>\n      </g>\n     </g>\n    </g>\n    <g id=\"ytick_2\">\n     <g id=\"line2d_11\">\n      <path d=\"M 29.2 117.134412 \nL 224.5 117.134412 \n\" clip-path=\"url(#pc2d9844e8e)\" style=\"fill: none; stroke: #b0b0b0; stroke-width: 0.8; stroke-linecap: square\"/>\n     </g>\n     <g id=\"line2d_12\">\n      <g>\n       <use xlink:href=\"#m5d84a1fc2c\" x=\"29.2\" y=\"117.134412\" style=\"stroke: #000000; stroke-width: 0.8\"/>\n      </g>\n     </g>\n     <g id=\"text_6\">\n      <!-- 0.2 -->\n      <g transform=\"translate(7.2 120.55238)scale(0.1 -0.1)\">\n       <use xlink:href=\"#SimHei-30\"/>\n       <use xlink:href=\"#SimHei-2e\" x=\"50\"/>\n       <use xlink:href=\"#SimHei-32\" x=\"100\"/>\n      </g>\n     </g>\n    </g>\n    <g id=\"ytick_3\">\n     <g id=\"line2d_13\">\n      <path d=\"M 29.2 91.195127 \nL 224.5 91.195127 \n\" clip-path=\"url(#pc2d9844e8e)\" style=\"fill: none; stroke: #b0b0b0; stroke-width: 0.8; stroke-linecap: square\"/>\n     </g>\n     <g id=\"line2d_14\">\n      <g>\n       <use xlink:href=\"#m5d84a1fc2c\" x=\"29.2\" y=\"91.195127\" style=\"stroke: #000000; stroke-width: 0.8\"/>\n      </g>\n     </g>\n     <g id=\"text_7\">\n      <!-- 0.4 -->\n      <g transform=\"translate(7.2 94.613096)scale(0.1 -0.1)\">\n       <defs>\n        <path id=\"SimHei-34\" d=\"M 2975 1200 \nL 2450 1200 \nL 2450 100 \nL 1875 100 \nL 1875 1200 \nL 200 1200 \nL 200 1675 \nL 1875 4425 \nL 2450 4425 \nL 2450 1675 \nL 2975 1675 \nL 2975 1200 \nz\nM 1875 1675 \nL 1875 3525 \nL 750 1675 \nL 1875 1675 \nz\n\" transform=\"scale(0.015625)\"/>\n       </defs>\n       <use xlink:href=\"#SimHei-30\"/>\n       <use xlink:href=\"#SimHei-2e\" x=\"50\"/>\n       <use xlink:href=\"#SimHei-34\" x=\"100\"/>\n      </g>\n     </g>\n    </g>\n    <g id=\"ytick_4\">\n     <g id=\"line2d_15\">\n      <path d=\"M 29.2 65.255842 \nL 224.5 65.255842 \n\" clip-path=\"url(#pc2d9844e8e)\" style=\"fill: none; stroke: #b0b0b0; stroke-width: 0.8; stroke-linecap: square\"/>\n     </g>\n     <g id=\"line2d_16\">\n      <g>\n       <use xlink:href=\"#m5d84a1fc2c\" x=\"29.2\" y=\"65.255842\" style=\"stroke: #000000; stroke-width: 0.8\"/>\n      </g>\n     </g>\n     <g id=\"text_8\">\n      <!-- 0.6 -->\n      <g transform=\"translate(7.2 68.673811)scale(0.1 -0.1)\">\n       <defs>\n        <path id=\"SimHei-36\" d=\"M 2850 1550 \nQ 2850 850 2550 450 \nQ 2250 50 1650 50 \nQ 1050 50 700 550 \nQ 350 1050 350 2175 \nQ 350 3200 712 3812 \nQ 1075 4425 1750 4425 \nQ 2225 4425 2512 4075 \nQ 2800 3725 2800 3300 \nL 2225 3300 \nQ 2225 3550 2087 3750 \nQ 1950 3950 1725 3950 \nQ 1350 3950 1150 3562 \nQ 950 3175 925 2375 \nQ 1100 2700 1300 2825 \nQ 1500 2950 1775 2950 \nQ 2250 2950 2550 2575 \nQ 2850 2200 2850 1550 \nz\nM 2250 1550 \nQ 2250 2000 2100 2250 \nQ 1950 2500 1675 2500 \nQ 1350 2500 1162 2250 \nQ 975 2000 975 1650 \nQ 975 1100 1162 800 \nQ 1350 500 1675 500 \nQ 1900 500 2075 725 \nQ 2250 950 2250 1550 \nz\n\" transform=\"scale(0.015625)\"/>\n       </defs>\n       <use xlink:href=\"#SimHei-30\"/>\n       <use xlink:href=\"#SimHei-2e\" x=\"50\"/>\n       <use xlink:href=\"#SimHei-36\" x=\"100\"/>\n      </g>\n     </g>\n    </g>\n    <g id=\"ytick_5\">\n     <g id=\"line2d_17\">\n      <path d=\"M 29.2 39.316557 \nL 224.5 39.316557 \n\" clip-path=\"url(#pc2d9844e8e)\" style=\"fill: none; stroke: #b0b0b0; stroke-width: 0.8; stroke-linecap: square\"/>\n     </g>\n     <g id=\"line2d_18\">\n      <g>\n       <use xlink:href=\"#m5d84a1fc2c\" x=\"29.2\" y=\"39.316557\" style=\"stroke: #000000; stroke-width: 0.8\"/>\n      </g>\n     </g>\n     <g id=\"text_9\">\n      <!-- 0.8 -->\n      <g transform=\"translate(7.2 42.734526)scale(0.1 -0.1)\">\n       <defs>\n        <path id=\"SimHei-38\" d=\"M 2875 1325 \nQ 2875 700 2525 375 \nQ 2175 50 1575 50 \nQ 975 50 625 375 \nQ 275 700 275 1325 \nQ 275 1650 475 1912 \nQ 675 2175 1025 2300 \nQ 725 2425 562 2650 \nQ 400 2875 400 3225 \nQ 400 3775 750 4100 \nQ 1100 4425 1575 4425 \nQ 2050 4425 2400 4100 \nQ 2750 3775 2750 3225 \nQ 2750 2875 2587 2650 \nQ 2425 2425 2125 2300 \nQ 2475 2175 2675 1912 \nQ 2875 1650 2875 1325 \nz\nM 2200 3225 \nQ 2200 3625 2025 3800 \nQ 1850 3975 1575 3975 \nQ 1300 3975 1125 3800 \nQ 950 3625 950 3225 \nQ 950 2825 1137 2662 \nQ 1325 2500 1575 2500 \nQ 1825 2500 2012 2662 \nQ 2200 2825 2200 3225 \nz\nM 2300 1325 \nQ 2300 1675 2112 1875 \nQ 1925 2075 1575 2075 \nQ 1225 2075 1037 1875 \nQ 850 1675 850 1325 \nQ 850 925 1050 712 \nQ 1250 500 1575 500 \nQ 1900 500 2100 712 \nQ 2300 925 2300 1325 \nz\n\" transform=\"scale(0.015625)\"/>\n       </defs>\n       <use xlink:href=\"#SimHei-30\"/>\n       <use xlink:href=\"#SimHei-2e\" x=\"50\"/>\n       <use xlink:href=\"#SimHei-38\" x=\"100\"/>\n      </g>\n     </g>\n    </g>\n    <g id=\"ytick_6\">\n     <g id=\"line2d_19\">\n      <path d=\"M 29.2 13.377273 \nL 224.5 13.377273 \n\" clip-path=\"url(#pc2d9844e8e)\" style=\"fill: none; stroke: #b0b0b0; stroke-width: 0.8; stroke-linecap: square\"/>\n     </g>\n     <g id=\"line2d_20\">\n      <g>\n       <use xlink:href=\"#m5d84a1fc2c\" x=\"29.2\" y=\"13.377273\" style=\"stroke: #000000; stroke-width: 0.8\"/>\n      </g>\n     </g>\n     <g id=\"text_10\">\n      <!-- 1.0 -->\n      <g transform=\"translate(7.2 16.795241)scale(0.1 -0.1)\">\n       <use xlink:href=\"#SimHei-31\"/>\n       <use xlink:href=\"#SimHei-2e\" x=\"50\"/>\n       <use xlink:href=\"#SimHei-30\" x=\"100\"/>\n      </g>\n     </g>\n    </g>\n   </g>\n   <g id=\"line2d_21\">\n    <path d=\"M 38.077273 136.922727 \nL 43.625568 127.613505 \nL 49.173864 108.192958 \nL 54.722159 78.225485 \nL 60.270455 48.258011 \nL 65.81875 28.837464 \nL 71.367045 25.769055 \nL 76.915341 22.700646 \nL 82.463636 19.632244 \nL 88.011932 16.563835 \nL 93.560227 13.377273 \nL 99.108523 13.377273 \nL 104.656818 13.377273 \nL 110.205114 13.377273 \nL 115.753409 13.377273 \nL 121.301705 13.377273 \nL 126.85 13.377273 \nL 132.398295 13.377273 \nL 137.946591 13.377273 \nL 143.494886 13.377273 \nL 149.043182 13.377273 \nL 154.591477 13.377273 \nL 160.139773 13.377273 \nL 165.688068 13.377273 \nL 171.236364 13.377273 \nL 176.784659 13.377273 \nL 182.332955 13.377273 \nL 187.88125 13.377273 \nL 193.429545 13.377273 \nL 198.977841 13.377273 \nL 204.526136 13.377273 \nL 210.074432 13.377273 \nL 215.622727 13.377273 \n\" clip-path=\"url(#pc2d9844e8e)\" style=\"fill: none; stroke: #1f77b4; stroke-width: 1.5; stroke-linecap: square\"/>\n   </g>\n   <g id=\"patch_3\">\n    <path d=\"M 29.2 143.1 \nL 29.2 7.2 \n\" style=\"fill: none; stroke: #000000; stroke-width: 0.8; stroke-linejoin: miter; stroke-linecap: square\"/>\n   </g>\n   <g id=\"patch_4\">\n    <path d=\"M 224.5 143.1 \nL 224.5 7.2 \n\" style=\"fill: none; stroke: #000000; stroke-width: 0.8; stroke-linejoin: miter; stroke-linecap: square\"/>\n   </g>\n   <g id=\"patch_5\">\n    <path d=\"M 29.2 143.1 \nL 224.5 143.1 \n\" style=\"fill: none; stroke: #000000; stroke-width: 0.8; stroke-linejoin: miter; stroke-linecap: square\"/>\n   </g>\n   <g id=\"patch_6\">\n    <path d=\"M 29.2 7.2 \nL 224.5 7.2 \n\" style=\"fill: none; stroke: #000000; stroke-width: 0.8; stroke-linejoin: miter; stroke-linecap: square\"/>\n   </g>\n  </g>\n </g>\n <defs>\n  <clipPath id=\"pc2d9844e8e\">\n   <rect x=\"29.2\" y=\"7.2\" width=\"195.3\" height=\"135.9\"/>\n  </clipPath>\n </defs>\n</svg>\n",
      "text/plain": [
       "<Figure size 252x180 with 1 Axes>"
      ]
     },
     "metadata": {
      "needs_background": "light"
     },
     "output_type": "display_data"
    }
   ],
   "source": [
    "x = torch.arange(-3, 30, dtype=torch.float32)\n",
    "# y = torch.sigmoid(x)\n",
    "y1 = linear_sigmoid(x, nodes)\n",
    "# plot(x, y)\n",
    "plot(x, y1)"
   ]
  },
  {
   "cell_type": "markdown",
   "metadata": {},
   "source": []
  },
  {
   "cell_type": "code",
   "execution_count": 3,
   "metadata": {},
   "outputs": [],
   "source": [
    "import numpy as np"
   ]
  },
  {
   "cell_type": "code",
   "execution_count": 4,
   "metadata": {},
   "outputs": [
    {
     "data": {
      "text/plain": [
       "1.0"
      ]
     },
     "execution_count": 4,
     "metadata": {},
     "output_type": "execute_result"
    }
   ],
   "source": [
    "1/(1+np.exp(-50))"
   ]
  },
  {
   "cell_type": "code",
   "execution_count": null,
   "metadata": {},
   "outputs": [],
   "source": []
  }
 ],
 "metadata": {
  "kernelspec": {
   "display_name": "Python 3.10.4 ('tvmx': conda)",
   "language": "python",
   "name": "python3"
  },
  "language_info": {
   "codemirror_mode": {
    "name": "ipython",
    "version": 3
   },
   "file_extension": ".py",
   "mimetype": "text/x-python",
   "name": "python",
   "nbconvert_exporter": "python",
   "pygments_lexer": "ipython3",
   "version": "3.10.4"
  },
  "orig_nbformat": 4,
  "vscode": {
   "interpreter": {
    "hash": "e579259ee6098e2b9319de590d145b4b096774fe457bdf04260e3ba5c171e887"
   }
  }
 },
 "nbformat": 4,
 "nbformat_minor": 2
}
