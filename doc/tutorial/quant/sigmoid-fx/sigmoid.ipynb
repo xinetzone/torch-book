{
 "cells": [
  {
   "cell_type": "markdown",
   "metadata": {},
   "source": [
    "# Sigmoid 量化\n",
    "\n",
    "对于定义域 $\\mathbb{R}$ 中的输入，sigmoid 函数将输入变换为区间 $(0, 1)$ 上的输出。因此，sigmoid 通常称为挤压函数（squashing function）：它将范围 $(- \\infty, \\infty)$ 中的任意输入压缩到区间 $(0, 1)$ 中的某个值，sigmoid 函数定义如下：\n",
    "\n",
    "$$\n",
    "\\operatorname{sigmoid}(x) = \\frac{1}{1 + \\exp(-x)}\n",
    "$$"
   ]
  },
  {
   "cell_type": "code",
   "execution_count": 1,
   "metadata": {},
   "outputs": [
    {
     "data": {
      "image/svg+xml": "<?xml version=\"1.0\" encoding=\"utf-8\" standalone=\"no\"?>\n<!DOCTYPE svg PUBLIC \"-//W3C//DTD SVG 1.1//EN\"\n  \"http://www.w3.org/Graphics/SVG/1.1/DTD/svg11.dtd\">\n<svg xmlns:xlink=\"http://www.w3.org/1999/xlink\" width=\"328.4625pt\" height=\"177.55pt\" viewBox=\"0 0 328.4625 177.55\" xmlns=\"http://www.w3.org/2000/svg\" version=\"1.1\">\n <metadata>\n  <rdf:RDF xmlns:dc=\"http://purl.org/dc/elements/1.1/\" xmlns:cc=\"http://creativecommons.org/ns#\" xmlns:rdf=\"http://www.w3.org/1999/02/22-rdf-syntax-ns#\">\n   <cc:Work>\n    <dc:type rdf:resource=\"http://purl.org/dc/dcmitype/StillImage\"/>\n    <dc:date>2022-10-22T16:53:23.334669</dc:date>\n    <dc:format>image/svg+xml</dc:format>\n    <dc:creator>\n     <cc:Agent>\n      <dc:title>Matplotlib v3.5.1, https://matplotlib.org/</dc:title>\n     </cc:Agent>\n    </dc:creator>\n   </cc:Work>\n  </rdf:RDF>\n </metadata>\n <defs>\n  <style type=\"text/css\">*{stroke-linejoin: round; stroke-linecap: butt}</style>\n </defs>\n <g id=\"figure_1\">\n  <g id=\"patch_1\">\n   <path d=\"M 0 177.55 \nL 328.4625 177.55 \nL 328.4625 0 \nL 0 0 \nL 0 177.55 \nz\n\" style=\"fill: none\"/>\n  </g>\n  <g id=\"axes_1\">\n   <g id=\"patch_2\">\n    <path d=\"M 42.2625 143.1 \nL 321.2625 143.1 \nL 321.2625 7.2 \nL 42.2625 7.2 \nz\n\" style=\"fill: #ffffff\"/>\n   </g>\n   <g id=\"matplotlib.axis_1\">\n    <g id=\"xtick_1\">\n     <g id=\"line2d_1\">\n      <path d=\"M 54.944318 143.1 \nL 54.944318 7.2 \n\" clip-path=\"url(#p1a72aaa9c5)\" style=\"fill: none; stroke: #b0b0b0; stroke-width: 0.8; stroke-linecap: square\"/>\n     </g>\n     <g id=\"line2d_2\">\n      <defs>\n       <path id=\"m569413c922\" d=\"M 0 0 \nL 0 3.5 \n\" style=\"stroke: #000000; stroke-width: 0.8\"/>\n      </defs>\n      <g>\n       <use xlink:href=\"#m569413c922\" x=\"54.944318\" y=\"143.1\" style=\"stroke: #000000; stroke-width: 0.8\"/>\n      </g>\n     </g>\n     <g id=\"text_1\">\n      <!-- -8 -->\n      <g transform=\"translate(49.944318 156.935938)scale(0.1 -0.1)\">\n       <defs>\n        <path id=\"SimHei-2d\" d=\"M 3000 2100 \nL 150 2100 \nL 150 2500 \nL 3000 2500 \nL 3000 2100 \nz\n\" transform=\"scale(0.015625)\"/>\n        <path id=\"SimHei-38\" d=\"M 2875 1325 \nQ 2875 700 2525 375 \nQ 2175 50 1575 50 \nQ 975 50 625 375 \nQ 275 700 275 1325 \nQ 275 1650 475 1912 \nQ 675 2175 1025 2300 \nQ 725 2425 562 2650 \nQ 400 2875 400 3225 \nQ 400 3775 750 4100 \nQ 1100 4425 1575 4425 \nQ 2050 4425 2400 4100 \nQ 2750 3775 2750 3225 \nQ 2750 2875 2587 2650 \nQ 2425 2425 2125 2300 \nQ 2475 2175 2675 1912 \nQ 2875 1650 2875 1325 \nz\nM 2200 3225 \nQ 2200 3625 2025 3800 \nQ 1850 3975 1575 3975 \nQ 1300 3975 1125 3800 \nQ 950 3625 950 3225 \nQ 950 2825 1137 2662 \nQ 1325 2500 1575 2500 \nQ 1825 2500 2012 2662 \nQ 2200 2825 2200 3225 \nz\nM 2300 1325 \nQ 2300 1675 2112 1875 \nQ 1925 2075 1575 2075 \nQ 1225 2075 1037 1875 \nQ 850 1675 850 1325 \nQ 850 925 1050 712 \nQ 1250 500 1575 500 \nQ 1900 500 2100 712 \nQ 2300 925 2300 1325 \nz\n\" transform=\"scale(0.015625)\"/>\n       </defs>\n       <use xlink:href=\"#SimHei-2d\"/>\n       <use xlink:href=\"#SimHei-38\" x=\"50\"/>\n      </g>\n     </g>\n    </g>\n    <g id=\"xtick_2\">\n     <g id=\"line2d_3\">\n      <path d=\"M 86.848264 143.1 \nL 86.848264 7.2 \n\" clip-path=\"url(#p1a72aaa9c5)\" style=\"fill: none; stroke: #b0b0b0; stroke-width: 0.8; stroke-linecap: square\"/>\n     </g>\n     <g id=\"line2d_4\">\n      <g>\n       <use xlink:href=\"#m569413c922\" x=\"86.848264\" y=\"143.1\" style=\"stroke: #000000; stroke-width: 0.8\"/>\n      </g>\n     </g>\n     <g id=\"text_2\">\n      <!-- -6 -->\n      <g transform=\"translate(81.848264 156.935938)scale(0.1 -0.1)\">\n       <defs>\n        <path id=\"SimHei-36\" d=\"M 2850 1550 \nQ 2850 850 2550 450 \nQ 2250 50 1650 50 \nQ 1050 50 700 550 \nQ 350 1050 350 2175 \nQ 350 3200 712 3812 \nQ 1075 4425 1750 4425 \nQ 2225 4425 2512 4075 \nQ 2800 3725 2800 3300 \nL 2225 3300 \nQ 2225 3550 2087 3750 \nQ 1950 3950 1725 3950 \nQ 1350 3950 1150 3562 \nQ 950 3175 925 2375 \nQ 1100 2700 1300 2825 \nQ 1500 2950 1775 2950 \nQ 2250 2950 2550 2575 \nQ 2850 2200 2850 1550 \nz\nM 2250 1550 \nQ 2250 2000 2100 2250 \nQ 1950 2500 1675 2500 \nQ 1350 2500 1162 2250 \nQ 975 2000 975 1650 \nQ 975 1100 1162 800 \nQ 1350 500 1675 500 \nQ 1900 500 2075 725 \nQ 2250 950 2250 1550 \nz\n\" transform=\"scale(0.015625)\"/>\n       </defs>\n       <use xlink:href=\"#SimHei-2d\"/>\n       <use xlink:href=\"#SimHei-36\" x=\"50\"/>\n      </g>\n     </g>\n    </g>\n    <g id=\"xtick_3\">\n     <g id=\"line2d_5\">\n      <path d=\"M 118.75221 143.1 \nL 118.75221 7.2 \n\" clip-path=\"url(#p1a72aaa9c5)\" style=\"fill: none; stroke: #b0b0b0; stroke-width: 0.8; stroke-linecap: square\"/>\n     </g>\n     <g id=\"line2d_6\">\n      <g>\n       <use xlink:href=\"#m569413c922\" x=\"118.75221\" y=\"143.1\" style=\"stroke: #000000; stroke-width: 0.8\"/>\n      </g>\n     </g>\n     <g id=\"text_3\">\n      <!-- -4 -->\n      <g transform=\"translate(113.75221 156.935938)scale(0.1 -0.1)\">\n       <defs>\n        <path id=\"SimHei-34\" d=\"M 2975 1200 \nL 2450 1200 \nL 2450 100 \nL 1875 100 \nL 1875 1200 \nL 200 1200 \nL 200 1675 \nL 1875 4425 \nL 2450 4425 \nL 2450 1675 \nL 2975 1675 \nL 2975 1200 \nz\nM 1875 1675 \nL 1875 3525 \nL 750 1675 \nL 1875 1675 \nz\n\" transform=\"scale(0.015625)\"/>\n       </defs>\n       <use xlink:href=\"#SimHei-2d\"/>\n       <use xlink:href=\"#SimHei-34\" x=\"50\"/>\n      </g>\n     </g>\n    </g>\n    <g id=\"xtick_4\">\n     <g id=\"line2d_7\">\n      <path d=\"M 150.656156 143.1 \nL 150.656156 7.2 \n\" clip-path=\"url(#p1a72aaa9c5)\" style=\"fill: none; stroke: #b0b0b0; stroke-width: 0.8; stroke-linecap: square\"/>\n     </g>\n     <g id=\"line2d_8\">\n      <g>\n       <use xlink:href=\"#m569413c922\" x=\"150.656156\" y=\"143.1\" style=\"stroke: #000000; stroke-width: 0.8\"/>\n      </g>\n     </g>\n     <g id=\"text_4\">\n      <!-- -2 -->\n      <g transform=\"translate(145.656156 156.935938)scale(0.1 -0.1)\">\n       <defs>\n        <path id=\"SimHei-32\" d=\"M 2850 100 \nL 300 100 \nL 300 500 \nQ 450 900 712 1237 \nQ 975 1575 1475 2000 \nQ 1850 2325 2012 2600 \nQ 2175 2875 2175 3200 \nQ 2175 3525 2037 3737 \nQ 1900 3950 1600 3950 \nQ 1350 3950 1162 3725 \nQ 975 3500 975 2925 \nL 400 2925 \nQ 425 3650 737 4037 \nQ 1050 4425 1625 4425 \nQ 2175 4425 2475 4087 \nQ 2775 3750 2775 3175 \nQ 2775 2700 2500 2350 \nQ 2225 2000 1825 1650 \nQ 1375 1250 1200 1050 \nQ 1025 850 875 575 \nL 2850 575 \nL 2850 100 \nz\n\" transform=\"scale(0.015625)\"/>\n       </defs>\n       <use xlink:href=\"#SimHei-2d\"/>\n       <use xlink:href=\"#SimHei-32\" x=\"50\"/>\n      </g>\n     </g>\n    </g>\n    <g id=\"xtick_5\">\n     <g id=\"line2d_9\">\n      <path d=\"M 182.560102 143.1 \nL 182.560102 7.2 \n\" clip-path=\"url(#p1a72aaa9c5)\" style=\"fill: none; stroke: #b0b0b0; stroke-width: 0.8; stroke-linecap: square\"/>\n     </g>\n     <g id=\"line2d_10\">\n      <g>\n       <use xlink:href=\"#m569413c922\" x=\"182.560102\" y=\"143.1\" style=\"stroke: #000000; stroke-width: 0.8\"/>\n      </g>\n     </g>\n     <g id=\"text_5\">\n      <!-- 0 -->\n      <g transform=\"translate(180.060102 156.935938)scale(0.1 -0.1)\">\n       <defs>\n        <path id=\"SimHei-30\" d=\"M 2975 2250 \nQ 2975 1350 2650 700 \nQ 2325 50 1600 50 \nQ 875 50 537 700 \nQ 200 1350 200 2250 \nQ 200 3150 537 3787 \nQ 875 4425 1600 4425 \nQ 2325 4425 2650 3787 \nQ 2975 3150 2975 2250 \nz\nM 2375 2250 \nQ 2375 3050 2187 3500 \nQ 2000 3950 1600 3950 \nQ 1200 3950 1000 3500 \nQ 800 3050 800 2250 \nQ 800 1450 1000 987 \nQ 1200 525 1600 525 \nQ 2000 525 2187 987 \nQ 2375 1450 2375 2250 \nz\n\" transform=\"scale(0.015625)\"/>\n       </defs>\n       <use xlink:href=\"#SimHei-30\"/>\n      </g>\n     </g>\n    </g>\n    <g id=\"xtick_6\">\n     <g id=\"line2d_11\">\n      <path d=\"M 214.464048 143.1 \nL 214.464048 7.2 \n\" clip-path=\"url(#p1a72aaa9c5)\" style=\"fill: none; stroke: #b0b0b0; stroke-width: 0.8; stroke-linecap: square\"/>\n     </g>\n     <g id=\"line2d_12\">\n      <g>\n       <use xlink:href=\"#m569413c922\" x=\"214.464048\" y=\"143.1\" style=\"stroke: #000000; stroke-width: 0.8\"/>\n      </g>\n     </g>\n     <g id=\"text_6\">\n      <!-- 2 -->\n      <g transform=\"translate(211.964048 156.935938)scale(0.1 -0.1)\">\n       <use xlink:href=\"#SimHei-32\"/>\n      </g>\n     </g>\n    </g>\n    <g id=\"xtick_7\">\n     <g id=\"line2d_13\">\n      <path d=\"M 246.367993 143.1 \nL 246.367993 7.2 \n\" clip-path=\"url(#p1a72aaa9c5)\" style=\"fill: none; stroke: #b0b0b0; stroke-width: 0.8; stroke-linecap: square\"/>\n     </g>\n     <g id=\"line2d_14\">\n      <g>\n       <use xlink:href=\"#m569413c922\" x=\"246.367993\" y=\"143.1\" style=\"stroke: #000000; stroke-width: 0.8\"/>\n      </g>\n     </g>\n     <g id=\"text_7\">\n      <!-- 4 -->\n      <g transform=\"translate(243.867993 156.935938)scale(0.1 -0.1)\">\n       <use xlink:href=\"#SimHei-34\"/>\n      </g>\n     </g>\n    </g>\n    <g id=\"xtick_8\">\n     <g id=\"line2d_15\">\n      <path d=\"M 278.271939 143.1 \nL 278.271939 7.2 \n\" clip-path=\"url(#p1a72aaa9c5)\" style=\"fill: none; stroke: #b0b0b0; stroke-width: 0.8; stroke-linecap: square\"/>\n     </g>\n     <g id=\"line2d_16\">\n      <g>\n       <use xlink:href=\"#m569413c922\" x=\"278.271939\" y=\"143.1\" style=\"stroke: #000000; stroke-width: 0.8\"/>\n      </g>\n     </g>\n     <g id=\"text_8\">\n      <!-- 6 -->\n      <g transform=\"translate(275.771939 156.935938)scale(0.1 -0.1)\">\n       <use xlink:href=\"#SimHei-36\"/>\n      </g>\n     </g>\n    </g>\n    <g id=\"xtick_9\">\n     <g id=\"line2d_17\">\n      <path d=\"M 310.175885 143.1 \nL 310.175885 7.2 \n\" clip-path=\"url(#p1a72aaa9c5)\" style=\"fill: none; stroke: #b0b0b0; stroke-width: 0.8; stroke-linecap: square\"/>\n     </g>\n     <g id=\"line2d_18\">\n      <g>\n       <use xlink:href=\"#m569413c922\" x=\"310.175885\" y=\"143.1\" style=\"stroke: #000000; stroke-width: 0.8\"/>\n      </g>\n     </g>\n     <g id=\"text_9\">\n      <!-- 8 -->\n      <g transform=\"translate(307.675885 156.935938)scale(0.1 -0.1)\">\n       <use xlink:href=\"#SimHei-38\"/>\n      </g>\n     </g>\n    </g>\n    <g id=\"text_10\">\n     <!-- x -->\n     <g transform=\"translate(179.2625 169.060938)scale(0.1 -0.1)\">\n      <defs>\n       <path id=\"SimHei-78\" d=\"M 2900 100 \nL 2300 100 \nL 1575 1175 \nL 850 100 \nL 250 100 \nL 1275 1525 \nL 325 2900 \nL 925 2900 \nL 1575 1850 \nL 2225 2900 \nL 2825 2900 \nL 1875 1525 \nL 2900 100 \nz\n\" transform=\"scale(0.015625)\"/>\n      </defs>\n      <use xlink:href=\"#SimHei-78\"/>\n     </g>\n    </g>\n   </g>\n   <g id=\"matplotlib.axis_2\">\n    <g id=\"ytick_1\">\n     <g id=\"line2d_19\">\n      <path d=\"M 42.2625 136.964188 \nL 321.2625 136.964188 \n\" clip-path=\"url(#p1a72aaa9c5)\" style=\"fill: none; stroke: #b0b0b0; stroke-width: 0.8; stroke-linecap: square\"/>\n     </g>\n     <g id=\"line2d_20\">\n      <defs>\n       <path id=\"m0f9611ba99\" d=\"M 0 0 \nL -3.5 0 \n\" style=\"stroke: #000000; stroke-width: 0.8\"/>\n      </defs>\n      <g>\n       <use xlink:href=\"#m0f9611ba99\" x=\"42.2625\" y=\"136.964188\" style=\"stroke: #000000; stroke-width: 0.8\"/>\n      </g>\n     </g>\n     <g id=\"text_11\">\n      <!-- 0.0 -->\n      <g transform=\"translate(20.2625 140.382156)scale(0.1 -0.1)\">\n       <defs>\n        <path id=\"SimHei-2e\" d=\"M 1100 100 \nL 525 100 \nL 525 650 \nL 1100 650 \nL 1100 100 \nz\n\" transform=\"scale(0.015625)\"/>\n       </defs>\n       <use xlink:href=\"#SimHei-30\"/>\n       <use xlink:href=\"#SimHei-2e\" x=\"50\"/>\n       <use xlink:href=\"#SimHei-30\" x=\"100\"/>\n      </g>\n     </g>\n    </g>\n    <g id=\"ytick_2\">\n     <g id=\"line2d_21\">\n      <path d=\"M 42.2625 112.23764 \nL 321.2625 112.23764 \n\" clip-path=\"url(#p1a72aaa9c5)\" style=\"fill: none; stroke: #b0b0b0; stroke-width: 0.8; stroke-linecap: square\"/>\n     </g>\n     <g id=\"line2d_22\">\n      <g>\n       <use xlink:href=\"#m0f9611ba99\" x=\"42.2625\" y=\"112.23764\" style=\"stroke: #000000; stroke-width: 0.8\"/>\n      </g>\n     </g>\n     <g id=\"text_12\">\n      <!-- 0.2 -->\n      <g transform=\"translate(20.2625 115.655609)scale(0.1 -0.1)\">\n       <use xlink:href=\"#SimHei-30\"/>\n       <use xlink:href=\"#SimHei-2e\" x=\"50\"/>\n       <use xlink:href=\"#SimHei-32\" x=\"100\"/>\n      </g>\n     </g>\n    </g>\n    <g id=\"ytick_3\">\n     <g id=\"line2d_23\">\n      <path d=\"M 42.2625 87.511093 \nL 321.2625 87.511093 \n\" clip-path=\"url(#p1a72aaa9c5)\" style=\"fill: none; stroke: #b0b0b0; stroke-width: 0.8; stroke-linecap: square\"/>\n     </g>\n     <g id=\"line2d_24\">\n      <g>\n       <use xlink:href=\"#m0f9611ba99\" x=\"42.2625\" y=\"87.511093\" style=\"stroke: #000000; stroke-width: 0.8\"/>\n      </g>\n     </g>\n     <g id=\"text_13\">\n      <!-- 0.4 -->\n      <g transform=\"translate(20.2625 90.929062)scale(0.1 -0.1)\">\n       <use xlink:href=\"#SimHei-30\"/>\n       <use xlink:href=\"#SimHei-2e\" x=\"50\"/>\n       <use xlink:href=\"#SimHei-34\" x=\"100\"/>\n      </g>\n     </g>\n    </g>\n    <g id=\"ytick_4\">\n     <g id=\"line2d_25\">\n      <path d=\"M 42.2625 62.784546 \nL 321.2625 62.784546 \n\" clip-path=\"url(#p1a72aaa9c5)\" style=\"fill: none; stroke: #b0b0b0; stroke-width: 0.8; stroke-linecap: square\"/>\n     </g>\n     <g id=\"line2d_26\">\n      <g>\n       <use xlink:href=\"#m0f9611ba99\" x=\"42.2625\" y=\"62.784546\" style=\"stroke: #000000; stroke-width: 0.8\"/>\n      </g>\n     </g>\n     <g id=\"text_14\">\n      <!-- 0.6 -->\n      <g transform=\"translate(20.2625 66.202515)scale(0.1 -0.1)\">\n       <use xlink:href=\"#SimHei-30\"/>\n       <use xlink:href=\"#SimHei-2e\" x=\"50\"/>\n       <use xlink:href=\"#SimHei-36\" x=\"100\"/>\n      </g>\n     </g>\n    </g>\n    <g id=\"ytick_5\">\n     <g id=\"line2d_27\">\n      <path d=\"M 42.2625 38.057999 \nL 321.2625 38.057999 \n\" clip-path=\"url(#p1a72aaa9c5)\" style=\"fill: none; stroke: #b0b0b0; stroke-width: 0.8; stroke-linecap: square\"/>\n     </g>\n     <g id=\"line2d_28\">\n      <g>\n       <use xlink:href=\"#m0f9611ba99\" x=\"42.2625\" y=\"38.057999\" style=\"stroke: #000000; stroke-width: 0.8\"/>\n      </g>\n     </g>\n     <g id=\"text_15\">\n      <!-- 0.8 -->\n      <g transform=\"translate(20.2625 41.475968)scale(0.1 -0.1)\">\n       <use xlink:href=\"#SimHei-30\"/>\n       <use xlink:href=\"#SimHei-2e\" x=\"50\"/>\n       <use xlink:href=\"#SimHei-38\" x=\"100\"/>\n      </g>\n     </g>\n    </g>\n    <g id=\"ytick_6\">\n     <g id=\"line2d_29\">\n      <path d=\"M 42.2625 13.331452 \nL 321.2625 13.331452 \n\" clip-path=\"url(#p1a72aaa9c5)\" style=\"fill: none; stroke: #b0b0b0; stroke-width: 0.8; stroke-linecap: square\"/>\n     </g>\n     <g id=\"line2d_30\">\n      <g>\n       <use xlink:href=\"#m0f9611ba99\" x=\"42.2625\" y=\"13.331452\" style=\"stroke: #000000; stroke-width: 0.8\"/>\n      </g>\n     </g>\n     <g id=\"text_16\">\n      <!-- 1.0 -->\n      <g transform=\"translate(20.2625 16.749421)scale(0.1 -0.1)\">\n       <defs>\n        <path id=\"SimHei-31\" d=\"M 1950 100 \nL 1375 100 \nL 1375 3425 \nL 625 3425 \nL 625 3725 \nQ 1075 3725 1325 3900 \nQ 1575 4075 1650 4425 \nL 1950 4425 \nL 1950 100 \nz\n\" transform=\"scale(0.015625)\"/>\n       </defs>\n       <use xlink:href=\"#SimHei-31\"/>\n       <use xlink:href=\"#SimHei-2e\" x=\"50\"/>\n       <use xlink:href=\"#SimHei-30\" x=\"100\"/>\n      </g>\n     </g>\n    </g>\n    <g id=\"text_17\">\n     <!-- sigmoid(x) -->\n     <g transform=\"translate(14.973438 100.15)rotate(-90)scale(0.1 -0.1)\">\n      <defs>\n       <path id=\"SimHei-73\" d=\"M 2775 875 \nQ 2775 475 2462 262 \nQ 2150 50 1675 50 \nQ 1075 50 750 287 \nQ 425 525 425 975 \nL 925 975 \nQ 925 675 1137 575 \nQ 1350 475 1650 475 \nQ 1950 475 2100 587 \nQ 2250 700 2250 875 \nQ 2250 1000 2125 1125 \nQ 2000 1250 1500 1325 \nQ 925 1400 712 1612 \nQ 500 1825 500 2175 \nQ 500 2475 787 2712 \nQ 1075 2950 1625 2950 \nQ 2125 2950 2412 2725 \nQ 2700 2500 2700 2125 \nL 2200 2125 \nQ 2200 2350 2037 2437 \nQ 1875 2525 1625 2525 \nQ 1300 2525 1162 2412 \nQ 1025 2300 1025 2150 \nQ 1025 1975 1150 1875 \nQ 1275 1775 1675 1725 \nQ 2325 1625 2550 1412 \nQ 2775 1200 2775 875 \nz\n\" transform=\"scale(0.015625)\"/>\n       <path id=\"SimHei-69\" d=\"M 1825 3700 \nL 1325 3700 \nL 1325 4350 \nL 1825 4350 \nL 1825 3700 \nz\nM 1825 100 \nL 1325 100 \nL 1325 2900 \nL 1825 2900 \nL 1825 100 \nz\n\" transform=\"scale(0.015625)\"/>\n       <path id=\"SimHei-67\" d=\"M 3000 2475 \nQ 2825 2525 2662 2537 \nQ 2500 2550 2325 2500 \nQ 2400 2425 2450 2312 \nQ 2500 2200 2500 1975 \nQ 2500 1550 2212 1275 \nQ 1925 1000 1500 1000 \nQ 1400 1000 1237 1037 \nQ 1075 1075 975 1125 \nQ 900 1075 875 1025 \nQ 850 975 850 900 \nQ 850 775 1025 712 \nQ 1200 650 1650 650 \nQ 2375 650 2637 450 \nQ 2900 250 2900 -50 \nQ 2900 -450 2512 -637 \nQ 2125 -825 1600 -825 \nQ 925 -825 600 -650 \nQ 275 -475 275 -175 \nQ 275 -25 400 125 \nQ 525 275 725 375 \nQ 575 450 487 562 \nQ 400 675 400 850 \nQ 400 1000 512 1112 \nQ 625 1225 775 1300 \nQ 650 1425 575 1600 \nQ 500 1775 500 1975 \nQ 500 2400 787 2675 \nQ 1075 2950 1500 2950 \nQ 1725 2950 1887 2887 \nQ 2050 2825 2175 2700 \nQ 2375 2850 2575 2912 \nQ 2775 2975 3000 2950 \nL 3000 2475 \nz\nM 2000 1975 \nQ 2000 2225 1875 2375 \nQ 1750 2525 1500 2525 \nQ 1250 2525 1125 2375 \nQ 1000 2225 1000 1975 \nQ 1000 1725 1125 1575 \nQ 1250 1425 1500 1425 \nQ 1750 1425 1875 1575 \nQ 2000 1725 2000 1975 \nz\nM 2425 -100 \nQ 2425 0 2312 100 \nQ 2200 200 1750 200 \nQ 1650 200 1475 212 \nQ 1300 225 1075 250 \nQ 875 175 800 75 \nQ 725 -25 725 -125 \nQ 725 -275 925 -375 \nQ 1125 -475 1625 -475 \nQ 2050 -475 2237 -362 \nQ 2425 -250 2425 -100 \nz\n\" transform=\"scale(0.015625)\"/>\n       <path id=\"SimHei-6d\" d=\"M 3075 100 \nL 2575 100 \nL 2575 2125 \nQ 2575 2275 2525 2375 \nQ 2475 2475 2325 2475 \nQ 2150 2475 2000 2287 \nQ 1850 2100 1850 1800 \nL 1850 100 \nL 1350 100 \nL 1350 2125 \nQ 1350 2275 1300 2375 \nQ 1250 2475 1100 2475 \nQ 925 2475 775 2287 \nQ 625 2100 625 1800 \nL 625 100 \nL 125 100 \nL 125 2900 \nL 625 2900 \nL 625 2525 \nQ 750 2725 925 2837 \nQ 1100 2950 1300 2950 \nQ 1500 2950 1637 2837 \nQ 1775 2725 1825 2525 \nQ 1950 2725 2112 2837 \nQ 2275 2950 2475 2950 \nQ 2775 2950 2925 2787 \nQ 3075 2625 3075 2325 \nL 3075 100 \nz\n\" transform=\"scale(0.015625)\"/>\n       <path id=\"SimHei-6f\" d=\"M 2950 1500 \nQ 2950 850 2550 450 \nQ 2150 50 1600 50 \nQ 1050 50 650 450 \nQ 250 850 250 1500 \nQ 250 2150 650 2550 \nQ 1050 2950 1600 2950 \nQ 2150 2950 2550 2550 \nQ 2950 2150 2950 1500 \nz\nM 2400 1500 \nQ 2400 2000 2150 2250 \nQ 1900 2500 1600 2500 \nQ 1300 2500 1050 2250 \nQ 800 2000 800 1500 \nQ 800 1000 1050 750 \nQ 1300 500 1600 500 \nQ 1900 500 2150 750 \nQ 2400 1000 2400 1500 \nz\n\" transform=\"scale(0.015625)\"/>\n       <path id=\"SimHei-64\" d=\"M 2775 100 \nL 2275 100 \nL 2275 475 \nQ 2125 250 1925 150 \nQ 1725 50 1450 50 \nQ 950 50 600 412 \nQ 250 775 250 1500 \nQ 250 2225 600 2600 \nQ 950 2975 1450 2975 \nQ 1725 2975 1925 2862 \nQ 2125 2750 2275 2525 \nL 2275 4375 \nL 2775 4375 \nL 2775 100 \nz\nM 2275 1500 \nQ 2275 1975 2062 2250 \nQ 1850 2525 1550 2525 \nQ 1175 2525 987 2250 \nQ 800 1975 800 1500 \nQ 800 1025 987 762 \nQ 1175 500 1550 500 \nQ 1850 500 2062 762 \nQ 2275 1025 2275 1500 \nz\n\" transform=\"scale(0.015625)\"/>\n       <path id=\"SimHei-28\" d=\"M 3000 -225 \nL 2725 -500 \nQ 2100 100 1787 750 \nQ 1475 1400 1475 2225 \nQ 1475 3050 1787 3700 \nQ 2100 4350 2725 4975 \nL 3000 4700 \nQ 2425 4150 2137 3562 \nQ 1850 2975 1850 2225 \nQ 1850 1475 2137 887 \nQ 2425 300 3000 -225 \nz\n\" transform=\"scale(0.015625)\"/>\n       <path id=\"SimHei-29\" d=\"M 1700 2225 \nQ 1700 1400 1387 750 \nQ 1075 100 450 -500 \nL 175 -225 \nQ 750 300 1037 887 \nQ 1325 1475 1325 2225 \nQ 1325 2975 1037 3562 \nQ 750 4150 175 4700 \nL 450 4975 \nQ 1075 4350 1387 3700 \nQ 1700 3050 1700 2225 \nz\n\" transform=\"scale(0.015625)\"/>\n      </defs>\n      <use xlink:href=\"#SimHei-73\"/>\n      <use xlink:href=\"#SimHei-69\" x=\"50\"/>\n      <use xlink:href=\"#SimHei-67\" x=\"100\"/>\n      <use xlink:href=\"#SimHei-6d\" x=\"150\"/>\n      <use xlink:href=\"#SimHei-6f\" x=\"200\"/>\n      <use xlink:href=\"#SimHei-69\" x=\"250\"/>\n      <use xlink:href=\"#SimHei-64\" x=\"300\"/>\n      <use xlink:href=\"#SimHei-28\" x=\"350\"/>\n      <use xlink:href=\"#SimHei-78\" x=\"400\"/>\n      <use xlink:href=\"#SimHei-29\" x=\"450\"/>\n     </g>\n    </g>\n   </g>\n   <g id=\"line2d_31\">\n    <path d=\"M 54.944318 136.922727 \nL 82.062669 136.737576 \nL 94.824251 136.460985 \nL 104.395433 136.050351 \nL 112.371419 135.464716 \nL 118.75221 134.740503 \nL 123.537801 133.981298 \nL 128.323392 132.971411 \nL 131.513788 132.122022 \nL 134.704183 131.100797 \nL 137.894578 129.877043 \nL 141.08497 128.416417 \nL 144.275365 126.68132 \nL 147.46576 124.631763 \nL 150.656156 122.226805 \nL 153.846549 119.426754 \nL 157.036945 116.196162 \nL 160.22734 112.507641 \nL 163.417733 108.346273 \nL 166.608129 103.714222 \nL 169.798523 98.634885 \nL 172.988918 93.155705 \nL 177.77451 84.35135 \nL 192.131286 57.139934 \nL 195.32168 51.660754 \nL 198.512075 46.581413 \nL 201.70247 41.949361 \nL 204.892863 37.787994 \nL 208.083259 34.09948 \nL 211.273654 30.868895 \nL 214.464048 28.068841 \nL 217.654443 25.663874 \nL 220.844838 23.614318 \nL 224.035234 21.879222 \nL 227.225629 20.418596 \nL 230.416021 19.194841 \nL 233.606416 18.173619 \nL 238.392007 16.955406 \nL 243.177598 16.036702 \nL 247.963189 15.346978 \nL 254.34398 14.689795 \nL 262.319966 14.158904 \nL 271.891149 13.786942 \nL 284.65273 13.536533 \nL 305.39029 13.38742 \nL 308.580682 13.377273 \nL 308.580682 13.377273 \n\" clip-path=\"url(#p1a72aaa9c5)\" style=\"fill: none; stroke: #1f77b4; stroke-width: 1.5; stroke-linecap: square\"/>\n   </g>\n   <g id=\"patch_3\">\n    <path d=\"M 42.2625 143.1 \nL 42.2625 7.2 \n\" style=\"fill: none; stroke: #000000; stroke-width: 0.8; stroke-linejoin: miter; stroke-linecap: square\"/>\n   </g>\n   <g id=\"patch_4\">\n    <path d=\"M 321.2625 143.1 \nL 321.2625 7.2 \n\" style=\"fill: none; stroke: #000000; stroke-width: 0.8; stroke-linejoin: miter; stroke-linecap: square\"/>\n   </g>\n   <g id=\"patch_5\">\n    <path d=\"M 42.2625 143.1 \nL 321.2625 143.1 \n\" style=\"fill: none; stroke: #000000; stroke-width: 0.8; stroke-linejoin: miter; stroke-linecap: square\"/>\n   </g>\n   <g id=\"patch_6\">\n    <path d=\"M 42.2625 7.2 \nL 321.2625 7.2 \n\" style=\"fill: none; stroke: #000000; stroke-width: 0.8; stroke-linejoin: miter; stroke-linecap: square\"/>\n   </g>\n  </g>\n </g>\n <defs>\n  <clipPath id=\"p1a72aaa9c5\">\n   <rect x=\"42.2625\" y=\"7.2\" width=\"279\" height=\"135.9\"/>\n  </clipPath>\n </defs>\n</svg>\n",
      "text/plain": [
       "<Figure size 360x180 with 1 Axes>"
      ]
     },
     "metadata": {
      "needs_background": "light"
     },
     "output_type": "display_data"
    }
   ],
   "source": [
    "%matplotlib inline\n",
    "import numpy as np\n",
    "from matplotlib import pyplot as plt\n",
    "import torch\n",
    "from torch_book.vision.mp_plot import plot\n",
    "\n",
    "x = torch.arange(-8.0, 8.0, 0.1, requires_grad=True)\n",
    "y = torch.sigmoid(x)\n",
    "plot(x.detach(), y.detach(), 'x', 'sigmoid(x)', figsize=(5, 2.5))"
   ]
  },
  {
   "cell_type": "markdown",
   "metadata": {},
   "source": [
    "sigmoid 函数特性：\n",
    "\n",
    "$$\n",
    "\\operatorname{sigmoid}(x) + \\operatorname{sigmoid}(-x) = 1\n",
    "$$\n",
    "\n",
    "sigmoid 函数的导数为下面的公式：\n",
    "\n",
    "$$\n",
    "\\frac{\\operatorname{d}}{\\operatorname{d} x} \\operatorname{sigmoid}(x) = \\frac{\\exp(-x)}{(1 + \\exp(-x))^2} = \\operatorname{sigmoid}(x)\\left(1-\\operatorname{sigmoid}(x)\\right) = \\operatorname{sigmoid}(x)\\operatorname{sigmoid}(-x)\n",
    "$$\n",
    "\n",
    "可视化导函数："
   ]
  },
  {
   "cell_type": "code",
   "execution_count": 2,
   "metadata": {},
   "outputs": [
    {
     "data": {
      "image/svg+xml": "<?xml version=\"1.0\" encoding=\"utf-8\" standalone=\"no\"?>\n<!DOCTYPE svg PUBLIC \"-//W3C//DTD SVG 1.1//EN\"\n  \"http://www.w3.org/Graphics/SVG/1.1/DTD/svg11.dtd\">\n<svg xmlns:xlink=\"http://www.w3.org/1999/xlink\" width=\"333.775pt\" height=\"177.55pt\" viewBox=\"0 0 333.775 177.55\" xmlns=\"http://www.w3.org/2000/svg\" version=\"1.1\">\n <metadata>\n  <rdf:RDF xmlns:dc=\"http://purl.org/dc/elements/1.1/\" xmlns:cc=\"http://creativecommons.org/ns#\" xmlns:rdf=\"http://www.w3.org/1999/02/22-rdf-syntax-ns#\">\n   <cc:Work>\n    <dc:type rdf:resource=\"http://purl.org/dc/dcmitype/StillImage\"/>\n    <dc:date>2022-10-22T16:53:23.591650</dc:date>\n    <dc:format>image/svg+xml</dc:format>\n    <dc:creator>\n     <cc:Agent>\n      <dc:title>Matplotlib v3.5.1, https://matplotlib.org/</dc:title>\n     </cc:Agent>\n    </dc:creator>\n   </cc:Work>\n  </rdf:RDF>\n </metadata>\n <defs>\n  <style type=\"text/css\">*{stroke-linejoin: round; stroke-linecap: butt}</style>\n </defs>\n <g id=\"figure_1\">\n  <g id=\"patch_1\">\n   <path d=\"M 0 177.55 \nL 333.775 177.55 \nL 333.775 0 \nL 0 0 \nL 0 177.55 \nz\n\" style=\"fill: none\"/>\n  </g>\n  <g id=\"axes_1\">\n   <g id=\"patch_2\">\n    <path d=\"M 47.575 143.1 \nL 326.575 143.1 \nL 326.575 7.2 \nL 47.575 7.2 \nz\n\" style=\"fill: #ffffff\"/>\n   </g>\n   <g id=\"matplotlib.axis_1\">\n    <g id=\"xtick_1\">\n     <g id=\"line2d_1\">\n      <path d=\"M 60.256818 143.1 \nL 60.256818 7.2 \n\" clip-path=\"url(#p118334c3ab)\" style=\"fill: none; stroke: #b0b0b0; stroke-width: 0.8; stroke-linecap: square\"/>\n     </g>\n     <g id=\"line2d_2\">\n      <defs>\n       <path id=\"m1a29e8f98e\" d=\"M 0 0 \nL 0 3.5 \n\" style=\"stroke: #000000; stroke-width: 0.8\"/>\n      </defs>\n      <g>\n       <use xlink:href=\"#m1a29e8f98e\" x=\"60.256818\" y=\"143.1\" style=\"stroke: #000000; stroke-width: 0.8\"/>\n      </g>\n     </g>\n     <g id=\"text_1\">\n      <!-- -8 -->\n      <g transform=\"translate(55.256818 156.935938)scale(0.1 -0.1)\">\n       <defs>\n        <path id=\"SimHei-2d\" d=\"M 3000 2100 \nL 150 2100 \nL 150 2500 \nL 3000 2500 \nL 3000 2100 \nz\n\" transform=\"scale(0.015625)\"/>\n        <path id=\"SimHei-38\" d=\"M 2875 1325 \nQ 2875 700 2525 375 \nQ 2175 50 1575 50 \nQ 975 50 625 375 \nQ 275 700 275 1325 \nQ 275 1650 475 1912 \nQ 675 2175 1025 2300 \nQ 725 2425 562 2650 \nQ 400 2875 400 3225 \nQ 400 3775 750 4100 \nQ 1100 4425 1575 4425 \nQ 2050 4425 2400 4100 \nQ 2750 3775 2750 3225 \nQ 2750 2875 2587 2650 \nQ 2425 2425 2125 2300 \nQ 2475 2175 2675 1912 \nQ 2875 1650 2875 1325 \nz\nM 2200 3225 \nQ 2200 3625 2025 3800 \nQ 1850 3975 1575 3975 \nQ 1300 3975 1125 3800 \nQ 950 3625 950 3225 \nQ 950 2825 1137 2662 \nQ 1325 2500 1575 2500 \nQ 1825 2500 2012 2662 \nQ 2200 2825 2200 3225 \nz\nM 2300 1325 \nQ 2300 1675 2112 1875 \nQ 1925 2075 1575 2075 \nQ 1225 2075 1037 1875 \nQ 850 1675 850 1325 \nQ 850 925 1050 712 \nQ 1250 500 1575 500 \nQ 1900 500 2100 712 \nQ 2300 925 2300 1325 \nz\n\" transform=\"scale(0.015625)\"/>\n       </defs>\n       <use xlink:href=\"#SimHei-2d\"/>\n       <use xlink:href=\"#SimHei-38\" x=\"50\"/>\n      </g>\n     </g>\n    </g>\n    <g id=\"xtick_2\">\n     <g id=\"line2d_3\">\n      <path d=\"M 92.160764 143.1 \nL 92.160764 7.2 \n\" clip-path=\"url(#p118334c3ab)\" style=\"fill: none; stroke: #b0b0b0; stroke-width: 0.8; stroke-linecap: square\"/>\n     </g>\n     <g id=\"line2d_4\">\n      <g>\n       <use xlink:href=\"#m1a29e8f98e\" x=\"92.160764\" y=\"143.1\" style=\"stroke: #000000; stroke-width: 0.8\"/>\n      </g>\n     </g>\n     <g id=\"text_2\">\n      <!-- -6 -->\n      <g transform=\"translate(87.160764 156.935938)scale(0.1 -0.1)\">\n       <defs>\n        <path id=\"SimHei-36\" d=\"M 2850 1550 \nQ 2850 850 2550 450 \nQ 2250 50 1650 50 \nQ 1050 50 700 550 \nQ 350 1050 350 2175 \nQ 350 3200 712 3812 \nQ 1075 4425 1750 4425 \nQ 2225 4425 2512 4075 \nQ 2800 3725 2800 3300 \nL 2225 3300 \nQ 2225 3550 2087 3750 \nQ 1950 3950 1725 3950 \nQ 1350 3950 1150 3562 \nQ 950 3175 925 2375 \nQ 1100 2700 1300 2825 \nQ 1500 2950 1775 2950 \nQ 2250 2950 2550 2575 \nQ 2850 2200 2850 1550 \nz\nM 2250 1550 \nQ 2250 2000 2100 2250 \nQ 1950 2500 1675 2500 \nQ 1350 2500 1162 2250 \nQ 975 2000 975 1650 \nQ 975 1100 1162 800 \nQ 1350 500 1675 500 \nQ 1900 500 2075 725 \nQ 2250 950 2250 1550 \nz\n\" transform=\"scale(0.015625)\"/>\n       </defs>\n       <use xlink:href=\"#SimHei-2d\"/>\n       <use xlink:href=\"#SimHei-36\" x=\"50\"/>\n      </g>\n     </g>\n    </g>\n    <g id=\"xtick_3\">\n     <g id=\"line2d_5\">\n      <path d=\"M 124.06471 143.1 \nL 124.06471 7.2 \n\" clip-path=\"url(#p118334c3ab)\" style=\"fill: none; stroke: #b0b0b0; stroke-width: 0.8; stroke-linecap: square\"/>\n     </g>\n     <g id=\"line2d_6\">\n      <g>\n       <use xlink:href=\"#m1a29e8f98e\" x=\"124.06471\" y=\"143.1\" style=\"stroke: #000000; stroke-width: 0.8\"/>\n      </g>\n     </g>\n     <g id=\"text_3\">\n      <!-- -4 -->\n      <g transform=\"translate(119.06471 156.935938)scale(0.1 -0.1)\">\n       <defs>\n        <path id=\"SimHei-34\" d=\"M 2975 1200 \nL 2450 1200 \nL 2450 100 \nL 1875 100 \nL 1875 1200 \nL 200 1200 \nL 200 1675 \nL 1875 4425 \nL 2450 4425 \nL 2450 1675 \nL 2975 1675 \nL 2975 1200 \nz\nM 1875 1675 \nL 1875 3525 \nL 750 1675 \nL 1875 1675 \nz\n\" transform=\"scale(0.015625)\"/>\n       </defs>\n       <use xlink:href=\"#SimHei-2d\"/>\n       <use xlink:href=\"#SimHei-34\" x=\"50\"/>\n      </g>\n     </g>\n    </g>\n    <g id=\"xtick_4\">\n     <g id=\"line2d_7\">\n      <path d=\"M 155.968656 143.1 \nL 155.968656 7.2 \n\" clip-path=\"url(#p118334c3ab)\" style=\"fill: none; stroke: #b0b0b0; stroke-width: 0.8; stroke-linecap: square\"/>\n     </g>\n     <g id=\"line2d_8\">\n      <g>\n       <use xlink:href=\"#m1a29e8f98e\" x=\"155.968656\" y=\"143.1\" style=\"stroke: #000000; stroke-width: 0.8\"/>\n      </g>\n     </g>\n     <g id=\"text_4\">\n      <!-- -2 -->\n      <g transform=\"translate(150.968656 156.935938)scale(0.1 -0.1)\">\n       <defs>\n        <path id=\"SimHei-32\" d=\"M 2850 100 \nL 300 100 \nL 300 500 \nQ 450 900 712 1237 \nQ 975 1575 1475 2000 \nQ 1850 2325 2012 2600 \nQ 2175 2875 2175 3200 \nQ 2175 3525 2037 3737 \nQ 1900 3950 1600 3950 \nQ 1350 3950 1162 3725 \nQ 975 3500 975 2925 \nL 400 2925 \nQ 425 3650 737 4037 \nQ 1050 4425 1625 4425 \nQ 2175 4425 2475 4087 \nQ 2775 3750 2775 3175 \nQ 2775 2700 2500 2350 \nQ 2225 2000 1825 1650 \nQ 1375 1250 1200 1050 \nQ 1025 850 875 575 \nL 2850 575 \nL 2850 100 \nz\n\" transform=\"scale(0.015625)\"/>\n       </defs>\n       <use xlink:href=\"#SimHei-2d\"/>\n       <use xlink:href=\"#SimHei-32\" x=\"50\"/>\n      </g>\n     </g>\n    </g>\n    <g id=\"xtick_5\">\n     <g id=\"line2d_9\">\n      <path d=\"M 187.872602 143.1 \nL 187.872602 7.2 \n\" clip-path=\"url(#p118334c3ab)\" style=\"fill: none; stroke: #b0b0b0; stroke-width: 0.8; stroke-linecap: square\"/>\n     </g>\n     <g id=\"line2d_10\">\n      <g>\n       <use xlink:href=\"#m1a29e8f98e\" x=\"187.872602\" y=\"143.1\" style=\"stroke: #000000; stroke-width: 0.8\"/>\n      </g>\n     </g>\n     <g id=\"text_5\">\n      <!-- 0 -->\n      <g transform=\"translate(185.372602 156.935938)scale(0.1 -0.1)\">\n       <defs>\n        <path id=\"SimHei-30\" d=\"M 2975 2250 \nQ 2975 1350 2650 700 \nQ 2325 50 1600 50 \nQ 875 50 537 700 \nQ 200 1350 200 2250 \nQ 200 3150 537 3787 \nQ 875 4425 1600 4425 \nQ 2325 4425 2650 3787 \nQ 2975 3150 2975 2250 \nz\nM 2375 2250 \nQ 2375 3050 2187 3500 \nQ 2000 3950 1600 3950 \nQ 1200 3950 1000 3500 \nQ 800 3050 800 2250 \nQ 800 1450 1000 987 \nQ 1200 525 1600 525 \nQ 2000 525 2187 987 \nQ 2375 1450 2375 2250 \nz\n\" transform=\"scale(0.015625)\"/>\n       </defs>\n       <use xlink:href=\"#SimHei-30\"/>\n      </g>\n     </g>\n    </g>\n    <g id=\"xtick_6\">\n     <g id=\"line2d_11\">\n      <path d=\"M 219.776548 143.1 \nL 219.776548 7.2 \n\" clip-path=\"url(#p118334c3ab)\" style=\"fill: none; stroke: #b0b0b0; stroke-width: 0.8; stroke-linecap: square\"/>\n     </g>\n     <g id=\"line2d_12\">\n      <g>\n       <use xlink:href=\"#m1a29e8f98e\" x=\"219.776548\" y=\"143.1\" style=\"stroke: #000000; stroke-width: 0.8\"/>\n      </g>\n     </g>\n     <g id=\"text_6\">\n      <!-- 2 -->\n      <g transform=\"translate(217.276548 156.935938)scale(0.1 -0.1)\">\n       <use xlink:href=\"#SimHei-32\"/>\n      </g>\n     </g>\n    </g>\n    <g id=\"xtick_7\">\n     <g id=\"line2d_13\">\n      <path d=\"M 251.680493 143.1 \nL 251.680493 7.2 \n\" clip-path=\"url(#p118334c3ab)\" style=\"fill: none; stroke: #b0b0b0; stroke-width: 0.8; stroke-linecap: square\"/>\n     </g>\n     <g id=\"line2d_14\">\n      <g>\n       <use xlink:href=\"#m1a29e8f98e\" x=\"251.680493\" y=\"143.1\" style=\"stroke: #000000; stroke-width: 0.8\"/>\n      </g>\n     </g>\n     <g id=\"text_7\">\n      <!-- 4 -->\n      <g transform=\"translate(249.180493 156.935938)scale(0.1 -0.1)\">\n       <use xlink:href=\"#SimHei-34\"/>\n      </g>\n     </g>\n    </g>\n    <g id=\"xtick_8\">\n     <g id=\"line2d_15\">\n      <path d=\"M 283.584439 143.1 \nL 283.584439 7.2 \n\" clip-path=\"url(#p118334c3ab)\" style=\"fill: none; stroke: #b0b0b0; stroke-width: 0.8; stroke-linecap: square\"/>\n     </g>\n     <g id=\"line2d_16\">\n      <g>\n       <use xlink:href=\"#m1a29e8f98e\" x=\"283.584439\" y=\"143.1\" style=\"stroke: #000000; stroke-width: 0.8\"/>\n      </g>\n     </g>\n     <g id=\"text_8\">\n      <!-- 6 -->\n      <g transform=\"translate(281.084439 156.935938)scale(0.1 -0.1)\">\n       <use xlink:href=\"#SimHei-36\"/>\n      </g>\n     </g>\n    </g>\n    <g id=\"xtick_9\">\n     <g id=\"line2d_17\">\n      <path d=\"M 315.488385 143.1 \nL 315.488385 7.2 \n\" clip-path=\"url(#p118334c3ab)\" style=\"fill: none; stroke: #b0b0b0; stroke-width: 0.8; stroke-linecap: square\"/>\n     </g>\n     <g id=\"line2d_18\">\n      <g>\n       <use xlink:href=\"#m1a29e8f98e\" x=\"315.488385\" y=\"143.1\" style=\"stroke: #000000; stroke-width: 0.8\"/>\n      </g>\n     </g>\n     <g id=\"text_9\">\n      <!-- 8 -->\n      <g transform=\"translate(312.988385 156.935938)scale(0.1 -0.1)\">\n       <use xlink:href=\"#SimHei-38\"/>\n      </g>\n     </g>\n    </g>\n    <g id=\"text_10\">\n     <!-- x -->\n     <g transform=\"translate(184.575 169.060938)scale(0.1 -0.1)\">\n      <defs>\n       <path id=\"SimHei-78\" d=\"M 2900 100 \nL 2300 100 \nL 1575 1175 \nL 850 100 \nL 250 100 \nL 1275 1525 \nL 325 2900 \nL 925 2900 \nL 1575 1850 \nL 2225 2900 \nL 2825 2900 \nL 1875 1525 \nL 2900 100 \nz\n\" transform=\"scale(0.015625)\"/>\n      </defs>\n      <use xlink:href=\"#SimHei-78\"/>\n     </g>\n    </g>\n   </g>\n   <g id=\"matplotlib.axis_2\">\n    <g id=\"ytick_1\">\n     <g id=\"line2d_19\">\n      <path d=\"M 47.575 137.088618 \nL 326.575 137.088618 \n\" clip-path=\"url(#p118334c3ab)\" style=\"fill: none; stroke: #b0b0b0; stroke-width: 0.8; stroke-linecap: square\"/>\n     </g>\n     <g id=\"line2d_20\">\n      <defs>\n       <path id=\"m257468731d\" d=\"M 0 0 \nL -3.5 0 \n\" style=\"stroke: #000000; stroke-width: 0.8\"/>\n      </defs>\n      <g>\n       <use xlink:href=\"#m257468731d\" x=\"47.575\" y=\"137.088618\" style=\"stroke: #000000; stroke-width: 0.8\"/>\n      </g>\n     </g>\n     <g id=\"text_11\">\n      <!-- 0.00 -->\n      <g transform=\"translate(20.575 140.506587)scale(0.1 -0.1)\">\n       <defs>\n        <path id=\"SimHei-2e\" d=\"M 1100 100 \nL 525 100 \nL 525 650 \nL 1100 650 \nL 1100 100 \nz\n\" transform=\"scale(0.015625)\"/>\n       </defs>\n       <use xlink:href=\"#SimHei-30\"/>\n       <use xlink:href=\"#SimHei-2e\" x=\"50\"/>\n       <use xlink:href=\"#SimHei-30\" x=\"100\"/>\n       <use xlink:href=\"#SimHei-30\" x=\"150\"/>\n      </g>\n     </g>\n    </g>\n    <g id=\"ytick_2\">\n     <g id=\"line2d_21\">\n      <path d=\"M 47.575 112.346349 \nL 326.575 112.346349 \n\" clip-path=\"url(#p118334c3ab)\" style=\"fill: none; stroke: #b0b0b0; stroke-width: 0.8; stroke-linecap: square\"/>\n     </g>\n     <g id=\"line2d_22\">\n      <g>\n       <use xlink:href=\"#m257468731d\" x=\"47.575\" y=\"112.346349\" style=\"stroke: #000000; stroke-width: 0.8\"/>\n      </g>\n     </g>\n     <g id=\"text_12\">\n      <!-- 0.05 -->\n      <g transform=\"translate(20.575 115.764318)scale(0.1 -0.1)\">\n       <defs>\n        <path id=\"SimHei-35\" d=\"M 2825 1650 \nQ 2825 900 2462 475 \nQ 2100 50 1500 50 \nQ 975 50 637 400 \nQ 300 750 275 1350 \nL 850 1350 \nQ 850 975 1025 750 \nQ 1200 525 1525 525 \nQ 1850 525 2037 800 \nQ 2225 1075 2225 1650 \nQ 2225 2150 2062 2387 \nQ 1900 2625 1625 2625 \nQ 1400 2625 1237 2525 \nQ 1075 2425 925 2175 \nL 425 2175 \nL 575 4375 \nL 2725 4375 \nL 2725 3900 \nL 1050 3900 \nL 950 2750 \nQ 1100 2900 1275 2975 \nQ 1450 3050 1750 3050 \nQ 2225 3050 2525 2687 \nQ 2825 2325 2825 1650 \nz\n\" transform=\"scale(0.015625)\"/>\n       </defs>\n       <use xlink:href=\"#SimHei-30\"/>\n       <use xlink:href=\"#SimHei-2e\" x=\"50\"/>\n       <use xlink:href=\"#SimHei-30\" x=\"100\"/>\n       <use xlink:href=\"#SimHei-35\" x=\"150\"/>\n      </g>\n     </g>\n    </g>\n    <g id=\"ytick_3\">\n     <g id=\"line2d_23\">\n      <path d=\"M 47.575 87.60408 \nL 326.575 87.60408 \n\" clip-path=\"url(#p118334c3ab)\" style=\"fill: none; stroke: #b0b0b0; stroke-width: 0.8; stroke-linecap: square\"/>\n     </g>\n     <g id=\"line2d_24\">\n      <g>\n       <use xlink:href=\"#m257468731d\" x=\"47.575\" y=\"87.60408\" style=\"stroke: #000000; stroke-width: 0.8\"/>\n      </g>\n     </g>\n     <g id=\"text_13\">\n      <!-- 0.10 -->\n      <g transform=\"translate(20.575 91.022049)scale(0.1 -0.1)\">\n       <defs>\n        <path id=\"SimHei-31\" d=\"M 1950 100 \nL 1375 100 \nL 1375 3425 \nL 625 3425 \nL 625 3725 \nQ 1075 3725 1325 3900 \nQ 1575 4075 1650 4425 \nL 1950 4425 \nL 1950 100 \nz\n\" transform=\"scale(0.015625)\"/>\n       </defs>\n       <use xlink:href=\"#SimHei-30\"/>\n       <use xlink:href=\"#SimHei-2e\" x=\"50\"/>\n       <use xlink:href=\"#SimHei-31\" x=\"100\"/>\n       <use xlink:href=\"#SimHei-30\" x=\"150\"/>\n      </g>\n     </g>\n    </g>\n    <g id=\"ytick_4\">\n     <g id=\"line2d_25\">\n      <path d=\"M 47.575 62.861811 \nL 326.575 62.861811 \n\" clip-path=\"url(#p118334c3ab)\" style=\"fill: none; stroke: #b0b0b0; stroke-width: 0.8; stroke-linecap: square\"/>\n     </g>\n     <g id=\"line2d_26\">\n      <g>\n       <use xlink:href=\"#m257468731d\" x=\"47.575\" y=\"62.861811\" style=\"stroke: #000000; stroke-width: 0.8\"/>\n      </g>\n     </g>\n     <g id=\"text_14\">\n      <!-- 0.15 -->\n      <g transform=\"translate(20.575 66.27978)scale(0.1 -0.1)\">\n       <use xlink:href=\"#SimHei-30\"/>\n       <use xlink:href=\"#SimHei-2e\" x=\"50\"/>\n       <use xlink:href=\"#SimHei-31\" x=\"100\"/>\n       <use xlink:href=\"#SimHei-35\" x=\"150\"/>\n      </g>\n     </g>\n    </g>\n    <g id=\"ytick_5\">\n     <g id=\"line2d_27\">\n      <path d=\"M 47.575 38.119542 \nL 326.575 38.119542 \n\" clip-path=\"url(#p118334c3ab)\" style=\"fill: none; stroke: #b0b0b0; stroke-width: 0.8; stroke-linecap: square\"/>\n     </g>\n     <g id=\"line2d_28\">\n      <g>\n       <use xlink:href=\"#m257468731d\" x=\"47.575\" y=\"38.119542\" style=\"stroke: #000000; stroke-width: 0.8\"/>\n      </g>\n     </g>\n     <g id=\"text_15\">\n      <!-- 0.20 -->\n      <g transform=\"translate(20.575 41.537511)scale(0.1 -0.1)\">\n       <use xlink:href=\"#SimHei-30\"/>\n       <use xlink:href=\"#SimHei-2e\" x=\"50\"/>\n       <use xlink:href=\"#SimHei-32\" x=\"100\"/>\n       <use xlink:href=\"#SimHei-30\" x=\"150\"/>\n      </g>\n     </g>\n    </g>\n    <g id=\"ytick_6\">\n     <g id=\"line2d_29\">\n      <path d=\"M 47.575 13.377273 \nL 326.575 13.377273 \n\" clip-path=\"url(#p118334c3ab)\" style=\"fill: none; stroke: #b0b0b0; stroke-width: 0.8; stroke-linecap: square\"/>\n     </g>\n     <g id=\"line2d_30\">\n      <g>\n       <use xlink:href=\"#m257468731d\" x=\"47.575\" y=\"13.377273\" style=\"stroke: #000000; stroke-width: 0.8\"/>\n      </g>\n     </g>\n     <g id=\"text_16\">\n      <!-- 0.25 -->\n      <g transform=\"translate(20.575 16.795241)scale(0.1 -0.1)\">\n       <use xlink:href=\"#SimHei-30\"/>\n       <use xlink:href=\"#SimHei-2e\" x=\"50\"/>\n       <use xlink:href=\"#SimHei-32\" x=\"100\"/>\n       <use xlink:href=\"#SimHei-35\" x=\"150\"/>\n      </g>\n     </g>\n    </g>\n    <g id=\"text_17\">\n     <!-- sigmoid 导函数 -->\n     <g transform=\"translate(15.285938 110.15)rotate(-90)scale(0.1 -0.1)\">\n      <defs>\n       <path id=\"SimHei-73\" d=\"M 2775 875 \nQ 2775 475 2462 262 \nQ 2150 50 1675 50 \nQ 1075 50 750 287 \nQ 425 525 425 975 \nL 925 975 \nQ 925 675 1137 575 \nQ 1350 475 1650 475 \nQ 1950 475 2100 587 \nQ 2250 700 2250 875 \nQ 2250 1000 2125 1125 \nQ 2000 1250 1500 1325 \nQ 925 1400 712 1612 \nQ 500 1825 500 2175 \nQ 500 2475 787 2712 \nQ 1075 2950 1625 2950 \nQ 2125 2950 2412 2725 \nQ 2700 2500 2700 2125 \nL 2200 2125 \nQ 2200 2350 2037 2437 \nQ 1875 2525 1625 2525 \nQ 1300 2525 1162 2412 \nQ 1025 2300 1025 2150 \nQ 1025 1975 1150 1875 \nQ 1275 1775 1675 1725 \nQ 2325 1625 2550 1412 \nQ 2775 1200 2775 875 \nz\n\" transform=\"scale(0.015625)\"/>\n       <path id=\"SimHei-69\" d=\"M 1825 3700 \nL 1325 3700 \nL 1325 4350 \nL 1825 4350 \nL 1825 3700 \nz\nM 1825 100 \nL 1325 100 \nL 1325 2900 \nL 1825 2900 \nL 1825 100 \nz\n\" transform=\"scale(0.015625)\"/>\n       <path id=\"SimHei-67\" d=\"M 3000 2475 \nQ 2825 2525 2662 2537 \nQ 2500 2550 2325 2500 \nQ 2400 2425 2450 2312 \nQ 2500 2200 2500 1975 \nQ 2500 1550 2212 1275 \nQ 1925 1000 1500 1000 \nQ 1400 1000 1237 1037 \nQ 1075 1075 975 1125 \nQ 900 1075 875 1025 \nQ 850 975 850 900 \nQ 850 775 1025 712 \nQ 1200 650 1650 650 \nQ 2375 650 2637 450 \nQ 2900 250 2900 -50 \nQ 2900 -450 2512 -637 \nQ 2125 -825 1600 -825 \nQ 925 -825 600 -650 \nQ 275 -475 275 -175 \nQ 275 -25 400 125 \nQ 525 275 725 375 \nQ 575 450 487 562 \nQ 400 675 400 850 \nQ 400 1000 512 1112 \nQ 625 1225 775 1300 \nQ 650 1425 575 1600 \nQ 500 1775 500 1975 \nQ 500 2400 787 2675 \nQ 1075 2950 1500 2950 \nQ 1725 2950 1887 2887 \nQ 2050 2825 2175 2700 \nQ 2375 2850 2575 2912 \nQ 2775 2975 3000 2950 \nL 3000 2475 \nz\nM 2000 1975 \nQ 2000 2225 1875 2375 \nQ 1750 2525 1500 2525 \nQ 1250 2525 1125 2375 \nQ 1000 2225 1000 1975 \nQ 1000 1725 1125 1575 \nQ 1250 1425 1500 1425 \nQ 1750 1425 1875 1575 \nQ 2000 1725 2000 1975 \nz\nM 2425 -100 \nQ 2425 0 2312 100 \nQ 2200 200 1750 200 \nQ 1650 200 1475 212 \nQ 1300 225 1075 250 \nQ 875 175 800 75 \nQ 725 -25 725 -125 \nQ 725 -275 925 -375 \nQ 1125 -475 1625 -475 \nQ 2050 -475 2237 -362 \nQ 2425 -250 2425 -100 \nz\n\" transform=\"scale(0.015625)\"/>\n       <path id=\"SimHei-6d\" d=\"M 3075 100 \nL 2575 100 \nL 2575 2125 \nQ 2575 2275 2525 2375 \nQ 2475 2475 2325 2475 \nQ 2150 2475 2000 2287 \nQ 1850 2100 1850 1800 \nL 1850 100 \nL 1350 100 \nL 1350 2125 \nQ 1350 2275 1300 2375 \nQ 1250 2475 1100 2475 \nQ 925 2475 775 2287 \nQ 625 2100 625 1800 \nL 625 100 \nL 125 100 \nL 125 2900 \nL 625 2900 \nL 625 2525 \nQ 750 2725 925 2837 \nQ 1100 2950 1300 2950 \nQ 1500 2950 1637 2837 \nQ 1775 2725 1825 2525 \nQ 1950 2725 2112 2837 \nQ 2275 2950 2475 2950 \nQ 2775 2950 2925 2787 \nQ 3075 2625 3075 2325 \nL 3075 100 \nz\n\" transform=\"scale(0.015625)\"/>\n       <path id=\"SimHei-6f\" d=\"M 2950 1500 \nQ 2950 850 2550 450 \nQ 2150 50 1600 50 \nQ 1050 50 650 450 \nQ 250 850 250 1500 \nQ 250 2150 650 2550 \nQ 1050 2950 1600 2950 \nQ 2150 2950 2550 2550 \nQ 2950 2150 2950 1500 \nz\nM 2400 1500 \nQ 2400 2000 2150 2250 \nQ 1900 2500 1600 2500 \nQ 1300 2500 1050 2250 \nQ 800 2000 800 1500 \nQ 800 1000 1050 750 \nQ 1300 500 1600 500 \nQ 1900 500 2150 750 \nQ 2400 1000 2400 1500 \nz\n\" transform=\"scale(0.015625)\"/>\n       <path id=\"SimHei-64\" d=\"M 2775 100 \nL 2275 100 \nL 2275 475 \nQ 2125 250 1925 150 \nQ 1725 50 1450 50 \nQ 950 50 600 412 \nQ 250 775 250 1500 \nQ 250 2225 600 2600 \nQ 950 2975 1450 2975 \nQ 1725 2975 1925 2862 \nQ 2125 2750 2275 2525 \nL 2275 4375 \nL 2775 4375 \nL 2775 100 \nz\nM 2275 1500 \nQ 2275 1975 2062 2250 \nQ 1850 2525 1550 2525 \nQ 1175 2525 987 2250 \nQ 800 1975 800 1500 \nQ 800 1025 987 762 \nQ 1175 500 1550 500 \nQ 1850 500 2062 762 \nQ 2275 1025 2275 1500 \nz\n\" transform=\"scale(0.015625)\"/>\n       <path id=\"SimHei-20\" transform=\"scale(0.015625)\"/>\n       <path id=\"SimHei-5bfc\" d=\"M 1675 4475 \nL 1675 3800 \nL 4675 3800 \nL 4675 4475 \nL 1675 4475 \nz\nM 1525 875 \nQ 1775 975 2075 1100 \nQ 2175 925 2500 150 \nQ 2175 50 1925 -75 \nQ 1800 375 1525 875 \nz\nM 300 1675 \nQ 775 1650 1325 1650 \nL 4225 1650 \nQ 4225 1825 4200 2150 \nL 4725 2150 \nQ 4700 1825 4700 1650 \nL 5175 1650 \nQ 5600 1650 6100 1675 \nL 6100 1225 \nQ 5600 1250 5175 1250 \nL 4700 1250 \nL 4700 300 \nQ 4700 -325 4387 -437 \nQ 4075 -550 3600 -625 \nQ 3525 -300 3400 -25 \nQ 4050 -25 4137 50 \nQ 4225 125 4225 525 \nL 4225 1250 \nL 1350 1250 \nQ 800 1250 300 1225 \nL 300 1675 \nz\nM 1200 4250 \nQ 1200 4550 1150 4875 \nL 5175 4875 \nQ 5150 4625 5150 4162 \nQ 5150 3700 5175 3400 \nL 1675 3400 \nL 1675 3050 \nQ 1675 2700 2125 2700 \nL 4700 2700 \nQ 5075 2700 5175 2800 \nQ 5275 2900 5325 3350 \nQ 5575 3150 5875 3050 \nQ 5675 2500 5550 2400 \nQ 5425 2300 5050 2300 \nL 1775 2300 \nQ 1200 2300 1200 2875 \nL 1200 4250 \nz\n\" transform=\"scale(0.015625)\"/>\n       <path id=\"SimHei-51fd\" d=\"M 1025 4650 \nQ 1475 4625 1900 4625 \nL 5350 4625 \nL 5350 4125 \nQ 4950 4025 4350 3775 \nQ 3750 3525 3425 3350 \nL 3425 1025 \nQ 3425 575 3150 500 \nQ 2875 425 2475 350 \nQ 2425 625 2300 925 \nQ 2700 900 2825 950 \nQ 2950 1000 2950 1275 \nL 2950 2925 \nQ 2950 3375 2900 3650 \nQ 3250 3750 3687 3925 \nQ 4125 4100 4325 4225 \nL 1900 4225 \nQ 1400 4225 1025 4200 \nL 1025 4650 \nz\nM 2575 2775 \nQ 2425 2600 2275 2425 \nQ 2100 2625 1912 2800 \nQ 1725 2975 1475 3175 \nQ 1625 3350 1750 3525 \nQ 1975 3325 2187 3125 \nQ 2400 2925 2575 2775 \nz\nM 2500 2100 \nQ 2550 1900 2650 1675 \nQ 2425 1525 2162 1350 \nQ 1900 1175 1575 900 \nQ 1450 1100 1275 1350 \nQ 1625 1525 1925 1700 \nQ 2225 1875 2500 2100 \nz\nM 4525 3400 \nQ 4700 3200 4900 3025 \nQ 4725 2950 4475 2775 \nQ 4225 2600 3950 2400 \nQ 3800 2575 3650 2725 \nQ 3925 2900 4112 3037 \nQ 4300 3175 4525 3400 \nz\nM 3575 1725 \nQ 3750 1900 3900 2050 \nQ 4100 1900 4350 1700 \nQ 4600 1500 4875 1250 \nQ 4700 1075 4525 850 \nQ 4300 1100 4112 1275 \nQ 3925 1450 3575 1725 \nz\nM 1225 2925 \nQ 1175 2650 1175 2350 \nL 1175 175 \nL 5125 175 \nL 5125 2100 \nQ 5125 2475 5075 2825 \nL 5600 2825 \nQ 5575 2375 5575 2100 \nL 5575 25 \nQ 5575 -300 5600 -625 \nL 5125 -625 \nL 5125 -250 \nL 650 -250 \nQ 700 25 700 1300 \nQ 700 2575 675 2925 \nL 1225 2925 \nz\n\" transform=\"scale(0.015625)\"/>\n       <path id=\"SimHei-6570\" d=\"M 700 4850 \nQ 950 4925 1100 5025 \nQ 1300 4700 1475 4375 \nQ 1250 4275 1075 4175 \nQ 925 4550 700 4850 \nz\nM 2875 5025 \nQ 3150 4900 3400 4800 \nQ 3250 4700 3150 4525 \nQ 3050 4350 2925 4125 \nQ 2725 4225 2525 4275 \nQ 2725 4600 2875 5025 \nz\nM 2450 3175 \nQ 2675 3275 2825 3425 \nQ 3125 3000 3325 2650 \nQ 3100 2550 2900 2400 \nQ 2700 2875 2450 3175 \nz\nM 525 3950 \nQ 925 3925 1800 3925 \nQ 1800 4650 1775 5175 \nL 2275 5175 \nQ 2250 4650 2250 3925 \nQ 3075 3925 3450 3950 \nL 3450 3500 \nQ 3075 3525 2250 3525 \nQ 2250 2950 2275 2525 \nL 1775 2525 \nQ 1800 2900 1800 3325 \nQ 1675 3075 1387 2787 \nQ 1100 2500 750 2300 \nQ 650 2525 425 2675 \nQ 650 2750 987 3000 \nQ 1325 3250 1475 3525 \nQ 950 3525 525 3500 \nL 525 3950 \nz\nM 1725 1550 \nQ 1600 1300 1450 1050 \nQ 1750 975 2250 850 \nQ 2425 1075 2575 1550 \nL 1725 1550 \nz\nM 1550 2450 \nQ 1825 2350 2100 2275 \nQ 2000 2175 1875 1950 \nL 2850 1950 \nL 3125 1950 \nQ 2975 1300 2700 725 \nQ 3125 600 3375 525 \nQ 3175 250 3075 25 \nQ 2850 175 2400 350 \nQ 1800 -250 600 -650 \nQ 500 -400 300 -250 \nQ 1375 0 2000 525 \nQ 1300 700 850 825 \nQ 1000 1025 1250 1550 \nQ 850 1550 300 1525 \nL 300 1975 \nQ 775 1950 1400 1950 \nQ 1475 2150 1550 2450 \nz\nM 4075 5150 \nQ 4375 5025 4700 4975 \nQ 4575 4825 4512 4625 \nQ 4450 4425 4350 4050 \nL 5475 4050 \nQ 5700 4050 6050 4075 \nL 6050 3625 \nQ 5775 3650 5600 3650 \nQ 5575 3125 5475 2262 \nQ 5375 1400 5000 750 \nQ 5250 400 5575 175 \nQ 5900 -50 6150 -150 \nQ 5800 -375 5700 -600 \nQ 5275 -300 5075 -87 \nQ 4875 125 4700 375 \nQ 4400 75 4137 -125 \nQ 3875 -325 3300 -650 \nQ 3175 -425 2900 -250 \nQ 3375 -75 3775 200 \nQ 4175 475 4450 775 \nQ 4175 1325 4025 1862 \nQ 3875 2400 3850 2625 \nQ 3800 2450 3725 2225 \nQ 3500 2325 3225 2425 \nQ 3525 2975 3775 3750 \nQ 4025 4525 4075 5150 \nz\nM 4250 3650 \nQ 4150 3400 4100 3237 \nQ 4050 3075 4287 2350 \nQ 4525 1625 4750 1225 \nQ 4975 1825 5062 2475 \nQ 5150 3125 5150 3650 \nL 4250 3650 \nz\n\" transform=\"scale(0.015625)\"/>\n      </defs>\n      <use xlink:href=\"#SimHei-73\"/>\n      <use xlink:href=\"#SimHei-69\" x=\"50\"/>\n      <use xlink:href=\"#SimHei-67\" x=\"100\"/>\n      <use xlink:href=\"#SimHei-6d\" x=\"150\"/>\n      <use xlink:href=\"#SimHei-6f\" x=\"200\"/>\n      <use xlink:href=\"#SimHei-69\" x=\"250\"/>\n      <use xlink:href=\"#SimHei-64\" x=\"300\"/>\n      <use xlink:href=\"#SimHei-20\" x=\"350\"/>\n      <use xlink:href=\"#SimHei-5bfc\" x=\"400\"/>\n      <use xlink:href=\"#SimHei-51fd\" x=\"500\"/>\n      <use xlink:href=\"#SimHei-6570\" x=\"600\"/>\n     </g>\n    </g>\n   </g>\n   <g id=\"line2d_31\">\n    <path d=\"M 60.256818 136.922727 \nL 76.208791 136.638199 \nL 85.779973 136.26913 \nL 93.75596 135.740413 \nL 100.136751 135.082727 \nL 104.922345 134.388643 \nL 109.707933 133.457984 \nL 112.898324 132.668631 \nL 116.088723 131.711514 \nL 119.279115 130.552846 \nL 122.469507 129.15292 \nL 125.659906 127.465526 \nL 128.850301 125.437529 \nL 132.040696 123.008771 \nL 135.231092 120.112511 \nL 138.421483 116.676734 \nL 141.611879 112.626646 \nL 144.802274 107.888924 \nL 147.992669 102.39812 \nL 151.183061 96.105742 \nL 154.373456 88.992273 \nL 157.563852 81.081894 \nL 160.754247 72.45897 \nL 165.53984 58.564138 \nL 171.920629 39.796107 \nL 175.111023 31.236391 \nL 176.706221 27.375027 \nL 178.301418 23.87579 \nL 179.896615 20.798118 \nL 181.491812 18.196696 \nL 183.08701 16.119549 \nL 184.682207 14.606178 \nL 186.277404 13.686027 \nL 187.872602 13.377273 \nL 189.467799 13.686035 \nL 191.062996 14.606185 \nL 192.658194 16.119549 \nL 194.253391 18.196696 \nL 195.848588 20.798118 \nL 197.443786 23.87579 \nL 199.038983 27.37502 \nL 200.63418 31.236391 \nL 203.824575 39.796115 \nL 208.610166 53.806965 \nL 213.395759 67.927146 \nL 216.586154 76.851396 \nL 219.776548 85.133007 \nL 222.966943 92.651352 \nL 226.157338 99.35419 \nL 229.347734 105.241217 \nL 232.538129 110.348108 \nL 235.728521 114.733159 \nL 238.918916 118.466706 \nL 242.109311 121.623505 \nL 245.299707 124.277258 \nL 248.490098 126.497666 \nL 251.680493 128.348296 \nL 254.870885 129.885771 \nL 258.061284 131.159691 \nL 261.251676 132.21301 \nL 264.442075 133.082384 \nL 269.22767 134.108142 \nL 274.013257 134.873661 \nL 280.39404 135.599466 \nL 286.774831 136.088434 \nL 294.750825 136.480971 \nL 305.917195 136.786478 \nL 313.893182 136.905286 \nL 313.893182 136.905286 \n\" clip-path=\"url(#p118334c3ab)\" style=\"fill: none; stroke: #1f77b4; stroke-width: 1.5; stroke-linecap: square\"/>\n   </g>\n   <g id=\"patch_3\">\n    <path d=\"M 47.575 143.1 \nL 47.575 7.2 \n\" style=\"fill: none; stroke: #000000; stroke-width: 0.8; stroke-linejoin: miter; stroke-linecap: square\"/>\n   </g>\n   <g id=\"patch_4\">\n    <path d=\"M 326.575 143.1 \nL 326.575 7.2 \n\" style=\"fill: none; stroke: #000000; stroke-width: 0.8; stroke-linejoin: miter; stroke-linecap: square\"/>\n   </g>\n   <g id=\"patch_5\">\n    <path d=\"M 47.575 143.1 \nL 326.575 143.1 \n\" style=\"fill: none; stroke: #000000; stroke-width: 0.8; stroke-linejoin: miter; stroke-linecap: square\"/>\n   </g>\n   <g id=\"patch_6\">\n    <path d=\"M 47.575 7.2 \nL 326.575 7.2 \n\" style=\"fill: none; stroke: #000000; stroke-width: 0.8; stroke-linejoin: miter; stroke-linecap: square\"/>\n   </g>\n  </g>\n </g>\n <defs>\n  <clipPath id=\"p118334c3ab\">\n   <rect x=\"47.575\" y=\"7.2\" width=\"279\" height=\"135.9\"/>\n  </clipPath>\n </defs>\n</svg>\n",
      "text/plain": [
       "<Figure size 360x180 with 1 Axes>"
      ]
     },
     "metadata": {
      "needs_background": "light"
     },
     "output_type": "display_data"
    }
   ],
   "source": [
    "y.backward(torch.ones_like(x), retain_graph=True)\n",
    "plot(x.detach(), x.grad, 'x', 'sigmoid 导函数', figsize=(5, 2.5))"
   ]
  },
  {
   "cell_type": "markdown",
   "metadata": {},
   "source": [
    "sigmoid 函数的泰勒展示式：\n",
    "\n",
    "$$\n",
    "\\operatorname{sigmoid}(x) = \\operatorname{sigmoid}(x_0)( 1 + \\operatorname{sigmoid}(-x_0) \\sum_{k=1}^{\\infty} \\cfrac{(x - x_0)^k}{k!})\n",
    "$$"
   ]
  },
  {
   "cell_type": "markdown",
   "metadata": {},
   "source": [
    "## 区间分划\n",
    "\n",
    "由于 sigmoid 函数关于 $y = 0.5$ 对称，故仅仅考虑 $x > 0$ 的部分即可。\n",
    "\n",
    "由 sigmoid 及其导函数图像可以看出：$x \\in [-6, 6]$ 的函数值以及导数值变化剧烈。依此可以将此范围外的函数值直接设定为极限值即可。\n",
    "\n",
    "```{note}\n",
    "对于 $n$ **分划**：\n",
    "\n",
    "$$\n",
    "\\Delta: a=x_0 < x_1 < \\cdots < x_n =b \n",
    "$$\n",
    "\n",
    "在每个子段 $[x_i, x_{i+1}]$ 构造插值多项式，并将其拼接起来，即 **分段插值**。\n",
    "\n",
    "若函数 $S_k(x)$ 在分划 $\\delta$ 的每个子段 $[x_i, x_{i+1}]$ 都是 $k$ 次多项式，则称 $S_k(x)$ 为具有分划 $\\delta$ 的 **分段 $k$ 次式**。点 $x_i$ （$i=0,1,\\cdots,n$）称作 $S_k(x)$ 的节点。\n",
    "```\n",
    "\n",
    "为了提高量化精度，在 $[0, 6]$ 上考虑分段插值。取 $n=10$，依据 sigmoid 导函数的变化趋势可设定 $S_k(x)$ 的节点为："
   ]
  },
  {
   "cell_type": "code",
   "execution_count": 3,
   "metadata": {},
   "outputs": [
    {
     "data": {
      "text/plain": [
       "11"
      ]
     },
     "execution_count": 3,
     "metadata": {},
     "output_type": "execute_result"
    }
   ],
   "source": [
    "nodes = 0, 0.25, 0.5, 0.75, 1, 2, 2.5, 3, 4, 5, 6\n",
    "len(nodes)"
   ]
  },
  {
   "cell_type": "code",
   "execution_count": 4,
   "metadata": {},
   "outputs": [
    {
     "data": {
      "text/plain": [
       "tensor([0.5000, 0.5622, 0.6225, 0.6792, 0.7311, 0.8808, 0.9241, 0.9526, 0.9820,\n",
       "        0.9933, 0.9975], grad_fn=<SigmoidBackward0>)"
      ]
     },
     "execution_count": 4,
     "metadata": {},
     "output_type": "execute_result"
    }
   ],
   "source": [
    "x = torch.tensor(nodes, requires_grad=True)\n",
    "y = torch.sigmoid(x)\n",
    "y"
   ]
  },
  {
   "cell_type": "code",
   "execution_count": 5,
   "metadata": {},
   "outputs": [
    {
     "data": {
      "text/plain": [
       "tensor([0.2500, 0.2461, 0.2350, 0.2179, 0.1966, 0.1050, 0.0701, 0.0452, 0.0177,\n",
       "        0.0066, 0.0025])"
      ]
     },
     "execution_count": 5,
     "metadata": {},
     "output_type": "execute_result"
    }
   ],
   "source": [
    "y.backward(torch.ones_like(x), retain_graph=True)\n",
    "x.grad"
   ]
  },
  {
   "cell_type": "markdown",
   "metadata": {},
   "source": [
    "## uint8 量化\n",
    "\n",
    "先看看简单的方案："
   ]
  },
  {
   "cell_type": "code",
   "execution_count": 6,
   "metadata": {},
   "outputs": [],
   "source": [
    "def Qz(v, s):\n",
    "    k = s * v - np.floor(v * s)\n",
    "    o = k > 0.5\n",
    "    return o.astype(\"int\")\n",
    "\n",
    "def Q(v, s):\n",
    "    x = np.floor(v * s) + Qz(v, s)\n",
    "    return x/s"
   ]
  },
  {
   "cell_type": "code",
   "execution_count": 7,
   "metadata": {},
   "outputs": [],
   "source": [
    "scale = (1 << 8) - 1\n",
    "with torch.no_grad():\n",
    "    qy = Q(y.numpy(), scale)\n",
    "    qy = torch.from_numpy(qy)"
   ]
  },
  {
   "cell_type": "code",
   "execution_count": 8,
   "metadata": {},
   "outputs": [],
   "source": [
    "from torch.ao.quantization.observer import MinMaxObserver, MovingAverageMinMaxObserver, HistogramObserver\n",
    "\n",
    "\n",
    "dtype = torch.quint8\n",
    "qscheme = torch.per_tensor_affine\n",
    "\n",
    "config = {\n",
    "    \"dtype\": dtype,\n",
    "    \"qscheme\": qscheme\n",
    "}\n",
    "observers = [MinMaxObserver(**config),\n",
    "             MovingAverageMinMaxObserver(**config),\n",
    "             HistogramObserver(**config)]"
   ]
  },
  {
   "cell_type": "code",
   "execution_count": 9,
   "metadata": {},
   "outputs": [
    {
     "name": "stdout",
     "output_type": "stream",
     "text": [
      "MinMaxObserver tensor([0.0039]) tensor([0], dtype=torch.int32)\n",
      "MovingAverageMinMaxObserver tensor([0.0039]) tensor([0], dtype=torch.int32)\n",
      "HistogramObserver tensor([0.0039]) tensor([0], dtype=torch.int32)\n"
     ]
    }
   ],
   "source": [
    "for obs in observers:\n",
    "    obs(y)\n",
    "    s, z = obs.calculate_qparams()\n",
    "    print(obs.__class__.__name__, s, z)"
   ]
  },
  {
   "cell_type": "code",
   "execution_count": 10,
   "metadata": {},
   "outputs": [
    {
     "data": {
      "text/plain": [
       "tensor([0.4967, 0.5593, 0.6218, 0.6766, 0.7274, 0.8800, 0.9230, 0.9504, 0.9816,\n",
       "        0.9895, 0.9973])"
      ]
     },
     "execution_count": 10,
     "metadata": {},
     "output_type": "execute_result"
    }
   ],
   "source": [
    "with torch.no_grad():\n",
    "    _y = (torch.floor(y/s) + z) * s\n",
    "_y"
   ]
  },
  {
   "cell_type": "code",
   "execution_count": 11,
   "metadata": {},
   "outputs": [
    {
     "data": {
      "text/plain": [
       "tensor([0.4980, 0.5608, 0.6235, 0.6784, 0.7294, 0.8824, 0.9255, 0.9529, 0.9804,\n",
       "        0.9922, 0.9961], dtype=torch.float64)"
      ]
     },
     "execution_count": 11,
     "metadata": {},
     "output_type": "execute_result"
    }
   ],
   "source": [
    "qy"
   ]
  },
  {
   "cell_type": "code",
   "execution_count": 12,
   "metadata": {},
   "outputs": [
    {
     "data": {
      "text/plain": [
       "tensor([0.5000, 0.5622, 0.6225, 0.6792, 0.7311, 0.8808, 0.9241, 0.9526, 0.9820,\n",
       "        0.9933, 0.9975], grad_fn=<SigmoidBackward0>)"
      ]
     },
     "execution_count": 12,
     "metadata": {},
     "output_type": "execute_result"
    }
   ],
   "source": [
    "y"
   ]
  },
  {
   "cell_type": "markdown",
   "metadata": {},
   "source": [
    "## Sigmoid 观测器"
   ]
  },
  {
   "cell_type": "code",
   "execution_count": 1,
   "metadata": {},
   "outputs": [],
   "source": [
    "from sympy import interpolating_spline, symbols, exp, simplify, oo\n",
    "\n",
    "def sigmoid(x):\n",
    "    x = 1 + exp(-x)\n",
    "    return 1/x\n",
    "\n",
    "x = symbols(\"x\")\n",
    "# simplify(sigmoid(1) + sigmoid(-1))\n",
    "node_indexes = [-6, -5, -3, -2, -1, 0, 1, 2, 3, 5, 6]\n",
    "sigmoid_sym = interpolating_spline(1,\n",
    "                                   x,\n",
    "                                   node_indexes,\n",
    "                                   [float(sigmoid(n)) for n in node_indexes])"
   ]
  },
  {
   "cell_type": "code",
   "execution_count": 2,
   "metadata": {},
   "outputs": [
    {
     "data": {
      "text/latex": [
       "$\\displaystyle \\begin{cases} 0.00422022776765008 x + 0.0277939897625353 & \\text{for}\\: x \\geq -6 \\wedge x \\leq -5 \\\\0.020366511126641 x + 0.10852540655749 & \\text{for}\\: x \\geq -5 \\wedge x \\leq -3 \\\\0.0717770488445508 x + 0.262757019711219 & \\text{for}\\: x \\geq -3 \\wedge x \\leq -2 \\\\0.149738499347878 x + 0.418679920717873 & \\text{for}\\: x \\geq -2 \\wedge x \\leq -1 \\\\0.231058578630005 x + 0.5 & \\text{for}\\: \\left(x \\geq -1 \\vee x \\geq 0\\right) \\wedge \\left(x \\geq -1 \\vee x \\leq 1\\right) \\wedge \\left(x \\geq 0 \\vee x \\leq 0\\right) \\wedge \\left(x \\leq 0 \\vee x \\leq 1\\right) \\\\0.149738499347878 x + 0.581320079282127 & \\text{for}\\: x \\geq 1 \\wedge x \\leq 2 \\\\0.0717770488445508 x + 0.737242980288781 & \\text{for}\\: x \\geq 2 \\wedge x \\leq 3 \\\\0.020366511126641 x + 0.891474593442511 & \\text{for}\\: x \\geq 3 \\wedge x \\leq 5 \\\\0.00422022776765008 x + 0.972206010237465 & \\text{for}\\: x \\geq 5 \\wedge x \\leq 6 \\end{cases}$"
      ],
      "text/plain": [
       "Piecewise((0.00422022776765008*x + 0.0277939897625353, (x >= -6) & (x <= -5)), (0.020366511126641*x + 0.10852540655749, (x >= -5) & (x <= -3)), (0.0717770488445508*x + 0.262757019711219, (x >= -3) & (x <= -2)), (0.149738499347878*x + 0.418679920717873, (x >= -2) & (x <= -1)), (0.231058578630005*x + 0.5, ((x >= -1) | (x >= 0)) & ((x >= -1) | (x <= 1)) & ((x >= 0) | (x <= 0)) & ((x <= 0) | (x <= 1))), (0.149738499347878*x + 0.581320079282127, (x >= 1) & (x <= 2)), (0.0717770488445508*x + 0.737242980288781, (x >= 2) & (x <= 3)), (0.020366511126641*x + 0.891474593442511, (x >= 3) & (x <= 5)), (0.00422022776765008*x + 0.972206010237465, (x >= 5) & (x <= 6)))"
      ]
     },
     "execution_count": 2,
     "metadata": {},
     "output_type": "execute_result"
    }
   ],
   "source": [
    "sigmoid_sym"
   ]
  },
  {
   "cell_type": "code",
   "execution_count": 7,
   "metadata": {},
   "outputs": [
    {
     "data": {
      "image/png": "[encoded data removed]",
      "text/plain": [
       "<Figure size 432x288 with 1 Axes>"
      ]
     },
     "metadata": {
      "needs_background": "light"
     },
     "output_type": "display_data"
    },
    {
     "data": {
      "text/plain": [
       "<sympy.plotting.plot.Plot at 0x7f363ab6e080>"
      ]
     },
     "execution_count": 7,
     "metadata": {},
     "output_type": "execute_result"
    }
   ],
   "source": [
    "from sympy.plotting import plot\n",
    "\n",
    "plot(sigmoid_sym, ylabel=\"sigmoid(x)\")"
   ]
  },
  {
   "cell_type": "code",
   "execution_count": null,
   "metadata": {},
   "outputs": [],
   "source": []
  }
 ],
 "metadata": {
  "kernelspec": {
   "display_name": "Python 3.10.4 ('tvmx': conda)",
   "language": "python",
   "name": "python3"
  },
  "language_info": {
   "codemirror_mode": {
    "name": "ipython",
    "version": 3
   },
   "file_extension": ".py",
   "mimetype": "text/x-python",
   "name": "python",
   "nbconvert_exporter": "python",
   "pygments_lexer": "ipython3",
   "version": "3.10.4"
  },
  "orig_nbformat": 4,
  "vscode": {
   "interpreter": {
    "hash": "e579259ee6098e2b9319de590d145b4b096774fe457bdf04260e3ba5c171e887"
   }
  }
 },
 "nbformat": 4,
 "nbformat_minor": 2
}
