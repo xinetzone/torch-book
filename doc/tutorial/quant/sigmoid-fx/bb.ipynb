{
 "cells": [
  {
   "cell_type": "code",
   "execution_count": 1,
   "metadata": {},
   "outputs": [],
   "source": [
    "import logging\n",
    "import torch\n",
    "from torch import nn, fx, optim\n",
    "from torch.nn import functional as F\n",
    "from torch.profiler import profile, record_function, ProfilerActivity\n",
    "from torch.ao.quantization import observer as _observer\n",
    "from torchvision.models import resnet18, ResNet18_Weights\n",
    "from torch_book.data.simple_vision import load_data_cifar10\n",
    "from torch_book.tools import train, try_all_gpus # try_gpu\n",
    "from torch_book.tools import evaluate_accuracy\n",
    "from fixed_sigmoid import linear_sigmoid as _linear_sigmoid\n",
    "from fixed_sigmoid import get_nodes as _get_nodes\n",
    "# from fit_sigmoid import sigmoid2linear\n",
    "\n",
    "def set_bin(xs, bins=5):\n",
    "    n_calib = len(xs)\n",
    "    step = n_calib//bins\n",
    "    full_index = xs.argsort(dim=0)\n",
    "    index = full_index[::step]\n",
    "    return torch.concat([full_index[::step],\n",
    "                         full_index[-1].unsqueeze(dim=0)])\n",
    "    \n",
    "def get_nodes(xs, bins=5):\n",
    "    with torch.no_grad():\n",
    "        obs = _observer.PerChannelMinMaxObserver(ch_axis=0,\n",
    "                                                 dtype=torch.qint8,\n",
    "                                                 qscheme=torch.per_channel_affine)\n",
    "        obs(xs)\n",
    "        min_val = obs.min_val\n",
    "        min_val = min_val.take(set_bin(min_val, bins=bins)).numpy()\n",
    "        max_val = obs.max_val\n",
    "        max_val = max_val.take(set_bin(max_val, bins=bins)).numpy()\n",
    "        value_ranges = list(set(min_val) | set(max_val))\n",
    "    # logging.info(f\"节点信息：\\n {value_ranges}\")\n",
    "    return _get_nodes(value_ranges)"
   ]
  },
  {
   "cell_type": "code",
   "execution_count": 2,
   "metadata": {},
   "outputs": [
    {
     "name": "stdout",
     "output_type": "stream",
     "text": [
      "Files already downloaded and verified\n",
      "Files already downloaded and verified\n"
     ]
    }
   ],
   "source": [
    "logging.basicConfig(filename='draft/test.log',\n",
    "                    filemode=\"w\",\n",
    "                    format = '%(asctime)s - %(name)s - %(levelname)s - %(message)s-%(funcName)s',\n",
    "                    level=logging.DEBUG)\n",
    "torch.cuda.empty_cache() # 清空 GPU 缓存\n",
    "\n",
    "batch_size = 1000\n",
    "train_iter, test_iter = load_data_cifar10(batch_size=batch_size)"
   ]
  },
  {
   "cell_type": "code",
   "execution_count": 6,
   "metadata": {},
   "outputs": [],
   "source": [
    "for xs, _ in train_iter:\n",
    "    break"
   ]
  },
  {
   "cell_type": "code",
   "execution_count": 3,
   "metadata": {},
   "outputs": [],
   "source": [
    "def linear_sigmoid(x, bins=4):\n",
    "    nodes = get_nodes(x, bins=bins)\n",
    "    y = _linear_sigmoid(x, nodes)\n",
    "    return y"
   ]
  },
  {
   "cell_type": "code",
   "execution_count": 20,
   "metadata": {},
   "outputs": [
    {
     "data": {
      "text/plain": [
       "<All keys matched successfully>"
      ]
     },
     "execution_count": 20,
     "metadata": {},
     "output_type": "execute_result"
    }
   ],
   "source": [
    "model = resnet18(weights=ResNet18_Weights.DEFAULT)\n",
    "model.conv1 = nn.Conv2d(model.conv1.in_channels, \n",
    "                        model.conv1.out_channels, \n",
    "                        3, 1, 1)\n",
    "model.maxpool = nn.Identity()\n",
    "model.fc = nn.Linear(model.fc.in_features, 10)\n",
    "\n",
    "# 替换 ReLU 为 torch.sigmoid\n",
    "mod = fx.symbolic_trace(model)\n",
    "# 遍历 Graph 中全部节点\n",
    "for node in mod.graph.nodes:\n",
    "    # 如果匹配目标\n",
    "    if node.op == \"call_module\":\n",
    "        if \"relu\" in node.target:\n",
    "            # 设置插入点，添加新节点，用新节点替换所有 `node` 的用法\n",
    "            with mod.graph.inserting_after(node):\n",
    "                new_node = mod.graph.call_function(torch.sigmoid, node.args, node.kwargs)\n",
    "                node.replace_all_uses_with(new_node)\n",
    "            # 移除 graph 中旧的节点\n",
    "            mod.graph.erase_node(node)\n",
    "mod.graph.lint()\n",
    "# 不用忘记 recompile!\n",
    "new_code = mod.recompile()\n",
    "# 加载模型参数\n",
    "state_dict = torch.load(\"models/resnet18_cifar10_sigmoid.h5\")\n",
    "mod.load_state_dict(state_dict)"
   ]
  },
  {
   "cell_type": "code",
   "execution_count": 21,
   "metadata": {},
   "outputs": [
    {
     "name": "stdout",
     "output_type": "stream",
     "text": [
      "sigmoid\n"
     ]
    }
   ],
   "source": [
    "for node in mod.graph.nodes:\n",
    "    # 如果匹配目标\n",
    "    if node.op == \"call_function\":\n",
    "        if node.target == torch.sigmoid:\n",
    "            print(node.name)\n",
    "            # _observer\n",
    "            # mod.graph.call_function(torch.sigmoid, node.args, node.kwargs)\n",
    "            break"
   ]
  },
  {
   "cell_type": "code",
   "execution_count": 23,
   "metadata": {},
   "outputs": [],
   "source": [
    "inputs = node.all_input_nodes\n",
    "s = inputs[0]"
   ]
  },
  {
   "cell_type": "code",
   "execution_count": 5,
   "metadata": {},
   "outputs": [],
   "source": [
    "# valid_acc = evaluate_accuracy(mod, test_iter)\n",
    "# valid_acc\n",
    "# 0.8407"
   ]
  },
  {
   "cell_type": "code",
   "execution_count": 5,
   "metadata": {},
   "outputs": [
    {
     "name": "stdout",
     "output_type": "stream",
     "text": [
      "sigmoid <function linear_sigmoid at 0x7fa21c8900d0>\n",
      "sigmoid_1 <function linear_sigmoid at 0x7fa21c8900d0>\n",
      "sigmoid_2 <function linear_sigmoid at 0x7fa21c8900d0>\n",
      "sigmoid_3 <function linear_sigmoid at 0x7fa21c8900d0>\n",
      "sigmoid_4 <function linear_sigmoid at 0x7fa21c8900d0>\n",
      "sigmoid_5 <function linear_sigmoid at 0x7fa21c8900d0>\n",
      "sigmoid_6 <function linear_sigmoid at 0x7fa21c8900d0>\n",
      "sigmoid_7 <function linear_sigmoid at 0x7fa21c8900d0>\n",
      "sigmoid_8 <function linear_sigmoid at 0x7fa21c8900d0>\n",
      "sigmoid_9 <function linear_sigmoid at 0x7fa21c8900d0>\n",
      "sigmoid_10 <function linear_sigmoid at 0x7fa21c8900d0>\n",
      "sigmoid_11 <function linear_sigmoid at 0x7fa21c8900d0>\n",
      "sigmoid_12 <function linear_sigmoid at 0x7fa21c8900d0>\n",
      "sigmoid_13 <function linear_sigmoid at 0x7fa21c8900d0>\n",
      "sigmoid_14 <function linear_sigmoid at 0x7fa21c8900d0>\n",
      "sigmoid_15 <function linear_sigmoid at 0x7fa21c8900d0>\n",
      "sigmoid_16 <function linear_sigmoid at 0x7fa21c8900d0>\n"
     ]
    }
   ],
   "source": [
    "# from fixed_sigmoid import linear_sigmoid\n",
    "# 遍历 Graph 中全部节点\n",
    "for node in mod.graph.nodes:\n",
    "    # 如果匹配目标\n",
    "    if node.op == \"call_function\":\n",
    "        # if node.name == \"sigmoid\":\n",
    "        if \"sigmoid\" in node.name:\n",
    "            node.target = linear_sigmoid\n",
    "            print(node.name, node.target)\n",
    "mod.graph.lint()\n",
    "# 不用忘记 recompile!\n",
    "new_code = mod.recompile()"
   ]
  },
  {
   "cell_type": "code",
   "execution_count": 7,
   "metadata": {},
   "outputs": [
    {
     "data": {
      "text/plain": [
       "0.1"
      ]
     },
     "execution_count": 7,
     "metadata": {},
     "output_type": "execute_result"
    }
   ],
   "source": [
    "valid_acc = evaluate_accuracy(mod, test_iter)\n",
    "valid_acc"
   ]
  },
  {
   "cell_type": "code",
   "execution_count": null,
   "metadata": {},
   "outputs": [],
   "source": []
  }
 ],
 "metadata": {
  "kernelspec": {
   "display_name": "Python 3.10.4 ('tvmx': conda)",
   "language": "python",
   "name": "python3"
  },
  "language_info": {
   "codemirror_mode": {
    "name": "ipython",
    "version": 3
   },
   "file_extension": ".py",
   "mimetype": "text/x-python",
   "name": "python",
   "nbconvert_exporter": "python",
   "pygments_lexer": "ipython3",
   "version": "3.10.4"
  },
  "orig_nbformat": 4,
  "vscode": {
   "interpreter": {
    "hash": "e579259ee6098e2b9319de590d145b4b096774fe457bdf04260e3ba5c171e887"
   }
  }
 },
 "nbformat": 4,
 "nbformat_minor": 2
}
