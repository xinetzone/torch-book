{
 "cells": [
  {
   "cell_type": "markdown",
   "metadata": {},
   "source": [
    "# Cifar10 上的 ReNet18 Sigmoid 线性化\n",
    "\n",
    "本文主要介绍在 cifar10 的试验 resnet18 的性能。\n",
    "\n",
    "导入一些必要包："
   ]
  },
  {
   "cell_type": "code",
   "execution_count": 1,
   "metadata": {},
   "outputs": [],
   "source": [
    "import torch\n",
    "from torch import nn, fx #, optim\n",
    "from torchvision.models import resnet18, ResNet18_Weights\n",
    "from torch_book.data.simple_vision import load_data_cifar10\n",
    "from torch_book.tools import train, try_all_gpus, evaluate_accuracy\n",
    "\n",
    "torch.cuda.empty_cache() # 清空 GPU 缓存"
   ]
  },
  {
   "cell_type": "markdown",
   "metadata": {},
   "source": [
    "创建模型："
   ]
  },
  {
   "cell_type": "code",
   "execution_count": 2,
   "metadata": {},
   "outputs": [],
   "source": [
    "def _create_model():\n",
    "    \"\"\"模型加载\"\"\"\n",
    "    model = resnet18(weights=ResNet18_Weights.DEFAULT)\n",
    "    model.conv1 = nn.Conv2d(model.conv1.in_channels, \n",
    "                            model.conv1.out_channels, \n",
    "                            3, 1, 1)\n",
    "    model.maxpool = nn.Identity() #nn.Conv2d(64, 64, 1, 1, 1)\n",
    "    model.fc = nn.Linear(model.fc.in_features, 10)\n",
    "    return model"
   ]
  },
  {
   "cell_type": "code",
   "execution_count": 4,
   "metadata": {},
   "outputs": [],
   "source": [
    "model = _create_model()"
   ]
  },
  {
   "cell_type": "markdown",
   "metadata": {},
   "source": [
    "加载数据："
   ]
  },
  {
   "cell_type": "code",
   "execution_count": 5,
   "metadata": {},
   "outputs": [
    {
     "name": "stdout",
     "output_type": "stream",
     "text": [
      "Files already downloaded and verified\n",
      "Files already downloaded and verified\n"
     ]
    }
   ],
   "source": [
    "batch_size = 32\n",
    "train_iter, test_iter = load_data_cifar10(batch_size=batch_size)\n",
    "# # 加载模型参数\n",
    "# state_dict = torch.load(\"models/resnet18_cifar10_batch_size_64.h5\")\n",
    "# model.load_state_dict(state_dict)"
   ]
  },
  {
   "cell_type": "code",
   "execution_count": null,
   "metadata": {},
   "outputs": [],
   "source": [
    "relu_valid_acc = evaluate_accuracy(model, test_iter)\n",
    "relu_valid_acc"
   ]
  },
  {
   "cell_type": "markdown",
   "metadata": {},
   "source": [
    "## 模块变换\n",
    "\n",
    "利用 FX 替换全部 {class}`~torch.nn.ReLU` 为 {func}`torch.sigmoid`。"
   ]
  },
  {
   "cell_type": "code",
   "execution_count": null,
   "metadata": {},
   "outputs": [],
   "source": [
    "def replace(model):\n",
    "    mod = fx.symbolic_trace(model)\n",
    "    # 遍历 Graph 中全部节点\n",
    "    for node in mod.graph.nodes:\n",
    "        # 如果匹配目标\n",
    "        if node.op == \"call_module\":\n",
    "            if \"relu\" in node.target:\n",
    "                # 设置插入点，添加新节点，用新节点替换所有 `node` 的用法\n",
    "                with mod.graph.inserting_after(node):\n",
    "                    new_node = mod.graph.call_function(torch.sigmoid, node.args, node.kwargs)\n",
    "                    node.replace_all_uses_with(new_node)\n",
    "                # 移除 graph 中旧的节点\n",
    "                mod.graph.erase_node(node)\n",
    "    mod.graph.lint()\n",
    "    # 不用忘记 recompile！\n",
    "    new_code = mod.recompile()\n",
    "    return mod"
   ]
  },
  {
   "cell_type": "code",
   "execution_count": null,
   "metadata": {},
   "outputs": [],
   "source": [
    "mod = replace(model)"
   ]
  },
  {
   "cell_type": "code",
   "execution_count": null,
   "metadata": {},
   "outputs": [],
   "source": [
    "valid_acc = evaluate_accuracy(mod, test_iter)\n",
    "valid_acc"
   ]
  },
  {
   "cell_type": "markdown",
   "metadata": {},
   "source": [
    "微调："
   ]
  },
  {
   "cell_type": "code",
   "execution_count": null,
   "metadata": {},
   "outputs": [],
   "source": [
    "def fine_tune(mod, num_epochs,\n",
    "              train_iter, test_iter,\n",
    "              devices=try_all_gpus(),\n",
    "              lr=0.0000142857,\n",
    "              lr_period=4,\n",
    "              lr_decay=0.0857142,\n",
    "              weight_decay=0.00857142,\n",
    "              momentum=0.857142):\n",
    "    optimizer = optim.SGD(mod.parameters(),\n",
    "                          lr=lr,\n",
    "                          momentum=momentum, \n",
    "                          weight_decay=weight_decay)\n",
    "    scheduler = optim.lr_scheduler.StepLR(optimizer, \n",
    "                                          step_size=lr_period, \n",
    "                                          gamma=lr_decay)\n",
    "    train(mod, train_iter, test_iter,\n",
    "          num_epochs, devices,\n",
    "          optimizer, scheduler)\n",
    "    return mod"
   ]
  },
  {
   "cell_type": "code",
   "execution_count": null,
   "metadata": {},
   "outputs": [],
   "source": [
    "mod = replace(model)\n",
    "mod = fine_tune(mod, 100,\n",
    "                train_iter, test_iter, \n",
    "                try_all_gpus(),\n",
    "                lr=0.000142857,\n",
    "                lr_period=2,\n",
    "                lr_decay=0.857142,\n",
    "                weight_decay=0.00714285,\n",
    "                momentum=0.857142)\n",
    "\n",
    "torch.save(mod.state_dict(), \n",
    "           'models/resnet18_cifar10_sigmoid_64_1.h5')"
   ]
  },
  {
   "cell_type": "code",
   "execution_count": null,
   "metadata": {},
   "outputs": [],
   "source": []
  }
 ],
 "metadata": {
  "kernelspec": {
   "display_name": "Python 3.10.4 ('tvmx': conda)",
   "language": "python",
   "name": "python3"
  },
  "language_info": {
   "codemirror_mode": {
    "name": "ipython",
    "version": 3
   },
   "file_extension": ".py",
   "mimetype": "text/x-python",
   "name": "python",
   "nbconvert_exporter": "python",
   "pygments_lexer": "ipython3",
   "version": "3.10.4"
  },
  "orig_nbformat": 4,
  "vscode": {
   "interpreter": {
    "hash": "e579259ee6098e2b9319de590d145b4b096774fe457bdf04260e3ba5c171e887"
   }
  }
 },
 "nbformat": 4,
 "nbformat_minor": 2
}
