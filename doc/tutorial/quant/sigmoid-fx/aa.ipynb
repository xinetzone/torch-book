{
 "cells": [
  {
   "cell_type": "code",
   "execution_count": 1,
   "metadata": {},
   "outputs": [
    {
     "data": {
      "text/plain": [
       "tensor([[[-0.5492,  0.7232,  0.4455],\n",
       "         [ 0.2058,  0.4714,  0.7740]],\n",
       "\n",
       "        [[ 0.8725, -1.5342,  1.1839],\n",
       "         [ 1.1853, -0.7816, -1.0157]]])"
      ]
     },
     "execution_count": 1,
     "metadata": {},
     "output_type": "execute_result"
    }
   ],
   "source": [
    "import torch\n",
    "from fit_sigmoid import sigmoid2linear\n",
    "\n",
    "X = torch.randn(1, 2, 2, 3)\n",
    "X[0, :10]"
   ]
  },
  {
   "cell_type": "code",
   "execution_count": 2,
   "metadata": {},
   "outputs": [
    {
     "data": {
      "text/plain": [
       "tensor([[[0.3660, 0.6733, 0.6096],\n",
       "         [0.5513, 0.6157, 0.6844]],\n",
       "\n",
       "        [[0.7053, 0.1774, 0.7656],\n",
       "         [0.7659, 0.3140, 0.2659]]])"
      ]
     },
     "execution_count": 2,
     "metadata": {},
     "output_type": "execute_result"
    }
   ],
   "source": [
    "torch.sigmoid(X)[0, :10]"
   ]
  },
  {
   "cell_type": "code",
   "execution_count": 3,
   "metadata": {},
   "outputs": [
    {
     "data": {
      "text/plain": [
       "tensor([[[0.3660, 0.6733, 0.6063],\n",
       "         [0.5484, 0.6125, 0.6856]],\n",
       "\n",
       "        [[0.7094, 0.1282, 0.7846],\n",
       "         [0.7849, 0.3099, 0.2534]]])"
      ]
     },
     "execution_count": 3,
     "metadata": {},
     "output_type": "execute_result"
    }
   ],
   "source": [
    "Y = sigmoid2linear(X)\n",
    "Y[0, :10]"
   ]
  },
  {
   "cell_type": "code",
   "execution_count": 4,
   "metadata": {},
   "outputs": [
    {
     "data": {
      "text/plain": [
       "tensor([[[0.3731, 0.6671, 0.6029],\n",
       "         [0.5476, 0.6089, 0.6788]],\n",
       "\n",
       "        [[0.7016, 0.1889, 0.7586],\n",
       "         [0.7588, 0.3194, 0.2666]]])"
      ]
     },
     "execution_count": 4,
     "metadata": {},
     "output_type": "execute_result"
    }
   ],
   "source": [
    "from fixed_sigmoid import linear_sigmoid\n",
    "linear_sigmoid(X)[0, :10]"
   ]
  },
  {
   "cell_type": "code",
   "execution_count": 5,
   "metadata": {},
   "outputs": [
    {
     "data": {
      "text/plain": [
       "tensor([[[0.3660, 0.6733, 0.6096],\n",
       "         [0.5513, 0.6157, 0.6844]],\n",
       "\n",
       "        [[0.7053, 0.1774, 0.7656],\n",
       "         [0.7659, 0.3140, 0.2659]]])"
      ]
     },
     "execution_count": 5,
     "metadata": {},
     "output_type": "execute_result"
    }
   ],
   "source": [
    "torch.sigmoid(X)[0, :10]"
   ]
  },
  {
   "cell_type": "code",
   "execution_count": null,
   "metadata": {},
   "outputs": [],
   "source": []
  }
 ],
 "metadata": {
  "kernelspec": {
   "display_name": "Python 3.10.4 ('tvmx': conda)",
   "language": "python",
   "name": "python3"
  },
  "language_info": {
   "codemirror_mode": {
    "name": "ipython",
    "version": 3
   },
   "file_extension": ".py",
   "mimetype": "text/x-python",
   "name": "python",
   "nbconvert_exporter": "python",
   "pygments_lexer": "ipython3",
   "version": "3.10.4"
  },
  "orig_nbformat": 4,
  "vscode": {
   "interpreter": {
    "hash": "e579259ee6098e2b9319de590d145b4b096774fe457bdf04260e3ba5c171e887"
   }
  }
 },
 "nbformat": 4,
 "nbformat_minor": 2
}
