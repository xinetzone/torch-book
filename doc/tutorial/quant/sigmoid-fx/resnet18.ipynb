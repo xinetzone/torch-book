{
 "cells": [
  {
   "cell_type": "markdown",
   "metadata": {},
   "source": [
    "# Cifar10 上的 ReNet18\n",
    "\n",
    "本文主要介绍如何对 Sigmoid 进行线性化，且在 cifar10 的试验 resnet18 的性能。\n",
    "\n",
    "导入一些必要包："
   ]
  },
  {
   "cell_type": "code",
   "execution_count": 1,
   "metadata": {},
   "outputs": [],
   "source": [
    "import torch\n",
    "from torch import nn, fx, optim\n",
    "from torch.nn import functional as F\n",
    "from torch.profiler import profile, record_function, ProfilerActivity\n",
    "from torchvision.models import resnet18, ResNet18_Weights\n",
    "from torch_book.data.simple_vision import load_data_cifar10\n",
    "from torch_book.tools import train, try_all_gpus #try_gpu\n",
    "\n",
    "torch.cuda.empty_cache() # 清空 GPU 缓存\n",
    "\n",
    "def create_model():\n",
    "    model = resnet18(weights=ResNet18_Weights.DEFAULT)\n",
    "    model.conv1 = nn.Conv2d(model.conv1.in_channels, \n",
    "                            model.conv1.out_channels, \n",
    "                            3, 1, 1)\n",
    "    model.maxpool = nn.Identity() #nn.Conv2d(64, 64, 1, 1, 1)\n",
    "    model.fc = nn.Linear(model.fc.in_features, 10)\n",
    "    return model"
   ]
  },
  {
   "cell_type": "markdown",
   "metadata": {},
   "source": [
    "torchvision 上的 ResNet18 直接用于 cifar10 是不推荐的。需要做以下改动："
   ]
  },
  {
   "cell_type": "code",
   "execution_count": 2,
   "metadata": {},
   "outputs": [
    {
     "name": "stdout",
     "output_type": "stream",
     "text": [
      "Files already downloaded and verified\n",
      "Files already downloaded and verified\n"
     ]
    }
   ],
   "source": [
    "batch_size = 64\n",
    "train_iter, test_iter = load_data_cifar10(batch_size=batch_size)\n",
    "model = create_model()"
   ]
  },
  {
   "cell_type": "markdown",
   "metadata": {},
   "source": [
    "```{note}\n",
    "将第一个 conv 替换以支持 $32 \\times 32$ 的输入。同时移除第一个 `maxpool` 避免图片信息过早丢失。\n",
    "```\n",
    "\n",
    "查看修改后的模型："
   ]
  },
  {
   "cell_type": "code",
   "execution_count": 3,
   "metadata": {},
   "outputs": [
    {
     "data": {
      "text/plain": [
       "Conv2d(3, 64, kernel_size=(3, 3), stride=(1, 1), padding=(1, 1))"
      ]
     },
     "execution_count": 3,
     "metadata": {},
     "output_type": "execute_result"
    }
   ],
   "source": [
    "model.conv1"
   ]
  },
  {
   "cell_type": "code",
   "execution_count": 4,
   "metadata": {},
   "outputs": [
    {
     "data": {
      "text/plain": [
       "Identity()"
      ]
     },
     "execution_count": 4,
     "metadata": {},
     "output_type": "execute_result"
    }
   ],
   "source": [
    "model.maxpool"
   ]
  },
  {
   "cell_type": "markdown",
   "metadata": {},
   "source": [
    "打印每层输出尺寸："
   ]
  },
  {
   "cell_type": "code",
   "execution_count": 5,
   "metadata": {},
   "outputs": [
    {
     "name": "stdout",
     "output_type": "stream",
     "text": [
      "conv1 (64, 64, 32, 32)\n",
      "bn1 (64, 64, 32, 32)\n",
      "relu (64, 64, 32, 32)\n",
      "maxpool (64, 64, 32, 32)\n",
      "layer1 (64, 64, 32, 32)\n",
      "layer2 (64, 128, 16, 16)\n",
      "layer3 (64, 256, 8, 8)\n",
      "layer4 (64, 512, 4, 4)\n",
      "avgpool (64, 512, 1, 1)\n",
      "fc (64, 10)\n"
     ]
    }
   ],
   "source": [
    "for xs, _ in train_iter:\n",
    "    break\n",
    "\n",
    "for name, m in model.named_children():\n",
    "    xs = m(xs)\n",
    "    print(name, tuple(xs.shape))\n",
    "    if name==\"avgpool\":\n",
    "        xs = torch.flatten(xs, 1)"
   ]
  },
  {
   "cell_type": "markdown",
   "metadata": {},
   "source": [
    "微调模型："
   ]
  },
  {
   "cell_type": "code",
   "execution_count": 12,
   "metadata": {},
   "outputs": [],
   "source": [
    "def fine_tune(mod, num_epochs,\n",
    "              train_iter, test_iter,\n",
    "              devices=try_all_gpus(),\n",
    "              lr=0.0000142857,\n",
    "              lr_period=4,\n",
    "              lr_decay=0.0857142,\n",
    "              weight_decay=0.00857142,\n",
    "              momentum=0.857142):\n",
    "    optimizer = optim.SGD(mod.parameters(),\n",
    "                          lr=lr,\n",
    "                          momentum=momentum, \n",
    "                          weight_decay=weight_decay)\n",
    "    scheduler = optim.lr_scheduler.StepLR(optimizer, \n",
    "                                          step_size=lr_period, \n",
    "                                          gamma=lr_decay)\n",
    "    train(mod, train_iter, test_iter,\n",
    "          num_epochs, devices,\n",
    "          optimizer, scheduler)\n",
    "    return mod"
   ]
  },
  {
   "cell_type": "code",
   "execution_count": 7,
   "metadata": {},
   "outputs": [
    {
     "name": "stdout",
     "output_type": "stream",
     "text": [
      "train loss 0.015, train acc 0.996, valid acc 0.920\n",
      "1579.1 examples/sec on [device(type='cuda', index=0), device(type='cuda', index=1)]\n"
     ]
    },
    {
     "data": {
      "image/svg+xml": "<?xml version=\"1.0\" encoding=\"utf-8\" standalone=\"no\"?>\n<!DOCTYPE svg PUBLIC \"-//W3C//DTD SVG 1.1//EN\"\n  \"http://www.w3.org/Graphics/SVG/1.1/DTD/svg11.dtd\">\n<svg xmlns:xlink=\"http://www.w3.org/1999/xlink\" width=\"231.7pt\" height=\"180.967969pt\" viewBox=\"0 0 231.7 180.967969\" xmlns=\"http://www.w3.org/2000/svg\" version=\"1.1\">\n <metadata>\n  <rdf:RDF xmlns:dc=\"http://purl.org/dc/elements/1.1/\" xmlns:cc=\"http://creativecommons.org/ns#\" xmlns:rdf=\"http://www.w3.org/1999/02/22-rdf-syntax-ns#\">\n   <cc:Work>\n    <dc:type rdf:resource=\"http://purl.org/dc/dcmitype/StillImage\"/>\n    <dc:date>2022-10-27T20:57:06.879864</dc:date>\n    <dc:format>image/svg+xml</dc:format>\n    <dc:creator>\n     <cc:Agent>\n      <dc:title>Matplotlib v3.5.1, https://matplotlib.org/</dc:title>\n     </cc:Agent>\n    </dc:creator>\n   </cc:Work>\n  </rdf:RDF>\n </metadata>\n <defs>\n  <style type=\"text/css\">*{stroke-linejoin: round; stroke-linecap: butt}</style>\n </defs>\n <g id=\"figure_1\">\n  <g id=\"patch_1\">\n   <path d=\"M 0 180.967969 \nL 231.7 180.967969 \nL 231.7 0 \nL 0 0 \nL 0 180.967969 \nz\n\" style=\"fill: none\"/>\n  </g>\n  <g id=\"axes_1\">\n   <g id=\"patch_2\">\n    <path d=\"M 29.2 146.517969 \nL 224.5 146.517969 \nL 224.5 10.617969 \nL 29.2 10.617969 \nz\n\" style=\"fill: #ffffff\"/>\n   </g>\n   <g id=\"matplotlib.axis_1\">\n    <g id=\"xtick_1\">\n     <g id=\"line2d_1\">\n      <path d=\"M 85.9 146.517969 \nL 85.9 10.617969 \n\" clip-path=\"url(#pe4648be0f5)\" style=\"fill: none; stroke: #b0b0b0; stroke-width: 0.8; stroke-linecap: square\"/>\n     </g>\n     <g id=\"line2d_2\">\n      <defs>\n       <path id=\"m49210ab7ef\" d=\"M 0 0 \nL 0 3.5 \n\" style=\"stroke: #000000; stroke-width: 0.8\"/>\n      </defs>\n      <g>\n       <use xlink:href=\"#m49210ab7ef\" x=\"85.9\" y=\"146.517969\" style=\"stroke: #000000; stroke-width: 0.8\"/>\n      </g>\n     </g>\n     <g id=\"text_1\">\n      <!-- 10 -->\n      <g transform=\"translate(80.9 160.353906)scale(0.1 -0.1)\">\n       <defs>\n        <path id=\"SimHei-31\" d=\"M 1950 100 \nL 1375 100 \nL 1375 3425 \nL 625 3425 \nL 625 3725 \nQ 1075 3725 1325 3900 \nQ 1575 4075 1650 4425 \nL 1950 4425 \nL 1950 100 \nz\n\" transform=\"scale(0.015625)\"/>\n        <path id=\"SimHei-30\" d=\"M 2975 2250 \nQ 2975 1350 2650 700 \nQ 2325 50 1600 50 \nQ 875 50 537 700 \nQ 200 1350 200 2250 \nQ 200 3150 537 3787 \nQ 875 4425 1600 4425 \nQ 2325 4425 2650 3787 \nQ 2975 3150 2975 2250 \nz\nM 2375 2250 \nQ 2375 3050 2187 3500 \nQ 2000 3950 1600 3950 \nQ 1200 3950 1000 3500 \nQ 800 3050 800 2250 \nQ 800 1450 1000 987 \nQ 1200 525 1600 525 \nQ 2000 525 2187 987 \nQ 2375 1450 2375 2250 \nz\n\" transform=\"scale(0.015625)\"/>\n       </defs>\n       <use xlink:href=\"#SimHei-31\"/>\n       <use xlink:href=\"#SimHei-30\" x=\"50\"/>\n      </g>\n     </g>\n    </g>\n    <g id=\"xtick_2\">\n     <g id=\"line2d_3\">\n      <path d=\"M 148.9 146.517969 \nL 148.9 10.617969 \n\" clip-path=\"url(#pe4648be0f5)\" style=\"fill: none; stroke: #b0b0b0; stroke-width: 0.8; stroke-linecap: square\"/>\n     </g>\n     <g id=\"line2d_4\">\n      <g>\n       <use xlink:href=\"#m49210ab7ef\" x=\"148.9\" y=\"146.517969\" style=\"stroke: #000000; stroke-width: 0.8\"/>\n      </g>\n     </g>\n     <g id=\"text_2\">\n      <!-- 20 -->\n      <g transform=\"translate(143.9 160.353906)scale(0.1 -0.1)\">\n       <defs>\n        <path id=\"SimHei-32\" d=\"M 2850 100 \nL 300 100 \nL 300 500 \nQ 450 900 712 1237 \nQ 975 1575 1475 2000 \nQ 1850 2325 2012 2600 \nQ 2175 2875 2175 3200 \nQ 2175 3525 2037 3737 \nQ 1900 3950 1600 3950 \nQ 1350 3950 1162 3725 \nQ 975 3500 975 2925 \nL 400 2925 \nQ 425 3650 737 4037 \nQ 1050 4425 1625 4425 \nQ 2175 4425 2475 4087 \nQ 2775 3750 2775 3175 \nQ 2775 2700 2500 2350 \nQ 2225 2000 1825 1650 \nQ 1375 1250 1200 1050 \nQ 1025 850 875 575 \nL 2850 575 \nL 2850 100 \nz\n\" transform=\"scale(0.015625)\"/>\n       </defs>\n       <use xlink:href=\"#SimHei-32\"/>\n       <use xlink:href=\"#SimHei-30\" x=\"50\"/>\n      </g>\n     </g>\n    </g>\n    <g id=\"xtick_3\">\n     <g id=\"line2d_5\">\n      <path d=\"M 211.9 146.517969 \nL 211.9 10.617969 \n\" clip-path=\"url(#pe4648be0f5)\" style=\"fill: none; stroke: #b0b0b0; stroke-width: 0.8; stroke-linecap: square\"/>\n     </g>\n     <g id=\"line2d_6\">\n      <g>\n       <use xlink:href=\"#m49210ab7ef\" x=\"211.9\" y=\"146.517969\" style=\"stroke: #000000; stroke-width: 0.8\"/>\n      </g>\n     </g>\n     <g id=\"text_3\">\n      <!-- 30 -->\n      <g transform=\"translate(206.9 160.353906)scale(0.1 -0.1)\">\n       <defs>\n        <path id=\"SimHei-33\" d=\"M 2825 1300 \nQ 2825 725 2462 387 \nQ 2100 50 1550 50 \nQ 1000 50 637 387 \nQ 275 725 275 1425 \nL 850 1425 \nQ 850 950 1037 737 \nQ 1225 525 1550 525 \nQ 1875 525 2050 725 \nQ 2225 925 2225 1350 \nQ 2225 1700 2037 1900 \nQ 1850 2100 1375 2100 \nL 1375 2525 \nQ 1775 2525 1962 2725 \nQ 2150 2925 2150 3325 \nQ 2150 3625 2012 3800 \nQ 1875 3975 1575 3975 \nQ 1275 3975 1112 3762 \nQ 950 3550 925 3150 \nL 375 3150 \nQ 425 3725 737 4075 \nQ 1050 4425 1575 4425 \nQ 2125 4425 2425 4112 \nQ 2725 3800 2725 3350 \nQ 2725 2925 2575 2687 \nQ 2425 2450 2075 2325 \nQ 2425 2250 2625 1975 \nQ 2825 1700 2825 1300 \nz\n\" transform=\"scale(0.015625)\"/>\n       </defs>\n       <use xlink:href=\"#SimHei-33\"/>\n       <use xlink:href=\"#SimHei-30\" x=\"50\"/>\n      </g>\n     </g>\n    </g>\n    <g id=\"text_4\">\n     <!-- epoch -->\n     <g transform=\"translate(114.35 172.478906)scale(0.1 -0.1)\">\n      <defs>\n       <path id=\"SimHei-65\" d=\"M 2875 1050 \nQ 2825 600 2475 325 \nQ 2125 50 1650 50 \nQ 1050 50 662 437 \nQ 275 825 275 1500 \nQ 275 2175 662 2562 \nQ 1050 2950 1650 2950 \nQ 2175 2950 2512 2612 \nQ 2850 2275 2850 1500 \nL 825 1500 \nQ 825 950 1062 725 \nQ 1300 500 1650 500 \nQ 1925 500 2100 637 \nQ 2275 775 2325 1050 \nL 2875 1050 \nz\nM 2275 1900 \nQ 2225 2250 2050 2387 \nQ 1875 2525 1600 2525 \nQ 1350 2525 1150 2387 \nQ 950 2250 850 1900 \nL 2275 1900 \nz\n\" transform=\"scale(0.015625)\"/>\n       <path id=\"SimHei-70\" d=\"M 2850 1500 \nQ 2850 775 2500 400 \nQ 2150 25 1650 25 \nQ 1375 25 1175 137 \nQ 975 250 825 475 \nL 825 -825 \nL 325 -825 \nL 325 2900 \nL 825 2900 \nL 825 2525 \nQ 975 2750 1175 2850 \nQ 1375 2950 1650 2950 \nQ 2150 2950 2500 2587 \nQ 2850 2225 2850 1500 \nz\nM 2300 1500 \nQ 2300 1975 2112 2237 \nQ 1925 2500 1550 2500 \nQ 1250 2500 1037 2237 \nQ 825 1975 825 1500 \nQ 825 1025 1037 750 \nQ 1250 475 1550 475 \nQ 1925 475 2112 750 \nQ 2300 1025 2300 1500 \nz\n\" transform=\"scale(0.015625)\"/>\n       <path id=\"SimHei-6f\" d=\"M 2950 1500 \nQ 2950 850 2550 450 \nQ 2150 50 1600 50 \nQ 1050 50 650 450 \nQ 250 850 250 1500 \nQ 250 2150 650 2550 \nQ 1050 2950 1600 2950 \nQ 2150 2950 2550 2550 \nQ 2950 2150 2950 1500 \nz\nM 2400 1500 \nQ 2400 2000 2150 2250 \nQ 1900 2500 1600 2500 \nQ 1300 2500 1050 2250 \nQ 800 2000 800 1500 \nQ 800 1000 1050 750 \nQ 1300 500 1600 500 \nQ 1900 500 2150 750 \nQ 2400 1000 2400 1500 \nz\n\" transform=\"scale(0.015625)\"/>\n       <path id=\"SimHei-63\" d=\"M 2875 1225 \nQ 2875 700 2512 375 \nQ 2150 50 1600 50 \nQ 1050 50 650 437 \nQ 250 825 250 1500 \nQ 250 2175 650 2562 \nQ 1050 2950 1600 2950 \nQ 2150 2950 2475 2662 \nQ 2800 2375 2800 1975 \nL 2250 1975 \nQ 2225 2275 2037 2387 \nQ 1850 2500 1600 2500 \nQ 1300 2500 1050 2262 \nQ 800 2025 800 1500 \nQ 800 975 1050 737 \nQ 1300 500 1600 500 \nQ 1925 500 2125 675 \nQ 2325 850 2325 1225 \nL 2875 1225 \nz\n\" transform=\"scale(0.015625)\"/>\n       <path id=\"SimHei-68\" d=\"M 2825 100 \nL 2325 100 \nL 2325 1900 \nQ 2325 2200 2175 2375 \nQ 2025 2550 1775 2550 \nQ 1450 2550 1162 2212 \nQ 875 1875 875 1375 \nL 875 100 \nL 375 100 \nL 375 4375 \nL 875 4375 \nL 875 2375 \nQ 1075 2650 1312 2800 \nQ 1550 2950 1925 2950 \nQ 2375 2950 2600 2700 \nQ 2825 2450 2825 2075 \nL 2825 100 \nz\n\" transform=\"scale(0.015625)\"/>\n      </defs>\n      <use xlink:href=\"#SimHei-65\"/>\n      <use xlink:href=\"#SimHei-70\" x=\"50\"/>\n      <use xlink:href=\"#SimHei-6f\" x=\"100\"/>\n      <use xlink:href=\"#SimHei-63\" x=\"150\"/>\n      <use xlink:href=\"#SimHei-68\" x=\"200\"/>\n     </g>\n    </g>\n   </g>\n   <g id=\"matplotlib.axis_2\">\n    <g id=\"ytick_1\">\n     <g id=\"line2d_7\">\n      <path d=\"M 29.2 146.517969 \nL 224.5 146.517969 \n\" clip-path=\"url(#pe4648be0f5)\" style=\"fill: none; stroke: #b0b0b0; stroke-width: 0.8; stroke-linecap: square\"/>\n     </g>\n     <g id=\"line2d_8\">\n      <defs>\n       <path id=\"m301ca24e44\" d=\"M 0 0 \nL -3.5 0 \n\" style=\"stroke: #000000; stroke-width: 0.8\"/>\n      </defs>\n      <g>\n       <use xlink:href=\"#m301ca24e44\" x=\"29.2\" y=\"146.517969\" style=\"stroke: #000000; stroke-width: 0.8\"/>\n      </g>\n     </g>\n     <g id=\"text_5\">\n      <!-- 0.0 -->\n      <g transform=\"translate(7.2 149.935938)scale(0.1 -0.1)\">\n       <defs>\n        <path id=\"SimHei-2e\" d=\"M 1100 100 \nL 525 100 \nL 525 650 \nL 1100 650 \nL 1100 100 \nz\n\" transform=\"scale(0.015625)\"/>\n       </defs>\n       <use xlink:href=\"#SimHei-30\"/>\n       <use xlink:href=\"#SimHei-2e\" x=\"50\"/>\n       <use xlink:href=\"#SimHei-30\" x=\"100\"/>\n      </g>\n     </g>\n    </g>\n    <g id=\"ytick_2\">\n     <g id=\"line2d_9\">\n      <path d=\"M 29.2 119.337969 \nL 224.5 119.337969 \n\" clip-path=\"url(#pe4648be0f5)\" style=\"fill: none; stroke: #b0b0b0; stroke-width: 0.8; stroke-linecap: square\"/>\n     </g>\n     <g id=\"line2d_10\">\n      <g>\n       <use xlink:href=\"#m301ca24e44\" x=\"29.2\" y=\"119.337969\" style=\"stroke: #000000; stroke-width: 0.8\"/>\n      </g>\n     </g>\n     <g id=\"text_6\">\n      <!-- 0.2 -->\n      <g transform=\"translate(7.2 122.755938)scale(0.1 -0.1)\">\n       <use xlink:href=\"#SimHei-30\"/>\n       <use xlink:href=\"#SimHei-2e\" x=\"50\"/>\n       <use xlink:href=\"#SimHei-32\" x=\"100\"/>\n      </g>\n     </g>\n    </g>\n    <g id=\"ytick_3\">\n     <g id=\"line2d_11\">\n      <path d=\"M 29.2 92.157969 \nL 224.5 92.157969 \n\" clip-path=\"url(#pe4648be0f5)\" style=\"fill: none; stroke: #b0b0b0; stroke-width: 0.8; stroke-linecap: square\"/>\n     </g>\n     <g id=\"line2d_12\">\n      <g>\n       <use xlink:href=\"#m301ca24e44\" x=\"29.2\" y=\"92.157969\" style=\"stroke: #000000; stroke-width: 0.8\"/>\n      </g>\n     </g>\n     <g id=\"text_7\">\n      <!-- 0.4 -->\n      <g transform=\"translate(7.2 95.575938)scale(0.1 -0.1)\">\n       <defs>\n        <path id=\"SimHei-34\" d=\"M 2975 1200 \nL 2450 1200 \nL 2450 100 \nL 1875 100 \nL 1875 1200 \nL 200 1200 \nL 200 1675 \nL 1875 4425 \nL 2450 4425 \nL 2450 1675 \nL 2975 1675 \nL 2975 1200 \nz\nM 1875 1675 \nL 1875 3525 \nL 750 1675 \nL 1875 1675 \nz\n\" transform=\"scale(0.015625)\"/>\n       </defs>\n       <use xlink:href=\"#SimHei-30\"/>\n       <use xlink:href=\"#SimHei-2e\" x=\"50\"/>\n       <use xlink:href=\"#SimHei-34\" x=\"100\"/>\n      </g>\n     </g>\n    </g>\n    <g id=\"ytick_4\">\n     <g id=\"line2d_13\">\n      <path d=\"M 29.2 64.977969 \nL 224.5 64.977969 \n\" clip-path=\"url(#pe4648be0f5)\" style=\"fill: none; stroke: #b0b0b0; stroke-width: 0.8; stroke-linecap: square\"/>\n     </g>\n     <g id=\"line2d_14\">\n      <g>\n       <use xlink:href=\"#m301ca24e44\" x=\"29.2\" y=\"64.977969\" style=\"stroke: #000000; stroke-width: 0.8\"/>\n      </g>\n     </g>\n     <g id=\"text_8\">\n      <!-- 0.6 -->\n      <g transform=\"translate(7.2 68.395938)scale(0.1 -0.1)\">\n       <defs>\n        <path id=\"SimHei-36\" d=\"M 2850 1550 \nQ 2850 850 2550 450 \nQ 2250 50 1650 50 \nQ 1050 50 700 550 \nQ 350 1050 350 2175 \nQ 350 3200 712 3812 \nQ 1075 4425 1750 4425 \nQ 2225 4425 2512 4075 \nQ 2800 3725 2800 3300 \nL 2225 3300 \nQ 2225 3550 2087 3750 \nQ 1950 3950 1725 3950 \nQ 1350 3950 1150 3562 \nQ 950 3175 925 2375 \nQ 1100 2700 1300 2825 \nQ 1500 2950 1775 2950 \nQ 2250 2950 2550 2575 \nQ 2850 2200 2850 1550 \nz\nM 2250 1550 \nQ 2250 2000 2100 2250 \nQ 1950 2500 1675 2500 \nQ 1350 2500 1162 2250 \nQ 975 2000 975 1650 \nQ 975 1100 1162 800 \nQ 1350 500 1675 500 \nQ 1900 500 2075 725 \nQ 2250 950 2250 1550 \nz\n\" transform=\"scale(0.015625)\"/>\n       </defs>\n       <use xlink:href=\"#SimHei-30\"/>\n       <use xlink:href=\"#SimHei-2e\" x=\"50\"/>\n       <use xlink:href=\"#SimHei-36\" x=\"100\"/>\n      </g>\n     </g>\n    </g>\n    <g id=\"ytick_5\">\n     <g id=\"line2d_15\">\n      <path d=\"M 29.2 37.797969 \nL 224.5 37.797969 \n\" clip-path=\"url(#pe4648be0f5)\" style=\"fill: none; stroke: #b0b0b0; stroke-width: 0.8; stroke-linecap: square\"/>\n     </g>\n     <g id=\"line2d_16\">\n      <g>\n       <use xlink:href=\"#m301ca24e44\" x=\"29.2\" y=\"37.797969\" style=\"stroke: #000000; stroke-width: 0.8\"/>\n      </g>\n     </g>\n     <g id=\"text_9\">\n      <!-- 0.8 -->\n      <g transform=\"translate(7.2 41.215938)scale(0.1 -0.1)\">\n       <defs>\n        <path id=\"SimHei-38\" d=\"M 2875 1325 \nQ 2875 700 2525 375 \nQ 2175 50 1575 50 \nQ 975 50 625 375 \nQ 275 700 275 1325 \nQ 275 1650 475 1912 \nQ 675 2175 1025 2300 \nQ 725 2425 562 2650 \nQ 400 2875 400 3225 \nQ 400 3775 750 4100 \nQ 1100 4425 1575 4425 \nQ 2050 4425 2400 4100 \nQ 2750 3775 2750 3225 \nQ 2750 2875 2587 2650 \nQ 2425 2425 2125 2300 \nQ 2475 2175 2675 1912 \nQ 2875 1650 2875 1325 \nz\nM 2200 3225 \nQ 2200 3625 2025 3800 \nQ 1850 3975 1575 3975 \nQ 1300 3975 1125 3800 \nQ 950 3625 950 3225 \nQ 950 2825 1137 2662 \nQ 1325 2500 1575 2500 \nQ 1825 2500 2012 2662 \nQ 2200 2825 2200 3225 \nz\nM 2300 1325 \nQ 2300 1675 2112 1875 \nQ 1925 2075 1575 2075 \nQ 1225 2075 1037 1875 \nQ 850 1675 850 1325 \nQ 850 925 1050 712 \nQ 1250 500 1575 500 \nQ 1900 500 2100 712 \nQ 2300 925 2300 1325 \nz\n\" transform=\"scale(0.015625)\"/>\n       </defs>\n       <use xlink:href=\"#SimHei-30\"/>\n       <use xlink:href=\"#SimHei-2e\" x=\"50\"/>\n       <use xlink:href=\"#SimHei-38\" x=\"100\"/>\n      </g>\n     </g>\n    </g>\n    <g id=\"ytick_6\">\n     <g id=\"line2d_17\">\n      <path d=\"M 29.2 10.617969 \nL 224.5 10.617969 \n\" clip-path=\"url(#pe4648be0f5)\" style=\"fill: none; stroke: #b0b0b0; stroke-width: 0.8; stroke-linecap: square\"/>\n     </g>\n     <g id=\"line2d_18\">\n      <g>\n       <use xlink:href=\"#m301ca24e44\" x=\"29.2\" y=\"10.617969\" style=\"stroke: #000000; stroke-width: 0.8\"/>\n      </g>\n     </g>\n     <g id=\"text_10\">\n      <!-- 1.0 -->\n      <g transform=\"translate(7.2 14.035938)scale(0.1 -0.1)\">\n       <use xlink:href=\"#SimHei-31\"/>\n       <use xlink:href=\"#SimHei-2e\" x=\"50\"/>\n       <use xlink:href=\"#SimHei-30\" x=\"100\"/>\n      </g>\n     </g>\n    </g>\n   </g>\n   <g id=\"line2d_19\">\n    <path d=\"M 25.956031 -1 \nL 26.670332 9.918329 \nL 27.92711 23.032724 \nL 29.2 32.75769 \nL 30.456777 82.626575 \nL 32.970332 85.138398 \nL 34.22711 86.604858 \nL 35.5 87.891027 \nL 36.756777 105.14962 \nL 38.013555 105.203668 \nL 39.270332 105.507313 \nL 40.52711 105.653939 \nL 41.8 105.311273 \nL 43.056777 114.086941 \nL 44.313555 114.894103 \nL 45.570332 114.106945 \nL 48.1 113.296068 \nL 49.356777 119.744122 \nL 50.613555 120.078793 \nL 51.870332 119.548228 \nL 53.12711 119.612209 \nL 54.4 119.546616 \nL 55.656777 124.658182 \nL 56.913555 124.362582 \nL 58.170332 124.182988 \nL 59.42711 124.195603 \nL 60.7 123.797941 \nL 61.956777 127.222547 \nL 63.213555 127.200919 \nL 64.470332 127.856713 \nL 67 128.02607 \nL 68.256777 131.752659 \nL 69.513555 131.848199 \nL 70.770332 131.392782 \nL 72.02711 130.702387 \nL 73.3 130.444989 \nL 74.556777 133.142328 \nL 75.813555 133.090834 \nL 78.32711 133.217852 \nL 79.6 132.791191 \nL 80.856777 134.898406 \nL 82.113555 135.558976 \nL 83.370332 135.516547 \nL 85.9 134.91905 \nL 87.156777 136.374726 \nL 88.413555 136.376462 \nL 92.2 135.966696 \nL 93.456777 137.649763 \nL 94.713555 137.925528 \nL 95.970332 137.814712 \nL 97.22711 137.472465 \nL 98.5 137.355561 \nL 99.756777 139.407798 \nL 103.52711 139.044882 \nL 104.8 139.174396 \nL 106.056777 140.30498 \nL 107.313555 139.860147 \nL 109.82711 139.673738 \nL 111.1 139.64624 \nL 112.356777 140.78784 \nL 113.613555 140.566213 \nL 117.4 140.721981 \nL 119.913555 141.443573 \nL 123.7 141.201257 \nL 124.956777 141.575712 \nL 126.213555 141.672886 \nL 127.470332 141.890125 \nL 130 142.036736 \nL 131.256777 142.710856 \nL 132.513555 142.211873 \nL 135.02711 142.285351 \nL 136.3 142.273697 \nL 137.556777 142.669296 \nL 138.813555 142.357494 \nL 140.070332 142.562818 \nL 142.6 142.657614 \nL 143.856777 143.012066 \nL 147.62711 143.063904 \nL 150.156777 142.961972 \nL 152.670332 143.170481 \nL 155.2 143.163391 \nL 156.456777 143.850939 \nL 157.713555 143.780078 \nL 158.970332 143.596748 \nL 160.22711 143.568353 \nL 161.5 143.37952 \nL 162.756777 143.44719 \nL 165.270332 143.781786 \nL 166.52711 143.875516 \nL 167.8 143.768838 \nL 169.056777 143.998787 \nL 170.313555 144.035781 \nL 171.570332 143.80011 \nL 174.1 143.760467 \nL 175.356777 143.978022 \nL 177.870332 143.876712 \nL 180.4 143.903245 \nL 181.656777 144.383953 \nL 182.913555 144.100216 \nL 186.7 144.069019 \nL 187.956777 144.145706 \nL 189.213555 144.343232 \nL 191.72711 144.311167 \nL 195.513555 144.20449 \nL 199.3 144.377411 \nL 203.070332 144.459833 \nL 206.856777 144.479094 \nL 208.113555 144.29045 \nL 211.9 144.398882 \nL 214.413555 144.616763 \nL 216.92711 144.601868 \nL 218.2 144.644612 \nL 219.456777 144.561173 \nL 220.713555 144.593647 \nL 223.22711 144.465758 \nL 224.5 144.543569 \nL 224.5 144.543569 \n\" clip-path=\"url(#pe4648be0f5)\" style=\"fill: none; stroke: #1f77b4; stroke-width: 1.5; stroke-linecap: square\"/>\n   </g>\n   <g id=\"line2d_20\">\n    <path d=\"M 24.156777 77.996274 \nL 25.413555 65.085502 \nL 26.670332 58.01872 \nL 27.92711 53.314716 \nL 29.2 49.835991 \nL 30.456777 32.573768 \nL 35.5 30.663219 \nL 36.756777 25.060066 \nL 41.8 24.895623 \nL 43.056777 21.711569 \nL 44.313555 21.677539 \nL 46.82711 21.976998 \nL 48.1 22.058031 \nL 49.356777 19.642578 \nL 50.613555 19.65619 \nL 51.870332 19.873978 \nL 54.4 19.842861 \nL 55.656777 18.118059 \nL 56.913555 18.349459 \nL 60.7 18.557247 \nL 61.956777 17.015505 \nL 63.213555 17.240099 \nL 64.470332 16.974669 \nL 67 16.959063 \nL 68.256777 16.008233 \nL 69.513555 15.844892 \nL 73.3 16.320333 \nL 74.556777 14.892067 \nL 77.070332 15.16884 \nL 78.32711 15.194929 \nL 79.6 15.355443 \nL 80.856777 14.60622 \nL 82.113555 14.442879 \nL 84.62711 14.534758 \nL 85.9 14.684097 \nL 87.156777 14.007302 \nL 90.92711 14.16724 \nL 92.2 14.205729 \nL 94.713555 13.639784 \nL 95.970332 13.61256 \nL 97.22711 13.796319 \nL 98.5 13.814337 \nL 99.756777 13.095313 \nL 101.013555 13.217819 \nL 104.8 13.229967 \nL 106.056777 12.727794 \nL 109.82711 12.870718 \nL 111.1 12.884781 \nL 112.356777 12.455559 \nL 116.12711 12.6189 \nL 117.4 12.580365 \nL 118.656777 12.305829 \nL 119.913555 12.183323 \nL 121.170332 12.33759 \nL 123.7 12.390105 \nL 124.956777 12.088041 \nL 142.6 11.884557 \nL 143.856777 11.666076 \nL 151.413555 11.713717 \nL 153.92711 11.672882 \nL 155.2 11.683425 \nL 156.456777 11.434675 \nL 165.270332 11.452825 \nL 167.8 11.487729 \nL 177.870332 11.470974 \nL 180.4 11.482293 \nL 181.656777 11.257722 \nL 182.913555 11.414258 \nL 186.7 11.398035 \nL 187.956777 11.461899 \nL 189.213555 11.305364 \nL 193 11.343675 \nL 195.513555 11.359811 \nL 199.3 11.294751 \nL 201.813555 11.12841 \nL 208.113555 11.298558 \nL 214.413555 11.223693 \nL 216.92711 11.233902 \nL 220.713555 11.196469 \nL 224.5 11.196903 \nL 224.5 11.196903 \n\" clip-path=\"url(#pe4648be0f5)\" style=\"fill: none; stroke-dasharray: 5.55,2.4; stroke-dashoffset: 0; stroke: #bf00bf; stroke-width: 1.5\"/>\n   </g>\n   <g id=\"line2d_21\">\n    <path d=\"M 29.2 40.692639 \nL 35.5 32.660949 \nL 41.8 31.057329 \nL 48.1 27.442389 \nL 54.4 26.491089 \nL 60.7 29.942949 \nL 67 25.689279 \nL 73.3 25.431069 \nL 79.6 23.881809 \nL 85.9 24.710799 \nL 92.2 24.371049 \nL 98.5 23.610009 \nL 104.8 23.079999 \nL 111.1 22.740249 \nL 117.4 22.087929 \nL 123.7 22.019979 \nL 130 22.101519 \nL 136.3 23.188719 \nL 142.6 21.163809 \nL 148.9 21.952029 \nL 155.2 22.645119 \nL 161.5 21.965619 \nL 167.8 22.441269 \nL 174.1 22.318959 \nL 180.4 22.359729 \nL 186.7 21.761769 \nL 193 21.938439 \nL 199.3 21.598689 \nL 205.6 22.019979 \nL 211.9 21.326889 \nL 218.2 21.503559 \nL 224.5 21.489969 \n\" clip-path=\"url(#pe4648be0f5)\" style=\"fill: none; stroke-dasharray: 9.6,2.4,1.5,2.4; stroke-dashoffset: 0; stroke: #008000; stroke-width: 1.5\"/>\n   </g>\n   <g id=\"patch_3\">\n    <path d=\"M 29.2 146.517969 \nL 29.2 10.617969 \n\" style=\"fill: none; stroke: #000000; stroke-width: 0.8; stroke-linejoin: miter; stroke-linecap: square\"/>\n   </g>\n   <g id=\"patch_4\">\n    <path d=\"M 224.5 146.517969 \nL 224.5 10.617969 \n\" style=\"fill: none; stroke: #000000; stroke-width: 0.8; stroke-linejoin: miter; stroke-linecap: square\"/>\n   </g>\n   <g id=\"patch_5\">\n    <path d=\"M 29.2 146.517969 \nL 224.5 146.517969 \n\" style=\"fill: none; stroke: #000000; stroke-width: 0.8; stroke-linejoin: miter; stroke-linecap: square\"/>\n   </g>\n   <g id=\"patch_6\">\n    <path d=\"M 29.2 10.617969 \nL 224.5 10.617969 \n\" style=\"fill: none; stroke: #000000; stroke-width: 0.8; stroke-linejoin: miter; stroke-linecap: square\"/>\n   </g>\n   <g id=\"legend_1\">\n    <g id=\"patch_7\">\n     <path d=\"M 135.5 141.517969 \nL 217.5 141.517969 \nQ 219.5 141.517969 219.5 139.517969 \nL 219.5 100.650781 \nQ 219.5 98.650781 217.5 98.650781 \nL 135.5 98.650781 \nQ 133.5 98.650781 133.5 100.650781 \nL 133.5 139.517969 \nQ 133.5 141.517969 135.5 141.517969 \nz\n\" style=\"fill: #ffffff; opacity: 0.8; stroke: #cccccc; stroke-linejoin: miter\"/>\n    </g>\n    <g id=\"line2d_22\">\n     <path d=\"M 137.5 106.150781 \nL 147.5 106.150781 \nL 157.5 106.150781 \n\" style=\"fill: none; stroke: #1f77b4; stroke-width: 1.5; stroke-linecap: square\"/>\n    </g>\n    <g id=\"text_11\">\n     <!-- train loss -->\n     <g transform=\"translate(165.5 109.650781)scale(0.1 -0.1)\">\n      <defs>\n       <path id=\"SimHei-74\" d=\"M 2775 175 \nQ 2650 125 2487 87 \nQ 2325 50 2050 50 \nQ 1600 50 1325 300 \nQ 1050 550 1050 1000 \nL 1050 2500 \nL 200 2500 \nL 200 2900 \nL 1050 2900 \nL 1050 3875 \nL 1550 3875 \nL 1550 2900 \nL 2575 2900 \nL 2575 2500 \nL 1550 2500 \nL 1550 975 \nQ 1550 775 1650 637 \nQ 1750 500 2025 500 \nQ 2300 500 2475 550 \nQ 2650 600 2775 675 \nL 2775 175 \nz\n\" transform=\"scale(0.015625)\"/>\n       <path id=\"SimHei-72\" d=\"M 2525 2400 \nQ 2050 2475 1725 2262 \nQ 1400 2050 1175 1525 \nL 1175 100 \nL 675 100 \nL 675 2900 \nL 1175 2900 \nL 1175 2175 \nQ 1400 2575 1737 2762 \nQ 2075 2950 2525 2950 \nL 2525 2400 \nz\n\" transform=\"scale(0.015625)\"/>\n       <path id=\"SimHei-61\" d=\"M 2900 100 \nL 2300 100 \nQ 2250 150 2225 237 \nQ 2200 325 2200 450 \nQ 2025 250 1775 150 \nQ 1525 50 1250 50 \nQ 850 50 575 250 \nQ 300 450 300 825 \nQ 300 1200 550 1425 \nQ 800 1650 1325 1725 \nQ 1675 1775 1937 1850 \nQ 2200 1925 2200 2050 \nQ 2200 2200 2087 2350 \nQ 1975 2500 1600 2500 \nQ 1300 2500 1162 2387 \nQ 1025 2275 975 2075 \nL 425 2075 \nQ 475 2475 787 2712 \nQ 1100 2950 1600 2950 \nQ 2150 2950 2425 2700 \nQ 2700 2450 2700 2000 \nL 2700 625 \nQ 2700 475 2750 350 \nQ 2800 225 2900 100 \nz\nM 2200 1025 \nL 2200 1525 \nQ 2050 1475 1912 1437 \nQ 1775 1400 1450 1350 \nQ 1075 1300 962 1175 \nQ 850 1050 850 875 \nQ 850 725 962 612 \nQ 1075 500 1300 500 \nQ 1525 500 1787 625 \nQ 2050 750 2200 1025 \nz\n\" transform=\"scale(0.015625)\"/>\n       <path id=\"SimHei-69\" d=\"M 1825 3700 \nL 1325 3700 \nL 1325 4350 \nL 1825 4350 \nL 1825 3700 \nz\nM 1825 100 \nL 1325 100 \nL 1325 2900 \nL 1825 2900 \nL 1825 100 \nz\n\" transform=\"scale(0.015625)\"/>\n       <path id=\"SimHei-6e\" d=\"M 2825 100 \nL 2325 100 \nL 2325 1900 \nQ 2325 2200 2175 2375 \nQ 2025 2550 1775 2550 \nQ 1450 2550 1162 2212 \nQ 875 1875 875 1375 \nL 875 100 \nL 375 100 \nL 375 2900 \nL 875 2900 \nL 875 2375 \nQ 1075 2650 1312 2800 \nQ 1550 2950 1925 2950 \nQ 2375 2950 2600 2700 \nQ 2825 2450 2825 2075 \nL 2825 100 \nz\n\" transform=\"scale(0.015625)\"/>\n       <path id=\"SimHei-20\" transform=\"scale(0.015625)\"/>\n       <path id=\"SimHei-6c\" d=\"M 1850 100 \nL 1350 100 \nL 1350 4375 \nL 1850 4375 \nL 1850 100 \nz\n\" transform=\"scale(0.015625)\"/>\n       <path id=\"SimHei-73\" d=\"M 2775 875 \nQ 2775 475 2462 262 \nQ 2150 50 1675 50 \nQ 1075 50 750 287 \nQ 425 525 425 975 \nL 925 975 \nQ 925 675 1137 575 \nQ 1350 475 1650 475 \nQ 1950 475 2100 587 \nQ 2250 700 2250 875 \nQ 2250 1000 2125 1125 \nQ 2000 1250 1500 1325 \nQ 925 1400 712 1612 \nQ 500 1825 500 2175 \nQ 500 2475 787 2712 \nQ 1075 2950 1625 2950 \nQ 2125 2950 2412 2725 \nQ 2700 2500 2700 2125 \nL 2200 2125 \nQ 2200 2350 2037 2437 \nQ 1875 2525 1625 2525 \nQ 1300 2525 1162 2412 \nQ 1025 2300 1025 2150 \nQ 1025 1975 1150 1875 \nQ 1275 1775 1675 1725 \nQ 2325 1625 2550 1412 \nQ 2775 1200 2775 875 \nz\n\" transform=\"scale(0.015625)\"/>\n      </defs>\n      <use xlink:href=\"#SimHei-74\"/>\n      <use xlink:href=\"#SimHei-72\" x=\"50\"/>\n      <use xlink:href=\"#SimHei-61\" x=\"100\"/>\n      <use xlink:href=\"#SimHei-69\" x=\"150\"/>\n      <use xlink:href=\"#SimHei-6e\" x=\"200\"/>\n      <use xlink:href=\"#SimHei-20\" x=\"250\"/>\n      <use xlink:href=\"#SimHei-6c\" x=\"300\"/>\n      <use xlink:href=\"#SimHei-6f\" x=\"350\"/>\n      <use xlink:href=\"#SimHei-73\" x=\"400\"/>\n      <use xlink:href=\"#SimHei-73\" x=\"450\"/>\n     </g>\n    </g>\n    <g id=\"line2d_23\">\n     <path d=\"M 137.5 119.439844 \nL 147.5 119.439844 \nL 157.5 119.439844 \n\" style=\"fill: none; stroke-dasharray: 5.55,2.4; stroke-dashoffset: 0; stroke: #bf00bf; stroke-width: 1.5\"/>\n    </g>\n    <g id=\"text_12\">\n     <!-- train acc -->\n     <g transform=\"translate(165.5 122.939844)scale(0.1 -0.1)\">\n      <use xlink:href=\"#SimHei-74\"/>\n      <use xlink:href=\"#SimHei-72\" x=\"50\"/>\n      <use xlink:href=\"#SimHei-61\" x=\"100\"/>\n      <use xlink:href=\"#SimHei-69\" x=\"150\"/>\n      <use xlink:href=\"#SimHei-6e\" x=\"200\"/>\n      <use xlink:href=\"#SimHei-20\" x=\"250\"/>\n      <use xlink:href=\"#SimHei-61\" x=\"300\"/>\n      <use xlink:href=\"#SimHei-63\" x=\"350\"/>\n      <use xlink:href=\"#SimHei-63\" x=\"400\"/>\n     </g>\n    </g>\n    <g id=\"line2d_24\">\n     <path d=\"M 137.5 132.728906 \nL 147.5 132.728906 \nL 157.5 132.728906 \n\" style=\"fill: none; stroke-dasharray: 9.6,2.4,1.5,2.4; stroke-dashoffset: 0; stroke: #008000; stroke-width: 1.5\"/>\n    </g>\n    <g id=\"text_13\">\n     <!-- test acc -->\n     <g transform=\"translate(165.5 136.228906)scale(0.1 -0.1)\">\n      <use xlink:href=\"#SimHei-74\"/>\n      <use xlink:href=\"#SimHei-65\" x=\"50\"/>\n      <use xlink:href=\"#SimHei-73\" x=\"100\"/>\n      <use xlink:href=\"#SimHei-74\" x=\"150\"/>\n      <use xlink:href=\"#SimHei-20\" x=\"200\"/>\n      <use xlink:href=\"#SimHei-61\" x=\"250\"/>\n      <use xlink:href=\"#SimHei-63\" x=\"300\"/>\n      <use xlink:href=\"#SimHei-63\" x=\"350\"/>\n     </g>\n    </g>\n   </g>\n  </g>\n </g>\n <defs>\n  <clipPath id=\"pe4648be0f5\">\n   <rect x=\"29.2\" y=\"10.617969\" width=\"195.3\" height=\"135.9\"/>\n  </clipPath>\n </defs>\n</svg>\n",
      "text/plain": [
       "<Figure size 252x180 with 1 Axes>"
      ]
     },
     "metadata": {
      "needs_background": "light"
     },
     "output_type": "display_data"
    }
   ],
   "source": [
    "model = create_model()\n",
    "mod = fine_tune(model, 32,\n",
    "                train_iter, test_iter, \n",
    "                try_all_gpus(),\n",
    "                lr=0.000142857,\n",
    "                lr_period=2,\n",
    "                lr_decay=0.857142,\n",
    "                weight_decay=0.00857142,\n",
    "                momentum=0.857142)\n",
    "\n",
    "torch.save(mod.state_dict(), \n",
    "           'models/resnet18_cifar10_batch_size_64.h5')"
   ]
  },
  {
   "cell_type": "code",
   "execution_count": 11,
   "metadata": {},
   "outputs": [],
   "source": [
    "batch_size = 32\n",
    "train_iter, test_iter = load_data_cifar10(batch_size=batch_size)\n",
    "model = create_model()\n",
    "mod = fine_tune(model, 32,\n",
    "                train_iter, test_iter, \n",
    "                try_all_gpus(),\n",
    "                lr=0.000142857,\n",
    "                lr_period=2,\n",
    "                lr_decay=0.857142,\n",
    "                weight_decay=0.00857142,\n",
    "                momentum=0.857142)\n",
    "\n",
    "torch.save(mod.state_dict(), \n",
    "           f'models/resnet18_cifar10_batch_size_{batch_size}.h5')"
   ]
  },
  {
   "cell_type": "code",
   "execution_count": 8,
   "metadata": {},
   "outputs": [],
   "source": [
    "# 性能度量\n",
    "# inputs = torch.randn(5, 3, 32, 32)\n",
    "# with profile(activities=[ProfilerActivity.CPU],\n",
    "#              record_shapes=True) as prof:\n",
    "#     with record_function(\"model_inference\"):\n",
    "#         model(inputs)\n",
    "# print(prof.key_averages(group_by_input_shape=True).table(sort_by=\"cpu_time_total\", \n",
    "#                                                          row_limit=10))\n",
    "# model = model.cuda()\n",
    "# inputs = torch.randn(5, 3, 32, 32).cuda()\n",
    "\n",
    "# with profile(activities=[\n",
    "#         ProfilerActivity.CPU, ProfilerActivity.CUDA], record_shapes=True) as prof:\n",
    "#     with record_function(\"model_inference\"):\n",
    "#         model(inputs)\n",
    "\n",
    "# print(prof.key_averages().table(sort_by=\"cuda_time_total\", row_limit=10))"
   ]
  },
  {
   "cell_type": "markdown",
   "metadata": {},
   "source": [
    "## 模块变换\n",
    "\n",
    "利用 FX 替换全部 {class}`~torch.nn.ReLU` 为 {func}`torch.sigmoid`。"
   ]
  },
  {
   "cell_type": "code",
   "execution_count": 9,
   "metadata": {},
   "outputs": [],
   "source": [
    "def replace(model):\n",
    "    mod = fx.symbolic_trace(model)\n",
    "    # 遍历 Graph 中全部节点\n",
    "    for node in mod.graph.nodes:\n",
    "        # 如果匹配目标\n",
    "        if node.op == \"call_module\":\n",
    "            if \"relu\" in node.target:\n",
    "                # 设置插入点，添加新节点，用新节点替换所有 `node` 的用法\n",
    "                with mod.graph.inserting_after(node):\n",
    "                    new_node = mod.graph.call_function(torch.sigmoid, node.args, node.kwargs)\n",
    "                    node.replace_all_uses_with(new_node)\n",
    "                # 移除 graph 中旧的节点\n",
    "                mod.graph.erase_node(node)\n",
    "    mod.graph.lint()\n",
    "    # 不用忘记 recompile！\n",
    "    new_code = mod.recompile()\n",
    "    return mod"
   ]
  },
  {
   "cell_type": "code",
   "execution_count": null,
   "metadata": {},
   "outputs": [],
   "source": []
  }
 ],
 "metadata": {
  "kernelspec": {
   "display_name": "Python 3.10.4 ('tvmx': conda)",
   "language": "python",
   "name": "python3"
  },
  "language_info": {
   "codemirror_mode": {
    "name": "ipython",
    "version": 3
   },
   "file_extension": ".py",
   "mimetype": "text/x-python",
   "name": "python",
   "nbconvert_exporter": "python",
   "pygments_lexer": "ipython3",
   "version": "3.10.4"
  },
  "orig_nbformat": 4,
  "vscode": {
   "interpreter": {
    "hash": "e579259ee6098e2b9319de590d145b4b096774fe457bdf04260e3ba5c171e887"
   }
  }
 },
 "nbformat": 4,
 "nbformat_minor": 2
}
