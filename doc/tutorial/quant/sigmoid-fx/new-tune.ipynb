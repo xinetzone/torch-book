{
 "cells": [
  {
   "cell_type": "markdown",
   "metadata": {},
   "source": [
    "# 测试"
   ]
  },
  {
   "cell_type": "code",
   "execution_count": 1,
   "metadata": {},
   "outputs": [
    {
     "name": "stdout",
     "output_type": "stream",
     "text": [
      "Files already downloaded and verified\n",
      "Files already downloaded and verified\n"
     ]
    },
    {
     "data": {
      "text/plain": [
       "<All keys matched successfully>"
      ]
     },
     "execution_count": 1,
     "metadata": {},
     "output_type": "execute_result"
    }
   ],
   "source": [
    "import torch\n",
    "from torch import nn, fx, optim\n",
    "from torch.nn import functional as F\n",
    "from torch.profiler import profile, record_function, ProfilerActivity\n",
    "from torch.ao.quantization import observer\n",
    "from torchvision.models import resnet18, ResNet18_Weights\n",
    "from torch_book.data.simple_vision import load_data_cifar10\n",
    "from torch_book.tools import train, try_all_gpus #try_gpu\n",
    "from torch_book.tools import evaluate_accuracy\n",
    "# from fixed_sigmoid import linear_sigmoid\n",
    "from fit_sigmoid import sigmoid2linear\n",
    "\n",
    "\n",
    "torch.cuda.empty_cache() # 清空 GPU 缓存\n",
    "\n",
    "batch_size = 32\n",
    "train_iter, test_iter = load_data_cifar10(batch_size=batch_size)\n",
    "model = resnet18(weights=ResNet18_Weights.DEFAULT)\n",
    "model.conv1 = nn.Conv2d(model.conv1.in_channels, \n",
    "                        model.conv1.out_channels, \n",
    "                        3, 1, 1)\n",
    "model.maxpool = nn.Identity()\n",
    "model.fc = nn.Linear(model.fc.in_features, 10)\n",
    "\n",
    "# 替换 ReLU 为 torch.sigmoid\n",
    "mod = fx.symbolic_trace(model)\n",
    "# 遍历 Graph 中全部节点\n",
    "for node in mod.graph.nodes:\n",
    "    # 如果匹配目标\n",
    "    if node.op == \"call_module\":\n",
    "        if \"relu\" in node.target:\n",
    "            # 设置插入点，添加新节点，用新节点替换所有 `node` 的用法\n",
    "            with mod.graph.inserting_after(node):\n",
    "                new_node = mod.graph.call_function(torch.sigmoid, node.args, node.kwargs)\n",
    "                node.replace_all_uses_with(new_node)\n",
    "            # 移除 graph 中旧的节点\n",
    "            mod.graph.erase_node(node)\n",
    "mod.graph.lint()\n",
    "# 不用忘记 recompile!\n",
    "new_code = mod.recompile()\n",
    "\n",
    "# 加载模型参数\n",
    "state_dict = torch.load(\"models/resnet18_cifar10_sigmoid.h5\")\n",
    "mod.load_state_dict(state_dict)"
   ]
  },
  {
   "cell_type": "code",
   "execution_count": 2,
   "metadata": {},
   "outputs": [
    {
     "data": {
      "text/plain": [
       "0.8407"
      ]
     },
     "execution_count": 2,
     "metadata": {},
     "output_type": "execute_result"
    }
   ],
   "source": [
    "valid_acc = evaluate_accuracy(mod, test_iter)\n",
    "valid_acc"
   ]
  },
  {
   "cell_type": "code",
   "execution_count": 3,
   "metadata": {},
   "outputs": [
    {
     "name": "stdout",
     "output_type": "stream",
     "text": [
      "sigmoid <function sigmoid2linear at 0x7f8d473505e0>\n",
      "sigmoid_1 <function sigmoid2linear at 0x7f8d473505e0>\n",
      "sigmoid_2 <function sigmoid2linear at 0x7f8d473505e0>\n",
      "sigmoid_3 <function sigmoid2linear at 0x7f8d473505e0>\n",
      "sigmoid_4 <function sigmoid2linear at 0x7f8d473505e0>\n",
      "sigmoid_5 <function sigmoid2linear at 0x7f8d473505e0>\n",
      "sigmoid_6 <function sigmoid2linear at 0x7f8d473505e0>\n",
      "sigmoid_7 <function sigmoid2linear at 0x7f8d473505e0>\n",
      "sigmoid_8 <function sigmoid2linear at 0x7f8d473505e0>\n",
      "sigmoid_9 <function sigmoid2linear at 0x7f8d473505e0>\n",
      "sigmoid_10 <function sigmoid2linear at 0x7f8d473505e0>\n",
      "sigmoid_11 <function sigmoid2linear at 0x7f8d473505e0>\n",
      "sigmoid_12 <function sigmoid2linear at 0x7f8d473505e0>\n",
      "sigmoid_13 <function sigmoid2linear at 0x7f8d473505e0>\n",
      "sigmoid_14 <function sigmoid2linear at 0x7f8d473505e0>\n",
      "sigmoid_15 <function sigmoid2linear at 0x7f8d473505e0>\n",
      "sigmoid_16 <function sigmoid2linear at 0x7f8d473505e0>\n"
     ]
    }
   ],
   "source": [
    "# from fixed_sigmoid import linear_sigmoid\n",
    "# 遍历 Graph 中全部节点\n",
    "for node in mod.graph.nodes:\n",
    "    # 如果匹配目标\n",
    "    if node.op == \"call_function\":\n",
    "        # if node.name == \"sigmoid\":\n",
    "        if \"sigmoid\" in node.name:\n",
    "            node.target = sigmoid2linear\n",
    "            print(node.name, node.target)\n",
    "mod.graph.lint()\n",
    "# 不用忘记 recompile!\n",
    "new_code = mod.recompile()"
   ]
  },
  {
   "cell_type": "code",
   "execution_count": 4,
   "metadata": {},
   "outputs": [
    {
     "data": {
      "text/plain": [
       "0.1243"
      ]
     },
     "execution_count": 4,
     "metadata": {},
     "output_type": "execute_result"
    }
   ],
   "source": [
    "valid_acc = evaluate_accuracy(mod, test_iter)\n",
    "valid_acc"
   ]
  },
  {
   "cell_type": "code",
   "execution_count": 5,
   "metadata": {},
   "outputs": [
    {
     "data": {
      "image/svg+xml": "<?xml version=\"1.0\" encoding=\"utf-8\" standalone=\"no\"?>\n<!DOCTYPE svg PUBLIC \"-//W3C//DTD SVG 1.1//EN\"\n  \"http://www.w3.org/Graphics/SVG/1.1/DTD/svg11.dtd\">\n<svg xmlns:xlink=\"http://www.w3.org/1999/xlink\" width=\"239.2pt\" height=\"180.967969pt\" viewBox=\"0 0 239.2 180.967969\" xmlns=\"http://www.w3.org/2000/svg\" version=\"1.1\">\n <metadata>\n  <rdf:RDF xmlns:dc=\"http://purl.org/dc/elements/1.1/\" xmlns:cc=\"http://creativecommons.org/ns#\" xmlns:rdf=\"http://www.w3.org/1999/02/22-rdf-syntax-ns#\">\n   <cc:Work>\n    <dc:type rdf:resource=\"http://purl.org/dc/dcmitype/StillImage\"/>\n    <dc:date>2022-10-26T18:23:06.596126</dc:date>\n    <dc:format>image/svg+xml</dc:format>\n    <dc:creator>\n     <cc:Agent>\n      <dc:title>Matplotlib v3.5.1, https://matplotlib.org/</dc:title>\n     </cc:Agent>\n    </dc:creator>\n   </cc:Work>\n  </rdf:RDF>\n </metadata>\n <defs>\n  <style type=\"text/css\">*{stroke-linejoin: round; stroke-linecap: butt}</style>\n </defs>\n <g id=\"figure_1\">\n  <g id=\"patch_1\">\n   <path d=\"M 0 180.967969 \nL 239.2 180.967969 \nL 239.2 0 \nL 0 0 \nL 0 180.967969 \nz\n\" style=\"fill: none\"/>\n  </g>\n  <g id=\"axes_1\">\n   <g id=\"patch_2\">\n    <path d=\"M 29.2 146.517969 \nL 224.5 146.517969 \nL 224.5 10.617969 \nL 29.2 10.617969 \nz\n\" style=\"fill: #ffffff\"/>\n   </g>\n   <g id=\"matplotlib.axis_1\">\n    <g id=\"xtick_1\">\n     <g id=\"line2d_1\">\n      <path d=\"M 66.681818 146.517969 \nL 66.681818 10.617969 \n\" clip-path=\"url(#p4850671794)\" style=\"fill: none; stroke: #b0b0b0; stroke-width: 0.8; stroke-linecap: square\"/>\n     </g>\n     <g id=\"line2d_2\">\n      <defs>\n       <path id=\"m616cc30d9d\" d=\"M 0 0 \nL 0 3.5 \n\" style=\"stroke: #000000; stroke-width: 0.8\"/>\n      </defs>\n      <g>\n       <use xlink:href=\"#m616cc30d9d\" x=\"66.681818\" y=\"146.517969\" style=\"stroke: #000000; stroke-width: 0.8\"/>\n      </g>\n     </g>\n     <g id=\"text_1\">\n      <!-- 20 -->\n      <g transform=\"translate(61.681818 160.353906)scale(0.1 -0.1)\">\n       <defs>\n        <path id=\"SimHei-32\" d=\"M 2850 100 \nL 300 100 \nL 300 500 \nQ 450 900 712 1237 \nQ 975 1575 1475 2000 \nQ 1850 2325 2012 2600 \nQ 2175 2875 2175 3200 \nQ 2175 3525 2037 3737 \nQ 1900 3950 1600 3950 \nQ 1350 3950 1162 3725 \nQ 975 3500 975 2925 \nL 400 2925 \nQ 425 3650 737 4037 \nQ 1050 4425 1625 4425 \nQ 2175 4425 2475 4087 \nQ 2775 3750 2775 3175 \nQ 2775 2700 2500 2350 \nQ 2225 2000 1825 1650 \nQ 1375 1250 1200 1050 \nQ 1025 850 875 575 \nL 2850 575 \nL 2850 100 \nz\n\" transform=\"scale(0.015625)\"/>\n        <path id=\"SimHei-30\" d=\"M 2975 2250 \nQ 2975 1350 2650 700 \nQ 2325 50 1600 50 \nQ 875 50 537 700 \nQ 200 1350 200 2250 \nQ 200 3150 537 3787 \nQ 875 4425 1600 4425 \nQ 2325 4425 2650 3787 \nQ 2975 3150 2975 2250 \nz\nM 2375 2250 \nQ 2375 3050 2187 3500 \nQ 2000 3950 1600 3950 \nQ 1200 3950 1000 3500 \nQ 800 3050 800 2250 \nQ 800 1450 1000 987 \nQ 1200 525 1600 525 \nQ 2000 525 2187 987 \nQ 2375 1450 2375 2250 \nz\n\" transform=\"scale(0.015625)\"/>\n       </defs>\n       <use xlink:href=\"#SimHei-32\"/>\n       <use xlink:href=\"#SimHei-30\" x=\"50\"/>\n      </g>\n     </g>\n    </g>\n    <g id=\"xtick_2\">\n     <g id=\"line2d_3\">\n      <path d=\"M 106.136364 146.517969 \nL 106.136364 10.617969 \n\" clip-path=\"url(#p4850671794)\" style=\"fill: none; stroke: #b0b0b0; stroke-width: 0.8; stroke-linecap: square\"/>\n     </g>\n     <g id=\"line2d_4\">\n      <g>\n       <use xlink:href=\"#m616cc30d9d\" x=\"106.136364\" y=\"146.517969\" style=\"stroke: #000000; stroke-width: 0.8\"/>\n      </g>\n     </g>\n     <g id=\"text_2\">\n      <!-- 40 -->\n      <g transform=\"translate(101.136364 160.353906)scale(0.1 -0.1)\">\n       <defs>\n        <path id=\"SimHei-34\" d=\"M 2975 1200 \nL 2450 1200 \nL 2450 100 \nL 1875 100 \nL 1875 1200 \nL 200 1200 \nL 200 1675 \nL 1875 4425 \nL 2450 4425 \nL 2450 1675 \nL 2975 1675 \nL 2975 1200 \nz\nM 1875 1675 \nL 1875 3525 \nL 750 1675 \nL 1875 1675 \nz\n\" transform=\"scale(0.015625)\"/>\n       </defs>\n       <use xlink:href=\"#SimHei-34\"/>\n       <use xlink:href=\"#SimHei-30\" x=\"50\"/>\n      </g>\n     </g>\n    </g>\n    <g id=\"xtick_3\">\n     <g id=\"line2d_5\">\n      <path d=\"M 145.590909 146.517969 \nL 145.590909 10.617969 \n\" clip-path=\"url(#p4850671794)\" style=\"fill: none; stroke: #b0b0b0; stroke-width: 0.8; stroke-linecap: square\"/>\n     </g>\n     <g id=\"line2d_6\">\n      <g>\n       <use xlink:href=\"#m616cc30d9d\" x=\"145.590909\" y=\"146.517969\" style=\"stroke: #000000; stroke-width: 0.8\"/>\n      </g>\n     </g>\n     <g id=\"text_3\">\n      <!-- 60 -->\n      <g transform=\"translate(140.590909 160.353906)scale(0.1 -0.1)\">\n       <defs>\n        <path id=\"SimHei-36\" d=\"M 2850 1550 \nQ 2850 850 2550 450 \nQ 2250 50 1650 50 \nQ 1050 50 700 550 \nQ 350 1050 350 2175 \nQ 350 3200 712 3812 \nQ 1075 4425 1750 4425 \nQ 2225 4425 2512 4075 \nQ 2800 3725 2800 3300 \nL 2225 3300 \nQ 2225 3550 2087 3750 \nQ 1950 3950 1725 3950 \nQ 1350 3950 1150 3562 \nQ 950 3175 925 2375 \nQ 1100 2700 1300 2825 \nQ 1500 2950 1775 2950 \nQ 2250 2950 2550 2575 \nQ 2850 2200 2850 1550 \nz\nM 2250 1550 \nQ 2250 2000 2100 2250 \nQ 1950 2500 1675 2500 \nQ 1350 2500 1162 2250 \nQ 975 2000 975 1650 \nQ 975 1100 1162 800 \nQ 1350 500 1675 500 \nQ 1900 500 2075 725 \nQ 2250 950 2250 1550 \nz\n\" transform=\"scale(0.015625)\"/>\n       </defs>\n       <use xlink:href=\"#SimHei-36\"/>\n       <use xlink:href=\"#SimHei-30\" x=\"50\"/>\n      </g>\n     </g>\n    </g>\n    <g id=\"xtick_4\">\n     <g id=\"line2d_7\">\n      <path d=\"M 185.045455 146.517969 \nL 185.045455 10.617969 \n\" clip-path=\"url(#p4850671794)\" style=\"fill: none; stroke: #b0b0b0; stroke-width: 0.8; stroke-linecap: square\"/>\n     </g>\n     <g id=\"line2d_8\">\n      <g>\n       <use xlink:href=\"#m616cc30d9d\" x=\"185.045455\" y=\"146.517969\" style=\"stroke: #000000; stroke-width: 0.8\"/>\n      </g>\n     </g>\n     <g id=\"text_4\">\n      <!-- 80 -->\n      <g transform=\"translate(180.045455 160.353906)scale(0.1 -0.1)\">\n       <defs>\n        <path id=\"SimHei-38\" d=\"M 2875 1325 \nQ 2875 700 2525 375 \nQ 2175 50 1575 50 \nQ 975 50 625 375 \nQ 275 700 275 1325 \nQ 275 1650 475 1912 \nQ 675 2175 1025 2300 \nQ 725 2425 562 2650 \nQ 400 2875 400 3225 \nQ 400 3775 750 4100 \nQ 1100 4425 1575 4425 \nQ 2050 4425 2400 4100 \nQ 2750 3775 2750 3225 \nQ 2750 2875 2587 2650 \nQ 2425 2425 2125 2300 \nQ 2475 2175 2675 1912 \nQ 2875 1650 2875 1325 \nz\nM 2200 3225 \nQ 2200 3625 2025 3800 \nQ 1850 3975 1575 3975 \nQ 1300 3975 1125 3800 \nQ 950 3625 950 3225 \nQ 950 2825 1137 2662 \nQ 1325 2500 1575 2500 \nQ 1825 2500 2012 2662 \nQ 2200 2825 2200 3225 \nz\nM 2300 1325 \nQ 2300 1675 2112 1875 \nQ 1925 2075 1575 2075 \nQ 1225 2075 1037 1875 \nQ 850 1675 850 1325 \nQ 850 925 1050 712 \nQ 1250 500 1575 500 \nQ 1900 500 2100 712 \nQ 2300 925 2300 1325 \nz\n\" transform=\"scale(0.015625)\"/>\n       </defs>\n       <use xlink:href=\"#SimHei-38\"/>\n       <use xlink:href=\"#SimHei-30\" x=\"50\"/>\n      </g>\n     </g>\n    </g>\n    <g id=\"xtick_5\">\n     <g id=\"line2d_9\">\n      <path d=\"M 224.5 146.517969 \nL 224.5 10.617969 \n\" clip-path=\"url(#p4850671794)\" style=\"fill: none; stroke: #b0b0b0; stroke-width: 0.8; stroke-linecap: square\"/>\n     </g>\n     <g id=\"line2d_10\">\n      <g>\n       <use xlink:href=\"#m616cc30d9d\" x=\"224.5\" y=\"146.517969\" style=\"stroke: #000000; stroke-width: 0.8\"/>\n      </g>\n     </g>\n     <g id=\"text_5\">\n      <!-- 100 -->\n      <g transform=\"translate(217 160.353906)scale(0.1 -0.1)\">\n       <defs>\n        <path id=\"SimHei-31\" d=\"M 1950 100 \nL 1375 100 \nL 1375 3425 \nL 625 3425 \nL 625 3725 \nQ 1075 3725 1325 3900 \nQ 1575 4075 1650 4425 \nL 1950 4425 \nL 1950 100 \nz\n\" transform=\"scale(0.015625)\"/>\n       </defs>\n       <use xlink:href=\"#SimHei-31\"/>\n       <use xlink:href=\"#SimHei-30\" x=\"50\"/>\n       <use xlink:href=\"#SimHei-30\" x=\"100\"/>\n      </g>\n     </g>\n    </g>\n    <g id=\"text_6\">\n     <!-- epoch -->\n     <g transform=\"translate(114.35 172.478906)scale(0.1 -0.1)\">\n      <defs>\n       <path id=\"SimHei-65\" d=\"M 2875 1050 \nQ 2825 600 2475 325 \nQ 2125 50 1650 50 \nQ 1050 50 662 437 \nQ 275 825 275 1500 \nQ 275 2175 662 2562 \nQ 1050 2950 1650 2950 \nQ 2175 2950 2512 2612 \nQ 2850 2275 2850 1500 \nL 825 1500 \nQ 825 950 1062 725 \nQ 1300 500 1650 500 \nQ 1925 500 2100 637 \nQ 2275 775 2325 1050 \nL 2875 1050 \nz\nM 2275 1900 \nQ 2225 2250 2050 2387 \nQ 1875 2525 1600 2525 \nQ 1350 2525 1150 2387 \nQ 950 2250 850 1900 \nL 2275 1900 \nz\n\" transform=\"scale(0.015625)\"/>\n       <path id=\"SimHei-70\" d=\"M 2850 1500 \nQ 2850 775 2500 400 \nQ 2150 25 1650 25 \nQ 1375 25 1175 137 \nQ 975 250 825 475 \nL 825 -825 \nL 325 -825 \nL 325 2900 \nL 825 2900 \nL 825 2525 \nQ 975 2750 1175 2850 \nQ 1375 2950 1650 2950 \nQ 2150 2950 2500 2587 \nQ 2850 2225 2850 1500 \nz\nM 2300 1500 \nQ 2300 1975 2112 2237 \nQ 1925 2500 1550 2500 \nQ 1250 2500 1037 2237 \nQ 825 1975 825 1500 \nQ 825 1025 1037 750 \nQ 1250 475 1550 475 \nQ 1925 475 2112 750 \nQ 2300 1025 2300 1500 \nz\n\" transform=\"scale(0.015625)\"/>\n       <path id=\"SimHei-6f\" d=\"M 2950 1500 \nQ 2950 850 2550 450 \nQ 2150 50 1600 50 \nQ 1050 50 650 450 \nQ 250 850 250 1500 \nQ 250 2150 650 2550 \nQ 1050 2950 1600 2950 \nQ 2150 2950 2550 2550 \nQ 2950 2150 2950 1500 \nz\nM 2400 1500 \nQ 2400 2000 2150 2250 \nQ 1900 2500 1600 2500 \nQ 1300 2500 1050 2250 \nQ 800 2000 800 1500 \nQ 800 1000 1050 750 \nQ 1300 500 1600 500 \nQ 1900 500 2150 750 \nQ 2400 1000 2400 1500 \nz\n\" transform=\"scale(0.015625)\"/>\n       <path id=\"SimHei-63\" d=\"M 2875 1225 \nQ 2875 700 2512 375 \nQ 2150 50 1600 50 \nQ 1050 50 650 437 \nQ 250 825 250 1500 \nQ 250 2175 650 2562 \nQ 1050 2950 1600 2950 \nQ 2150 2950 2475 2662 \nQ 2800 2375 2800 1975 \nL 2250 1975 \nQ 2225 2275 2037 2387 \nQ 1850 2500 1600 2500 \nQ 1300 2500 1050 2262 \nQ 800 2025 800 1500 \nQ 800 975 1050 737 \nQ 1300 500 1600 500 \nQ 1925 500 2125 675 \nQ 2325 850 2325 1225 \nL 2875 1225 \nz\n\" transform=\"scale(0.015625)\"/>\n       <path id=\"SimHei-68\" d=\"M 2825 100 \nL 2325 100 \nL 2325 1900 \nQ 2325 2200 2175 2375 \nQ 2025 2550 1775 2550 \nQ 1450 2550 1162 2212 \nQ 875 1875 875 1375 \nL 875 100 \nL 375 100 \nL 375 4375 \nL 875 4375 \nL 875 2375 \nQ 1075 2650 1312 2800 \nQ 1550 2950 1925 2950 \nQ 2375 2950 2600 2700 \nQ 2825 2450 2825 2075 \nL 2825 100 \nz\n\" transform=\"scale(0.015625)\"/>\n      </defs>\n      <use xlink:href=\"#SimHei-65\"/>\n      <use xlink:href=\"#SimHei-70\" x=\"50\"/>\n      <use xlink:href=\"#SimHei-6f\" x=\"100\"/>\n      <use xlink:href=\"#SimHei-63\" x=\"150\"/>\n      <use xlink:href=\"#SimHei-68\" x=\"200\"/>\n     </g>\n    </g>\n   </g>\n   <g id=\"matplotlib.axis_2\">\n    <g id=\"ytick_1\">\n     <g id=\"line2d_11\">\n      <path d=\"M 29.2 146.517969 \nL 224.5 146.517969 \n\" clip-path=\"url(#p4850671794)\" style=\"fill: none; stroke: #b0b0b0; stroke-width: 0.8; stroke-linecap: square\"/>\n     </g>\n     <g id=\"line2d_12\">\n      <defs>\n       <path id=\"m044d5d226f\" d=\"M 0 0 \nL -3.5 0 \n\" style=\"stroke: #000000; stroke-width: 0.8\"/>\n      </defs>\n      <g>\n       <use xlink:href=\"#m044d5d226f\" x=\"29.2\" y=\"146.517969\" style=\"stroke: #000000; stroke-width: 0.8\"/>\n      </g>\n     </g>\n     <g id=\"text_7\">\n      <!-- 0.0 -->\n      <g transform=\"translate(7.2 149.935938)scale(0.1 -0.1)\">\n       <defs>\n        <path id=\"SimHei-2e\" d=\"M 1100 100 \nL 525 100 \nL 525 650 \nL 1100 650 \nL 1100 100 \nz\n\" transform=\"scale(0.015625)\"/>\n       </defs>\n       <use xlink:href=\"#SimHei-30\"/>\n       <use xlink:href=\"#SimHei-2e\" x=\"50\"/>\n       <use xlink:href=\"#SimHei-30\" x=\"100\"/>\n      </g>\n     </g>\n    </g>\n    <g id=\"ytick_2\">\n     <g id=\"line2d_13\">\n      <path d=\"M 29.2 119.337969 \nL 224.5 119.337969 \n\" clip-path=\"url(#p4850671794)\" style=\"fill: none; stroke: #b0b0b0; stroke-width: 0.8; stroke-linecap: square\"/>\n     </g>\n     <g id=\"line2d_14\">\n      <g>\n       <use xlink:href=\"#m044d5d226f\" x=\"29.2\" y=\"119.337969\" style=\"stroke: #000000; stroke-width: 0.8\"/>\n      </g>\n     </g>\n     <g id=\"text_8\">\n      <!-- 0.2 -->\n      <g transform=\"translate(7.2 122.755938)scale(0.1 -0.1)\">\n       <use xlink:href=\"#SimHei-30\"/>\n       <use xlink:href=\"#SimHei-2e\" x=\"50\"/>\n       <use xlink:href=\"#SimHei-32\" x=\"100\"/>\n      </g>\n     </g>\n    </g>\n    <g id=\"ytick_3\">\n     <g id=\"line2d_15\">\n      <path d=\"M 29.2 92.157969 \nL 224.5 92.157969 \n\" clip-path=\"url(#p4850671794)\" style=\"fill: none; stroke: #b0b0b0; stroke-width: 0.8; stroke-linecap: square\"/>\n     </g>\n     <g id=\"line2d_16\">\n      <g>\n       <use xlink:href=\"#m044d5d226f\" x=\"29.2\" y=\"92.157969\" style=\"stroke: #000000; stroke-width: 0.8\"/>\n      </g>\n     </g>\n     <g id=\"text_9\">\n      <!-- 0.4 -->\n      <g transform=\"translate(7.2 95.575938)scale(0.1 -0.1)\">\n       <use xlink:href=\"#SimHei-30\"/>\n       <use xlink:href=\"#SimHei-2e\" x=\"50\"/>\n       <use xlink:href=\"#SimHei-34\" x=\"100\"/>\n      </g>\n     </g>\n    </g>\n    <g id=\"ytick_4\">\n     <g id=\"line2d_17\">\n      <path d=\"M 29.2 64.977969 \nL 224.5 64.977969 \n\" clip-path=\"url(#p4850671794)\" style=\"fill: none; stroke: #b0b0b0; stroke-width: 0.8; stroke-linecap: square\"/>\n     </g>\n     <g id=\"line2d_18\">\n      <g>\n       <use xlink:href=\"#m044d5d226f\" x=\"29.2\" y=\"64.977969\" style=\"stroke: #000000; stroke-width: 0.8\"/>\n      </g>\n     </g>\n     <g id=\"text_10\">\n      <!-- 0.6 -->\n      <g transform=\"translate(7.2 68.395938)scale(0.1 -0.1)\">\n       <use xlink:href=\"#SimHei-30\"/>\n       <use xlink:href=\"#SimHei-2e\" x=\"50\"/>\n       <use xlink:href=\"#SimHei-36\" x=\"100\"/>\n      </g>\n     </g>\n    </g>\n    <g id=\"ytick_5\">\n     <g id=\"line2d_19\">\n      <path d=\"M 29.2 37.797969 \nL 224.5 37.797969 \n\" clip-path=\"url(#p4850671794)\" style=\"fill: none; stroke: #b0b0b0; stroke-width: 0.8; stroke-linecap: square\"/>\n     </g>\n     <g id=\"line2d_20\">\n      <g>\n       <use xlink:href=\"#m044d5d226f\" x=\"29.2\" y=\"37.797969\" style=\"stroke: #000000; stroke-width: 0.8\"/>\n      </g>\n     </g>\n     <g id=\"text_11\">\n      <!-- 0.8 -->\n      <g transform=\"translate(7.2 41.215938)scale(0.1 -0.1)\">\n       <use xlink:href=\"#SimHei-30\"/>\n       <use xlink:href=\"#SimHei-2e\" x=\"50\"/>\n       <use xlink:href=\"#SimHei-38\" x=\"100\"/>\n      </g>\n     </g>\n    </g>\n    <g id=\"ytick_6\">\n     <g id=\"line2d_21\">\n      <path d=\"M 29.2 10.617969 \nL 224.5 10.617969 \n\" clip-path=\"url(#p4850671794)\" style=\"fill: none; stroke: #b0b0b0; stroke-width: 0.8; stroke-linecap: square\"/>\n     </g>\n     <g id=\"line2d_22\">\n      <g>\n       <use xlink:href=\"#m044d5d226f\" x=\"29.2\" y=\"10.617969\" style=\"stroke: #000000; stroke-width: 0.8\"/>\n      </g>\n     </g>\n     <g id=\"text_12\">\n      <!-- 1.0 -->\n      <g transform=\"translate(7.2 14.035938)scale(0.1 -0.1)\">\n       <use xlink:href=\"#SimHei-31\"/>\n       <use xlink:href=\"#SimHei-2e\" x=\"50\"/>\n       <use xlink:href=\"#SimHei-30\" x=\"100\"/>\n      </g>\n     </g>\n    </g>\n   </g>\n   <g id=\"line2d_23\">\n    <path clip-path=\"url(#p4850671794)\" style=\"fill: none; stroke: #1f77b4; stroke-width: 1.5; stroke-linecap: square\"/>\n   </g>\n   <g id=\"line2d_24\">\n    <path d=\"M 27.621061 133.260096 \nL 28.014849 132.810907 \n\" clip-path=\"url(#p4850671794)\" style=\"fill: none; stroke-dasharray: 5.55,2.4; stroke-dashoffset: 0; stroke: #bf00bf; stroke-width: 1.5\"/>\n   </g>\n   <g id=\"line2d_25\"/>\n   <g id=\"patch_3\">\n    <path d=\"M 29.2 146.517969 \nL 29.2 10.617969 \n\" style=\"fill: none; stroke: #000000; stroke-width: 0.8; stroke-linejoin: miter; stroke-linecap: square\"/>\n   </g>\n   <g id=\"patch_4\">\n    <path d=\"M 224.5 146.517969 \nL 224.5 10.617969 \n\" style=\"fill: none; stroke: #000000; stroke-width: 0.8; stroke-linejoin: miter; stroke-linecap: square\"/>\n   </g>\n   <g id=\"patch_5\">\n    <path d=\"M 29.2 146.517969 \nL 224.5 146.517969 \n\" style=\"fill: none; stroke: #000000; stroke-width: 0.8; stroke-linejoin: miter; stroke-linecap: square\"/>\n   </g>\n   <g id=\"patch_6\">\n    <path d=\"M 29.2 10.617969 \nL 224.5 10.617969 \n\" style=\"fill: none; stroke: #000000; stroke-width: 0.8; stroke-linejoin: miter; stroke-linecap: square\"/>\n   </g>\n   <g id=\"legend_1\">\n    <g id=\"patch_7\">\n     <path d=\"M 135.5 58.485156 \nL 217.5 58.485156 \nQ 219.5 58.485156 219.5 56.485156 \nL 219.5 17.617969 \nQ 219.5 15.617969 217.5 15.617969 \nL 135.5 15.617969 \nQ 133.5 15.617969 133.5 17.617969 \nL 133.5 56.485156 \nQ 133.5 58.485156 135.5 58.485156 \nz\n\" style=\"fill: #ffffff; opacity: 0.8; stroke: #cccccc; stroke-linejoin: miter\"/>\n    </g>\n    <g id=\"line2d_26\">\n     <path d=\"M 137.5 23.117969 \nL 147.5 23.117969 \nL 157.5 23.117969 \n\" style=\"fill: none; stroke: #1f77b4; stroke-width: 1.5; stroke-linecap: square\"/>\n    </g>\n    <g id=\"text_13\">\n     <!-- train loss -->\n     <g transform=\"translate(165.5 26.617969)scale(0.1 -0.1)\">\n      <defs>\n       <path id=\"SimHei-74\" d=\"M 2775 175 \nQ 2650 125 2487 87 \nQ 2325 50 2050 50 \nQ 1600 50 1325 300 \nQ 1050 550 1050 1000 \nL 1050 2500 \nL 200 2500 \nL 200 2900 \nL 1050 2900 \nL 1050 3875 \nL 1550 3875 \nL 1550 2900 \nL 2575 2900 \nL 2575 2500 \nL 1550 2500 \nL 1550 975 \nQ 1550 775 1650 637 \nQ 1750 500 2025 500 \nQ 2300 500 2475 550 \nQ 2650 600 2775 675 \nL 2775 175 \nz\n\" transform=\"scale(0.015625)\"/>\n       <path id=\"SimHei-72\" d=\"M 2525 2400 \nQ 2050 2475 1725 2262 \nQ 1400 2050 1175 1525 \nL 1175 100 \nL 675 100 \nL 675 2900 \nL 1175 2900 \nL 1175 2175 \nQ 1400 2575 1737 2762 \nQ 2075 2950 2525 2950 \nL 2525 2400 \nz\n\" transform=\"scale(0.015625)\"/>\n       <path id=\"SimHei-61\" d=\"M 2900 100 \nL 2300 100 \nQ 2250 150 2225 237 \nQ 2200 325 2200 450 \nQ 2025 250 1775 150 \nQ 1525 50 1250 50 \nQ 850 50 575 250 \nQ 300 450 300 825 \nQ 300 1200 550 1425 \nQ 800 1650 1325 1725 \nQ 1675 1775 1937 1850 \nQ 2200 1925 2200 2050 \nQ 2200 2200 2087 2350 \nQ 1975 2500 1600 2500 \nQ 1300 2500 1162 2387 \nQ 1025 2275 975 2075 \nL 425 2075 \nQ 475 2475 787 2712 \nQ 1100 2950 1600 2950 \nQ 2150 2950 2425 2700 \nQ 2700 2450 2700 2000 \nL 2700 625 \nQ 2700 475 2750 350 \nQ 2800 225 2900 100 \nz\nM 2200 1025 \nL 2200 1525 \nQ 2050 1475 1912 1437 \nQ 1775 1400 1450 1350 \nQ 1075 1300 962 1175 \nQ 850 1050 850 875 \nQ 850 725 962 612 \nQ 1075 500 1300 500 \nQ 1525 500 1787 625 \nQ 2050 750 2200 1025 \nz\n\" transform=\"scale(0.015625)\"/>\n       <path id=\"SimHei-69\" d=\"M 1825 3700 \nL 1325 3700 \nL 1325 4350 \nL 1825 4350 \nL 1825 3700 \nz\nM 1825 100 \nL 1325 100 \nL 1325 2900 \nL 1825 2900 \nL 1825 100 \nz\n\" transform=\"scale(0.015625)\"/>\n       <path id=\"SimHei-6e\" d=\"M 2825 100 \nL 2325 100 \nL 2325 1900 \nQ 2325 2200 2175 2375 \nQ 2025 2550 1775 2550 \nQ 1450 2550 1162 2212 \nQ 875 1875 875 1375 \nL 875 100 \nL 375 100 \nL 375 2900 \nL 875 2900 \nL 875 2375 \nQ 1075 2650 1312 2800 \nQ 1550 2950 1925 2950 \nQ 2375 2950 2600 2700 \nQ 2825 2450 2825 2075 \nL 2825 100 \nz\n\" transform=\"scale(0.015625)\"/>\n       <path id=\"SimHei-20\" transform=\"scale(0.015625)\"/>\n       <path id=\"SimHei-6c\" d=\"M 1850 100 \nL 1350 100 \nL 1350 4375 \nL 1850 4375 \nL 1850 100 \nz\n\" transform=\"scale(0.015625)\"/>\n       <path id=\"SimHei-73\" d=\"M 2775 875 \nQ 2775 475 2462 262 \nQ 2150 50 1675 50 \nQ 1075 50 750 287 \nQ 425 525 425 975 \nL 925 975 \nQ 925 675 1137 575 \nQ 1350 475 1650 475 \nQ 1950 475 2100 587 \nQ 2250 700 2250 875 \nQ 2250 1000 2125 1125 \nQ 2000 1250 1500 1325 \nQ 925 1400 712 1612 \nQ 500 1825 500 2175 \nQ 500 2475 787 2712 \nQ 1075 2950 1625 2950 \nQ 2125 2950 2412 2725 \nQ 2700 2500 2700 2125 \nL 2200 2125 \nQ 2200 2350 2037 2437 \nQ 1875 2525 1625 2525 \nQ 1300 2525 1162 2412 \nQ 1025 2300 1025 2150 \nQ 1025 1975 1150 1875 \nQ 1275 1775 1675 1725 \nQ 2325 1625 2550 1412 \nQ 2775 1200 2775 875 \nz\n\" transform=\"scale(0.015625)\"/>\n      </defs>\n      <use xlink:href=\"#SimHei-74\"/>\n      <use xlink:href=\"#SimHei-72\" x=\"50\"/>\n      <use xlink:href=\"#SimHei-61\" x=\"100\"/>\n      <use xlink:href=\"#SimHei-69\" x=\"150\"/>\n      <use xlink:href=\"#SimHei-6e\" x=\"200\"/>\n      <use xlink:href=\"#SimHei-20\" x=\"250\"/>\n      <use xlink:href=\"#SimHei-6c\" x=\"300\"/>\n      <use xlink:href=\"#SimHei-6f\" x=\"350\"/>\n      <use xlink:href=\"#SimHei-73\" x=\"400\"/>\n      <use xlink:href=\"#SimHei-73\" x=\"450\"/>\n     </g>\n    </g>\n    <g id=\"line2d_27\">\n     <path d=\"M 137.5 36.407031 \nL 147.5 36.407031 \nL 157.5 36.407031 \n\" style=\"fill: none; stroke-dasharray: 5.55,2.4; stroke-dashoffset: 0; stroke: #bf00bf; stroke-width: 1.5\"/>\n    </g>\n    <g id=\"text_14\">\n     <!-- train acc -->\n     <g transform=\"translate(165.5 39.907031)scale(0.1 -0.1)\">\n      <use xlink:href=\"#SimHei-74\"/>\n      <use xlink:href=\"#SimHei-72\" x=\"50\"/>\n      <use xlink:href=\"#SimHei-61\" x=\"100\"/>\n      <use xlink:href=\"#SimHei-69\" x=\"150\"/>\n      <use xlink:href=\"#SimHei-6e\" x=\"200\"/>\n      <use xlink:href=\"#SimHei-20\" x=\"250\"/>\n      <use xlink:href=\"#SimHei-61\" x=\"300\"/>\n      <use xlink:href=\"#SimHei-63\" x=\"350\"/>\n      <use xlink:href=\"#SimHei-63\" x=\"400\"/>\n     </g>\n    </g>\n    <g id=\"line2d_28\">\n     <path d=\"M 137.5 49.696094 \nL 147.5 49.696094 \nL 157.5 49.696094 \n\" style=\"fill: none; stroke-dasharray: 9.6,2.4,1.5,2.4; stroke-dashoffset: 0; stroke: #008000; stroke-width: 1.5\"/>\n    </g>\n    <g id=\"text_15\">\n     <!-- test acc -->\n     <g transform=\"translate(165.5 53.196094)scale(0.1 -0.1)\">\n      <use xlink:href=\"#SimHei-74\"/>\n      <use xlink:href=\"#SimHei-65\" x=\"50\"/>\n      <use xlink:href=\"#SimHei-73\" x=\"100\"/>\n      <use xlink:href=\"#SimHei-74\" x=\"150\"/>\n      <use xlink:href=\"#SimHei-20\" x=\"200\"/>\n      <use xlink:href=\"#SimHei-61\" x=\"250\"/>\n      <use xlink:href=\"#SimHei-63\" x=\"300\"/>\n      <use xlink:href=\"#SimHei-63\" x=\"350\"/>\n     </g>\n    </g>\n   </g>\n  </g>\n </g>\n <defs>\n  <clipPath id=\"p4850671794\">\n   <rect x=\"29.2\" y=\"10.617969\" width=\"195.3\" height=\"135.9\"/>\n  </clipPath>\n </defs>\n</svg>\n",
      "text/plain": [
       "<Figure size 252x180 with 1 Axes>"
      ]
     },
     "metadata": {},
     "output_type": "display_data"
    }
   ],
   "source": [
    "lr, num_epochs = 0.00142857, 100\n",
    "weight_decay = 0.0007142857142857143\n",
    "momentum = 0.857142\n",
    "lr_period = 4\n",
    "lr_decay = 0.857142\n",
    "devices = try_all_gpus()\n",
    "optimizer = optim.SGD(mod.parameters(),\n",
    "                      lr=lr, \n",
    "                      momentum=momentum, \n",
    "                      weight_decay=weight_decay)\n",
    "scheduler = optim.lr_scheduler.StepLR(optimizer, \n",
    "                                      step_size=lr_period, \n",
    "                                      gamma=lr_decay)\n",
    "train(mod, train_iter, test_iter,\n",
    "      num_epochs, devices,\n",
    "      optimizer, scheduler)"
   ]
  },
  {
   "cell_type": "code",
   "execution_count": null,
   "metadata": {},
   "outputs": [],
   "source": []
  }
 ],
 "metadata": {
  "kernelspec": {
   "display_name": "Python 3.10.4 ('tvmx': conda)",
   "language": "python",
   "name": "python3"
  },
  "language_info": {
   "codemirror_mode": {
    "name": "ipython",
    "version": 3
   },
   "file_extension": ".py",
   "mimetype": "text/x-python",
   "name": "python",
   "nbconvert_exporter": "python",
   "pygments_lexer": "ipython3",
   "version": "3.10.4"
  },
  "orig_nbformat": 4,
  "vscode": {
   "interpreter": {
    "hash": "e579259ee6098e2b9319de590d145b4b096774fe457bdf04260e3ba5c171e887"
   }
  }
 },
 "nbformat": 4,
 "nbformat_minor": 2
}
