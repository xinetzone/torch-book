{
 "cells": [
  {
   "cell_type": "markdown",
   "metadata": {},
   "source": [
    "# 测试"
   ]
  },
  {
   "cell_type": "code",
   "execution_count": 1,
   "metadata": {},
   "outputs": [
    {
     "name": "stdout",
     "output_type": "stream",
     "text": [
      "Files already downloaded and verified\n",
      "Files already downloaded and verified\n"
     ]
    },
    {
     "data": {
      "text/plain": [
       "<All keys matched successfully>"
      ]
     },
     "execution_count": 1,
     "metadata": {},
     "output_type": "execute_result"
    }
   ],
   "source": [
    "import torch\n",
    "from torch import nn, fx, optim\n",
    "from torch.nn import functional as F\n",
    "from torch.profiler import profile, record_function, ProfilerActivity\n",
    "from torch.ao.quantization.observer import HistogramObserver\n",
    "from torchvision.models import resnet18, ResNet18_Weights\n",
    "from torch_book.data.simple_vision import load_data_cifar10\n",
    "from torch_book.tools import train, try_all_gpus #try_gpu\n",
    "from torch_book.tools import evaluate_accuracy_gpu\n",
    "from fixed_sigmoid import linear_sigmoid\n",
    "\n",
    "\n",
    "torch.cuda.empty_cache() # 清空 GPU 缓存\n",
    "\n",
    "batch_size = 32\n",
    "train_iter, test_iter = load_data_cifar10(batch_size=batch_size)\n",
    "model = resnet18(weights=ResNet18_Weights.DEFAULT)\n",
    "model.conv1 = nn.Conv2d(model.conv1.in_channels, \n",
    "                        model.conv1.out_channels, \n",
    "                        3, 1, 1)\n",
    "model.maxpool = nn.Identity()\n",
    "model.fc = nn.Linear(model.fc.in_features, 10)\n",
    "\n",
    "# 替换 ReLU 为 torch.sigmoid\n",
    "mod = fx.symbolic_trace(model)\n",
    "# 遍历 Graph 中全部节点\n",
    "for node in mod.graph.nodes:\n",
    "    # 如果匹配目标\n",
    "    if node.op == \"call_module\":\n",
    "        if \"relu\" in node.target:\n",
    "            # 设置插入点，添加新节点，用新节点替换所有 `node` 的用法\n",
    "            with mod.graph.inserting_after(node):\n",
    "                new_node = mod.graph.call_function(torch.sigmoid, node.args, node.kwargs)\n",
    "                node.replace_all_uses_with(new_node)\n",
    "            # 移除 graph 中旧的节点\n",
    "            mod.graph.erase_node(node)\n",
    "mod.graph.lint()\n",
    "# 不用忘记 recompile!\n",
    "new_code = mod.recompile()\n",
    "\n",
    "# 加载模型参数\n",
    "state_dict = torch.load(\"models/resnet18_cifar10_sigmoid.h5\")\n",
    "mod.load_state_dict(state_dict)"
   ]
  },
  {
   "cell_type": "code",
   "execution_count": 2,
   "metadata": {},
   "outputs": [],
   "source": [
    "# 遍历 Graph 中全部节点\n",
    "for node in mod.graph.nodes:\n",
    "    # 如果匹配目标\n",
    "    if node.op == \"call_function\":\n",
    "        if node.target == torch.sigmoid:\n",
    "            node.target = linear_sigmoid\n",
    "        # if \"sigmoid\" == node.name:\n",
    "        #      # 设置插入点，添加新节点，用新节点替换所有 `node` 的用法\n",
    "        #     with mod.graph.inserting_after(node):\n",
    "        #         new_node = mod.graph.call_function(linear_sigmoid, node.args, node.kwargs)\n",
    "        #         node.replace_all_uses_with(new_node)\n",
    "        #     # 移除 graph 中旧的节点\n",
    "        #     mod.graph.erase_node(node)\n",
    "        #     break\n",
    "mod.graph.lint()\n",
    "# 不用忘记 recompile!\n",
    "new_code = mod.recompile()"
   ]
  },
  {
   "cell_type": "code",
   "execution_count": 3,
   "metadata": {},
   "outputs": [
    {
     "name": "stdout",
     "output_type": "stream",
     "text": [
      "\n",
      "\n",
      "\n",
      "def forward(self, x : torch.Tensor) -> torch.Tensor:\n",
      "    conv1 = self.conv1(x);  x = None\n",
      "    bn1 = self.bn1(conv1);  conv1 = None\n",
      "    sigmoid = fixed_sigmoid_linear_sigmoid(bn1);  bn1 = None\n",
      "    maxpool = self.maxpool(sigmoid);  sigmoid = None\n",
      "    layer1_0_conv1 = getattr(self.layer1, \"0\").conv1(maxpool)\n",
      "    layer1_0_bn1 = getattr(self.layer1, \"0\").bn1(layer1_0_conv1);  layer1_0_conv1 = None\n",
      "    sigmoid_1 = fixed_sigmoid_linear_sigmoid(layer1_0_bn1);  layer1_0_bn1 = None\n",
      "    layer1_0_conv2 = getattr(self.layer1, \"0\").conv2(sigmoid_1);  sigmoid_1 = None\n",
      "    layer1_0_bn2 = getattr(self.layer1, \"0\").bn2(layer1_0_conv2);  layer1_0_conv2 = None\n",
      "    add = layer1_0_bn2 + maxpool;  layer1_0_bn2 = maxpool = None\n",
      "    sigmoid_2 = fixed_sigmoid_linear_sigmoid(add);  add = None\n",
      "    layer1_1_conv1 = getattr(self.layer1, \"1\").conv1(sigmoid_2)\n",
      "    layer1_1_bn1 = getattr(self.layer1, \"1\").bn1(layer1_1_conv1);  layer1_1_conv1 = None\n",
      "    sigmoid_3 = fixed_sigmoid_linear_sigmoid(layer1_1_bn1);  layer1_1_bn1 = None\n",
      "    layer1_1_conv2 = getattr(self.layer1, \"1\").conv2(sigmoid_3);  sigmoid_3 = None\n",
      "    layer1_1_bn2 = getattr(self.layer1, \"1\").bn2(layer1_1_conv2);  layer1_1_conv2 = None\n",
      "    add_1 = layer1_1_bn2 + sigmoid_2;  layer1_1_bn2 = sigmoid_2 = None\n",
      "    sigmoid_4 = fixed_sigmoid_linear_sigmoid(add_1);  add_1 = None\n",
      "    layer2_0_conv1 = getattr(self.layer2, \"0\").conv1(sigmoid_4)\n",
      "    layer2_0_bn1 = getattr(self.layer2, \"0\").bn1(layer2_0_conv1);  layer2_0_conv1 = None\n",
      "    sigmoid_5 = fixed_sigmoid_linear_sigmoid(layer2_0_bn1);  layer2_0_bn1 = None\n",
      "    layer2_0_conv2 = getattr(self.layer2, \"0\").conv2(sigmoid_5);  sigmoid_5 = None\n",
      "    layer2_0_bn2 = getattr(self.layer2, \"0\").bn2(layer2_0_conv2);  layer2_0_conv2 = None\n",
      "    layer2_0_downsample_0 = getattr(getattr(self.layer2, \"0\").downsample, \"0\")(sigmoid_4);  sigmoid_4 = None\n",
      "    layer2_0_downsample_1 = getattr(getattr(self.layer2, \"0\").downsample, \"1\")(layer2_0_downsample_0);  layer2_0_downsample_0 = None\n",
      "    add_2 = layer2_0_bn2 + layer2_0_downsample_1;  layer2_0_bn2 = layer2_0_downsample_1 = None\n",
      "    sigmoid_6 = fixed_sigmoid_linear_sigmoid(add_2);  add_2 = None\n",
      "    layer2_1_conv1 = getattr(self.layer2, \"1\").conv1(sigmoid_6)\n",
      "    layer2_1_bn1 = getattr(self.layer2, \"1\").bn1(layer2_1_conv1);  layer2_1_conv1 = None\n",
      "    sigmoid_7 = fixed_sigmoid_linear_sigmoid(layer2_1_bn1);  layer2_1_bn1 = None\n",
      "    layer2_1_conv2 = getattr(self.layer2, \"1\").conv2(sigmoid_7);  sigmoid_7 = None\n",
      "    layer2_1_bn2 = getattr(self.layer2, \"1\").bn2(layer2_1_conv2);  layer2_1_conv2 = None\n",
      "    add_3 = layer2_1_bn2 + sigmoid_6;  layer2_1_bn2 = sigmoid_6 = None\n",
      "    sigmoid_8 = fixed_sigmoid_linear_sigmoid(add_3);  add_3 = None\n",
      "    layer3_0_conv1 = getattr(self.layer3, \"0\").conv1(sigmoid_8)\n",
      "    layer3_0_bn1 = getattr(self.layer3, \"0\").bn1(layer3_0_conv1);  layer3_0_conv1 = None\n",
      "    sigmoid_9 = fixed_sigmoid_linear_sigmoid(layer3_0_bn1);  layer3_0_bn1 = None\n",
      "    layer3_0_conv2 = getattr(self.layer3, \"0\").conv2(sigmoid_9);  sigmoid_9 = None\n",
      "    layer3_0_bn2 = getattr(self.layer3, \"0\").bn2(layer3_0_conv2);  layer3_0_conv2 = None\n",
      "    layer3_0_downsample_0 = getattr(getattr(self.layer3, \"0\").downsample, \"0\")(sigmoid_8);  sigmoid_8 = None\n",
      "    layer3_0_downsample_1 = getattr(getattr(self.layer3, \"0\").downsample, \"1\")(layer3_0_downsample_0);  layer3_0_downsample_0 = None\n",
      "    add_4 = layer3_0_bn2 + layer3_0_downsample_1;  layer3_0_bn2 = layer3_0_downsample_1 = None\n",
      "    sigmoid_10 = fixed_sigmoid_linear_sigmoid(add_4);  add_4 = None\n",
      "    layer3_1_conv1 = getattr(self.layer3, \"1\").conv1(sigmoid_10)\n",
      "    layer3_1_bn1 = getattr(self.layer3, \"1\").bn1(layer3_1_conv1);  layer3_1_conv1 = None\n",
      "    sigmoid_11 = fixed_sigmoid_linear_sigmoid(layer3_1_bn1);  layer3_1_bn1 = None\n",
      "    layer3_1_conv2 = getattr(self.layer3, \"1\").conv2(sigmoid_11);  sigmoid_11 = None\n",
      "    layer3_1_bn2 = getattr(self.layer3, \"1\").bn2(layer3_1_conv2);  layer3_1_conv2 = None\n",
      "    add_5 = layer3_1_bn2 + sigmoid_10;  layer3_1_bn2 = sigmoid_10 = None\n",
      "    sigmoid_12 = fixed_sigmoid_linear_sigmoid(add_5);  add_5 = None\n",
      "    layer4_0_conv1 = getattr(self.layer4, \"0\").conv1(sigmoid_12)\n",
      "    layer4_0_bn1 = getattr(self.layer4, \"0\").bn1(layer4_0_conv1);  layer4_0_conv1 = None\n",
      "    sigmoid_13 = fixed_sigmoid_linear_sigmoid(layer4_0_bn1);  layer4_0_bn1 = None\n",
      "    layer4_0_conv2 = getattr(self.layer4, \"0\").conv2(sigmoid_13);  sigmoid_13 = None\n",
      "    layer4_0_bn2 = getattr(self.layer4, \"0\").bn2(layer4_0_conv2);  layer4_0_conv2 = None\n",
      "    layer4_0_downsample_0 = getattr(getattr(self.layer4, \"0\").downsample, \"0\")(sigmoid_12);  sigmoid_12 = None\n",
      "    layer4_0_downsample_1 = getattr(getattr(self.layer4, \"0\").downsample, \"1\")(layer4_0_downsample_0);  layer4_0_downsample_0 = None\n",
      "    add_6 = layer4_0_bn2 + layer4_0_downsample_1;  layer4_0_bn2 = layer4_0_downsample_1 = None\n",
      "    sigmoid_14 = fixed_sigmoid_linear_sigmoid(add_6);  add_6 = None\n",
      "    layer4_1_conv1 = getattr(self.layer4, \"1\").conv1(sigmoid_14)\n",
      "    layer4_1_bn1 = getattr(self.layer4, \"1\").bn1(layer4_1_conv1);  layer4_1_conv1 = None\n",
      "    sigmoid_15 = fixed_sigmoid_linear_sigmoid(layer4_1_bn1);  layer4_1_bn1 = None\n",
      "    layer4_1_conv2 = getattr(self.layer4, \"1\").conv2(sigmoid_15);  sigmoid_15 = None\n",
      "    layer4_1_bn2 = getattr(self.layer4, \"1\").bn2(layer4_1_conv2);  layer4_1_conv2 = None\n",
      "    add_7 = layer4_1_bn2 + sigmoid_14;  layer4_1_bn2 = sigmoid_14 = None\n",
      "    sigmoid_16 = fixed_sigmoid_linear_sigmoid(add_7);  add_7 = None\n",
      "    avgpool = self.avgpool(sigmoid_16);  sigmoid_16 = None\n",
      "    flatten = torch.flatten(avgpool, 1);  avgpool = None\n",
      "    fc = self.fc(flatten);  flatten = None\n",
      "    return fc\n",
      "    \n"
     ]
    }
   ],
   "source": [
    "print(mod.code)"
   ]
  },
  {
   "cell_type": "markdown",
   "metadata": {},
   "source": [
    "获取线性化之后的模型的测试精度："
   ]
  },
  {
   "cell_type": "code",
   "execution_count": 5,
   "metadata": {},
   "outputs": [
    {
     "data": {
      "text/plain": [
       "0.221"
      ]
     },
     "execution_count": 5,
     "metadata": {},
     "output_type": "execute_result"
    }
   ],
   "source": [
    "valid_acc = evaluate_accuracy_gpu(mod, test_iter)\n",
    "valid_acc"
   ]
  },
  {
   "cell_type": "markdown",
   "metadata": {},
   "source": [
    "微调："
   ]
  },
  {
   "cell_type": "code",
   "execution_count": 7,
   "metadata": {},
   "outputs": [
    {
     "data": {
      "image/svg+xml": "<?xml version=\"1.0\" encoding=\"utf-8\" standalone=\"no\"?>\n<!DOCTYPE svg PUBLIC \"-//W3C//DTD SVG 1.1//EN\"\n  \"http://www.w3.org/Graphics/SVG/1.1/DTD/svg11.dtd\">\n<svg xmlns:xlink=\"http://www.w3.org/1999/xlink\" width=\"239.2pt\" height=\"180.967969pt\" viewBox=\"0 0 239.2 180.967969\" xmlns=\"http://www.w3.org/2000/svg\" version=\"1.1\">\n <metadata>\n  <rdf:RDF xmlns:dc=\"http://purl.org/dc/elements/1.1/\" xmlns:cc=\"http://creativecommons.org/ns#\" xmlns:rdf=\"http://www.w3.org/1999/02/22-rdf-syntax-ns#\">\n   <cc:Work>\n    <dc:type rdf:resource=\"http://purl.org/dc/dcmitype/StillImage\"/>\n    <dc:date>2022-10-26T13:08:21.716627</dc:date>\n    <dc:format>image/svg+xml</dc:format>\n    <dc:creator>\n     <cc:Agent>\n      <dc:title>Matplotlib v3.5.1, https://matplotlib.org/</dc:title>\n     </cc:Agent>\n    </dc:creator>\n   </cc:Work>\n  </rdf:RDF>\n </metadata>\n <defs>\n  <style type=\"text/css\">*{stroke-linejoin: round; stroke-linecap: butt}</style>\n </defs>\n <g id=\"figure_1\">\n  <g id=\"patch_1\">\n   <path d=\"M 0 180.967969 \nL 239.2 180.967969 \nL 239.2 0 \nL 0 0 \nL 0 180.967969 \nz\n\" style=\"fill: none\"/>\n  </g>\n  <g id=\"axes_1\">\n   <g id=\"patch_2\">\n    <path d=\"M 29.2 146.517969 \nL 224.5 146.517969 \nL 224.5 10.617969 \nL 29.2 10.617969 \nz\n\" style=\"fill: #ffffff\"/>\n   </g>\n   <g id=\"matplotlib.axis_1\">\n    <g id=\"xtick_1\">\n     <g id=\"line2d_1\">\n      <path d=\"M 66.681818 146.517969 \nL 66.681818 10.617969 \n\" clip-path=\"url(#pa0873c28be)\" style=\"fill: none; stroke: #b0b0b0; stroke-width: 0.8; stroke-linecap: square\"/>\n     </g>\n     <g id=\"line2d_2\">\n      <defs>\n       <path id=\"m4ee9a7506e\" d=\"M 0 0 \nL 0 3.5 \n\" style=\"stroke: #000000; stroke-width: 0.8\"/>\n      </defs>\n      <g>\n       <use xlink:href=\"#m4ee9a7506e\" x=\"66.681818\" y=\"146.517969\" style=\"stroke: #000000; stroke-width: 0.8\"/>\n      </g>\n     </g>\n     <g id=\"text_1\">\n      <!-- 20 -->\n      <g transform=\"translate(61.681818 160.353906)scale(0.1 -0.1)\">\n       <defs>\n        <path id=\"SimHei-32\" d=\"M 2850 100 \nL 300 100 \nL 300 500 \nQ 450 900 712 1237 \nQ 975 1575 1475 2000 \nQ 1850 2325 2012 2600 \nQ 2175 2875 2175 3200 \nQ 2175 3525 2037 3737 \nQ 1900 3950 1600 3950 \nQ 1350 3950 1162 3725 \nQ 975 3500 975 2925 \nL 400 2925 \nQ 425 3650 737 4037 \nQ 1050 4425 1625 4425 \nQ 2175 4425 2475 4087 \nQ 2775 3750 2775 3175 \nQ 2775 2700 2500 2350 \nQ 2225 2000 1825 1650 \nQ 1375 1250 1200 1050 \nQ 1025 850 875 575 \nL 2850 575 \nL 2850 100 \nz\n\" transform=\"scale(0.015625)\"/>\n        <path id=\"SimHei-30\" d=\"M 2975 2250 \nQ 2975 1350 2650 700 \nQ 2325 50 1600 50 \nQ 875 50 537 700 \nQ 200 1350 200 2250 \nQ 200 3150 537 3787 \nQ 875 4425 1600 4425 \nQ 2325 4425 2650 3787 \nQ 2975 3150 2975 2250 \nz\nM 2375 2250 \nQ 2375 3050 2187 3500 \nQ 2000 3950 1600 3950 \nQ 1200 3950 1000 3500 \nQ 800 3050 800 2250 \nQ 800 1450 1000 987 \nQ 1200 525 1600 525 \nQ 2000 525 2187 987 \nQ 2375 1450 2375 2250 \nz\n\" transform=\"scale(0.015625)\"/>\n       </defs>\n       <use xlink:href=\"#SimHei-32\"/>\n       <use xlink:href=\"#SimHei-30\" x=\"50\"/>\n      </g>\n     </g>\n    </g>\n    <g id=\"xtick_2\">\n     <g id=\"line2d_3\">\n      <path d=\"M 106.136364 146.517969 \nL 106.136364 10.617969 \n\" clip-path=\"url(#pa0873c28be)\" style=\"fill: none; stroke: #b0b0b0; stroke-width: 0.8; stroke-linecap: square\"/>\n     </g>\n     <g id=\"line2d_4\">\n      <g>\n       <use xlink:href=\"#m4ee9a7506e\" x=\"106.136364\" y=\"146.517969\" style=\"stroke: #000000; stroke-width: 0.8\"/>\n      </g>\n     </g>\n     <g id=\"text_2\">\n      <!-- 40 -->\n      <g transform=\"translate(101.136364 160.353906)scale(0.1 -0.1)\">\n       <defs>\n        <path id=\"SimHei-34\" d=\"M 2975 1200 \nL 2450 1200 \nL 2450 100 \nL 1875 100 \nL 1875 1200 \nL 200 1200 \nL 200 1675 \nL 1875 4425 \nL 2450 4425 \nL 2450 1675 \nL 2975 1675 \nL 2975 1200 \nz\nM 1875 1675 \nL 1875 3525 \nL 750 1675 \nL 1875 1675 \nz\n\" transform=\"scale(0.015625)\"/>\n       </defs>\n       <use xlink:href=\"#SimHei-34\"/>\n       <use xlink:href=\"#SimHei-30\" x=\"50\"/>\n      </g>\n     </g>\n    </g>\n    <g id=\"xtick_3\">\n     <g id=\"line2d_5\">\n      <path d=\"M 145.590909 146.517969 \nL 145.590909 10.617969 \n\" clip-path=\"url(#pa0873c28be)\" style=\"fill: none; stroke: #b0b0b0; stroke-width: 0.8; stroke-linecap: square\"/>\n     </g>\n     <g id=\"line2d_6\">\n      <g>\n       <use xlink:href=\"#m4ee9a7506e\" x=\"145.590909\" y=\"146.517969\" style=\"stroke: #000000; stroke-width: 0.8\"/>\n      </g>\n     </g>\n     <g id=\"text_3\">\n      <!-- 60 -->\n      <g transform=\"translate(140.590909 160.353906)scale(0.1 -0.1)\">\n       <defs>\n        <path id=\"SimHei-36\" d=\"M 2850 1550 \nQ 2850 850 2550 450 \nQ 2250 50 1650 50 \nQ 1050 50 700 550 \nQ 350 1050 350 2175 \nQ 350 3200 712 3812 \nQ 1075 4425 1750 4425 \nQ 2225 4425 2512 4075 \nQ 2800 3725 2800 3300 \nL 2225 3300 \nQ 2225 3550 2087 3750 \nQ 1950 3950 1725 3950 \nQ 1350 3950 1150 3562 \nQ 950 3175 925 2375 \nQ 1100 2700 1300 2825 \nQ 1500 2950 1775 2950 \nQ 2250 2950 2550 2575 \nQ 2850 2200 2850 1550 \nz\nM 2250 1550 \nQ 2250 2000 2100 2250 \nQ 1950 2500 1675 2500 \nQ 1350 2500 1162 2250 \nQ 975 2000 975 1650 \nQ 975 1100 1162 800 \nQ 1350 500 1675 500 \nQ 1900 500 2075 725 \nQ 2250 950 2250 1550 \nz\n\" transform=\"scale(0.015625)\"/>\n       </defs>\n       <use xlink:href=\"#SimHei-36\"/>\n       <use xlink:href=\"#SimHei-30\" x=\"50\"/>\n      </g>\n     </g>\n    </g>\n    <g id=\"xtick_4\">\n     <g id=\"line2d_7\">\n      <path d=\"M 185.045455 146.517969 \nL 185.045455 10.617969 \n\" clip-path=\"url(#pa0873c28be)\" style=\"fill: none; stroke: #b0b0b0; stroke-width: 0.8; stroke-linecap: square\"/>\n     </g>\n     <g id=\"line2d_8\">\n      <g>\n       <use xlink:href=\"#m4ee9a7506e\" x=\"185.045455\" y=\"146.517969\" style=\"stroke: #000000; stroke-width: 0.8\"/>\n      </g>\n     </g>\n     <g id=\"text_4\">\n      <!-- 80 -->\n      <g transform=\"translate(180.045455 160.353906)scale(0.1 -0.1)\">\n       <defs>\n        <path id=\"SimHei-38\" d=\"M 2875 1325 \nQ 2875 700 2525 375 \nQ 2175 50 1575 50 \nQ 975 50 625 375 \nQ 275 700 275 1325 \nQ 275 1650 475 1912 \nQ 675 2175 1025 2300 \nQ 725 2425 562 2650 \nQ 400 2875 400 3225 \nQ 400 3775 750 4100 \nQ 1100 4425 1575 4425 \nQ 2050 4425 2400 4100 \nQ 2750 3775 2750 3225 \nQ 2750 2875 2587 2650 \nQ 2425 2425 2125 2300 \nQ 2475 2175 2675 1912 \nQ 2875 1650 2875 1325 \nz\nM 2200 3225 \nQ 2200 3625 2025 3800 \nQ 1850 3975 1575 3975 \nQ 1300 3975 1125 3800 \nQ 950 3625 950 3225 \nQ 950 2825 1137 2662 \nQ 1325 2500 1575 2500 \nQ 1825 2500 2012 2662 \nQ 2200 2825 2200 3225 \nz\nM 2300 1325 \nQ 2300 1675 2112 1875 \nQ 1925 2075 1575 2075 \nQ 1225 2075 1037 1875 \nQ 850 1675 850 1325 \nQ 850 925 1050 712 \nQ 1250 500 1575 500 \nQ 1900 500 2100 712 \nQ 2300 925 2300 1325 \nz\n\" transform=\"scale(0.015625)\"/>\n       </defs>\n       <use xlink:href=\"#SimHei-38\"/>\n       <use xlink:href=\"#SimHei-30\" x=\"50\"/>\n      </g>\n     </g>\n    </g>\n    <g id=\"xtick_5\">\n     <g id=\"line2d_9\">\n      <path d=\"M 224.5 146.517969 \nL 224.5 10.617969 \n\" clip-path=\"url(#pa0873c28be)\" style=\"fill: none; stroke: #b0b0b0; stroke-width: 0.8; stroke-linecap: square\"/>\n     </g>\n     <g id=\"line2d_10\">\n      <g>\n       <use xlink:href=\"#m4ee9a7506e\" x=\"224.5\" y=\"146.517969\" style=\"stroke: #000000; stroke-width: 0.8\"/>\n      </g>\n     </g>\n     <g id=\"text_5\">\n      <!-- 100 -->\n      <g transform=\"translate(217 160.353906)scale(0.1 -0.1)\">\n       <defs>\n        <path id=\"SimHei-31\" d=\"M 1950 100 \nL 1375 100 \nL 1375 3425 \nL 625 3425 \nL 625 3725 \nQ 1075 3725 1325 3900 \nQ 1575 4075 1650 4425 \nL 1950 4425 \nL 1950 100 \nz\n\" transform=\"scale(0.015625)\"/>\n       </defs>\n       <use xlink:href=\"#SimHei-31\"/>\n       <use xlink:href=\"#SimHei-30\" x=\"50\"/>\n       <use xlink:href=\"#SimHei-30\" x=\"100\"/>\n      </g>\n     </g>\n    </g>\n    <g id=\"text_6\">\n     <!-- epoch -->\n     <g transform=\"translate(114.35 172.478906)scale(0.1 -0.1)\">\n      <defs>\n       <path id=\"SimHei-65\" d=\"M 2875 1050 \nQ 2825 600 2475 325 \nQ 2125 50 1650 50 \nQ 1050 50 662 437 \nQ 275 825 275 1500 \nQ 275 2175 662 2562 \nQ 1050 2950 1650 2950 \nQ 2175 2950 2512 2612 \nQ 2850 2275 2850 1500 \nL 825 1500 \nQ 825 950 1062 725 \nQ 1300 500 1650 500 \nQ 1925 500 2100 637 \nQ 2275 775 2325 1050 \nL 2875 1050 \nz\nM 2275 1900 \nQ 2225 2250 2050 2387 \nQ 1875 2525 1600 2525 \nQ 1350 2525 1150 2387 \nQ 950 2250 850 1900 \nL 2275 1900 \nz\n\" transform=\"scale(0.015625)\"/>\n       <path id=\"SimHei-70\" d=\"M 2850 1500 \nQ 2850 775 2500 400 \nQ 2150 25 1650 25 \nQ 1375 25 1175 137 \nQ 975 250 825 475 \nL 825 -825 \nL 325 -825 \nL 325 2900 \nL 825 2900 \nL 825 2525 \nQ 975 2750 1175 2850 \nQ 1375 2950 1650 2950 \nQ 2150 2950 2500 2587 \nQ 2850 2225 2850 1500 \nz\nM 2300 1500 \nQ 2300 1975 2112 2237 \nQ 1925 2500 1550 2500 \nQ 1250 2500 1037 2237 \nQ 825 1975 825 1500 \nQ 825 1025 1037 750 \nQ 1250 475 1550 475 \nQ 1925 475 2112 750 \nQ 2300 1025 2300 1500 \nz\n\" transform=\"scale(0.015625)\"/>\n       <path id=\"SimHei-6f\" d=\"M 2950 1500 \nQ 2950 850 2550 450 \nQ 2150 50 1600 50 \nQ 1050 50 650 450 \nQ 250 850 250 1500 \nQ 250 2150 650 2550 \nQ 1050 2950 1600 2950 \nQ 2150 2950 2550 2550 \nQ 2950 2150 2950 1500 \nz\nM 2400 1500 \nQ 2400 2000 2150 2250 \nQ 1900 2500 1600 2500 \nQ 1300 2500 1050 2250 \nQ 800 2000 800 1500 \nQ 800 1000 1050 750 \nQ 1300 500 1600 500 \nQ 1900 500 2150 750 \nQ 2400 1000 2400 1500 \nz\n\" transform=\"scale(0.015625)\"/>\n       <path id=\"SimHei-63\" d=\"M 2875 1225 \nQ 2875 700 2512 375 \nQ 2150 50 1600 50 \nQ 1050 50 650 437 \nQ 250 825 250 1500 \nQ 250 2175 650 2562 \nQ 1050 2950 1600 2950 \nQ 2150 2950 2475 2662 \nQ 2800 2375 2800 1975 \nL 2250 1975 \nQ 2225 2275 2037 2387 \nQ 1850 2500 1600 2500 \nQ 1300 2500 1050 2262 \nQ 800 2025 800 1500 \nQ 800 975 1050 737 \nQ 1300 500 1600 500 \nQ 1925 500 2125 675 \nQ 2325 850 2325 1225 \nL 2875 1225 \nz\n\" transform=\"scale(0.015625)\"/>\n       <path id=\"SimHei-68\" d=\"M 2825 100 \nL 2325 100 \nL 2325 1900 \nQ 2325 2200 2175 2375 \nQ 2025 2550 1775 2550 \nQ 1450 2550 1162 2212 \nQ 875 1875 875 1375 \nL 875 100 \nL 375 100 \nL 375 4375 \nL 875 4375 \nL 875 2375 \nQ 1075 2650 1312 2800 \nQ 1550 2950 1925 2950 \nQ 2375 2950 2600 2700 \nQ 2825 2450 2825 2075 \nL 2825 100 \nz\n\" transform=\"scale(0.015625)\"/>\n      </defs>\n      <use xlink:href=\"#SimHei-65\"/>\n      <use xlink:href=\"#SimHei-70\" x=\"50\"/>\n      <use xlink:href=\"#SimHei-6f\" x=\"100\"/>\n      <use xlink:href=\"#SimHei-63\" x=\"150\"/>\n      <use xlink:href=\"#SimHei-68\" x=\"200\"/>\n     </g>\n    </g>\n   </g>\n   <g id=\"matplotlib.axis_2\">\n    <g id=\"ytick_1\">\n     <g id=\"line2d_11\">\n      <path d=\"M 29.2 146.517969 \nL 224.5 146.517969 \n\" clip-path=\"url(#pa0873c28be)\" style=\"fill: none; stroke: #b0b0b0; stroke-width: 0.8; stroke-linecap: square\"/>\n     </g>\n     <g id=\"line2d_12\">\n      <defs>\n       <path id=\"mb18bafc3e4\" d=\"M 0 0 \nL -3.5 0 \n\" style=\"stroke: #000000; stroke-width: 0.8\"/>\n      </defs>\n      <g>\n       <use xlink:href=\"#mb18bafc3e4\" x=\"29.2\" y=\"146.517969\" style=\"stroke: #000000; stroke-width: 0.8\"/>\n      </g>\n     </g>\n     <g id=\"text_7\">\n      <!-- 0.0 -->\n      <g transform=\"translate(7.2 149.935938)scale(0.1 -0.1)\">\n       <defs>\n        <path id=\"SimHei-2e\" d=\"M 1100 100 \nL 525 100 \nL 525 650 \nL 1100 650 \nL 1100 100 \nz\n\" transform=\"scale(0.015625)\"/>\n       </defs>\n       <use xlink:href=\"#SimHei-30\"/>\n       <use xlink:href=\"#SimHei-2e\" x=\"50\"/>\n       <use xlink:href=\"#SimHei-30\" x=\"100\"/>\n      </g>\n     </g>\n    </g>\n    <g id=\"ytick_2\">\n     <g id=\"line2d_13\">\n      <path d=\"M 29.2 119.337969 \nL 224.5 119.337969 \n\" clip-path=\"url(#pa0873c28be)\" style=\"fill: none; stroke: #b0b0b0; stroke-width: 0.8; stroke-linecap: square\"/>\n     </g>\n     <g id=\"line2d_14\">\n      <g>\n       <use xlink:href=\"#mb18bafc3e4\" x=\"29.2\" y=\"119.337969\" style=\"stroke: #000000; stroke-width: 0.8\"/>\n      </g>\n     </g>\n     <g id=\"text_8\">\n      <!-- 0.2 -->\n      <g transform=\"translate(7.2 122.755938)scale(0.1 -0.1)\">\n       <use xlink:href=\"#SimHei-30\"/>\n       <use xlink:href=\"#SimHei-2e\" x=\"50\"/>\n       <use xlink:href=\"#SimHei-32\" x=\"100\"/>\n      </g>\n     </g>\n    </g>\n    <g id=\"ytick_3\">\n     <g id=\"line2d_15\">\n      <path d=\"M 29.2 92.157969 \nL 224.5 92.157969 \n\" clip-path=\"url(#pa0873c28be)\" style=\"fill: none; stroke: #b0b0b0; stroke-width: 0.8; stroke-linecap: square\"/>\n     </g>\n     <g id=\"line2d_16\">\n      <g>\n       <use xlink:href=\"#mb18bafc3e4\" x=\"29.2\" y=\"92.157969\" style=\"stroke: #000000; stroke-width: 0.8\"/>\n      </g>\n     </g>\n     <g id=\"text_9\">\n      <!-- 0.4 -->\n      <g transform=\"translate(7.2 95.575938)scale(0.1 -0.1)\">\n       <use xlink:href=\"#SimHei-30\"/>\n       <use xlink:href=\"#SimHei-2e\" x=\"50\"/>\n       <use xlink:href=\"#SimHei-34\" x=\"100\"/>\n      </g>\n     </g>\n    </g>\n    <g id=\"ytick_4\">\n     <g id=\"line2d_17\">\n      <path d=\"M 29.2 64.977969 \nL 224.5 64.977969 \n\" clip-path=\"url(#pa0873c28be)\" style=\"fill: none; stroke: #b0b0b0; stroke-width: 0.8; stroke-linecap: square\"/>\n     </g>\n     <g id=\"line2d_18\">\n      <g>\n       <use xlink:href=\"#mb18bafc3e4\" x=\"29.2\" y=\"64.977969\" style=\"stroke: #000000; stroke-width: 0.8\"/>\n      </g>\n     </g>\n     <g id=\"text_10\">\n      <!-- 0.6 -->\n      <g transform=\"translate(7.2 68.395938)scale(0.1 -0.1)\">\n       <use xlink:href=\"#SimHei-30\"/>\n       <use xlink:href=\"#SimHei-2e\" x=\"50\"/>\n       <use xlink:href=\"#SimHei-36\" x=\"100\"/>\n      </g>\n     </g>\n    </g>\n    <g id=\"ytick_5\">\n     <g id=\"line2d_19\">\n      <path d=\"M 29.2 37.797969 \nL 224.5 37.797969 \n\" clip-path=\"url(#pa0873c28be)\" style=\"fill: none; stroke: #b0b0b0; stroke-width: 0.8; stroke-linecap: square\"/>\n     </g>\n     <g id=\"line2d_20\">\n      <g>\n       <use xlink:href=\"#mb18bafc3e4\" x=\"29.2\" y=\"37.797969\" style=\"stroke: #000000; stroke-width: 0.8\"/>\n      </g>\n     </g>\n     <g id=\"text_11\">\n      <!-- 0.8 -->\n      <g transform=\"translate(7.2 41.215938)scale(0.1 -0.1)\">\n       <use xlink:href=\"#SimHei-30\"/>\n       <use xlink:href=\"#SimHei-2e\" x=\"50\"/>\n       <use xlink:href=\"#SimHei-38\" x=\"100\"/>\n      </g>\n     </g>\n    </g>\n    <g id=\"ytick_6\">\n     <g id=\"line2d_21\">\n      <path d=\"M 29.2 10.617969 \nL 224.5 10.617969 \n\" clip-path=\"url(#pa0873c28be)\" style=\"fill: none; stroke: #b0b0b0; stroke-width: 0.8; stroke-linecap: square\"/>\n     </g>\n     <g id=\"line2d_22\">\n      <g>\n       <use xlink:href=\"#mb18bafc3e4\" x=\"29.2\" y=\"10.617969\" style=\"stroke: #000000; stroke-width: 0.8\"/>\n      </g>\n     </g>\n     <g id=\"text_12\">\n      <!-- 1.0 -->\n      <g transform=\"translate(7.2 14.035938)scale(0.1 -0.1)\">\n       <use xlink:href=\"#SimHei-31\"/>\n       <use xlink:href=\"#SimHei-2e\" x=\"50\"/>\n       <use xlink:href=\"#SimHei-30\" x=\"100\"/>\n      </g>\n     </g>\n    </g>\n   </g>\n   <g id=\"line2d_23\">\n    <path d=\"M 27.621061 31.272593 \nL 28.014849 40.575584 \nL 28.408637 45.012959 \nL 29.2 50.234916 \nL 29.593788 61.080983 \nL 30.381365 62.377856 \nL 30.775153 63.315647 \nL 31.172727 63.833618 \nL 31.566515 70.011748 \nL 31.960304 70.070937 \nL 32.354092 69.458565 \nL 32.74788 69.569695 \nL 33.141668 70.0361 \nL 33.145455 70.017028 \nL 33.539243 69.882949 \nL 33.933031 71.524895 \nL 34.326819 71.42345 \nL 35.118182 71.682962 \nL 35.51197 80.541343 \nL 35.905758 79.362807 \nL 36.299546 79.020079 \nL 36.693334 79.444821 \nL 37.090909 79.437992 \nL 37.484697 83.11339 \nL 37.878485 81.146563 \nL 38.272274 80.799914 \nL 38.666062 80.724327 \nL 39.457425 80.861741 \nL 40.245001 82.569324 \nL 40.638789 82.949765 \nL 41.036364 82.635802 \nL 41.430152 86.480317 \nL 41.82394 85.088028 \nL 42.217728 84.566655 \nL 42.611516 84.301447 \nL 43.009091 84.547639 \nL 43.796667 87.966949 \nL 44.190455 88.721342 \nL 44.584244 88.531422 \nL 44.981818 88.558359 \nL 45.375606 91.862362 \nL 45.769395 91.264849 \nL 46.163183 90.066716 \nL 46.556971 89.917125 \nL 46.954545 89.997863 \nL 47.348334 93.037802 \nL 47.742122 92.686604 \nL 48.923486 90.906688 \nL 48.927273 90.869767 \nL 49.321061 92.978681 \nL 49.714849 92.819391 \nL 50.108637 91.957735 \nL 50.9 91.573278 \nL 51.293788 96.566343 \nL 51.687576 96.710335 \nL 52.475153 95.345968 \nL 53.266515 96.275583 \nL 53.660304 96.300988 \nL 54.054092 96.728737 \nL 54.44788 96.368673 \nL 54.845455 96.516246 \nL 55.239243 98.216765 \nL 56.026819 96.786032 \nL 56.420607 97.269417 \nL 56.814395 96.695287 \nL 56.818182 96.712956 \nL 57.21197 99.813597 \nL 57.605758 98.750882 \nL 57.999546 98.110652 \nL 58.790909 97.563968 \nL 59.184697 101.241614 \nL 59.578485 100.494326 \nL 59.972274 100.826885 \nL 60.763636 100.891558 \nL 61.157425 102.7773 \nL 61.551213 101.706395 \nL 61.945001 102.37048 \nL 62.338789 102.140079 \nL 62.732577 102.224374 \nL 62.736364 102.202562 \nL 63.130152 102.71949 \nL 63.52394 102.382393 \nL 63.917728 102.754598 \nL 64.709091 102.303307 \nL 65.102879 102.257123 \nL 65.496667 103.457566 \nL 65.890455 102.866872 \nL 66.284244 102.540556 \nL 66.681818 102.464539 \nL 67.075606 105.695998 \nL 67.469395 105.441016 \nL 67.863183 105.686264 \nL 68.654545 105.256595 \nL 69.048334 108.840397 \nL 69.442122 107.424725 \nL 70.623486 105.753449 \nL 70.627273 105.772746 \nL 71.021061 107.461671 \nL 71.414849 106.578042 \nL 71.808637 106.826093 \nL 72.202425 106.186209 \nL 72.6 106.039756 \nL 72.993788 107.80561 \nL 73.387576 108.046518 \nL 74.572727 107.246398 \nL 74.966515 110.700858 \nL 75.754092 109.398039 \nL 76.541668 109.090682 \nL 76.545455 109.120666 \nL 76.939243 110.77748 \nL 77.333031 109.776061 \nL 77.726819 109.578354 \nL 78.518182 108.65933 \nL 79.305758 108.8315 \nL 80.093334 110.093187 \nL 80.490909 110.062826 \nL 81.672274 110.337902 \nL 82.463636 110.072949 \nL 82.857425 111.84696 \nL 83.251213 112.54819 \nL 83.645001 112.691223 \nL 84.038789 112.643816 \nL 84.432577 112.374686 \nL 84.436364 112.384551 \nL 85.22394 113.611857 \nL 85.617728 112.872084 \nL 86.011516 112.712196 \nL 86.409091 112.721566 \nL 86.802879 114.397692 \nL 87.196667 114.185822 \nL 87.590455 113.58641 \nL 87.984244 113.244274 \nL 88.381818 113.230413 \nL 88.775606 114.890722 \nL 89.169395 114.644004 \nL 89.563183 114.210864 \nL 90.354545 113.771168 \nL 90.748334 115.455567 \nL 91.142122 115.622728 \nL 91.53591 115.428754 \nL 92.327273 114.816706 \nL 92.721061 117.191966 \nL 93.114849 115.34622 \nL 93.508637 115.197578 \nL 94.3 115.331418 \nL 94.693788 116.094827 \nL 95.481365 115.149978 \nL 95.875153 114.92738 \nL 96.268941 115.087058 \nL 96.272727 115.071758 \nL 97.454092 116.240401 \nL 97.84788 116.307782 \nL 98.245455 116.077839 \nL 98.639243 118.475745 \nL 99.033031 117.825807 \nL 99.426819 118.220328 \nL 100.214395 117.694769 \nL 100.218182 117.662275 \nL 100.61197 117.987922 \nL 101.005758 117.309684 \nL 101.793334 118.216395 \nL 102.190909 117.90318 \nL 102.584697 118.447623 \nL 102.978485 118.330029 \nL 103.372274 117.750549 \nL 103.766062 117.977213 \nL 104.163636 117.837524 \nL 104.557425 118.530604 \nL 104.951213 119.494118 \nL 105.345001 119.312694 \nL 106.136364 118.368117 \nL 106.530152 121.057532 \nL 106.92394 121.213164 \nL 107.317728 120.631446 \nL 107.711516 120.272414 \nL 108.109091 120.115923 \nL 108.502879 121.64333 \nL 108.896667 120.799232 \nL 109.684244 119.921216 \nL 110.081818 119.933271 \nL 110.475606 122.040986 \nL 110.869395 121.327296 \nL 111.656971 121.000058 \nL 112.050759 120.762512 \nL 112.054545 120.786672 \nL 112.448334 121.919739 \nL 112.842122 121.092924 \nL 113.23591 120.728149 \nL 114.023486 120.243954 \nL 114.027273 120.255665 \nL 114.421061 122.060688 \nL 114.814849 122.005789 \nL 115.208637 122.077676 \nL 115.602425 121.881674 \nL 116.393788 122.309975 \nL 116.787576 122.676576 \nL 117.575153 121.63786 \nL 117.972727 121.641251 \nL 118.366515 122.154876 \nL 118.760304 123.035535 \nL 119.54788 122.602426 \nL 119.945455 122.717278 \nL 120.339243 123.051622 \nL 121.520607 122.062539 \nL 121.918182 122.23272 \nL 122.31197 124.561522 \nL 122.705758 124.554958 \nL 123.099546 124.186833 \nL 123.493334 123.577712 \nL 123.890909 123.514139 \nL 124.284697 124.711864 \nL 124.678485 124.917724 \nL 125.072274 124.214344 \nL 125.466062 124.223066 \nL 125.85985 124.389962 \nL 125.863636 124.3544 \nL 126.257425 125.836389 \nL 126.651213 124.714817 \nL 127.045001 124.214713 \nL 127.832577 123.936692 \nL 127.836364 123.929773 \nL 128.230152 124.859123 \nL 128.62394 124.732397 \nL 129.017728 124.345783 \nL 129.809091 124.217522 \nL 130.202879 125.539132 \nL 130.596667 125.418653 \nL 131.384244 125.527805 \nL 131.778032 125.192727 \nL 131.781818 125.214697 \nL 132.175606 126.939973 \nL 132.569395 127.312159 \nL 133.356971 126.233129 \nL 133.754545 125.792608 \nL 134.148334 125.090299 \nL 134.542122 124.871782 \nL 134.93591 125.427553 \nL 135.723486 125.239308 \nL 135.727273 125.253361 \nL 136.121061 127.539461 \nL 136.514849 126.557166 \nL 137.302425 126.089899 \nL 137.7 125.820087 \nL 138.093788 126.329436 \nL 138.487576 126.646494 \nL 139.275153 126.649503 \nL 140.066515 127.172704 \nL 140.460304 127.051474 \nL 140.854092 126.501659 \nL 141.24788 126.791008 \nL 141.641668 126.583613 \nL 141.645455 126.603282 \nL 142.039243 127.367496 \nL 142.433031 127.559716 \nL 143.220607 127.414291 \nL 144.01197 127.722242 \nL 144.405758 127.123865 \nL 144.799546 127.57547 \nL 145.193334 127.586982 \nL 145.590909 127.495646 \nL 145.984697 128.442106 \nL 146.378485 128.330253 \nL 146.772274 128.03754 \nL 147.166062 127.985805 \nL 147.957425 128.344472 \nL 148.351213 128.053745 \nL 148.745001 128.148519 \nL 149.536364 127.891231 \nL 149.930152 129.32308 \nL 150.32394 128.275653 \nL 150.717728 128.679923 \nL 151.111516 128.805958 \nL 151.505304 128.5903 \nL 151.509091 128.599917 \nL 151.902879 128.975959 \nL 152.690455 128.998921 \nL 153.478032 128.557694 \nL 153.481818 128.566194 \nL 153.875606 130.327479 \nL 154.269395 128.87839 \nL 154.663183 128.642609 \nL 155.056971 128.780699 \nL 155.454545 128.756351 \nL 155.848334 129.636844 \nL 156.63591 129.43796 \nL 157.029698 129.301111 \nL 157.423486 129.029585 \nL 157.427273 129.048991 \nL 157.821061 129.425263 \nL 158.214849 129.544056 \nL 159.002425 129.04969 \nL 159.4 128.976803 \nL 159.793788 130.181197 \nL 160.187576 130.278275 \nL 160.581365 130.209151 \nL 160.975153 129.765216 \nL 161.372727 129.570322 \nL 161.766515 130.215511 \nL 161.766515 130.215511 \n\" clip-path=\"url(#pa0873c28be)\" style=\"fill: none; stroke: #1f77b4; stroke-width: 1.5; stroke-linecap: square\"/>\n   </g>\n   <g id=\"line2d_24\">\n    <path d=\"M 27.621061 48.839844 \nL 28.014849 46.355694 \nL 28.408637 44.951412 \nL 29.2 43.323663 \nL 29.593788 39.502163 \nL 29.987576 39.781205 \nL 30.381365 39.47494 \nL 30.775153 39.025751 \nL 31.172727 38.771013 \nL 31.566515 37.147326 \nL 32.354092 37.40595 \nL 33.145455 36.928209 \nL 33.539243 36.589243 \nL 33.933031 36.078801 \nL 34.720607 36.106025 \nL 35.118182 35.976909 \nL 35.51197 32.96851 \nL 36.299546 33.590114 \nL 37.090909 33.571479 \nL 37.484697 32.546544 \nL 37.878485 33.08421 \nL 38.272274 33.3814 \nL 39.05985 33.344195 \nL 39.063636 33.332295 \nL 39.457425 33.336028 \nL 39.851213 32.948092 \nL 40.638789 32.621409 \nL 41.036364 32.728899 \nL 41.430152 31.702614 \nL 42.217728 32.138191 \nL 42.611516 32.168818 \nL 43.009091 32.030373 \nL 43.402879 30.845072 \nL 44.190455 30.609135 \nL 44.584244 30.783819 \nL 44.981818 30.747477 \nL 45.375606 29.361388 \nL 45.769395 29.579177 \nL 46.163183 29.955769 \nL 46.954545 30.100593 \nL 47.348334 28.99387 \nL 48.927273 29.820639 \nL 49.321061 29.633624 \nL 49.714849 29.320553 \nL 50.502425 29.579177 \nL 50.9 29.692893 \nL 51.293788 28.013822 \nL 52.081365 28.05012 \nL 52.475153 28.340505 \nL 52.872727 28.227891 \nL 53.266515 28.394952 \nL 54.845455 28.168095 \nL 55.239243 27.455739 \nL 55.633031 27.557828 \nL 56.026819 27.900391 \nL 56.420607 27.646304 \nL 56.818182 27.757677 \nL 57.21197 26.92488 \nL 57.605758 27.462545 \nL 57.999546 27.682602 \nL 58.393334 27.656513 \nL 58.790909 27.779421 \nL 59.184697 26.625421 \nL 59.578485 26.713897 \nL 60.763636 26.507397 \nL 61.157425 26.094561 \nL 61.551213 26.176232 \nL 61.945001 25.958444 \nL 62.338789 26.121785 \nL 63.130152 26.08095 \nL 63.917728 25.863161 \nL 64.709091 26.086107 \nL 65.102879 25.93122 \nL 65.496667 25.556896 \nL 66.284244 25.852952 \nL 66.681818 25.912155 \nL 67.075606 24.774219 \nL 67.469395 25.019231 \nL 67.863183 24.842278 \nL 68.654545 25.064139 \nL 69.048334 23.807782 \nL 69.442122 24.256971 \nL 70.627273 24.865725 \nL 71.021061 24.243359 \nL 71.414849 24.583654 \nL 71.808637 24.492909 \nL 72.202425 24.828666 \nL 72.6 24.892905 \nL 72.993788 23.821394 \nL 74.572727 24.254175 \nL 74.966515 22.86857 \nL 75.360304 23.276923 \nL 75.754092 23.521935 \nL 76.545455 23.612727 \nL 76.939243 23.09997 \nL 77.333031 23.644441 \nL 77.726819 23.526472 \nL 78.518182 23.870937 \nL 78.91197 24.338642 \nL 79.699546 23.585457 \nL 80.093334 23.430056 \nL 80.490909 23.422467 \nL 80.884697 23.630829 \nL 82.066062 23.396026 \nL 82.463636 23.504007 \nL 82.857425 22.814123 \nL 83.251213 22.562305 \nL 83.645001 22.469291 \nL 84.436364 22.666863 \nL 85.617728 22.58726 \nL 86.409091 22.544553 \nL 86.802879 21.602674 \nL 87.196667 21.745598 \nL 87.590455 22.0564 \nL 88.381818 22.234701 \nL 88.775606 21.929357 \nL 89.169395 21.936163 \nL 89.563183 22.065475 \nL 89.956971 22.04846 \nL 90.354545 22.215675 \nL 90.748334 21.548227 \nL 91.142122 21.500586 \nL 92.327273 21.764487 \nL 92.721061 20.704297 \nL 93.114849 21.473362 \nL 93.508637 21.375811 \nL 94.3 21.506277 \nL 94.693788 21.330439 \nL 95.875153 21.677539 \nL 96.666515 21.561839 \nL 97.84788 21.11265 \nL 98.245455 21.234477 \nL 98.639243 20.309555 \nL 99.033031 20.472897 \nL 99.426819 20.454748 \nL 99.820607 20.629432 \nL 100.61197 20.745132 \nL 101.005758 20.962921 \nL 102.190909 20.761545 \nL 102.584697 20.391226 \nL 102.978485 20.255108 \nL 103.372274 20.568179 \nL 103.766062 20.540956 \nL 104.163636 20.669133 \nL 104.557425 20.581791 \nL 104.951213 20.03732 \nL 105.738789 20.401435 \nL 106.136364 20.544105 \nL 106.530152 19.710637 \nL 106.92394 19.635772 \nL 107.317728 19.828606 \nL 108.109091 19.962453 \nL 108.502879 19.138942 \nL 108.896667 19.594937 \nL 109.684244 19.846755 \nL 110.081818 19.861887 \nL 110.475606 19.383954 \nL 110.869395 19.77189 \nL 111.263183 19.697025 \nL 112.054545 19.742295 \nL 112.448334 19.193389 \nL 112.842122 19.724249 \nL 114.027273 19.962453 \nL 114.421061 19.125331 \nL 116.393788 19.27506 \nL 116.787576 19.050466 \nL 117.575153 19.516669 \nL 117.972727 19.494957 \nL 118.760304 18.914348 \nL 119.54788 19.047063 \nL 120.339243 18.839483 \nL 121.520607 19.094704 \nL 121.918182 19.084539 \nL 122.31197 18.226953 \nL 122.705758 18.240565 \nL 123.890909 18.755661 \nL 124.284697 18.363071 \nL 124.678485 18.233759 \nL 125.072274 18.440204 \nL 125.863636 18.361551 \nL 126.257425 17.777764 \nL 126.651213 18.213341 \nL 127.045001 18.394832 \nL 127.836364 18.372423 \nL 128.62394 18.240565 \nL 129.017728 18.363071 \nL 130.596667 18.118059 \nL 130.990455 17.959255 \nL 131.781818 18.106059 \nL 132.175606 17.342188 \nL 132.963183 17.500992 \nL 133.754545 17.812515 \nL 134.148334 17.886659 \nL 134.542122 18.090835 \nL 134.93591 17.845823 \nL 135.727273 17.959287 \nL 136.121061 16.974669 \nL 136.514849 17.641647 \nL 136.908637 17.61896 \nL 137.7 17.807079 \nL 138.093788 18.063612 \nL 138.487576 17.634841 \nL 139.275153 17.675676 \nL 140.066515 17.342188 \nL 140.460304 17.355799 \nL 140.854092 17.555439 \nL 141.24788 17.447679 \nL 141.645455 17.551587 \nL 142.039243 16.933834 \nL 142.433031 17.09037 \nL 143.618182 17.119425 \nL 144.01197 17.573588 \nL 144.405758 17.5872 \nL 145.193334 17.28774 \nL 145.590909 17.298813 \nL 145.984697 16.906611 \nL 146.772274 17.079026 \nL 147.957425 17.015505 \nL 148.351213 17.103981 \nL 149.138789 17.046131 \nL 149.536364 17.089527 \nL 149.930152 16.620763 \nL 150.32394 17.063146 \nL 151.111516 16.811328 \nL 151.509091 16.877523 \nL 151.902879 16.566316 \nL 152.690455 16.820403 \nL 153.481818 16.934601 \nL 153.875606 16.144351 \nL 154.269395 16.647987 \nL 154.663183 16.811328 \nL 155.454545 16.858497 \nL 155.848334 16.402975 \nL 156.242122 16.32811 \nL 157.029698 16.569719 \nL 157.427273 16.668237 \nL 157.821061 16.157963 \nL 158.608637 16.507332 \nL 159.002425 16.702434 \nL 159.4 16.709007 \nL 159.793788 16.416587 \nL 160.187576 16.294081 \nL 160.975153 16.484645 \nL 161.372727 16.592133 \nL 161.766515 16.049069 \nL 161.766515 16.049069 \n\" clip-path=\"url(#pa0873c28be)\" style=\"fill: none; stroke-dasharray: 5.55,2.4; stroke-dashoffset: 0; stroke: #bf00bf; stroke-width: 1.5\"/>\n   </g>\n   <g id=\"line2d_25\">\n    <path d=\"M 29.2 47.623539 \nL 31.172727 54.649569 \nL 33.145455 46.957629 \nL 35.118182 55.763949 \nL 37.090909 41.861379 \nL 39.063636 44.959899 \nL 41.036364 40.665459 \nL 43.009091 45.625809 \nL 44.981818 46.631469 \nL 46.954545 40.597509 \nL 48.927273 39.523899 \nL 50.9 34.223799 \nL 52.872727 32.130939 \nL 54.845455 34.916889 \nL 56.818182 33.421989 \nL 58.790909 35.256639 \nL 60.763636 35.868189 \nL 62.736364 37.920279 \nL 64.709091 37.390269 \nL 66.681818 44.592969 \nL 68.654545 36.330249 \nL 70.627273 37.634889 \nL 72.6 31.682469 \nL 74.572727 41.181879 \nL 76.545455 39.483129 \nL 78.518182 31.954269 \nL 80.490909 32.660949 \nL 82.463636 35.012019 \nL 84.436364 31.981449 \nL 86.409091 32.008629 \nL 88.381818 35.392539 \nL 90.354545 31.818369 \nL 92.327273 30.595269 \nL 94.3 34.808169 \nL 96.272727 30.636039 \nL 98.245455 31.682469 \nL 100.218182 30.894249 \nL 102.190909 33.354039 \nL 104.163636 32.552229 \nL 106.136364 35.324589 \nL 108.109091 29.820639 \nL 110.081818 29.562429 \nL 112.054545 32.457099 \nL 114.027273 32.049399 \nL 116 29.494479 \nL 117.972727 29.793459 \nL 119.945455 28.515999 \nL 121.918182 31.954269 \nL 123.890909 29.752689 \nL 125.863636 31.777599 \nL 127.836364 29.086779 \nL 129.809091 30.241929 \nL 131.781818 30.907839 \nL 133.754545 28.787799 \nL 135.727273 29.766279 \nL 137.7 28.583949 \nL 139.672727 29.603199 \nL 141.645455 28.149069 \nL 143.618182 28.284969 \nL 145.590909 28.094709 \nL 147.563636 29.643969 \nL 149.536364 28.149069 \nL 151.509091 29.603199 \nL 153.481818 30.880659 \nL 155.454545 27.836499 \nL 157.427273 27.374439 \nL 159.4 28.787799 \nL 161.372727 29.046009 \n\" clip-path=\"url(#pa0873c28be)\" style=\"fill: none; stroke-dasharray: 9.6,2.4,1.5,2.4; stroke-dashoffset: 0; stroke: #008000; stroke-width: 1.5\"/>\n   </g>\n   <g id=\"patch_3\">\n    <path d=\"M 29.2 146.517969 \nL 29.2 10.617969 \n\" style=\"fill: none; stroke: #000000; stroke-width: 0.8; stroke-linejoin: miter; stroke-linecap: square\"/>\n   </g>\n   <g id=\"patch_4\">\n    <path d=\"M 224.5 146.517969 \nL 224.5 10.617969 \n\" style=\"fill: none; stroke: #000000; stroke-width: 0.8; stroke-linejoin: miter; stroke-linecap: square\"/>\n   </g>\n   <g id=\"patch_5\">\n    <path d=\"M 29.2 146.517969 \nL 224.5 146.517969 \n\" style=\"fill: none; stroke: #000000; stroke-width: 0.8; stroke-linejoin: miter; stroke-linecap: square\"/>\n   </g>\n   <g id=\"patch_6\">\n    <path d=\"M 29.2 10.617969 \nL 224.5 10.617969 \n\" style=\"fill: none; stroke: #000000; stroke-width: 0.8; stroke-linejoin: miter; stroke-linecap: square\"/>\n   </g>\n   <g id=\"legend_1\">\n    <g id=\"patch_7\">\n     <path d=\"M 135.5 100.001563 \nL 217.5 100.001563 \nQ 219.5 100.001563 219.5 98.001563 \nL 219.5 59.134375 \nQ 219.5 57.134375 217.5 57.134375 \nL 135.5 57.134375 \nQ 133.5 57.134375 133.5 59.134375 \nL 133.5 98.001563 \nQ 133.5 100.001563 135.5 100.001563 \nz\n\" style=\"fill: #ffffff; opacity: 0.8; stroke: #cccccc; stroke-linejoin: miter\"/>\n    </g>\n    <g id=\"line2d_26\">\n     <path d=\"M 137.5 64.634375 \nL 147.5 64.634375 \nL 157.5 64.634375 \n\" style=\"fill: none; stroke: #1f77b4; stroke-width: 1.5; stroke-linecap: square\"/>\n    </g>\n    <g id=\"text_13\">\n     <!-- train loss -->\n     <g transform=\"translate(165.5 68.134375)scale(0.1 -0.1)\">\n      <defs>\n       <path id=\"SimHei-74\" d=\"M 2775 175 \nQ 2650 125 2487 87 \nQ 2325 50 2050 50 \nQ 1600 50 1325 300 \nQ 1050 550 1050 1000 \nL 1050 2500 \nL 200 2500 \nL 200 2900 \nL 1050 2900 \nL 1050 3875 \nL 1550 3875 \nL 1550 2900 \nL 2575 2900 \nL 2575 2500 \nL 1550 2500 \nL 1550 975 \nQ 1550 775 1650 637 \nQ 1750 500 2025 500 \nQ 2300 500 2475 550 \nQ 2650 600 2775 675 \nL 2775 175 \nz\n\" transform=\"scale(0.015625)\"/>\n       <path id=\"SimHei-72\" d=\"M 2525 2400 \nQ 2050 2475 1725 2262 \nQ 1400 2050 1175 1525 \nL 1175 100 \nL 675 100 \nL 675 2900 \nL 1175 2900 \nL 1175 2175 \nQ 1400 2575 1737 2762 \nQ 2075 2950 2525 2950 \nL 2525 2400 \nz\n\" transform=\"scale(0.015625)\"/>\n       <path id=\"SimHei-61\" d=\"M 2900 100 \nL 2300 100 \nQ 2250 150 2225 237 \nQ 2200 325 2200 450 \nQ 2025 250 1775 150 \nQ 1525 50 1250 50 \nQ 850 50 575 250 \nQ 300 450 300 825 \nQ 300 1200 550 1425 \nQ 800 1650 1325 1725 \nQ 1675 1775 1937 1850 \nQ 2200 1925 2200 2050 \nQ 2200 2200 2087 2350 \nQ 1975 2500 1600 2500 \nQ 1300 2500 1162 2387 \nQ 1025 2275 975 2075 \nL 425 2075 \nQ 475 2475 787 2712 \nQ 1100 2950 1600 2950 \nQ 2150 2950 2425 2700 \nQ 2700 2450 2700 2000 \nL 2700 625 \nQ 2700 475 2750 350 \nQ 2800 225 2900 100 \nz\nM 2200 1025 \nL 2200 1525 \nQ 2050 1475 1912 1437 \nQ 1775 1400 1450 1350 \nQ 1075 1300 962 1175 \nQ 850 1050 850 875 \nQ 850 725 962 612 \nQ 1075 500 1300 500 \nQ 1525 500 1787 625 \nQ 2050 750 2200 1025 \nz\n\" transform=\"scale(0.015625)\"/>\n       <path id=\"SimHei-69\" d=\"M 1825 3700 \nL 1325 3700 \nL 1325 4350 \nL 1825 4350 \nL 1825 3700 \nz\nM 1825 100 \nL 1325 100 \nL 1325 2900 \nL 1825 2900 \nL 1825 100 \nz\n\" transform=\"scale(0.015625)\"/>\n       <path id=\"SimHei-6e\" d=\"M 2825 100 \nL 2325 100 \nL 2325 1900 \nQ 2325 2200 2175 2375 \nQ 2025 2550 1775 2550 \nQ 1450 2550 1162 2212 \nQ 875 1875 875 1375 \nL 875 100 \nL 375 100 \nL 375 2900 \nL 875 2900 \nL 875 2375 \nQ 1075 2650 1312 2800 \nQ 1550 2950 1925 2950 \nQ 2375 2950 2600 2700 \nQ 2825 2450 2825 2075 \nL 2825 100 \nz\n\" transform=\"scale(0.015625)\"/>\n       <path id=\"SimHei-20\" transform=\"scale(0.015625)\"/>\n       <path id=\"SimHei-6c\" d=\"M 1850 100 \nL 1350 100 \nL 1350 4375 \nL 1850 4375 \nL 1850 100 \nz\n\" transform=\"scale(0.015625)\"/>\n       <path id=\"SimHei-73\" d=\"M 2775 875 \nQ 2775 475 2462 262 \nQ 2150 50 1675 50 \nQ 1075 50 750 287 \nQ 425 525 425 975 \nL 925 975 \nQ 925 675 1137 575 \nQ 1350 475 1650 475 \nQ 1950 475 2100 587 \nQ 2250 700 2250 875 \nQ 2250 1000 2125 1125 \nQ 2000 1250 1500 1325 \nQ 925 1400 712 1612 \nQ 500 1825 500 2175 \nQ 500 2475 787 2712 \nQ 1075 2950 1625 2950 \nQ 2125 2950 2412 2725 \nQ 2700 2500 2700 2125 \nL 2200 2125 \nQ 2200 2350 2037 2437 \nQ 1875 2525 1625 2525 \nQ 1300 2525 1162 2412 \nQ 1025 2300 1025 2150 \nQ 1025 1975 1150 1875 \nQ 1275 1775 1675 1725 \nQ 2325 1625 2550 1412 \nQ 2775 1200 2775 875 \nz\n\" transform=\"scale(0.015625)\"/>\n      </defs>\n      <use xlink:href=\"#SimHei-74\"/>\n      <use xlink:href=\"#SimHei-72\" x=\"50\"/>\n      <use xlink:href=\"#SimHei-61\" x=\"100\"/>\n      <use xlink:href=\"#SimHei-69\" x=\"150\"/>\n      <use xlink:href=\"#SimHei-6e\" x=\"200\"/>\n      <use xlink:href=\"#SimHei-20\" x=\"250\"/>\n      <use xlink:href=\"#SimHei-6c\" x=\"300\"/>\n      <use xlink:href=\"#SimHei-6f\" x=\"350\"/>\n      <use xlink:href=\"#SimHei-73\" x=\"400\"/>\n      <use xlink:href=\"#SimHei-73\" x=\"450\"/>\n     </g>\n    </g>\n    <g id=\"line2d_27\">\n     <path d=\"M 137.5 77.923438 \nL 147.5 77.923438 \nL 157.5 77.923438 \n\" style=\"fill: none; stroke-dasharray: 5.55,2.4; stroke-dashoffset: 0; stroke: #bf00bf; stroke-width: 1.5\"/>\n    </g>\n    <g id=\"text_14\">\n     <!-- train acc -->\n     <g transform=\"translate(165.5 81.423438)scale(0.1 -0.1)\">\n      <use xlink:href=\"#SimHei-74\"/>\n      <use xlink:href=\"#SimHei-72\" x=\"50\"/>\n      <use xlink:href=\"#SimHei-61\" x=\"100\"/>\n      <use xlink:href=\"#SimHei-69\" x=\"150\"/>\n      <use xlink:href=\"#SimHei-6e\" x=\"200\"/>\n      <use xlink:href=\"#SimHei-20\" x=\"250\"/>\n      <use xlink:href=\"#SimHei-61\" x=\"300\"/>\n      <use xlink:href=\"#SimHei-63\" x=\"350\"/>\n      <use xlink:href=\"#SimHei-63\" x=\"400\"/>\n     </g>\n    </g>\n    <g id=\"line2d_28\">\n     <path d=\"M 137.5 91.2125 \nL 147.5 91.2125 \nL 157.5 91.2125 \n\" style=\"fill: none; stroke-dasharray: 9.6,2.4,1.5,2.4; stroke-dashoffset: 0; stroke: #008000; stroke-width: 1.5\"/>\n    </g>\n    <g id=\"text_15\">\n     <!-- test acc -->\n     <g transform=\"translate(165.5 94.7125)scale(0.1 -0.1)\">\n      <use xlink:href=\"#SimHei-74\"/>\n      <use xlink:href=\"#SimHei-65\" x=\"50\"/>\n      <use xlink:href=\"#SimHei-73\" x=\"100\"/>\n      <use xlink:href=\"#SimHei-74\" x=\"150\"/>\n      <use xlink:href=\"#SimHei-20\" x=\"200\"/>\n      <use xlink:href=\"#SimHei-61\" x=\"250\"/>\n      <use xlink:href=\"#SimHei-63\" x=\"300\"/>\n      <use xlink:href=\"#SimHei-63\" x=\"350\"/>\n     </g>\n    </g>\n   </g>\n  </g>\n </g>\n <defs>\n  <clipPath id=\"pa0873c28be\">\n   <rect x=\"29.2\" y=\"10.617969\" width=\"195.3\" height=\"135.9\"/>\n  </clipPath>\n </defs>\n</svg>\n",
      "text/plain": [
       "<Figure size 252x180 with 1 Axes>"
      ]
     },
     "metadata": {},
     "output_type": "display_data"
    }
   ],
   "source": [
    "lr, num_epochs = 0.00142857, 100\n",
    "weight_decay = 0.0007142857142857143\n",
    "momentum = 0.857142\n",
    "lr_period = 4\n",
    "lr_decay = 0.857142\n",
    "devices = try_all_gpus()\n",
    "optimizer = optim.SGD(mod.parameters(), \n",
    "                      lr=lr, \n",
    "                      momentum=momentum, \n",
    "                      weight_decay=weight_decay)\n",
    "scheduler = optim.lr_scheduler.StepLR(optimizer, \n",
    "                                      step_size=lr_period, \n",
    "                                      gamma=lr_decay)\n",
    "train(mod, train_iter, test_iter,\n",
    "      num_epochs, devices,\n",
    "      optimizer, scheduler)"
   ]
  },
  {
   "cell_type": "code",
   "execution_count": null,
   "metadata": {},
   "outputs": [],
   "source": []
  }
 ],
 "metadata": {
  "kernelspec": {
   "display_name": "Python 3.10.4 ('tvmx': conda)",
   "language": "python",
   "name": "python3"
  },
  "language_info": {
   "codemirror_mode": {
    "name": "ipython",
    "version": 3
   },
   "file_extension": ".py",
   "mimetype": "text/x-python",
   "name": "python",
   "nbconvert_exporter": "python",
   "pygments_lexer": "ipython3",
   "version": "3.10.4"
  },
  "orig_nbformat": 4,
  "vscode": {
   "interpreter": {
    "hash": "e579259ee6098e2b9319de590d145b4b096774fe457bdf04260e3ba5c171e887"
   }
  }
 },
 "nbformat": 4,
 "nbformat_minor": 2
}
