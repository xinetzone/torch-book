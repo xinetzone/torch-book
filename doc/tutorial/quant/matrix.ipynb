{
 "cells": [
  {
   "cell_type": "markdown",
   "metadata": {},
   "source": [
    "# 量化矩阵乘法\n",
    "\n",
    "约定：\n",
    "\n",
    "$$\n",
    "A = \\begin{pmatrix}\n",
    "\\mathbf{a}_1^T \\\\ \\mathbf{a}_2^T \\\\ \\vdots \\\\ \\mathbf{a}_m^T\n",
    "\\end{pmatrix},\n",
    "B = \\begin{pmatrix}\n",
    "\\mathbf{b}_1^T \\\\ \\mathbf{b}_2^T \\\\ \\vdots \\\\ \\mathbf{b}_k^T\n",
    "\\end{pmatrix}\n",
    "$$\n",
    "\n",
    "其中 $\\mathbf{a}_i, \\mathbf{b}_j \\in \\mathbb{R}^{n \\times 1}$。\n",
    "\n",
    "定义内积\n",
    "\n",
    "$$\n",
    "\\langle A, B \\rangle = AB^T = \\begin{bmatrix}\n",
    "\\langle \\mathbf{a}_i, \\mathbf{b}_j \\rangle\n",
    "\\end{bmatrix}\n",
    "$$\n",
    "\n",
    "通项为：\n",
    "\n",
    "$$\n",
    "x_{ij} = \\langle A, B \\rangle_{i,j} = \\sum_{t=1}^n a_{it} b_{tj}\n",
    "$$\n",
    "\n",
    "量化为："
   ]
  },
  {
   "cell_type": "markdown",
   "metadata": {},
   "source": [
    "$$\n",
    "\\frac{e^{-a}}{1+e^{-a}}x + \\frac{1+(1-a)e^{-a}}{(1+e^{-a})^2}\n",
    "$$"
   ]
  },
  {
   "cell_type": "markdown",
   "metadata": {},
   "source": []
  }
 ],
 "metadata": {
  "kernelspec": {
   "display_name": "Python 3.10.4 ('tvmx': conda)",
   "language": "python",
   "name": "python3"
  },
  "language_info": {
   "name": "python",
   "version": "3.10.4"
  },
  "vscode": {
   "interpreter": {
    "hash": "e579259ee6098e2b9319de590d145b4b096774fe457bdf04260e3ba5c171e887"
   }
  }
 },
 "nbformat": 4,
 "nbformat_minor": 2
}