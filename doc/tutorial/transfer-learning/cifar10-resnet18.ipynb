{
 "cells": [
  {
   "cell_type": "markdown",
   "metadata": {},
   "source": [
    "# Cifar10 上的 ReNet18\n",
    "\n",
    "本文主要介绍在 cifar10 的试验 resnet18 的性能。\n",
    "\n",
    "导入一些必要包："
   ]
  },
  {
   "cell_type": "code",
   "execution_count": 1,
   "metadata": {},
   "outputs": [],
   "source": [
    "import torch\n",
    "from torch import nn, fx, optim\n",
    "from torch.profiler import profile, record_function, ProfilerActivity\n",
    "from torchvision.models import resnet18, ResNet18_Weights\n",
    "from torch_book.data.simple_vision import load_data_cifar10\n",
    "from torch_book.tools import train, try_all_gpus\n",
    "\n",
    "torch.cuda.empty_cache() # 清空 GPU 缓存\n",
    "\n",
    "def create_model():\n",
    "    model = resnet18(weights=ResNet18_Weights.DEFAULT)\n",
    "    model.conv1 = nn.Conv2d(model.conv1.in_channels, \n",
    "                            model.conv1.out_channels, \n",
    "                            3, 1, 1)\n",
    "    model.maxpool = nn.Identity() #nn.Conv2d(64, 64, 1, 1, 1)\n",
    "    model.fc = nn.Linear(model.fc.in_features, 10)\n",
    "    return model"
   ]
  },
  {
   "cell_type": "markdown",
   "metadata": {},
   "source": [
    "torchvision 上的 ResNet18 直接用于 cifar10 是不推荐的。需要做以下改动："
   ]
  },
  {
   "cell_type": "code",
   "execution_count": 2,
   "metadata": {},
   "outputs": [
    {
     "name": "stdout",
     "output_type": "stream",
     "text": [
      "Files already downloaded and verified\n",
      "Files already downloaded and verified\n"
     ]
    }
   ],
   "source": [
    "batch_size = 64\n",
    "train_iter, test_iter = load_data_cifar10(batch_size=batch_size)\n",
    "model = create_model()"
   ]
  },
  {
   "cell_type": "markdown",
   "metadata": {},
   "source": [
    "```{note}\n",
    "将第一个 conv 替换以支持 $32 \\times 32$ 的输入。同时移除第一个 `maxpool` 避免图片信息过早丢失。\n",
    "```\n",
    "\n",
    "查看修改后的模型："
   ]
  },
  {
   "cell_type": "code",
   "execution_count": 3,
   "metadata": {},
   "outputs": [
    {
     "data": {
      "text/plain": [
       "Conv2d(3, 64, kernel_size=(3, 3), stride=(1, 1), padding=(1, 1))"
      ]
     },
     "execution_count": 3,
     "metadata": {},
     "output_type": "execute_result"
    }
   ],
   "source": [
    "model.conv1"
   ]
  },
  {
   "cell_type": "code",
   "execution_count": 4,
   "metadata": {},
   "outputs": [
    {
     "data": {
      "text/plain": [
       "Identity()"
      ]
     },
     "execution_count": 4,
     "metadata": {},
     "output_type": "execute_result"
    }
   ],
   "source": [
    "model.maxpool"
   ]
  },
  {
   "cell_type": "markdown",
   "metadata": {},
   "source": [
    "打印每层输出尺寸："
   ]
  },
  {
   "cell_type": "code",
   "execution_count": 5,
   "metadata": {},
   "outputs": [
    {
     "name": "stdout",
     "output_type": "stream",
     "text": [
      "conv1 (64, 64, 32, 32)\n",
      "bn1 (64, 64, 32, 32)\n",
      "relu (64, 64, 32, 32)\n",
      "maxpool (64, 64, 32, 32)\n",
      "layer1 (64, 64, 32, 32)\n",
      "layer2 (64, 128, 16, 16)\n",
      "layer3 (64, 256, 8, 8)\n",
      "layer4 (64, 512, 4, 4)\n",
      "avgpool (64, 512, 1, 1)\n",
      "fc (64, 10)\n"
     ]
    }
   ],
   "source": [
    "for xs, _ in train_iter:\n",
    "    break\n",
    "\n",
    "for name, m in model.named_children():\n",
    "    xs = m(xs)\n",
    "    print(name, tuple(xs.shape))\n",
    "    if name==\"avgpool\":\n",
    "        xs = torch.flatten(xs, 1)"
   ]
  },
  {
   "cell_type": "markdown",
   "metadata": {},
   "source": [
    "微调模型："
   ]
  },
  {
   "cell_type": "code",
   "execution_count": 6,
   "metadata": {},
   "outputs": [],
   "source": [
    "def fine_tune(mod, num_epochs,\n",
    "              train_iter, test_iter,\n",
    "              devices=try_all_gpus(),\n",
    "              lr=0.0000142857,\n",
    "              lr_period=4,\n",
    "              lr_decay=0.0857142,\n",
    "              weight_decay=0.00857142,\n",
    "              momentum=0.857142):\n",
    "    optimizer = optim.SGD(mod.parameters(),\n",
    "                          lr=lr,\n",
    "                          momentum=momentum, \n",
    "                          weight_decay=weight_decay)\n",
    "    scheduler = optim.lr_scheduler.StepLR(optimizer, \n",
    "                                          step_size=lr_period, \n",
    "                                          gamma=lr_decay)\n",
    "    train(mod, train_iter, test_iter,\n",
    "          num_epochs, devices,\n",
    "          optimizer, scheduler)\n",
    "    return mod"
   ]
  },
  {
   "cell_type": "code",
   "execution_count": 7,
   "metadata": {},
   "outputs": [
    {
     "name": "stdout",
     "output_type": "stream",
     "text": [
      "train loss 0.012, train acc 0.997, valid acc 0.924\n",
      "1380.2 examples/sec on [device(type='cuda', index=0), device(type='cuda', index=1)]\n"
     ]
    },
    {
     "data": {
      "image/svg+xml": "<?xml version=\"1.0\" encoding=\"utf-8\" standalone=\"no\"?>\n<!DOCTYPE svg PUBLIC \"-//W3C//DTD SVG 1.1//EN\"\n  \"http://www.w3.org/Graphics/SVG/1.1/DTD/svg11.dtd\">\n<svg xmlns:xlink=\"http://www.w3.org/1999/xlink\" width=\"231.7pt\" height=\"180.967969pt\" viewBox=\"0 0 231.7 180.967969\" xmlns=\"http://www.w3.org/2000/svg\" version=\"1.1\">\n <metadata>\n  <rdf:RDF xmlns:dc=\"http://purl.org/dc/elements/1.1/\" xmlns:cc=\"http://creativecommons.org/ns#\" xmlns:rdf=\"http://www.w3.org/1999/02/22-rdf-syntax-ns#\">\n   <cc:Work>\n    <dc:type rdf:resource=\"http://purl.org/dc/dcmitype/StillImage\"/>\n    <dc:date>2022-10-27T22:16:47.880174</dc:date>\n    <dc:format>image/svg+xml</dc:format>\n    <dc:creator>\n     <cc:Agent>\n      <dc:title>Matplotlib v3.5.1, https://matplotlib.org/</dc:title>\n     </cc:Agent>\n    </dc:creator>\n   </cc:Work>\n  </rdf:RDF>\n </metadata>\n <defs>\n  <style type=\"text/css\">*{stroke-linejoin: round; stroke-linecap: butt}</style>\n </defs>\n <g id=\"figure_1\">\n  <g id=\"patch_1\">\n   <path d=\"M 0 180.967969 \nL 231.7 180.967969 \nL 231.7 0 \nL 0 0 \nL 0 180.967969 \nz\n\" style=\"fill: none\"/>\n  </g>\n  <g id=\"axes_1\">\n   <g id=\"patch_2\">\n    <path d=\"M 29.2 146.517969 \nL 224.5 146.517969 \nL 224.5 10.617969 \nL 29.2 10.617969 \nz\n\" style=\"fill: #ffffff\"/>\n   </g>\n   <g id=\"matplotlib.axis_1\">\n    <g id=\"xtick_1\">\n     <g id=\"line2d_1\">\n      <path d=\"M 85.9 146.517969 \nL 85.9 10.617969 \n\" clip-path=\"url(#p6fe673a26c)\" style=\"fill: none; stroke: #b0b0b0; stroke-width: 0.8; stroke-linecap: square\"/>\n     </g>\n     <g id=\"line2d_2\">\n      <defs>\n       <path id=\"m74368be32c\" d=\"M 0 0 \nL 0 3.5 \n\" style=\"stroke: #000000; stroke-width: 0.8\"/>\n      </defs>\n      <g>\n       <use xlink:href=\"#m74368be32c\" x=\"85.9\" y=\"146.517969\" style=\"stroke: #000000; stroke-width: 0.8\"/>\n      </g>\n     </g>\n     <g id=\"text_1\">\n      <!-- 10 -->\n      <g transform=\"translate(80.9 160.353906)scale(0.1 -0.1)\">\n       <defs>\n        <path id=\"SimHei-31\" d=\"M 1950 100 \nL 1375 100 \nL 1375 3425 \nL 625 3425 \nL 625 3725 \nQ 1075 3725 1325 3900 \nQ 1575 4075 1650 4425 \nL 1950 4425 \nL 1950 100 \nz\n\" transform=\"scale(0.015625)\"/>\n        <path id=\"SimHei-30\" d=\"M 2975 2250 \nQ 2975 1350 2650 700 \nQ 2325 50 1600 50 \nQ 875 50 537 700 \nQ 200 1350 200 2250 \nQ 200 3150 537 3787 \nQ 875 4425 1600 4425 \nQ 2325 4425 2650 3787 \nQ 2975 3150 2975 2250 \nz\nM 2375 2250 \nQ 2375 3050 2187 3500 \nQ 2000 3950 1600 3950 \nQ 1200 3950 1000 3500 \nQ 800 3050 800 2250 \nQ 800 1450 1000 987 \nQ 1200 525 1600 525 \nQ 2000 525 2187 987 \nQ 2375 1450 2375 2250 \nz\n\" transform=\"scale(0.015625)\"/>\n       </defs>\n       <use xlink:href=\"#SimHei-31\"/>\n       <use xlink:href=\"#SimHei-30\" x=\"50\"/>\n      </g>\n     </g>\n    </g>\n    <g id=\"xtick_2\">\n     <g id=\"line2d_3\">\n      <path d=\"M 148.9 146.517969 \nL 148.9 10.617969 \n\" clip-path=\"url(#p6fe673a26c)\" style=\"fill: none; stroke: #b0b0b0; stroke-width: 0.8; stroke-linecap: square\"/>\n     </g>\n     <g id=\"line2d_4\">\n      <g>\n       <use xlink:href=\"#m74368be32c\" x=\"148.9\" y=\"146.517969\" style=\"stroke: #000000; stroke-width: 0.8\"/>\n      </g>\n     </g>\n     <g id=\"text_2\">\n      <!-- 20 -->\n      <g transform=\"translate(143.9 160.353906)scale(0.1 -0.1)\">\n       <defs>\n        <path id=\"SimHei-32\" d=\"M 2850 100 \nL 300 100 \nL 300 500 \nQ 450 900 712 1237 \nQ 975 1575 1475 2000 \nQ 1850 2325 2012 2600 \nQ 2175 2875 2175 3200 \nQ 2175 3525 2037 3737 \nQ 1900 3950 1600 3950 \nQ 1350 3950 1162 3725 \nQ 975 3500 975 2925 \nL 400 2925 \nQ 425 3650 737 4037 \nQ 1050 4425 1625 4425 \nQ 2175 4425 2475 4087 \nQ 2775 3750 2775 3175 \nQ 2775 2700 2500 2350 \nQ 2225 2000 1825 1650 \nQ 1375 1250 1200 1050 \nQ 1025 850 875 575 \nL 2850 575 \nL 2850 100 \nz\n\" transform=\"scale(0.015625)\"/>\n       </defs>\n       <use xlink:href=\"#SimHei-32\"/>\n       <use xlink:href=\"#SimHei-30\" x=\"50\"/>\n      </g>\n     </g>\n    </g>\n    <g id=\"xtick_3\">\n     <g id=\"line2d_5\">\n      <path d=\"M 211.9 146.517969 \nL 211.9 10.617969 \n\" clip-path=\"url(#p6fe673a26c)\" style=\"fill: none; stroke: #b0b0b0; stroke-width: 0.8; stroke-linecap: square\"/>\n     </g>\n     <g id=\"line2d_6\">\n      <g>\n       <use xlink:href=\"#m74368be32c\" x=\"211.9\" y=\"146.517969\" style=\"stroke: #000000; stroke-width: 0.8\"/>\n      </g>\n     </g>\n     <g id=\"text_3\">\n      <!-- 30 -->\n      <g transform=\"translate(206.9 160.353906)scale(0.1 -0.1)\">\n       <defs>\n        <path id=\"SimHei-33\" d=\"M 2825 1300 \nQ 2825 725 2462 387 \nQ 2100 50 1550 50 \nQ 1000 50 637 387 \nQ 275 725 275 1425 \nL 850 1425 \nQ 850 950 1037 737 \nQ 1225 525 1550 525 \nQ 1875 525 2050 725 \nQ 2225 925 2225 1350 \nQ 2225 1700 2037 1900 \nQ 1850 2100 1375 2100 \nL 1375 2525 \nQ 1775 2525 1962 2725 \nQ 2150 2925 2150 3325 \nQ 2150 3625 2012 3800 \nQ 1875 3975 1575 3975 \nQ 1275 3975 1112 3762 \nQ 950 3550 925 3150 \nL 375 3150 \nQ 425 3725 737 4075 \nQ 1050 4425 1575 4425 \nQ 2125 4425 2425 4112 \nQ 2725 3800 2725 3350 \nQ 2725 2925 2575 2687 \nQ 2425 2450 2075 2325 \nQ 2425 2250 2625 1975 \nQ 2825 1700 2825 1300 \nz\n\" transform=\"scale(0.015625)\"/>\n       </defs>\n       <use xlink:href=\"#SimHei-33\"/>\n       <use xlink:href=\"#SimHei-30\" x=\"50\"/>\n      </g>\n     </g>\n    </g>\n    <g id=\"text_4\">\n     <!-- epoch -->\n     <g transform=\"translate(114.35 172.478906)scale(0.1 -0.1)\">\n      <defs>\n       <path id=\"SimHei-65\" d=\"M 2875 1050 \nQ 2825 600 2475 325 \nQ 2125 50 1650 50 \nQ 1050 50 662 437 \nQ 275 825 275 1500 \nQ 275 2175 662 2562 \nQ 1050 2950 1650 2950 \nQ 2175 2950 2512 2612 \nQ 2850 2275 2850 1500 \nL 825 1500 \nQ 825 950 1062 725 \nQ 1300 500 1650 500 \nQ 1925 500 2100 637 \nQ 2275 775 2325 1050 \nL 2875 1050 \nz\nM 2275 1900 \nQ 2225 2250 2050 2387 \nQ 1875 2525 1600 2525 \nQ 1350 2525 1150 2387 \nQ 950 2250 850 1900 \nL 2275 1900 \nz\n\" transform=\"scale(0.015625)\"/>\n       <path id=\"SimHei-70\" d=\"M 2850 1500 \nQ 2850 775 2500 400 \nQ 2150 25 1650 25 \nQ 1375 25 1175 137 \nQ 975 250 825 475 \nL 825 -825 \nL 325 -825 \nL 325 2900 \nL 825 2900 \nL 825 2525 \nQ 975 2750 1175 2850 \nQ 1375 2950 1650 2950 \nQ 2150 2950 2500 2587 \nQ 2850 2225 2850 1500 \nz\nM 2300 1500 \nQ 2300 1975 2112 2237 \nQ 1925 2500 1550 2500 \nQ 1250 2500 1037 2237 \nQ 825 1975 825 1500 \nQ 825 1025 1037 750 \nQ 1250 475 1550 475 \nQ 1925 475 2112 750 \nQ 2300 1025 2300 1500 \nz\n\" transform=\"scale(0.015625)\"/>\n       <path id=\"SimHei-6f\" d=\"M 2950 1500 \nQ 2950 850 2550 450 \nQ 2150 50 1600 50 \nQ 1050 50 650 450 \nQ 250 850 250 1500 \nQ 250 2150 650 2550 \nQ 1050 2950 1600 2950 \nQ 2150 2950 2550 2550 \nQ 2950 2150 2950 1500 \nz\nM 2400 1500 \nQ 2400 2000 2150 2250 \nQ 1900 2500 1600 2500 \nQ 1300 2500 1050 2250 \nQ 800 2000 800 1500 \nQ 800 1000 1050 750 \nQ 1300 500 1600 500 \nQ 1900 500 2150 750 \nQ 2400 1000 2400 1500 \nz\n\" transform=\"scale(0.015625)\"/>\n       <path id=\"SimHei-63\" d=\"M 2875 1225 \nQ 2875 700 2512 375 \nQ 2150 50 1600 50 \nQ 1050 50 650 437 \nQ 250 825 250 1500 \nQ 250 2175 650 2562 \nQ 1050 2950 1600 2950 \nQ 2150 2950 2475 2662 \nQ 2800 2375 2800 1975 \nL 2250 1975 \nQ 2225 2275 2037 2387 \nQ 1850 2500 1600 2500 \nQ 1300 2500 1050 2262 \nQ 800 2025 800 1500 \nQ 800 975 1050 737 \nQ 1300 500 1600 500 \nQ 1925 500 2125 675 \nQ 2325 850 2325 1225 \nL 2875 1225 \nz\n\" transform=\"scale(0.015625)\"/>\n       <path id=\"SimHei-68\" d=\"M 2825 100 \nL 2325 100 \nL 2325 1900 \nQ 2325 2200 2175 2375 \nQ 2025 2550 1775 2550 \nQ 1450 2550 1162 2212 \nQ 875 1875 875 1375 \nL 875 100 \nL 375 100 \nL 375 4375 \nL 875 4375 \nL 875 2375 \nQ 1075 2650 1312 2800 \nQ 1550 2950 1925 2950 \nQ 2375 2950 2600 2700 \nQ 2825 2450 2825 2075 \nL 2825 100 \nz\n\" transform=\"scale(0.015625)\"/>\n      </defs>\n      <use xlink:href=\"#SimHei-65\"/>\n      <use xlink:href=\"#SimHei-70\" x=\"50\"/>\n      <use xlink:href=\"#SimHei-6f\" x=\"100\"/>\n      <use xlink:href=\"#SimHei-63\" x=\"150\"/>\n      <use xlink:href=\"#SimHei-68\" x=\"200\"/>\n     </g>\n    </g>\n   </g>\n   <g id=\"matplotlib.axis_2\">\n    <g id=\"ytick_1\">\n     <g id=\"line2d_7\">\n      <path d=\"M 29.2 146.517969 \nL 224.5 146.517969 \n\" clip-path=\"url(#p6fe673a26c)\" style=\"fill: none; stroke: #b0b0b0; stroke-width: 0.8; stroke-linecap: square\"/>\n     </g>\n     <g id=\"line2d_8\">\n      <defs>\n       <path id=\"m465b7e6ab7\" d=\"M 0 0 \nL -3.5 0 \n\" style=\"stroke: #000000; stroke-width: 0.8\"/>\n      </defs>\n      <g>\n       <use xlink:href=\"#m465b7e6ab7\" x=\"29.2\" y=\"146.517969\" style=\"stroke: #000000; stroke-width: 0.8\"/>\n      </g>\n     </g>\n     <g id=\"text_5\">\n      <!-- 0.0 -->\n      <g transform=\"translate(7.2 149.935938)scale(0.1 -0.1)\">\n       <defs>\n        <path id=\"SimHei-2e\" d=\"M 1100 100 \nL 525 100 \nL 525 650 \nL 1100 650 \nL 1100 100 \nz\n\" transform=\"scale(0.015625)\"/>\n       </defs>\n       <use xlink:href=\"#SimHei-30\"/>\n       <use xlink:href=\"#SimHei-2e\" x=\"50\"/>\n       <use xlink:href=\"#SimHei-30\" x=\"100\"/>\n      </g>\n     </g>\n    </g>\n    <g id=\"ytick_2\">\n     <g id=\"line2d_9\">\n      <path d=\"M 29.2 119.337969 \nL 224.5 119.337969 \n\" clip-path=\"url(#p6fe673a26c)\" style=\"fill: none; stroke: #b0b0b0; stroke-width: 0.8; stroke-linecap: square\"/>\n     </g>\n     <g id=\"line2d_10\">\n      <g>\n       <use xlink:href=\"#m465b7e6ab7\" x=\"29.2\" y=\"119.337969\" style=\"stroke: #000000; stroke-width: 0.8\"/>\n      </g>\n     </g>\n     <g id=\"text_6\">\n      <!-- 0.2 -->\n      <g transform=\"translate(7.2 122.755938)scale(0.1 -0.1)\">\n       <use xlink:href=\"#SimHei-30\"/>\n       <use xlink:href=\"#SimHei-2e\" x=\"50\"/>\n       <use xlink:href=\"#SimHei-32\" x=\"100\"/>\n      </g>\n     </g>\n    </g>\n    <g id=\"ytick_3\">\n     <g id=\"line2d_11\">\n      <path d=\"M 29.2 92.157969 \nL 224.5 92.157969 \n\" clip-path=\"url(#p6fe673a26c)\" style=\"fill: none; stroke: #b0b0b0; stroke-width: 0.8; stroke-linecap: square\"/>\n     </g>\n     <g id=\"line2d_12\">\n      <g>\n       <use xlink:href=\"#m465b7e6ab7\" x=\"29.2\" y=\"92.157969\" style=\"stroke: #000000; stroke-width: 0.8\"/>\n      </g>\n     </g>\n     <g id=\"text_7\">\n      <!-- 0.4 -->\n      <g transform=\"translate(7.2 95.575938)scale(0.1 -0.1)\">\n       <defs>\n        <path id=\"SimHei-34\" d=\"M 2975 1200 \nL 2450 1200 \nL 2450 100 \nL 1875 100 \nL 1875 1200 \nL 200 1200 \nL 200 1675 \nL 1875 4425 \nL 2450 4425 \nL 2450 1675 \nL 2975 1675 \nL 2975 1200 \nz\nM 1875 1675 \nL 1875 3525 \nL 750 1675 \nL 1875 1675 \nz\n\" transform=\"scale(0.015625)\"/>\n       </defs>\n       <use xlink:href=\"#SimHei-30\"/>\n       <use xlink:href=\"#SimHei-2e\" x=\"50\"/>\n       <use xlink:href=\"#SimHei-34\" x=\"100\"/>\n      </g>\n     </g>\n    </g>\n    <g id=\"ytick_4\">\n     <g id=\"line2d_13\">\n      <path d=\"M 29.2 64.977969 \nL 224.5 64.977969 \n\" clip-path=\"url(#p6fe673a26c)\" style=\"fill: none; stroke: #b0b0b0; stroke-width: 0.8; stroke-linecap: square\"/>\n     </g>\n     <g id=\"line2d_14\">\n      <g>\n       <use xlink:href=\"#m465b7e6ab7\" x=\"29.2\" y=\"64.977969\" style=\"stroke: #000000; stroke-width: 0.8\"/>\n      </g>\n     </g>\n     <g id=\"text_8\">\n      <!-- 0.6 -->\n      <g transform=\"translate(7.2 68.395938)scale(0.1 -0.1)\">\n       <defs>\n        <path id=\"SimHei-36\" d=\"M 2850 1550 \nQ 2850 850 2550 450 \nQ 2250 50 1650 50 \nQ 1050 50 700 550 \nQ 350 1050 350 2175 \nQ 350 3200 712 3812 \nQ 1075 4425 1750 4425 \nQ 2225 4425 2512 4075 \nQ 2800 3725 2800 3300 \nL 2225 3300 \nQ 2225 3550 2087 3750 \nQ 1950 3950 1725 3950 \nQ 1350 3950 1150 3562 \nQ 950 3175 925 2375 \nQ 1100 2700 1300 2825 \nQ 1500 2950 1775 2950 \nQ 2250 2950 2550 2575 \nQ 2850 2200 2850 1550 \nz\nM 2250 1550 \nQ 2250 2000 2100 2250 \nQ 1950 2500 1675 2500 \nQ 1350 2500 1162 2250 \nQ 975 2000 975 1650 \nQ 975 1100 1162 800 \nQ 1350 500 1675 500 \nQ 1900 500 2075 725 \nQ 2250 950 2250 1550 \nz\n\" transform=\"scale(0.015625)\"/>\n       </defs>\n       <use xlink:href=\"#SimHei-30\"/>\n       <use xlink:href=\"#SimHei-2e\" x=\"50\"/>\n       <use xlink:href=\"#SimHei-36\" x=\"100\"/>\n      </g>\n     </g>\n    </g>\n    <g id=\"ytick_5\">\n     <g id=\"line2d_15\">\n      <path d=\"M 29.2 37.797969 \nL 224.5 37.797969 \n\" clip-path=\"url(#p6fe673a26c)\" style=\"fill: none; stroke: #b0b0b0; stroke-width: 0.8; stroke-linecap: square\"/>\n     </g>\n     <g id=\"line2d_16\">\n      <g>\n       <use xlink:href=\"#m465b7e6ab7\" x=\"29.2\" y=\"37.797969\" style=\"stroke: #000000; stroke-width: 0.8\"/>\n      </g>\n     </g>\n     <g id=\"text_9\">\n      <!-- 0.8 -->\n      <g transform=\"translate(7.2 41.215938)scale(0.1 -0.1)\">\n       <defs>\n        <path id=\"SimHei-38\" d=\"M 2875 1325 \nQ 2875 700 2525 375 \nQ 2175 50 1575 50 \nQ 975 50 625 375 \nQ 275 700 275 1325 \nQ 275 1650 475 1912 \nQ 675 2175 1025 2300 \nQ 725 2425 562 2650 \nQ 400 2875 400 3225 \nQ 400 3775 750 4100 \nQ 1100 4425 1575 4425 \nQ 2050 4425 2400 4100 \nQ 2750 3775 2750 3225 \nQ 2750 2875 2587 2650 \nQ 2425 2425 2125 2300 \nQ 2475 2175 2675 1912 \nQ 2875 1650 2875 1325 \nz\nM 2200 3225 \nQ 2200 3625 2025 3800 \nQ 1850 3975 1575 3975 \nQ 1300 3975 1125 3800 \nQ 950 3625 950 3225 \nQ 950 2825 1137 2662 \nQ 1325 2500 1575 2500 \nQ 1825 2500 2012 2662 \nQ 2200 2825 2200 3225 \nz\nM 2300 1325 \nQ 2300 1675 2112 1875 \nQ 1925 2075 1575 2075 \nQ 1225 2075 1037 1875 \nQ 850 1675 850 1325 \nQ 850 925 1050 712 \nQ 1250 500 1575 500 \nQ 1900 500 2100 712 \nQ 2300 925 2300 1325 \nz\n\" transform=\"scale(0.015625)\"/>\n       </defs>\n       <use xlink:href=\"#SimHei-30\"/>\n       <use xlink:href=\"#SimHei-2e\" x=\"50\"/>\n       <use xlink:href=\"#SimHei-38\" x=\"100\"/>\n      </g>\n     </g>\n    </g>\n    <g id=\"ytick_6\">\n     <g id=\"line2d_17\">\n      <path d=\"M 29.2 10.617969 \nL 224.5 10.617969 \n\" clip-path=\"url(#p6fe673a26c)\" style=\"fill: none; stroke: #b0b0b0; stroke-width: 0.8; stroke-linecap: square\"/>\n     </g>\n     <g id=\"line2d_18\">\n      <g>\n       <use xlink:href=\"#m465b7e6ab7\" x=\"29.2\" y=\"10.617969\" style=\"stroke: #000000; stroke-width: 0.8\"/>\n      </g>\n     </g>\n     <g id=\"text_10\">\n      <!-- 1.0 -->\n      <g transform=\"translate(7.2 14.035938)scale(0.1 -0.1)\">\n       <use xlink:href=\"#SimHei-31\"/>\n       <use xlink:href=\"#SimHei-2e\" x=\"50\"/>\n       <use xlink:href=\"#SimHei-30\" x=\"100\"/>\n      </g>\n     </g>\n    </g>\n   </g>\n   <g id=\"line2d_19\">\n    <path d=\"M 25.732538 -1 \nL 26.670332 14.262822 \nL 27.92711 27.499206 \nL 29.2 37.096556 \nL 30.456777 88.22042 \nL 31.713555 88.514724 \nL 32.970332 89.484949 \nL 34.22711 90.982362 \nL 35.5 91.958729 \nL 36.756777 106.94698 \nL 38.013555 107.877889 \nL 39.270332 107.979685 \nL 41.8 108.976382 \nL 43.056777 115.679514 \nL 44.313555 115.84005 \nL 45.570332 116.182439 \nL 46.82711 116.378338 \nL 48.1 116.086049 \nL 49.356777 122.823591 \nL 50.613555 123.040841 \nL 51.870332 122.718796 \nL 53.12711 123.078116 \nL 54.4 122.725531 \nL 55.656777 125.611051 \nL 56.913555 125.722314 \nL 60.683887 125.339475 \nL 60.7 125.317639 \nL 61.956777 130.473625 \nL 63.213555 130.387007 \nL 64.470332 129.786627 \nL 67 129.505894 \nL 68.256777 132.824427 \nL 69.513555 132.211207 \nL 73.3 131.989589 \nL 74.556777 134.379737 \nL 77.070332 134.607381 \nL 78.32711 134.797301 \nL 79.6 134.535345 \nL 80.856777 136.938899 \nL 82.113555 136.619952 \nL 84.62711 136.320069 \nL 85.9 135.962477 \nL 87.156777 138.229451 \nL 88.413555 138.299162 \nL 90.92711 138.088195 \nL 92.2 137.772834 \nL 93.456777 138.61196 \nL 97.22711 138.830462 \nL 98.5 138.813797 \nL 99.756777 139.758269 \nL 101.013555 139.656519 \nL 104.8 139.75989 \nL 106.056777 140.478228 \nL 108.570332 140.25212 \nL 109.82711 140.358617 \nL 111.1 140.14654 \nL 112.356777 141.161463 \nL 113.613555 141.33944 \nL 117.4 141.118054 \nL 118.656777 142.26576 \nL 123.7 141.926236 \nL 124.956777 141.784899 \nL 128.72711 141.999277 \nL 130 142.061832 \nL 131.256777 143.035325 \nL 133.770332 142.639468 \nL 135.02711 142.614102 \nL 136.3 142.697951 \nL 137.556777 143.092923 \nL 138.813555 143.052807 \nL 140.070332 143.221438 \nL 141.32711 143.20693 \nL 142.6 143.068696 \nL 143.856777 143.913562 \nL 145.113555 143.437805 \nL 146.370332 143.365463 \nL 147.62711 143.45677 \nL 150.156777 143.316159 \nL 151.413555 143.493084 \nL 153.92711 143.562209 \nL 155.2 143.578999 \nL 156.456777 144.186927 \nL 161.5 143.784262 \nL 165.270332 144.267562 \nL 167.8 143.967852 \nL 169.056777 144.376878 \nL 170.313555 143.962231 \nL 174.1 144.173247 \nL 177.870332 144.123937 \nL 180.4 144.209055 \nL 181.656777 144.496736 \nL 182.913555 144.279778 \nL 185.42711 144.380854 \nL 186.7 144.418706 \nL 187.956777 144.864081 \nL 195.513555 144.541395 \nL 196.770332 144.593048 \nL 198.02711 144.471185 \nL 199.3 144.541925 \nL 200.556777 144.321988 \nL 201.813555 144.493845 \nL 203.070332 144.449993 \nL 205.6 144.557543 \nL 206.856777 145.065359 \nL 209.370332 144.818348 \nL 218.2 144.907015 \nL 219.456777 145.210617 \nL 220.713555 144.943329 \nL 223.22711 144.895483 \nL 224.5 144.834958 \nL 224.5 144.834958 \n\" clip-path=\"url(#p6fe673a26c)\" style=\"fill: none; stroke: #1f77b4; stroke-width: 1.5; stroke-linecap: square\"/>\n   </g>\n   <g id=\"line2d_20\">\n    <path d=\"M 24.156777 76.077013 \nL 25.413555 62.764694 \nL 26.670332 55.695643 \nL 27.92711 51.266143 \nL 29.2 47.952417 \nL 30.456777 30.382272 \nL 31.713555 30.436719 \nL 35.5 29.209089 \nL 36.756777 24.134465 \nL 38.013555 23.617218 \nL 39.270332 23.648978 \nL 41.8 23.438775 \nL 43.056777 21.071815 \nL 45.570332 20.935697 \nL 46.82711 20.843818 \nL 48.1 20.992575 \nL 49.356777 18.934766 \nL 53.12711 18.863304 \nL 54.4 18.956793 \nL 55.656777 17.845823 \nL 58.170332 17.782302 \nL 60.7 17.842413 \nL 61.956777 16.103516 \nL 63.213555 16.069486 \nL 65.72711 16.406378 \nL 67 16.434489 \nL 68.256777 15.354868 \nL 69.513555 15.613492 \nL 73.3 15.668013 \nL 74.556777 14.538161 \nL 75.813555 14.776367 \nL 79.6 14.825433 \nL 80.856777 14.007302 \nL 82.113555 13.918825 \nL 85.9 14.298141 \nL 87.156777 13.503666 \nL 89.670332 13.48098 \nL 92.2 13.632231 \nL 93.456777 13.272266 \nL 104.8 12.922833 \nL 106.056777 12.510006 \nL 111.1 12.748881 \nL 112.356777 12.292218 \nL 117.4 12.381951 \nL 118.656777 11.979147 \nL 119.913555 11.951923 \nL 122.42711 12.111861 \nL 126.213555 12.115264 \nL 130 12.047637 \nL 131.256777 11.666076 \nL 132.513555 11.808999 \nL 136.3 11.832915 \nL 137.556777 11.693299 \nL 138.813555 11.747746 \nL 140.070332 11.666076 \nL 142.6 11.756811 \nL 143.856777 11.475511 \nL 145.113555 11.611629 \nL 155.2 11.588295 \nL 156.456777 11.298558 \nL 158.970332 11.389303 \nL 161.5 11.460549 \nL 164.013555 11.318975 \nL 166.52711 11.339393 \nL 167.8 11.387163 \nL 169.056777 11.298558 \nL 170.313555 11.421064 \nL 186.7 11.267571 \nL 187.956777 11.107993 \nL 196.770332 11.203275 \nL 200.556777 11.325781 \nL 203.070332 11.235036 \nL 205.6 11.199621 \nL 206.856777 11.026322 \nL 214.413555 11.135216 \nL 218.2 11.126235 \nL 219.456777 10.876593 \nL 224.5 11.069157 \nL 224.5 11.069157 \n\" clip-path=\"url(#p6fe673a26c)\" style=\"fill: none; stroke-dasharray: 5.55,2.4; stroke-dashoffset: 0; stroke: #bf00bf; stroke-width: 1.5\"/>\n   </g>\n   <g id=\"line2d_21\">\n    <path d=\"M 29.2 36.901029 \nL 35.5 33.068649 \nL 41.8 29.576019 \nL 48.1 30.690399 \nL 54.4 26.830839 \nL 60.7 26.749299 \nL 67 24.574899 \nL 73.3 24.493359 \nL 79.6 24.520539 \nL 85.9 24.479769 \nL 92.2 23.542059 \nL 98.5 24.928239 \nL 104.8 22.223829 \nL 111.1 22.631529 \nL 117.4 24.343869 \nL 123.7 22.794609 \nL 130 22.359729 \nL 136.3 21.734589 \nL 142.6 22.346139 \nL 148.9 21.653049 \nL 155.2 21.680229 \nL 161.5 21.326889 \nL 167.8 21.856899 \nL 174.1 21.571509 \nL 180.4 21.163809 \nL 186.7 21.326889 \nL 193 20.606619 \nL 199.3 21.095859 \nL 205.6 20.511489 \nL 211.9 20.851239 \nL 218.2 21.326889 \nL 224.5 20.878419 \n\" clip-path=\"url(#p6fe673a26c)\" style=\"fill: none; stroke-dasharray: 9.6,2.4,1.5,2.4; stroke-dashoffset: 0; stroke: #008000; stroke-width: 1.5\"/>\n   </g>\n   <g id=\"patch_3\">\n    <path d=\"M 29.2 146.517969 \nL 29.2 10.617969 \n\" style=\"fill: none; stroke: #000000; stroke-width: 0.8; stroke-linejoin: miter; stroke-linecap: square\"/>\n   </g>\n   <g id=\"patch_4\">\n    <path d=\"M 224.5 146.517969 \nL 224.5 10.617969 \n\" style=\"fill: none; stroke: #000000; stroke-width: 0.8; stroke-linejoin: miter; stroke-linecap: square\"/>\n   </g>\n   <g id=\"patch_5\">\n    <path d=\"M 29.2 146.517969 \nL 224.5 146.517969 \n\" style=\"fill: none; stroke: #000000; stroke-width: 0.8; stroke-linejoin: miter; stroke-linecap: square\"/>\n   </g>\n   <g id=\"patch_6\">\n    <path d=\"M 29.2 10.617969 \nL 224.5 10.617969 \n\" style=\"fill: none; stroke: #000000; stroke-width: 0.8; stroke-linejoin: miter; stroke-linecap: square\"/>\n   </g>\n   <g id=\"legend_1\">\n    <g id=\"patch_7\">\n     <path d=\"M 135.5 141.517969 \nL 217.5 141.517969 \nQ 219.5 141.517969 219.5 139.517969 \nL 219.5 100.650781 \nQ 219.5 98.650781 217.5 98.650781 \nL 135.5 98.650781 \nQ 133.5 98.650781 133.5 100.650781 \nL 133.5 139.517969 \nQ 133.5 141.517969 135.5 141.517969 \nz\n\" style=\"fill: #ffffff; opacity: 0.8; stroke: #cccccc; stroke-linejoin: miter\"/>\n    </g>\n    <g id=\"line2d_22\">\n     <path d=\"M 137.5 106.150781 \nL 147.5 106.150781 \nL 157.5 106.150781 \n\" style=\"fill: none; stroke: #1f77b4; stroke-width: 1.5; stroke-linecap: square\"/>\n    </g>\n    <g id=\"text_11\">\n     <!-- train loss -->\n     <g transform=\"translate(165.5 109.650781)scale(0.1 -0.1)\">\n      <defs>\n       <path id=\"SimHei-74\" d=\"M 2775 175 \nQ 2650 125 2487 87 \nQ 2325 50 2050 50 \nQ 1600 50 1325 300 \nQ 1050 550 1050 1000 \nL 1050 2500 \nL 200 2500 \nL 200 2900 \nL 1050 2900 \nL 1050 3875 \nL 1550 3875 \nL 1550 2900 \nL 2575 2900 \nL 2575 2500 \nL 1550 2500 \nL 1550 975 \nQ 1550 775 1650 637 \nQ 1750 500 2025 500 \nQ 2300 500 2475 550 \nQ 2650 600 2775 675 \nL 2775 175 \nz\n\" transform=\"scale(0.015625)\"/>\n       <path id=\"SimHei-72\" d=\"M 2525 2400 \nQ 2050 2475 1725 2262 \nQ 1400 2050 1175 1525 \nL 1175 100 \nL 675 100 \nL 675 2900 \nL 1175 2900 \nL 1175 2175 \nQ 1400 2575 1737 2762 \nQ 2075 2950 2525 2950 \nL 2525 2400 \nz\n\" transform=\"scale(0.015625)\"/>\n       <path id=\"SimHei-61\" d=\"M 2900 100 \nL 2300 100 \nQ 2250 150 2225 237 \nQ 2200 325 2200 450 \nQ 2025 250 1775 150 \nQ 1525 50 1250 50 \nQ 850 50 575 250 \nQ 300 450 300 825 \nQ 300 1200 550 1425 \nQ 800 1650 1325 1725 \nQ 1675 1775 1937 1850 \nQ 2200 1925 2200 2050 \nQ 2200 2200 2087 2350 \nQ 1975 2500 1600 2500 \nQ 1300 2500 1162 2387 \nQ 1025 2275 975 2075 \nL 425 2075 \nQ 475 2475 787 2712 \nQ 1100 2950 1600 2950 \nQ 2150 2950 2425 2700 \nQ 2700 2450 2700 2000 \nL 2700 625 \nQ 2700 475 2750 350 \nQ 2800 225 2900 100 \nz\nM 2200 1025 \nL 2200 1525 \nQ 2050 1475 1912 1437 \nQ 1775 1400 1450 1350 \nQ 1075 1300 962 1175 \nQ 850 1050 850 875 \nQ 850 725 962 612 \nQ 1075 500 1300 500 \nQ 1525 500 1787 625 \nQ 2050 750 2200 1025 \nz\n\" transform=\"scale(0.015625)\"/>\n       <path id=\"SimHei-69\" d=\"M 1825 3700 \nL 1325 3700 \nL 1325 4350 \nL 1825 4350 \nL 1825 3700 \nz\nM 1825 100 \nL 1325 100 \nL 1325 2900 \nL 1825 2900 \nL 1825 100 \nz\n\" transform=\"scale(0.015625)\"/>\n       <path id=\"SimHei-6e\" d=\"M 2825 100 \nL 2325 100 \nL 2325 1900 \nQ 2325 2200 2175 2375 \nQ 2025 2550 1775 2550 \nQ 1450 2550 1162 2212 \nQ 875 1875 875 1375 \nL 875 100 \nL 375 100 \nL 375 2900 \nL 875 2900 \nL 875 2375 \nQ 1075 2650 1312 2800 \nQ 1550 2950 1925 2950 \nQ 2375 2950 2600 2700 \nQ 2825 2450 2825 2075 \nL 2825 100 \nz\n\" transform=\"scale(0.015625)\"/>\n       <path id=\"SimHei-20\" transform=\"scale(0.015625)\"/>\n       <path id=\"SimHei-6c\" d=\"M 1850 100 \nL 1350 100 \nL 1350 4375 \nL 1850 4375 \nL 1850 100 \nz\n\" transform=\"scale(0.015625)\"/>\n       <path id=\"SimHei-73\" d=\"M 2775 875 \nQ 2775 475 2462 262 \nQ 2150 50 1675 50 \nQ 1075 50 750 287 \nQ 425 525 425 975 \nL 925 975 \nQ 925 675 1137 575 \nQ 1350 475 1650 475 \nQ 1950 475 2100 587 \nQ 2250 700 2250 875 \nQ 2250 1000 2125 1125 \nQ 2000 1250 1500 1325 \nQ 925 1400 712 1612 \nQ 500 1825 500 2175 \nQ 500 2475 787 2712 \nQ 1075 2950 1625 2950 \nQ 2125 2950 2412 2725 \nQ 2700 2500 2700 2125 \nL 2200 2125 \nQ 2200 2350 2037 2437 \nQ 1875 2525 1625 2525 \nQ 1300 2525 1162 2412 \nQ 1025 2300 1025 2150 \nQ 1025 1975 1150 1875 \nQ 1275 1775 1675 1725 \nQ 2325 1625 2550 1412 \nQ 2775 1200 2775 875 \nz\n\" transform=\"scale(0.015625)\"/>\n      </defs>\n      <use xlink:href=\"#SimHei-74\"/>\n      <use xlink:href=\"#SimHei-72\" x=\"50\"/>\n      <use xlink:href=\"#SimHei-61\" x=\"100\"/>\n      <use xlink:href=\"#SimHei-69\" x=\"150\"/>\n      <use xlink:href=\"#SimHei-6e\" x=\"200\"/>\n      <use xlink:href=\"#SimHei-20\" x=\"250\"/>\n      <use xlink:href=\"#SimHei-6c\" x=\"300\"/>\n      <use xlink:href=\"#SimHei-6f\" x=\"350\"/>\n      <use xlink:href=\"#SimHei-73\" x=\"400\"/>\n      <use xlink:href=\"#SimHei-73\" x=\"450\"/>\n     </g>\n    </g>\n    <g id=\"line2d_23\">\n     <path d=\"M 137.5 119.439844 \nL 147.5 119.439844 \nL 157.5 119.439844 \n\" style=\"fill: none; stroke-dasharray: 5.55,2.4; stroke-dashoffset: 0; stroke: #bf00bf; stroke-width: 1.5\"/>\n    </g>\n    <g id=\"text_12\">\n     <!-- train acc -->\n     <g transform=\"translate(165.5 122.939844)scale(0.1 -0.1)\">\n      <use xlink:href=\"#SimHei-74\"/>\n      <use xlink:href=\"#SimHei-72\" x=\"50\"/>\n      <use xlink:href=\"#SimHei-61\" x=\"100\"/>\n      <use xlink:href=\"#SimHei-69\" x=\"150\"/>\n      <use xlink:href=\"#SimHei-6e\" x=\"200\"/>\n      <use xlink:href=\"#SimHei-20\" x=\"250\"/>\n      <use xlink:href=\"#SimHei-61\" x=\"300\"/>\n      <use xlink:href=\"#SimHei-63\" x=\"350\"/>\n      <use xlink:href=\"#SimHei-63\" x=\"400\"/>\n     </g>\n    </g>\n    <g id=\"line2d_24\">\n     <path d=\"M 137.5 132.728906 \nL 147.5 132.728906 \nL 157.5 132.728906 \n\" style=\"fill: none; stroke-dasharray: 9.6,2.4,1.5,2.4; stroke-dashoffset: 0; stroke: #008000; stroke-width: 1.5\"/>\n    </g>\n    <g id=\"text_13\">\n     <!-- test acc -->\n     <g transform=\"translate(165.5 136.228906)scale(0.1 -0.1)\">\n      <use xlink:href=\"#SimHei-74\"/>\n      <use xlink:href=\"#SimHei-65\" x=\"50\"/>\n      <use xlink:href=\"#SimHei-73\" x=\"100\"/>\n      <use xlink:href=\"#SimHei-74\" x=\"150\"/>\n      <use xlink:href=\"#SimHei-20\" x=\"200\"/>\n      <use xlink:href=\"#SimHei-61\" x=\"250\"/>\n      <use xlink:href=\"#SimHei-63\" x=\"300\"/>\n      <use xlink:href=\"#SimHei-63\" x=\"350\"/>\n     </g>\n    </g>\n   </g>\n  </g>\n </g>\n <defs>\n  <clipPath id=\"p6fe673a26c\">\n   <rect x=\"29.2\" y=\"10.617969\" width=\"195.3\" height=\"135.9\"/>\n  </clipPath>\n </defs>\n</svg>\n",
      "text/plain": [
       "<Figure size 252x180 with 1 Axes>"
      ]
     },
     "metadata": {
      "needs_background": "light"
     },
     "output_type": "display_data"
    }
   ],
   "source": [
    "model = create_model()\n",
    "mod = fine_tune(model, 32,\n",
    "                train_iter, test_iter, \n",
    "                try_all_gpus(),\n",
    "                lr=0.000142857,\n",
    "                lr_period=2,\n",
    "                lr_decay=0.857142,\n",
    "                weight_decay=0.00857142,\n",
    "                momentum=0.857142)\n",
    "\n",
    "torch.save(mod.state_dict(), \n",
    "           'models/resnet18_cifar10_batch_size_64.h5')"
   ]
  },
  {
   "cell_type": "markdown",
   "metadata": {},
   "source": [
    "## 性能度量"
   ]
  },
  {
   "cell_type": "code",
   "execution_count": 12,
   "metadata": {},
   "outputs": [
    {
     "name": "stdout",
     "output_type": "stream",
     "text": [
      "-------------------------------------------------------  ------------  ------------  ------------  ------------  ------------  ------------  ------------  ------------  ------------  ------------  \n",
      "                                                   Name    Self CPU %      Self CPU   CPU total %     CPU total  CPU time avg     Self CUDA   Self CUDA %    CUDA total  CUDA time avg    # of Calls  \n",
      "-------------------------------------------------------  ------------  ------------  ------------  ------------  ------------  ------------  ------------  ------------  ------------  ------------  \n",
      "                                        model_inference        22.88%       2.121ms        99.54%       9.226ms       9.226ms       0.000us         0.00%       2.270ms       2.270ms             1  \n",
      "                                           aten::conv2d         1.00%      93.000us        43.12%       3.997ms     199.850us       0.000us         0.00%       2.084ms     104.200us            20  \n",
      "                                      aten::convolution         3.05%     283.000us        42.12%       3.904ms     195.200us       0.000us         0.00%       2.084ms     104.200us            20  \n",
      "                                     aten::_convolution         1.90%     176.000us        39.07%       3.621ms     181.050us       0.000us         0.00%       2.084ms     104.200us            20  \n",
      "                                aten::cudnn_convolution        29.23%       2.709ms        36.56%       3.389ms     169.450us       2.078ms        91.54%       2.078ms     103.900us            20  \n",
      "volta_scudnn_winograd_128x128_ldg1_ldg4_relu_tile148...         0.00%       0.000us         0.00%       0.000us       0.000us       1.437ms        63.30%       1.437ms     110.538us            13  \n",
      "volta_scudnn_128x32_sliced1x4_ldg4_relu_exp_small_nh...         0.00%       0.000us         0.00%       0.000us       0.000us     244.000us        10.75%     244.000us      81.333us             3  \n",
      "void cudnn::winograd::generateWinogradTilesKernel<0,...         0.00%       0.000us         0.00%       0.000us       0.000us     234.000us        10.31%     234.000us      18.000us            13  \n",
      "                                       aten::batch_norm         0.59%      55.000us        21.35%       1.979ms      98.950us       0.000us         0.00%     102.000us       5.100us            20  \n",
      "                           aten::_batch_norm_impl_index         0.82%      76.000us        20.76%       1.924ms      96.200us       0.000us         0.00%     102.000us       5.100us            20  \n",
      "-------------------------------------------------------  ------------  ------------  ------------  ------------  ------------  ------------  ------------  ------------  ------------  ------------  \n",
      "Self CPU time total: 9.269ms\n",
      "Self CUDA time total: 2.270ms\n",
      "\n"
     ]
    }
   ],
   "source": [
    "inputs = torch.randn(5, 3, 32, 32).type(torch.float32).cuda()\n",
    "        \n",
    "with profile(activities=[ProfilerActivity.CPU, \n",
    "                         ProfilerActivity.CUDA], \n",
    "             record_shapes=True) as prof:\n",
    "    with record_function(\"model_inference\"):\n",
    "        mod(inputs)\n",
    "        \n",
    "print(prof.key_averages().table(sort_by=\"cuda_time_total\", row_limit=10))"
   ]
  }
 ],
 "metadata": {
  "kernelspec": {
   "display_name": "Python 3.10.4 ('tvmx': conda)",
   "language": "python",
   "name": "python3"
  },
  "language_info": {
   "codemirror_mode": {
    "name": "ipython",
    "version": 3
   },
   "file_extension": ".py",
   "mimetype": "text/x-python",
   "name": "python",
   "nbconvert_exporter": "python",
   "pygments_lexer": "ipython3",
   "version": "3.10.4"
  },
  "orig_nbformat": 4,
  "vscode": {
   "interpreter": {
    "hash": "e579259ee6098e2b9319de590d145b4b096774fe457bdf04260e3ba5c171e887"
   }
  }
 },
 "nbformat": 4,
 "nbformat_minor": 2
}
