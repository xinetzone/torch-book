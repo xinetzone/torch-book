{
 "cells": [
  {
   "cell_type": "markdown",
   "metadata": {},
   "source": [
    "# Cifar10 上的 ReNet18\n",
    "\n",
    "本文主要介绍在 cifar10 的试验 resnet18 的性能。\n",
    "\n",
    "导入一些必要包："
   ]
  },
  {
   "cell_type": "code",
   "execution_count": 1,
   "metadata": {},
   "outputs": [],
   "source": [
    "import torch\n",
    "from torch import nn, fx, optim\n",
    "from torch.profiler import profile, record_function, ProfilerActivity\n",
    "from torchvision.models import resnet18, ResNet18_Weights\n",
    "from torch_book.data.simple_vision import load_data_cifar10\n",
    "from torch_book.tools import train, try_all_gpus, evaluate_accuracy\n",
    "torch.cuda.empty_cache() # 清空 GPU 缓存"
   ]
  },
  {
   "cell_type": "markdown",
   "metadata": {},
   "source": [
    "{mod}`torchvision` 上的 ResNet18 直接用于 cifar10 是不推荐的。需要做以下改动："
   ]
  },
  {
   "cell_type": "markdown",
   "metadata": {},
   "source": [
    "```{note}\n",
    "将 `conv1` 替换以支持 $32 \\times 32$ 的输入。同时移除第一个 `maxpool` 避免图片信息过早丢失。\n",
    "```"
   ]
  },
  {
   "cell_type": "code",
   "execution_count": 2,
   "metadata": {},
   "outputs": [],
   "source": [
    "def init_model():\n",
    "    model = resnet18(weights=ResNet18_Weights.DEFAULT)\n",
    "    model.conv1 = nn.Conv2d(model.conv1.in_channels, \n",
    "                            model.conv1.out_channels,\n",
    "                            3, 1, 1)\n",
    "    model.maxpool = nn.Identity() # nn.Conv2d(64, 64, 1, 1, 1)\n",
    "    model.fc = nn.Linear(model.fc.in_features, 10)\n",
    "    return model"
   ]
  },
  {
   "cell_type": "code",
   "execution_count": 3,
   "metadata": {},
   "outputs": [],
   "source": [
    "model = init_model()"
   ]
  },
  {
   "cell_type": "markdown",
   "metadata": {},
   "source": [
    "加载数据集："
   ]
  },
  {
   "cell_type": "code",
   "execution_count": 4,
   "metadata": {},
   "outputs": [
    {
     "name": "stdout",
     "output_type": "stream",
     "text": [
      "Files already downloaded and verified\n",
      "Files already downloaded and verified\n"
     ]
    }
   ],
   "source": [
    "batch_size = 64\n",
    "train_iter, test_iter = load_data_cifar10(batch_size=batch_size)"
   ]
  },
  {
   "cell_type": "markdown",
   "metadata": {},
   "source": [
    "打印每层输出尺寸："
   ]
  },
  {
   "cell_type": "code",
   "execution_count": 5,
   "metadata": {},
   "outputs": [
    {
     "name": "stdout",
     "output_type": "stream",
     "text": [
      "conv1 (64, 64, 32, 32)\n",
      "bn1 (64, 64, 32, 32)\n",
      "relu (64, 64, 32, 32)\n",
      "maxpool (64, 64, 32, 32)\n",
      "layer1 (64, 64, 32, 32)\n",
      "layer2 (64, 128, 16, 16)\n",
      "layer3 (64, 256, 8, 8)\n",
      "layer4 (64, 512, 4, 4)\n",
      "avgpool (64, 512, 1, 1)\n",
      "fc (64, 10)\n"
     ]
    }
   ],
   "source": [
    "for xs, _ in train_iter:\n",
    "    break\n",
    "\n",
    "for name, m in model.named_children():\n",
    "    xs = m(xs)\n",
    "    print(name, tuple(xs.shape))\n",
    "    if name==\"avgpool\":\n",
    "        xs = torch.flatten(xs, 1)"
   ]
  },
  {
   "cell_type": "markdown",
   "metadata": {},
   "source": [
    "评估此时验证集的精度（由于替换了卷积运算，会造成大量精度损失）："
   ]
  },
  {
   "cell_type": "code",
   "execution_count": 6,
   "metadata": {},
   "outputs": [
    {
     "data": {
      "text/plain": [
       "0.0855"
      ]
     },
     "execution_count": 6,
     "metadata": {},
     "output_type": "execute_result"
    }
   ],
   "source": [
    "relu_acc = evaluate_accuracy(model, test_iter)\n",
    "relu_acc"
   ]
  },
  {
   "cell_type": "markdown",
   "metadata": {},
   "source": [
    "微调模型："
   ]
  },
  {
   "cell_type": "code",
   "execution_count": 7,
   "metadata": {},
   "outputs": [],
   "source": [
    "def fine_tune(model, num_epochs,\n",
    "              train_iter, test_iter,\n",
    "              devices=try_all_gpus(),\n",
    "              lr=0.0000142857,\n",
    "              lr_period=4,\n",
    "              lr_decay=0.0857142,\n",
    "              weight_decay=0.00857142,\n",
    "              momentum=0.857142):\n",
    "    optimizer = optim.SGD(model.parameters(),\n",
    "                          lr=lr,\n",
    "                          momentum=momentum, \n",
    "                          weight_decay=weight_decay)\n",
    "    scheduler = optim.lr_scheduler.StepLR(optimizer, \n",
    "                                          step_size=lr_period, \n",
    "                                          gamma=lr_decay)\n",
    "    train(model, train_iter, test_iter,\n",
    "          num_epochs, devices,\n",
    "          optimizer, scheduler)\n",
    "    return model"
   ]
  },
  {
   "cell_type": "code",
   "execution_count": 8,
   "metadata": {},
   "outputs": [
    {
     "name": "stdout",
     "output_type": "stream",
     "text": [
      "train loss 0.003, train acc 0.999, valid acc 0.942\n",
      "1638.6 examples/sec on [device(type='cuda', index=0), device(type='cuda', index=1)]\n"
     ]
    },
    {
     "data": {
      "image/svg+xml": "<?xml version=\"1.0\" encoding=\"utf-8\" standalone=\"no\"?>\n<!DOCTYPE svg PUBLIC \"-//W3C//DTD SVG 1.1//EN\"\n  \"http://www.w3.org/Graphics/SVG/1.1/DTD/svg11.dtd\">\n<svg xmlns:xlink=\"http://www.w3.org/1999/xlink\" width=\"239.2pt\" height=\"180.967969pt\" viewBox=\"0 0 239.2 180.967969\" xmlns=\"http://www.w3.org/2000/svg\" version=\"1.1\">\n <metadata>\n  <rdf:RDF xmlns:dc=\"http://purl.org/dc/elements/1.1/\" xmlns:cc=\"http://creativecommons.org/ns#\" xmlns:rdf=\"http://www.w3.org/1999/02/22-rdf-syntax-ns#\">\n   <cc:Work>\n    <dc:type rdf:resource=\"http://purl.org/dc/dcmitype/StillImage\"/>\n    <dc:date>2022-11-02T20:13:14.586926</dc:date>\n    <dc:format>image/svg+xml</dc:format>\n    <dc:creator>\n     <cc:Agent>\n      <dc:title>Matplotlib v3.5.1, https://matplotlib.org/</dc:title>\n     </cc:Agent>\n    </dc:creator>\n   </cc:Work>\n  </rdf:RDF>\n </metadata>\n <defs>\n  <style type=\"text/css\">*{stroke-linejoin: round; stroke-linecap: butt}</style>\n </defs>\n <g id=\"figure_1\">\n  <g id=\"patch_1\">\n   <path d=\"M 0 180.967969 \nL 239.2 180.967969 \nL 239.2 0 \nL 0 0 \nL 0 180.967969 \nz\n\" style=\"fill: none\"/>\n  </g>\n  <g id=\"axes_1\">\n   <g id=\"patch_2\">\n    <path d=\"M 29.2 146.517969 \nL 224.5 146.517969 \nL 224.5 10.617969 \nL 29.2 10.617969 \nz\n\" style=\"fill: #ffffff\"/>\n   </g>\n   <g id=\"matplotlib.axis_1\">\n    <g id=\"xtick_1\">\n     <g id=\"line2d_1\">\n      <path d=\"M 66.681818 146.517969 \nL 66.681818 10.617969 \n\" clip-path=\"url(#pb301b1b61d)\" style=\"fill: none; stroke: #b0b0b0; stroke-width: 0.8; stroke-linecap: square\"/>\n     </g>\n     <g id=\"line2d_2\">\n      <defs>\n       <path id=\"m791287845d\" d=\"M 0 0 \nL 0 3.5 \n\" style=\"stroke: #000000; stroke-width: 0.8\"/>\n      </defs>\n      <g>\n       <use xlink:href=\"#m791287845d\" x=\"66.681818\" y=\"146.517969\" style=\"stroke: #000000; stroke-width: 0.8\"/>\n      </g>\n     </g>\n     <g id=\"text_1\">\n      <!-- 20 -->\n      <g transform=\"translate(61.681818 160.353906)scale(0.1 -0.1)\">\n       <defs>\n        <path id=\"SimHei-32\" d=\"M 2850 100 \nL 300 100 \nL 300 500 \nQ 450 900 712 1237 \nQ 975 1575 1475 2000 \nQ 1850 2325 2012 2600 \nQ 2175 2875 2175 3200 \nQ 2175 3525 2037 3737 \nQ 1900 3950 1600 3950 \nQ 1350 3950 1162 3725 \nQ 975 3500 975 2925 \nL 400 2925 \nQ 425 3650 737 4037 \nQ 1050 4425 1625 4425 \nQ 2175 4425 2475 4087 \nQ 2775 3750 2775 3175 \nQ 2775 2700 2500 2350 \nQ 2225 2000 1825 1650 \nQ 1375 1250 1200 1050 \nQ 1025 850 875 575 \nL 2850 575 \nL 2850 100 \nz\n\" transform=\"scale(0.015625)\"/>\n        <path id=\"SimHei-30\" d=\"M 2975 2250 \nQ 2975 1350 2650 700 \nQ 2325 50 1600 50 \nQ 875 50 537 700 \nQ 200 1350 200 2250 \nQ 200 3150 537 3787 \nQ 875 4425 1600 4425 \nQ 2325 4425 2650 3787 \nQ 2975 3150 2975 2250 \nz\nM 2375 2250 \nQ 2375 3050 2187 3500 \nQ 2000 3950 1600 3950 \nQ 1200 3950 1000 3500 \nQ 800 3050 800 2250 \nQ 800 1450 1000 987 \nQ 1200 525 1600 525 \nQ 2000 525 2187 987 \nQ 2375 1450 2375 2250 \nz\n\" transform=\"scale(0.015625)\"/>\n       </defs>\n       <use xlink:href=\"#SimHei-32\"/>\n       <use xlink:href=\"#SimHei-30\" x=\"50\"/>\n      </g>\n     </g>\n    </g>\n    <g id=\"xtick_2\">\n     <g id=\"line2d_3\">\n      <path d=\"M 106.136364 146.517969 \nL 106.136364 10.617969 \n\" clip-path=\"url(#pb301b1b61d)\" style=\"fill: none; stroke: #b0b0b0; stroke-width: 0.8; stroke-linecap: square\"/>\n     </g>\n     <g id=\"line2d_4\">\n      <g>\n       <use xlink:href=\"#m791287845d\" x=\"106.136364\" y=\"146.517969\" style=\"stroke: #000000; stroke-width: 0.8\"/>\n      </g>\n     </g>\n     <g id=\"text_2\">\n      <!-- 40 -->\n      <g transform=\"translate(101.136364 160.353906)scale(0.1 -0.1)\">\n       <defs>\n        <path id=\"SimHei-34\" d=\"M 2975 1200 \nL 2450 1200 \nL 2450 100 \nL 1875 100 \nL 1875 1200 \nL 200 1200 \nL 200 1675 \nL 1875 4425 \nL 2450 4425 \nL 2450 1675 \nL 2975 1675 \nL 2975 1200 \nz\nM 1875 1675 \nL 1875 3525 \nL 750 1675 \nL 1875 1675 \nz\n\" transform=\"scale(0.015625)\"/>\n       </defs>\n       <use xlink:href=\"#SimHei-34\"/>\n       <use xlink:href=\"#SimHei-30\" x=\"50\"/>\n      </g>\n     </g>\n    </g>\n    <g id=\"xtick_3\">\n     <g id=\"line2d_5\">\n      <path d=\"M 145.590909 146.517969 \nL 145.590909 10.617969 \n\" clip-path=\"url(#pb301b1b61d)\" style=\"fill: none; stroke: #b0b0b0; stroke-width: 0.8; stroke-linecap: square\"/>\n     </g>\n     <g id=\"line2d_6\">\n      <g>\n       <use xlink:href=\"#m791287845d\" x=\"145.590909\" y=\"146.517969\" style=\"stroke: #000000; stroke-width: 0.8\"/>\n      </g>\n     </g>\n     <g id=\"text_3\">\n      <!-- 60 -->\n      <g transform=\"translate(140.590909 160.353906)scale(0.1 -0.1)\">\n       <defs>\n        <path id=\"SimHei-36\" d=\"M 2850 1550 \nQ 2850 850 2550 450 \nQ 2250 50 1650 50 \nQ 1050 50 700 550 \nQ 350 1050 350 2175 \nQ 350 3200 712 3812 \nQ 1075 4425 1750 4425 \nQ 2225 4425 2512 4075 \nQ 2800 3725 2800 3300 \nL 2225 3300 \nQ 2225 3550 2087 3750 \nQ 1950 3950 1725 3950 \nQ 1350 3950 1150 3562 \nQ 950 3175 925 2375 \nQ 1100 2700 1300 2825 \nQ 1500 2950 1775 2950 \nQ 2250 2950 2550 2575 \nQ 2850 2200 2850 1550 \nz\nM 2250 1550 \nQ 2250 2000 2100 2250 \nQ 1950 2500 1675 2500 \nQ 1350 2500 1162 2250 \nQ 975 2000 975 1650 \nQ 975 1100 1162 800 \nQ 1350 500 1675 500 \nQ 1900 500 2075 725 \nQ 2250 950 2250 1550 \nz\n\" transform=\"scale(0.015625)\"/>\n       </defs>\n       <use xlink:href=\"#SimHei-36\"/>\n       <use xlink:href=\"#SimHei-30\" x=\"50\"/>\n      </g>\n     </g>\n    </g>\n    <g id=\"xtick_4\">\n     <g id=\"line2d_7\">\n      <path d=\"M 185.045455 146.517969 \nL 185.045455 10.617969 \n\" clip-path=\"url(#pb301b1b61d)\" style=\"fill: none; stroke: #b0b0b0; stroke-width: 0.8; stroke-linecap: square\"/>\n     </g>\n     <g id=\"line2d_8\">\n      <g>\n       <use xlink:href=\"#m791287845d\" x=\"185.045455\" y=\"146.517969\" style=\"stroke: #000000; stroke-width: 0.8\"/>\n      </g>\n     </g>\n     <g id=\"text_4\">\n      <!-- 80 -->\n      <g transform=\"translate(180.045455 160.353906)scale(0.1 -0.1)\">\n       <defs>\n        <path id=\"SimHei-38\" d=\"M 2875 1325 \nQ 2875 700 2525 375 \nQ 2175 50 1575 50 \nQ 975 50 625 375 \nQ 275 700 275 1325 \nQ 275 1650 475 1912 \nQ 675 2175 1025 2300 \nQ 725 2425 562 2650 \nQ 400 2875 400 3225 \nQ 400 3775 750 4100 \nQ 1100 4425 1575 4425 \nQ 2050 4425 2400 4100 \nQ 2750 3775 2750 3225 \nQ 2750 2875 2587 2650 \nQ 2425 2425 2125 2300 \nQ 2475 2175 2675 1912 \nQ 2875 1650 2875 1325 \nz\nM 2200 3225 \nQ 2200 3625 2025 3800 \nQ 1850 3975 1575 3975 \nQ 1300 3975 1125 3800 \nQ 950 3625 950 3225 \nQ 950 2825 1137 2662 \nQ 1325 2500 1575 2500 \nQ 1825 2500 2012 2662 \nQ 2200 2825 2200 3225 \nz\nM 2300 1325 \nQ 2300 1675 2112 1875 \nQ 1925 2075 1575 2075 \nQ 1225 2075 1037 1875 \nQ 850 1675 850 1325 \nQ 850 925 1050 712 \nQ 1250 500 1575 500 \nQ 1900 500 2100 712 \nQ 2300 925 2300 1325 \nz\n\" transform=\"scale(0.015625)\"/>\n       </defs>\n       <use xlink:href=\"#SimHei-38\"/>\n       <use xlink:href=\"#SimHei-30\" x=\"50\"/>\n      </g>\n     </g>\n    </g>\n    <g id=\"xtick_5\">\n     <g id=\"line2d_9\">\n      <path d=\"M 224.5 146.517969 \nL 224.5 10.617969 \n\" clip-path=\"url(#pb301b1b61d)\" style=\"fill: none; stroke: #b0b0b0; stroke-width: 0.8; stroke-linecap: square\"/>\n     </g>\n     <g id=\"line2d_10\">\n      <g>\n       <use xlink:href=\"#m791287845d\" x=\"224.5\" y=\"146.517969\" style=\"stroke: #000000; stroke-width: 0.8\"/>\n      </g>\n     </g>\n     <g id=\"text_5\">\n      <!-- 100 -->\n      <g transform=\"translate(217 160.353906)scale(0.1 -0.1)\">\n       <defs>\n        <path id=\"SimHei-31\" d=\"M 1950 100 \nL 1375 100 \nL 1375 3425 \nL 625 3425 \nL 625 3725 \nQ 1075 3725 1325 3900 \nQ 1575 4075 1650 4425 \nL 1950 4425 \nL 1950 100 \nz\n\" transform=\"scale(0.015625)\"/>\n       </defs>\n       <use xlink:href=\"#SimHei-31\"/>\n       <use xlink:href=\"#SimHei-30\" x=\"50\"/>\n       <use xlink:href=\"#SimHei-30\" x=\"100\"/>\n      </g>\n     </g>\n    </g>\n    <g id=\"text_6\">\n     <!-- epoch -->\n     <g transform=\"translate(114.35 172.478906)scale(0.1 -0.1)\">\n      <defs>\n       <path id=\"SimHei-65\" d=\"M 2875 1050 \nQ 2825 600 2475 325 \nQ 2125 50 1650 50 \nQ 1050 50 662 437 \nQ 275 825 275 1500 \nQ 275 2175 662 2562 \nQ 1050 2950 1650 2950 \nQ 2175 2950 2512 2612 \nQ 2850 2275 2850 1500 \nL 825 1500 \nQ 825 950 1062 725 \nQ 1300 500 1650 500 \nQ 1925 500 2100 637 \nQ 2275 775 2325 1050 \nL 2875 1050 \nz\nM 2275 1900 \nQ 2225 2250 2050 2387 \nQ 1875 2525 1600 2525 \nQ 1350 2525 1150 2387 \nQ 950 2250 850 1900 \nL 2275 1900 \nz\n\" transform=\"scale(0.015625)\"/>\n       <path id=\"SimHei-70\" d=\"M 2850 1500 \nQ 2850 775 2500 400 \nQ 2150 25 1650 25 \nQ 1375 25 1175 137 \nQ 975 250 825 475 \nL 825 -825 \nL 325 -825 \nL 325 2900 \nL 825 2900 \nL 825 2525 \nQ 975 2750 1175 2850 \nQ 1375 2950 1650 2950 \nQ 2150 2950 2500 2587 \nQ 2850 2225 2850 1500 \nz\nM 2300 1500 \nQ 2300 1975 2112 2237 \nQ 1925 2500 1550 2500 \nQ 1250 2500 1037 2237 \nQ 825 1975 825 1500 \nQ 825 1025 1037 750 \nQ 1250 475 1550 475 \nQ 1925 475 2112 750 \nQ 2300 1025 2300 1500 \nz\n\" transform=\"scale(0.015625)\"/>\n       <path id=\"SimHei-6f\" d=\"M 2950 1500 \nQ 2950 850 2550 450 \nQ 2150 50 1600 50 \nQ 1050 50 650 450 \nQ 250 850 250 1500 \nQ 250 2150 650 2550 \nQ 1050 2950 1600 2950 \nQ 2150 2950 2550 2550 \nQ 2950 2150 2950 1500 \nz\nM 2400 1500 \nQ 2400 2000 2150 2250 \nQ 1900 2500 1600 2500 \nQ 1300 2500 1050 2250 \nQ 800 2000 800 1500 \nQ 800 1000 1050 750 \nQ 1300 500 1600 500 \nQ 1900 500 2150 750 \nQ 2400 1000 2400 1500 \nz\n\" transform=\"scale(0.015625)\"/>\n       <path id=\"SimHei-63\" d=\"M 2875 1225 \nQ 2875 700 2512 375 \nQ 2150 50 1600 50 \nQ 1050 50 650 437 \nQ 250 825 250 1500 \nQ 250 2175 650 2562 \nQ 1050 2950 1600 2950 \nQ 2150 2950 2475 2662 \nQ 2800 2375 2800 1975 \nL 2250 1975 \nQ 2225 2275 2037 2387 \nQ 1850 2500 1600 2500 \nQ 1300 2500 1050 2262 \nQ 800 2025 800 1500 \nQ 800 975 1050 737 \nQ 1300 500 1600 500 \nQ 1925 500 2125 675 \nQ 2325 850 2325 1225 \nL 2875 1225 \nz\n\" transform=\"scale(0.015625)\"/>\n       <path id=\"SimHei-68\" d=\"M 2825 100 \nL 2325 100 \nL 2325 1900 \nQ 2325 2200 2175 2375 \nQ 2025 2550 1775 2550 \nQ 1450 2550 1162 2212 \nQ 875 1875 875 1375 \nL 875 100 \nL 375 100 \nL 375 4375 \nL 875 4375 \nL 875 2375 \nQ 1075 2650 1312 2800 \nQ 1550 2950 1925 2950 \nQ 2375 2950 2600 2700 \nQ 2825 2450 2825 2075 \nL 2825 100 \nz\n\" transform=\"scale(0.015625)\"/>\n      </defs>\n      <use xlink:href=\"#SimHei-65\"/>\n      <use xlink:href=\"#SimHei-70\" x=\"50\"/>\n      <use xlink:href=\"#SimHei-6f\" x=\"100\"/>\n      <use xlink:href=\"#SimHei-63\" x=\"150\"/>\n      <use xlink:href=\"#SimHei-68\" x=\"200\"/>\n     </g>\n    </g>\n   </g>\n   <g id=\"matplotlib.axis_2\">\n    <g id=\"ytick_1\">\n     <g id=\"line2d_11\">\n      <path d=\"M 29.2 146.517969 \nL 224.5 146.517969 \n\" clip-path=\"url(#pb301b1b61d)\" style=\"fill: none; stroke: #b0b0b0; stroke-width: 0.8; stroke-linecap: square\"/>\n     </g>\n     <g id=\"line2d_12\">\n      <defs>\n       <path id=\"m409330f1ce\" d=\"M 0 0 \nL -3.5 0 \n\" style=\"stroke: #000000; stroke-width: 0.8\"/>\n      </defs>\n      <g>\n       <use xlink:href=\"#m409330f1ce\" x=\"29.2\" y=\"146.517969\" style=\"stroke: #000000; stroke-width: 0.8\"/>\n      </g>\n     </g>\n     <g id=\"text_7\">\n      <!-- 0.0 -->\n      <g transform=\"translate(7.2 149.935938)scale(0.1 -0.1)\">\n       <defs>\n        <path id=\"SimHei-2e\" d=\"M 1100 100 \nL 525 100 \nL 525 650 \nL 1100 650 \nL 1100 100 \nz\n\" transform=\"scale(0.015625)\"/>\n       </defs>\n       <use xlink:href=\"#SimHei-30\"/>\n       <use xlink:href=\"#SimHei-2e\" x=\"50\"/>\n       <use xlink:href=\"#SimHei-30\" x=\"100\"/>\n      </g>\n     </g>\n    </g>\n    <g id=\"ytick_2\">\n     <g id=\"line2d_13\">\n      <path d=\"M 29.2 119.337969 \nL 224.5 119.337969 \n\" clip-path=\"url(#pb301b1b61d)\" style=\"fill: none; stroke: #b0b0b0; stroke-width: 0.8; stroke-linecap: square\"/>\n     </g>\n     <g id=\"line2d_14\">\n      <g>\n       <use xlink:href=\"#m409330f1ce\" x=\"29.2\" y=\"119.337969\" style=\"stroke: #000000; stroke-width: 0.8\"/>\n      </g>\n     </g>\n     <g id=\"text_8\">\n      <!-- 0.2 -->\n      <g transform=\"translate(7.2 122.755938)scale(0.1 -0.1)\">\n       <use xlink:href=\"#SimHei-30\"/>\n       <use xlink:href=\"#SimHei-2e\" x=\"50\"/>\n       <use xlink:href=\"#SimHei-32\" x=\"100\"/>\n      </g>\n     </g>\n    </g>\n    <g id=\"ytick_3\">\n     <g id=\"line2d_15\">\n      <path d=\"M 29.2 92.157969 \nL 224.5 92.157969 \n\" clip-path=\"url(#pb301b1b61d)\" style=\"fill: none; stroke: #b0b0b0; stroke-width: 0.8; stroke-linecap: square\"/>\n     </g>\n     <g id=\"line2d_16\">\n      <g>\n       <use xlink:href=\"#m409330f1ce\" x=\"29.2\" y=\"92.157969\" style=\"stroke: #000000; stroke-width: 0.8\"/>\n      </g>\n     </g>\n     <g id=\"text_9\">\n      <!-- 0.4 -->\n      <g transform=\"translate(7.2 95.575938)scale(0.1 -0.1)\">\n       <use xlink:href=\"#SimHei-30\"/>\n       <use xlink:href=\"#SimHei-2e\" x=\"50\"/>\n       <use xlink:href=\"#SimHei-34\" x=\"100\"/>\n      </g>\n     </g>\n    </g>\n    <g id=\"ytick_4\">\n     <g id=\"line2d_17\">\n      <path d=\"M 29.2 64.977969 \nL 224.5 64.977969 \n\" clip-path=\"url(#pb301b1b61d)\" style=\"fill: none; stroke: #b0b0b0; stroke-width: 0.8; stroke-linecap: square\"/>\n     </g>\n     <g id=\"line2d_18\">\n      <g>\n       <use xlink:href=\"#m409330f1ce\" x=\"29.2\" y=\"64.977969\" style=\"stroke: #000000; stroke-width: 0.8\"/>\n      </g>\n     </g>\n     <g id=\"text_10\">\n      <!-- 0.6 -->\n      <g transform=\"translate(7.2 68.395938)scale(0.1 -0.1)\">\n       <use xlink:href=\"#SimHei-30\"/>\n       <use xlink:href=\"#SimHei-2e\" x=\"50\"/>\n       <use xlink:href=\"#SimHei-36\" x=\"100\"/>\n      </g>\n     </g>\n    </g>\n    <g id=\"ytick_5\">\n     <g id=\"line2d_19\">\n      <path d=\"M 29.2 37.797969 \nL 224.5 37.797969 \n\" clip-path=\"url(#pb301b1b61d)\" style=\"fill: none; stroke: #b0b0b0; stroke-width: 0.8; stroke-linecap: square\"/>\n     </g>\n     <g id=\"line2d_20\">\n      <g>\n       <use xlink:href=\"#m409330f1ce\" x=\"29.2\" y=\"37.797969\" style=\"stroke: #000000; stroke-width: 0.8\"/>\n      </g>\n     </g>\n     <g id=\"text_11\">\n      <!-- 0.8 -->\n      <g transform=\"translate(7.2 41.215938)scale(0.1 -0.1)\">\n       <use xlink:href=\"#SimHei-30\"/>\n       <use xlink:href=\"#SimHei-2e\" x=\"50\"/>\n       <use xlink:href=\"#SimHei-38\" x=\"100\"/>\n      </g>\n     </g>\n    </g>\n    <g id=\"ytick_6\">\n     <g id=\"line2d_21\">\n      <path d=\"M 29.2 10.617969 \nL 224.5 10.617969 \n\" clip-path=\"url(#pb301b1b61d)\" style=\"fill: none; stroke: #b0b0b0; stroke-width: 0.8; stroke-linecap: square\"/>\n     </g>\n     <g id=\"line2d_22\">\n      <g>\n       <use xlink:href=\"#m409330f1ce\" x=\"29.2\" y=\"10.617969\" style=\"stroke: #000000; stroke-width: 0.8\"/>\n      </g>\n     </g>\n     <g id=\"text_12\">\n      <!-- 1.0 -->\n      <g transform=\"translate(7.2 14.035938)scale(0.1 -0.1)\">\n       <use xlink:href=\"#SimHei-31\"/>\n       <use xlink:href=\"#SimHei-2e\" x=\"50\"/>\n       <use xlink:href=\"#SimHei-30\" x=\"100\"/>\n      </g>\n     </g>\n    </g>\n   </g>\n   <g id=\"line2d_23\">\n    <path d=\"M 27.946194 -1 \nL 28.014346 5.521508 \nL 28.407882 25.682418 \nL 28.801418 38.399875 \nL 29.2 47.041426 \nL 29.593536 96.523839 \nL 30.380609 98.5036 \nL 30.774146 98.728314 \nL 31.172727 99.32767 \nL 31.566264 111.439207 \nL 31.9598 111.058638 \nL 32.746873 111.38298 \nL 33.140409 111.817115 \nL 33.145455 111.796814 \nL 33.538991 118.70007 \nL 33.932527 117.707586 \nL 34.326064 118.29575 \nL 34.7196 117.754886 \nL 35.113136 118.099163 \nL 35.118182 118.0868 \nL 35.511718 124.892556 \nL 35.905255 125.590654 \nL 36.298791 125.44284 \nL 36.692327 125.512127 \nL 37.090909 125.258264 \nL 37.484445 130.145228 \nL 38.271518 128.74101 \nL 38.665055 128.53051 \nL 39.063636 128.444651 \nL 39.457173 130.835229 \nL 39.850709 130.743302 \nL 40.244246 130.531493 \nL 40.637782 129.62573 \nL 41.036364 129.736431 \nL 41.4299 134.021242 \nL 41.823436 133.406507 \nL 42.216973 133.160895 \nL 42.610509 132.632759 \nL 43.004046 132.344976 \nL 43.009091 132.356692 \nL 43.402627 135.823255 \nL 43.796164 135.484144 \nL 44.981818 135.300599 \nL 45.375355 136.972961 \nL 45.768891 136.612569 \nL 46.162427 137.03223 \nL 46.555964 136.952437 \nL 46.954545 137.01456 \nL 47.348082 137.303706 \nL 47.741618 136.906215 \nL 48.135155 137.23892 \nL 48.528691 137.338923 \nL 48.927273 137.14229 \nL 49.320809 138.718971 \nL 50.107882 138.062122 \nL 50.501418 137.92741 \nL 50.9 137.679827 \nL 51.293536 140.322846 \nL 51.687073 139.944062 \nL 52.080609 139.888396 \nL 52.474146 139.698229 \nL 52.872727 139.653548 \nL 53.266264 140.571539 \nL 53.6598 140.578999 \nL 54.053336 140.359302 \nL 54.845455 140.236241 \nL 55.632527 141.329037 \nL 56.818182 141.095361 \nL 57.211718 140.363036 \nL 57.605255 140.452139 \nL 57.998791 140.76714 \nL 58.392327 140.764372 \nL 58.790909 140.583707 \nL 59.184445 141.966718 \nL 59.577982 142.014996 \nL 59.971518 142.229784 \nL 60.365055 142.087924 \nL 60.763636 142.115908 \nL 61.157173 142.787525 \nL 61.944246 142.450357 \nL 62.736364 142.365564 \nL 63.523436 142.773758 \nL 64.310509 142.979519 \nL 64.709091 142.885659 \nL 65.102627 142.994253 \nL 65.496164 142.845595 \nL 65.8897 142.899387 \nL 66.681818 143.138972 \nL 67.075355 143.917431 \nL 67.468891 144.088466 \nL 68.654545 143.884013 \nL 69.048082 143.29366 \nL 69.441618 143.568245 \nL 70.627273 143.625719 \nL 71.020809 144.175125 \nL 71.807882 144.282144 \nL 72.201418 144.113654 \nL 74.572727 144.118608 \nL 74.966264 144.663517 \nL 75.3598 144.643483 \nL 76.938991 144.21094 \nL 77.332527 144.373669 \nL 79.305255 144.641927 \nL 80.092327 144.412897 \nL 81.277982 144.364581 \nL 82.065055 144.719608 \nL 82.463636 144.659532 \nL 82.857173 144.931832 \nL 83.250709 144.810612 \nL 83.644246 144.923865 \nL 84.436364 144.828316 \nL 86.010509 144.933767 \nL 87.196164 144.939129 \nL 88.381818 145.151577 \nL 88.775355 144.644332 \nL 89.168891 144.951403 \nL 90.354545 144.973742 \nL 90.748082 145.176073 \nL 91.535155 145.05324 \nL 92.327273 144.960219 \nL 92.720809 145.534817 \nL 93.901418 145.435121 \nL 96.272727 145.366582 \nL 96.666264 145.054479 \nL 97.453336 145.270781 \nL 98.245455 145.326563 \nL 99.426064 145.466494 \nL 100.218182 145.514192 \nL 101.398791 145.293417 \nL 102.190909 145.319745 \nL 102.584445 145.666729 \nL 103.371518 145.585477 \nL 104.163636 145.673041 \nL 104.557173 145.606897 \nL 104.950709 145.71738 \nL 105.344246 145.587806 \nL 106.131318 145.546334 \nL 106.136364 145.518812 \nL 106.5299 145.753916 \nL 106.923436 145.603426 \nL 110.475355 145.782471 \nL 113.235155 145.610025 \nL 116 145.713306 \nL 116.393536 145.866585 \nL 117.574146 145.759326 \nL 117.972727 145.755618 \nL 118.366264 145.939773 \nL 119.945455 145.803616 \nL 120.338991 145.947339 \nL 125.863636 145.89768 \nL 126.257173 146.024048 \nL 127.437782 145.943715 \nL 129.410509 145.833103 \nL 129.809091 145.785267 \nL 130.9897 145.943202 \nL 132.175355 145.764483 \nL 132.962427 145.920161 \nL 133.754545 145.90207 \nL 134.148082 146.051115 \nL 134.935155 145.978198 \nL 143.2196 145.920504 \nL 144.011718 145.966151 \nL 144.798791 146.011039 \nL 145.590909 145.991057 \nL 146.377982 146.085011 \nL 149.536364 145.998574 \nL 149.9299 145.902651 \nL 150.716973 146.039488 \nL 153.083236 146.025248 \nL 155.454545 146.041812 \nL 155.848082 145.927951 \nL 156.635155 145.996683 \nL 157.427273 146.021835 \nL 157.820809 145.891416 \nL 159.4 146.045221 \nL 160.580609 146.062445 \nL 163.345455 146.073681 \nL 180.307882 146.153707 \nL 181.1 146.16125 \nL 181.493536 146.028158 \nL 188.990909 146.177644 \nL 189.384445 146.042859 \nL 190.171518 146.148047 \nL 196.881818 146.118529 \nL 197.275355 146.249046 \nL 197.668891 146.122149 \nL 201.614346 146.195277 \nL 205.953336 146.206238 \nL 207.138991 146.086245 \nL 209.505255 146.169562 \nL 211.871518 146.144051 \nL 213.057173 146.208415 \nL 216.609091 146.047705 \nL 217.7897 146.210154 \nL 220.155964 146.123108 \nL 220.554545 146.157724 \nL 220.948082 146.035026 \nL 221.735155 146.138731 \nL 224.101418 146.168009 \nL 224.5 146.169599 \nL 224.5 146.169599 \n\" clip-path=\"url(#pb301b1b61d)\" style=\"fill: none; stroke: #1f77b4; stroke-width: 1.5; stroke-linecap: square\"/>\n   </g>\n   <g id=\"line2d_24\">\n    <path d=\"M 27.620809 73.272987 \nL 28.014346 59.613567 \nL 28.407882 52.279087 \nL 28.801418 47.81896 \nL 29.2 44.788665 \nL 29.593536 27.53741 \nL 30.380609 26.952103 \nL 31.172727 26.703093 \nL 31.566264 22.378546 \nL 31.9598 22.86857 \nL 33.145455 22.454859 \nL 33.538991 20.03732 \nL 33.932527 20.275526 \nL 34.326064 20.209736 \nL 34.7196 20.432061 \nL 35.118182 20.370153 \nL 35.511718 18.104447 \nL 35.905255 17.859435 \nL 37.090909 17.956569 \nL 37.484445 15.994621 \nL 37.877982 16.579928 \nL 38.271518 16.847626 \nL 39.063636 16.929165 \nL 39.457173 15.994621 \nL 39.850709 16.055874 \nL 40.637782 16.508466 \nL 41.036364 16.475259 \nL 41.4299 14.905679 \nL 41.823436 15.150691 \nL 43.009091 15.562011 \nL 43.402627 14.265925 \nL 43.796164 14.538161 \nL 44.981818 14.575377 \nL 45.375355 14.170643 \nL 46.954545 13.890441 \nL 47.348082 13.84396 \nL 47.741618 13.966466 \nL 48.528691 13.76229 \nL 48.927273 13.822491 \nL 49.320809 13.23143 \nL 50.501418 13.541098 \nL 50.9 13.634949 \nL 51.293536 12.496394 \nL 51.687073 12.727794 \nL 52.872727 12.863037 \nL 53.266264 12.550841 \nL 53.6598 12.544035 \nL 54.446873 12.669944 \nL 54.845455 12.729855 \nL 55.632527 12.305829 \nL 56.818182 12.392823 \nL 57.211718 12.564453 \nL 58.790909 12.602109 \nL 59.184445 12.033594 \nL 60.763636 12.080253 \nL 61.157173 11.911088 \nL 62.337782 11.992758 \nL 62.736364 11.993277 \nL 63.1299 11.815805 \nL 64.709091 11.827479 \nL 66.681818 11.740503 \nL 67.075355 11.475511 \nL 67.862427 11.439213 \nL 68.654545 11.471421 \nL 69.048082 11.693299 \nL 69.441618 11.577599 \nL 71.020809 11.489123 \nL 71.807882 11.339393 \nL 72.6 11.414343 \nL 72.993536 11.312169 \nL 73.780609 11.353005 \nL 74.572727 11.362701 \nL 75.3598 11.250916 \nL 78.518182 11.316495 \nL 81.671518 11.21235 \nL 82.857173 11.080769 \nL 84.037782 11.121605 \nL 86.409091 11.118081 \nL 87.196164 11.073963 \nL 88.381818 11.031105 \nL 88.775355 11.176052 \nL 89.168891 11.053546 \nL 90.748082 11.094381 \nL 91.928691 11.07056 \nL 92.327273 11.104491 \nL 92.720809 10.849369 \nL 95.480609 10.985487 \nL 97.846873 11.002502 \nL 100.218182 10.892487 \nL 100.611718 10.999099 \nL 105.344246 10.849369 \nL 123.890909 10.775613 \nL 124.677982 10.733669 \nL 126.257173 10.767698 \nL 224.5 10.704945 \nL 224.5 10.704945 \n\" clip-path=\"url(#pb301b1b61d)\" style=\"fill: none; stroke-dasharray: 5.55,2.4; stroke-dashoffset: 0; stroke: #bf00bf; stroke-width: 1.5\"/>\n   </g>\n   <g id=\"line2d_25\">\n    <path d=\"M 29.2 37.716429 \nL 31.172727 32.022219 \nL 33.145455 29.127549 \nL 35.118182 29.304219 \nL 37.090909 24.901059 \nL 39.063636 24.982599 \nL 41.036364 22.998459 \nL 43.009091 22.237419 \nL 44.981818 22.889739 \nL 46.954545 24.928239 \nL 48.927273 22.019979 \nL 50.9 23.147949 \nL 52.872727 21.802539 \nL 54.845455 24.588489 \nL 56.818182 22.305369 \nL 58.790909 21.557919 \nL 60.763636 21.952029 \nL 62.736364 21.082269 \nL 64.709091 21.788949 \nL 66.681818 20.756109 \nL 68.654545 20.552259 \nL 70.627273 21.666639 \nL 72.6 19.777629 \nL 74.572727 20.674569 \nL 76.545455 20.280459 \nL 78.518182 20.688159 \nL 80.490909 21.557919 \nL 82.463636 19.709679 \nL 84.436364 20.647389 \nL 86.409091 19.424289 \nL 88.381818 19.628139 \nL 90.354545 19.614549 \nL 92.327273 19.614549 \nL 94.3 19.546599 \nL 96.272727 19.111719 \nL 98.245455 19.356339 \nL 100.218182 19.315569 \nL 102.190909 19.342749 \nL 104.163636 19.301979 \nL 106.136364 19.818399 \nL 108.109091 19.030179 \nL 110.081818 19.342749 \nL 112.054545 19.804809 \nL 114.027273 19.356339 \nL 116 19.668909 \nL 117.972727 19.274799 \nL 119.945455 19.098129 \nL 121.918182 18.962229 \nL 123.890909 18.989409 \nL 125.863636 18.975819 \nL 127.836364 19.206849 \nL 129.809091 19.247619 \nL 131.781818 19.002999 \nL 133.754545 19.111719 \nL 135.727273 19.002999 \nL 137.7 19.002999 \nL 139.672727 18.799149 \nL 141.645455 18.486579 \nL 143.618182 18.282729 \nL 145.590909 18.500169 \nL 147.563636 18.296319 \nL 149.536364 18.894279 \nL 151.509091 18.554529 \nL 153.481818 19.193259 \nL 155.454545 18.432219 \nL 157.427273 18.799149 \nL 159.4 18.500169 \nL 161.372727 18.649659 \nL 163.345455 18.540939 \nL 165.318182 18.649659 \nL 167.290909 18.758379 \nL 169.263636 18.391449 \nL 171.236364 18.472989 \nL 173.209091 18.608889 \nL 175.181818 18.595299 \nL 177.154545 18.540939 \nL 179.127273 18.296319 \nL 181.1 18.255549 \nL 183.072727 18.500169 \nL 185.045455 18.527349 \nL 187.018182 18.690429 \nL 188.990909 18.676839 \nL 190.963636 18.527349 \nL 192.936364 19.234029 \nL 194.909091 19.070949 \nL 196.881818 18.744789 \nL 198.854545 18.486579 \nL 200.827273 18.608889 \nL 202.8 18.636069 \nL 204.772727 18.500169 \nL 206.745455 18.649659 \nL 208.718182 18.581709 \nL 210.690909 18.540939 \nL 212.663636 18.676839 \nL 214.636364 18.513759 \nL 216.609091 18.472989 \nL 218.581818 18.350679 \nL 220.554545 18.065289 \nL 222.527273 18.513759 \nL 224.5 18.540939 \n\" clip-path=\"url(#pb301b1b61d)\" style=\"fill: none; stroke-dasharray: 9.6,2.4,1.5,2.4; stroke-dashoffset: 0; stroke: #008000; stroke-width: 1.5\"/>\n   </g>\n   <g id=\"patch_3\">\n    <path d=\"M 29.2 146.517969 \nL 29.2 10.617969 \n\" style=\"fill: none; stroke: #000000; stroke-width: 0.8; stroke-linejoin: miter; stroke-linecap: square\"/>\n   </g>\n   <g id=\"patch_4\">\n    <path d=\"M 224.5 146.517969 \nL 224.5 10.617969 \n\" style=\"fill: none; stroke: #000000; stroke-width: 0.8; stroke-linejoin: miter; stroke-linecap: square\"/>\n   </g>\n   <g id=\"patch_5\">\n    <path d=\"M 29.2 146.517969 \nL 224.5 146.517969 \n\" style=\"fill: none; stroke: #000000; stroke-width: 0.8; stroke-linejoin: miter; stroke-linecap: square\"/>\n   </g>\n   <g id=\"patch_6\">\n    <path d=\"M 29.2 10.617969 \nL 224.5 10.617969 \n\" style=\"fill: none; stroke: #000000; stroke-width: 0.8; stroke-linejoin: miter; stroke-linecap: square\"/>\n   </g>\n   <g id=\"legend_1\">\n    <g id=\"patch_7\">\n     <path d=\"M 135.5 141.517969 \nL 217.5 141.517969 \nQ 219.5 141.517969 219.5 139.517969 \nL 219.5 100.650781 \nQ 219.5 98.650781 217.5 98.650781 \nL 135.5 98.650781 \nQ 133.5 98.650781 133.5 100.650781 \nL 133.5 139.517969 \nQ 133.5 141.517969 135.5 141.517969 \nz\n\" style=\"fill: #ffffff; opacity: 0.8; stroke: #cccccc; stroke-linejoin: miter\"/>\n    </g>\n    <g id=\"line2d_26\">\n     <path d=\"M 137.5 106.150781 \nL 147.5 106.150781 \nL 157.5 106.150781 \n\" style=\"fill: none; stroke: #1f77b4; stroke-width: 1.5; stroke-linecap: square\"/>\n    </g>\n    <g id=\"text_13\">\n     <!-- train loss -->\n     <g transform=\"translate(165.5 109.650781)scale(0.1 -0.1)\">\n      <defs>\n       <path id=\"SimHei-74\" d=\"M 2775 175 \nQ 2650 125 2487 87 \nQ 2325 50 2050 50 \nQ 1600 50 1325 300 \nQ 1050 550 1050 1000 \nL 1050 2500 \nL 200 2500 \nL 200 2900 \nL 1050 2900 \nL 1050 3875 \nL 1550 3875 \nL 1550 2900 \nL 2575 2900 \nL 2575 2500 \nL 1550 2500 \nL 1550 975 \nQ 1550 775 1650 637 \nQ 1750 500 2025 500 \nQ 2300 500 2475 550 \nQ 2650 600 2775 675 \nL 2775 175 \nz\n\" transform=\"scale(0.015625)\"/>\n       <path id=\"SimHei-72\" d=\"M 2525 2400 \nQ 2050 2475 1725 2262 \nQ 1400 2050 1175 1525 \nL 1175 100 \nL 675 100 \nL 675 2900 \nL 1175 2900 \nL 1175 2175 \nQ 1400 2575 1737 2762 \nQ 2075 2950 2525 2950 \nL 2525 2400 \nz\n\" transform=\"scale(0.015625)\"/>\n       <path id=\"SimHei-61\" d=\"M 2900 100 \nL 2300 100 \nQ 2250 150 2225 237 \nQ 2200 325 2200 450 \nQ 2025 250 1775 150 \nQ 1525 50 1250 50 \nQ 850 50 575 250 \nQ 300 450 300 825 \nQ 300 1200 550 1425 \nQ 800 1650 1325 1725 \nQ 1675 1775 1937 1850 \nQ 2200 1925 2200 2050 \nQ 2200 2200 2087 2350 \nQ 1975 2500 1600 2500 \nQ 1300 2500 1162 2387 \nQ 1025 2275 975 2075 \nL 425 2075 \nQ 475 2475 787 2712 \nQ 1100 2950 1600 2950 \nQ 2150 2950 2425 2700 \nQ 2700 2450 2700 2000 \nL 2700 625 \nQ 2700 475 2750 350 \nQ 2800 225 2900 100 \nz\nM 2200 1025 \nL 2200 1525 \nQ 2050 1475 1912 1437 \nQ 1775 1400 1450 1350 \nQ 1075 1300 962 1175 \nQ 850 1050 850 875 \nQ 850 725 962 612 \nQ 1075 500 1300 500 \nQ 1525 500 1787 625 \nQ 2050 750 2200 1025 \nz\n\" transform=\"scale(0.015625)\"/>\n       <path id=\"SimHei-69\" d=\"M 1825 3700 \nL 1325 3700 \nL 1325 4350 \nL 1825 4350 \nL 1825 3700 \nz\nM 1825 100 \nL 1325 100 \nL 1325 2900 \nL 1825 2900 \nL 1825 100 \nz\n\" transform=\"scale(0.015625)\"/>\n       <path id=\"SimHei-6e\" d=\"M 2825 100 \nL 2325 100 \nL 2325 1900 \nQ 2325 2200 2175 2375 \nQ 2025 2550 1775 2550 \nQ 1450 2550 1162 2212 \nQ 875 1875 875 1375 \nL 875 100 \nL 375 100 \nL 375 2900 \nL 875 2900 \nL 875 2375 \nQ 1075 2650 1312 2800 \nQ 1550 2950 1925 2950 \nQ 2375 2950 2600 2700 \nQ 2825 2450 2825 2075 \nL 2825 100 \nz\n\" transform=\"scale(0.015625)\"/>\n       <path id=\"SimHei-20\" transform=\"scale(0.015625)\"/>\n       <path id=\"SimHei-6c\" d=\"M 1850 100 \nL 1350 100 \nL 1350 4375 \nL 1850 4375 \nL 1850 100 \nz\n\" transform=\"scale(0.015625)\"/>\n       <path id=\"SimHei-73\" d=\"M 2775 875 \nQ 2775 475 2462 262 \nQ 2150 50 1675 50 \nQ 1075 50 750 287 \nQ 425 525 425 975 \nL 925 975 \nQ 925 675 1137 575 \nQ 1350 475 1650 475 \nQ 1950 475 2100 587 \nQ 2250 700 2250 875 \nQ 2250 1000 2125 1125 \nQ 2000 1250 1500 1325 \nQ 925 1400 712 1612 \nQ 500 1825 500 2175 \nQ 500 2475 787 2712 \nQ 1075 2950 1625 2950 \nQ 2125 2950 2412 2725 \nQ 2700 2500 2700 2125 \nL 2200 2125 \nQ 2200 2350 2037 2437 \nQ 1875 2525 1625 2525 \nQ 1300 2525 1162 2412 \nQ 1025 2300 1025 2150 \nQ 1025 1975 1150 1875 \nQ 1275 1775 1675 1725 \nQ 2325 1625 2550 1412 \nQ 2775 1200 2775 875 \nz\n\" transform=\"scale(0.015625)\"/>\n      </defs>\n      <use xlink:href=\"#SimHei-74\"/>\n      <use xlink:href=\"#SimHei-72\" x=\"50\"/>\n      <use xlink:href=\"#SimHei-61\" x=\"100\"/>\n      <use xlink:href=\"#SimHei-69\" x=\"150\"/>\n      <use xlink:href=\"#SimHei-6e\" x=\"200\"/>\n      <use xlink:href=\"#SimHei-20\" x=\"250\"/>\n      <use xlink:href=\"#SimHei-6c\" x=\"300\"/>\n      <use xlink:href=\"#SimHei-6f\" x=\"350\"/>\n      <use xlink:href=\"#SimHei-73\" x=\"400\"/>\n      <use xlink:href=\"#SimHei-73\" x=\"450\"/>\n     </g>\n    </g>\n    <g id=\"line2d_27\">\n     <path d=\"M 137.5 119.439844 \nL 147.5 119.439844 \nL 157.5 119.439844 \n\" style=\"fill: none; stroke-dasharray: 5.55,2.4; stroke-dashoffset: 0; stroke: #bf00bf; stroke-width: 1.5\"/>\n    </g>\n    <g id=\"text_14\">\n     <!-- train acc -->\n     <g transform=\"translate(165.5 122.939844)scale(0.1 -0.1)\">\n      <use xlink:href=\"#SimHei-74\"/>\n      <use xlink:href=\"#SimHei-72\" x=\"50\"/>\n      <use xlink:href=\"#SimHei-61\" x=\"100\"/>\n      <use xlink:href=\"#SimHei-69\" x=\"150\"/>\n      <use xlink:href=\"#SimHei-6e\" x=\"200\"/>\n      <use xlink:href=\"#SimHei-20\" x=\"250\"/>\n      <use xlink:href=\"#SimHei-61\" x=\"300\"/>\n      <use xlink:href=\"#SimHei-63\" x=\"350\"/>\n      <use xlink:href=\"#SimHei-63\" x=\"400\"/>\n     </g>\n    </g>\n    <g id=\"line2d_28\">\n     <path d=\"M 137.5 132.728906 \nL 147.5 132.728906 \nL 157.5 132.728906 \n\" style=\"fill: none; stroke-dasharray: 9.6,2.4,1.5,2.4; stroke-dashoffset: 0; stroke: #008000; stroke-width: 1.5\"/>\n    </g>\n    <g id=\"text_15\">\n     <!-- test acc -->\n     <g transform=\"translate(165.5 136.228906)scale(0.1 -0.1)\">\n      <use xlink:href=\"#SimHei-74\"/>\n      <use xlink:href=\"#SimHei-65\" x=\"50\"/>\n      <use xlink:href=\"#SimHei-73\" x=\"100\"/>\n      <use xlink:href=\"#SimHei-74\" x=\"150\"/>\n      <use xlink:href=\"#SimHei-20\" x=\"200\"/>\n      <use xlink:href=\"#SimHei-61\" x=\"250\"/>\n      <use xlink:href=\"#SimHei-63\" x=\"300\"/>\n      <use xlink:href=\"#SimHei-63\" x=\"350\"/>\n     </g>\n    </g>\n   </g>\n  </g>\n </g>\n <defs>\n  <clipPath id=\"pb301b1b61d\">\n   <rect x=\"29.2\" y=\"10.617969\" width=\"195.3\" height=\"135.9\"/>\n  </clipPath>\n </defs>\n</svg>\n",
      "text/plain": [
       "<Figure size 252x180 with 1 Axes>"
      ]
     },
     "metadata": {
      "needs_background": "light"
     },
     "output_type": "display_data"
    }
   ],
   "source": [
    "mod = fine_tune(model, 100,\n",
    "                train_iter, test_iter, \n",
    "                try_all_gpus(),\n",
    "                lr=0.000142857,\n",
    "                lr_period=4,\n",
    "                lr_decay=0.857142,\n",
    "                weight_decay=0.00857142,\n",
    "                momentum=0.857142)"
   ]
  },
  {
   "cell_type": "markdown",
   "metadata": {},
   "source": [
    "保存模型："
   ]
  },
  {
   "cell_type": "code",
   "execution_count": 9,
   "metadata": {},
   "outputs": [],
   "source": [
    "torch.save(mod.state_dict(), \n",
    "           'models/resnet18_cifar10_relu.h5')"
   ]
  },
  {
   "cell_type": "markdown",
   "metadata": {},
   "source": [
    "## 性能度量"
   ]
  },
  {
   "cell_type": "code",
   "execution_count": 10,
   "metadata": {},
   "outputs": [
    {
     "name": "stdout",
     "output_type": "stream",
     "text": [
      "-------------------------------------------------------  ------------  ------------  ------------  ------------  ------------  ------------  ------------  ------------  ------------  ------------  \n",
      "                                                   Name    Self CPU %      Self CPU   CPU total %     CPU total  CPU time avg     Self CUDA   Self CUDA %    CUDA total  CUDA time avg    # of Calls  \n",
      "-------------------------------------------------------  ------------  ------------  ------------  ------------  ------------  ------------  ------------  ------------  ------------  ------------  \n",
      "                                        model_inference        20.30%       2.422ms        99.21%      11.839ms      11.839ms       0.000us         0.00%       2.220ms       2.220ms             1  \n",
      "                                           aten::conv2d         0.62%      74.000us        55.28%       6.596ms     329.800us       0.000us         0.00%       2.040ms     102.000us            20  \n",
      "                                      aten::convolution         2.21%     264.000us        54.66%       6.522ms     326.100us       0.000us         0.00%       2.040ms     102.000us            20  \n",
      "                                     aten::_convolution         1.43%     171.000us        52.44%       6.258ms     312.900us       0.000us         0.00%       2.040ms     102.000us            20  \n",
      "                                aten::cudnn_convolution        44.71%       5.335ms        50.31%       6.003ms     300.150us       2.034ms        91.62%       2.034ms     101.700us            20  \n",
      "volta_scudnn_winograd_128x128_ldg1_ldg4_relu_tile148...         0.00%       0.000us         0.00%       0.000us       0.000us       1.410ms        63.51%       1.410ms     108.462us            13  \n",
      "volta_scudnn_128x32_sliced1x4_ldg4_relu_exp_small_nh...         0.00%       0.000us         0.00%       0.000us       0.000us     239.000us        10.77%     239.000us      79.667us             3  \n",
      "void cudnn::winograd::generateWinogradTilesKernel<0,...         0.00%       0.000us         0.00%       0.000us       0.000us     232.000us        10.45%     232.000us      17.846us            13  \n",
      "                                       aten::batch_norm         0.40%      48.000us        14.77%       1.763ms      88.150us       0.000us         0.00%      98.000us       4.900us            20  \n",
      "                           aten::_batch_norm_impl_index         0.64%      76.000us        14.37%       1.715ms      85.750us       0.000us         0.00%      98.000us       4.900us            20  \n",
      "-------------------------------------------------------  ------------  ------------  ------------  ------------  ------------  ------------  ------------  ------------  ------------  ------------  \n",
      "Self CPU time total: 11.933ms\n",
      "Self CUDA time total: 2.220ms\n",
      "\n"
     ]
    }
   ],
   "source": [
    "inputs = torch.randn(5, 3, 32, 32).type(torch.float32).cuda()\n",
    "        \n",
    "with profile(activities=[ProfilerActivity.CPU, \n",
    "                         ProfilerActivity.CUDA], \n",
    "             record_shapes=True) as prof:\n",
    "    with record_function(\"model_inference\"):\n",
    "        mod(inputs)\n",
    "print(prof.key_averages().table(sort_by=\"cuda_time_total\", row_limit=10))"
   ]
  },
  {
   "cell_type": "code",
   "execution_count": null,
   "metadata": {},
   "outputs": [],
   "source": []
  }
 ],
 "metadata": {
  "kernelspec": {
   "display_name": "Python 3.10.4 ('tvmx': conda)",
   "language": "python",
   "name": "python3"
  },
  "language_info": {
   "codemirror_mode": {
    "name": "ipython",
    "version": 3
   },
   "file_extension": ".py",
   "mimetype": "text/x-python",
   "name": "python",
   "nbconvert_exporter": "python",
   "pygments_lexer": "ipython3",
   "version": "3.10.4"
  },
  "orig_nbformat": 4,
  "vscode": {
   "interpreter": {
    "hash": "e579259ee6098e2b9319de590d145b4b096774fe457bdf04260e3ba5c171e887"
   }
  }
 },
 "nbformat": 4,
 "nbformat_minor": 2
}
