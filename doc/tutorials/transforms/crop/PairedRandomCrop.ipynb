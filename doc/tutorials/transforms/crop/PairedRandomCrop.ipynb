{
 "cells": [
  {
   "cell_type": "markdown",
   "metadata": {},
   "source": [
    "# {class}`~torch-book.data.crop.PairedRandomCrop`\n",
    "\n",
    "{class}`~torch-book.data.crop.PairedRandomCrop` 是一种用于图像数据增强的技术，通常用于生成图像对（例如高分辨率图像和低分辨率图像）的训练数据。`PairedRandomCrop` 的主要目的是确保在数据增强过程中，高分辨率图像和低分辨率图像的裁剪区域保持一致，从而保证训练数据的配对关系。"
   ]
  },
  {
   "cell_type": "code",
   "execution_count": 1,
   "metadata": {},
   "outputs": [],
   "source": [
    "# 初始化接口，或者直接 `pip install torch-book`\n",
    "import sys\n",
    "from pathlib import Path\n",
    "root_dir = Path(\".\").resolve().parents[2]\n",
    "sys.path.extend([\n",
    "    f\"{root_dir}/src\",\n",
    "    f\"{root_dir}/tests\"\n",
    "])\n",
    "from env import temp_dir\n",
    "(temp_dir/\"output/datasets\").mkdir(exist_ok=True)"
   ]
  },
  {
   "cell_type": "markdown",
   "metadata": {},
   "source": [
    "```{topic} 目标\n",
    "`PairedRandomCrop` 的主要功能是从一对图像（例如高分辨率图像和低分辨率图像）中随机裁剪相同区域的子图像。具体来说，它会在高分辨率图像和低分辨率图像上随机选择一个区域，并裁剪出相同大小的子图像。\n",
    "```"
   ]
  },
  {
   "cell_type": "markdown",
   "metadata": {},
   "source": [
    "## 实现原理\n",
    "\n",
    "{class}`~torch-book.data.crop.PairedRandomCrop` 的实现原理如下：\n",
    "\n",
    "1. **随机选择裁剪区域**：在高分辨率图像上随机选择一个裁剪区域。\n",
    "2. **计算低分辨率图像的裁剪区域**：根据高分辨率图像的裁剪区域和下采样比例，计算低分辨率图像的对应裁剪区域。\n",
    "3. **裁剪图像**：分别在高分辨率图像和低分辨率图像上裁剪出相同区域的子图像。\n",
    "\n",
    "```{topic} 参数解析\n",
    "- `output_size`: 裁剪后的输出大小，例如 `(256, 256)` 表示裁剪后的图像大小为 256x256。\n",
    "- `scale`: 下采样比例，例如 `4` 表示低分辨率图像是高分辨率图像的 1/4 大小。\n",
    "```"
   ]
  },
  {
   "cell_type": "markdown",
   "metadata": {},
   "source": [
    "## 样例"
   ]
  },
  {
   "cell_type": "code",
   "execution_count": 2,
   "metadata": {},
   "outputs": [],
   "source": [
    "import torch\n",
    "from torchvision.transforms import v2 as transforms\n",
    "from torch_book.datasets.cv.div2k import DIV2K\n",
    "# from torchvision import tv_tensors"
   ]
  },
  {
   "cell_type": "code",
   "execution_count": 9,
   "metadata": {},
   "outputs": [],
   "source": [
    "# 定义图像预处理步骤\n",
    "transform = transforms.Compose([\n",
    "    transforms.Resize((224, 224)),  # 调整图像大小\n",
    "    # transforms.ToImage(), transforms.ToDtype(torch.float32, scale=True),\n",
    "    # transforms.Normalize(mean=[0.485, 0.456, 0.406], std=[0.229, 0.224, 0.225])  # 归一化\n",
    "])\n",
    "data_dir = \"/media/pc/data/lxw/data/SR/DIV2K\"\n",
    "data_dir = Path(data_dir)\n",
    "train_HR_path = data_dir/\"DIV2K_train_HR.zip\"\n",
    "hr = DIV2K(train_HR_path, transform)\n",
    "scale = 2\n",
    "train_LR_path = data_dir/f\"DIV2K_train_LR_bicubic_X{scale}.zip\"\n",
    "\n",
    "transform = None\n",
    "hr_dataset = DIV2K(train_HR_path, transform)\n",
    "lr_dataset = DIV2K(train_LR_path, transform)"
   ]
  },
  {
   "cell_type": "code",
   "execution_count": 10,
   "metadata": {},
   "outputs": [],
   "source": [
    "hr = hr_dataset[2]\n",
    "lr = lr_dataset[2]"
   ]
  },
  {
   "cell_type": "markdown",
   "metadata": {},
   "source": [
    "## 使用场景\n",
    "\n",
    "{class}`~torch-book.data.crop.PairedRandomCrop` 主要用于图像超分辨率（Super-Resolution）任务中，确保高分辨率图像和低分辨率图像的裁剪区域保持一致。通过这种方式，可以生成配对的训练数据，用于训练超分辨率模型。\n"
   ]
  }
 ],
 "metadata": {
  "kernelspec": {
   "display_name": "xxx",
   "language": "python",
   "name": "python3"
  },
  "language_info": {
   "codemirror_mode": {
    "name": "ipython",
    "version": 3
   },
   "file_extension": ".py",
   "mimetype": "text/x-python",
   "name": "python",
   "nbconvert_exporter": "python",
   "pygments_lexer": "ipython3",
   "version": "3.12.2"
  }
 },
 "nbformat": 4,
 "nbformat_minor": 2
}
