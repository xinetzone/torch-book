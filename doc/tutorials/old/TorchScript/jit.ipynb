{
 "cells": [
  {
   "attachments": {},
   "cell_type": "markdown",
   "metadata": {},
   "source": [
    "# TorchScript 语言参考\n",
    "\n",
    "TorchScript 是 Python 的静态类型子集，可以直接编写（使用 {func}`@torch.jit.script <torch.jit.script>` 装饰器）或通过跟踪从 Python 代码自动生成。当使用跟踪时，通过只记录张量上的实际算子并简单地执行并丢弃其他周围的 Python 代码，代码将自动转换为 Python 的这个子集。\n",
    "\n",
    "当直接使用 {func}`@torch.jit.script <torch.jit.script>` 装饰器编写 TorchScript 时，程序员必须只使用 TorchScript 中支持的 Python 子集。\n",
    "\n",
    "与 Python 不同，TorchScript 函数中的每个变量必须有静态类型。这使得优化 TorchScript 函数更容易。\n",
    "\n",
    "比如下面是类型不匹配的例子："
   ]
  },
  {
   "cell_type": "code",
   "execution_count": 1,
   "metadata": {},
   "outputs": [
    {
     "ename": "RuntimeError",
     "evalue": "\n\nType mismatch: r is set to type Tensor in the true branch and type int in the false branch:\n  File \"/tmp/ipykernel_351805/3025638472.py\", line 6\n@torch.jit.script\ndef an_error(x):\n    if x:\n    ~~~~~\n        r = torch.rand(1)\n        ~~~~~~~~~~~~~~~~~\n    else:\n    ~~~~~\n        r = 4\n        ~~~~~ <--- HERE\n    return r\nand was used here:\n  File \"/tmp/ipykernel_351805/3025638472.py\", line 10\n    else:\n        r = 4\n    return r\n           ~ <--- HERE\n",
     "output_type": "error",
     "traceback": [
      "\u001b[0;31m---------------------------------------------------------------------------\u001b[0m",
      "\u001b[0;31mRuntimeError\u001b[0m                              Traceback (most recent call last)",
      "Cell \u001b[0;32mIn[1], line 5\u001b[0m\n\u001b[1;32m      1\u001b[0m \u001b[39mimport\u001b[39;00m \u001b[39mtorch\u001b[39;00m\n\u001b[1;32m      4\u001b[0m \u001b[39m@torch\u001b[39;49m\u001b[39m.\u001b[39;49mjit\u001b[39m.\u001b[39;49mscript\n\u001b[0;32m----> 5\u001b[0m \u001b[39mdef\u001b[39;49;00m \u001b[39man_error\u001b[39;49m(x):\n\u001b[1;32m      6\u001b[0m     \u001b[39mif\u001b[39;49;00m x:\n\u001b[1;32m      7\u001b[0m         r \u001b[39m=\u001b[39;49m torch\u001b[39m.\u001b[39;49mrand(\u001b[39m1\u001b[39;49m)\n",
      "File \u001b[0;32m/media/pc/data/tmp/cache/conda/envs/tvmz/lib/python3.10/site-packages/torch/jit/_script.py:1341\u001b[0m, in \u001b[0;36mscript\u001b[0;34m(obj, optimize, _frames_up, _rcb, example_inputs)\u001b[0m\n\u001b[1;32m   1339\u001b[0m \u001b[39mif\u001b[39;00m _rcb \u001b[39mis\u001b[39;00m \u001b[39mNone\u001b[39;00m:\n\u001b[1;32m   1340\u001b[0m     _rcb \u001b[39m=\u001b[39m _jit_internal\u001b[39m.\u001b[39mcreateResolutionCallbackFromClosure(obj)\n\u001b[0;32m-> 1341\u001b[0m fn \u001b[39m=\u001b[39m torch\u001b[39m.\u001b[39m_C\u001b[39m.\u001b[39m_jit_script_compile(\n\u001b[1;32m   1342\u001b[0m     qualified_name, ast, _rcb, get_default_args(obj)\n\u001b[1;32m   1343\u001b[0m )\n\u001b[1;32m   1344\u001b[0m \u001b[39m# Forward docstrings\u001b[39;00m\n\u001b[1;32m   1345\u001b[0m fn\u001b[39m.\u001b[39m\u001b[39m__doc__\u001b[39m \u001b[39m=\u001b[39m obj\u001b[39m.\u001b[39m\u001b[39m__doc__\u001b[39m\n",
      "\u001b[0;31mRuntimeError\u001b[0m: \n\nType mismatch: r is set to type Tensor in the true branch and type int in the false branch:\n  File \"/tmp/ipykernel_351805/3025638472.py\", line 6\n@torch.jit.script\ndef an_error(x):\n    if x:\n    ~~~~~\n        r = torch.rand(1)\n        ~~~~~~~~~~~~~~~~~\n    else:\n    ~~~~~\n        r = 4\n        ~~~~~ <--- HERE\n    return r\nand was used here:\n  File \"/tmp/ipykernel_351805/3025638472.py\", line 10\n    else:\n        r = 4\n    return r\n           ~ <--- HERE\n"
     ]
    }
   ],
   "source": [
    "import torch\n",
    "\n",
    "\n",
    "@torch.jit.script\n",
    "def an_error(x):\n",
    "    if x:\n",
    "        r = torch.rand(1)\n",
    "    else:\n",
    "        r = 4\n",
    "    return r"
   ]
  },
  {
   "cell_type": "markdown",
   "metadata": {},
   "source": [
    "## 默认类型\n",
    "\n",
    "默认情况下，TorchScript 函数的所有参数都假定为张量。要指定 TorchScript 函数的参数是另一种类型，可以使用 MyPy 风格的类型注解。"
   ]
  },
  {
   "cell_type": "code",
   "execution_count": 2,
   "metadata": {},
   "outputs": [
    {
     "name": "stdout",
     "output_type": "stream",
     "text": [
      "tensor([3.5251, 3.9520, 4.4217])\n"
     ]
    }
   ],
   "source": [
    "import torch\n",
    "\n",
    "@torch.jit.script\n",
    "def foo(x, tup):\n",
    "    # type: (int, Tuple[Tensor, Tensor]) -> Tensor\n",
    "    t0, t1 = tup\n",
    "    return t0 + t1 + x\n",
    "\n",
    "print(foo(3, (torch.rand(3), torch.rand(3))))"
   ]
  },
  {
   "cell_type": "markdown",
   "metadata": {},
   "source": [
    "也可以使用来自 {mod}`typing` 模块的 Python 3 类型提示来注解类型。"
   ]
  },
  {
   "cell_type": "code",
   "execution_count": 3,
   "metadata": {},
   "outputs": [
    {
     "name": "stdout",
     "output_type": "stream",
     "text": [
      "tensor([4.4262, 4.1869, 3.5746])\n"
     ]
    }
   ],
   "source": [
    "import torch\n",
    "from typing import Tuple\n",
    "\n",
    "@torch.jit.script\n",
    "def foo(x: int, tup: Tuple[torch.Tensor, torch.Tensor]) -> torch.Tensor:\n",
    "    t0, t1 = tup\n",
    "    return t0 + t1 + x\n",
    "\n",
    "print(foo(3, (torch.rand(3), torch.rand(3))))"
   ]
  },
  {
   "cell_type": "markdown",
   "metadata": {},
   "source": [
    "空列表被假设为 `list[Tensor]` 和空字典 `dict[str, Tensor]`。要实例化其他类型的空列表或字典，请使用 Python 3 类型注解。\n",
    "\n",
    "比如："
   ]
  },
  {
   "cell_type": "code",
   "execution_count": 1,
   "metadata": {},
   "outputs": [],
   "source": [
    "import torch\n",
    "from torch import nn\n",
    "\n",
    "class EmptyDataStructures(torch.nn.Module):\n",
    "    def __init__(self):\n",
    "        super().__init__()\n",
    "\n",
    "    def forward(self, x: torch.Tensor) -> tuple[list[tuple[int, float]], dict[str, int]]:\n",
    "        # This annotates the list to be a `List[Tuple[int, float]]`\n",
    "        my_list: list[tuple[int, float]] = []\n",
    "        for i in range(10):\n",
    "            my_list.append((i, x.item()))\n",
    "\n",
    "        my_dict: dict[str, int] = {}\n",
    "        return my_list, my_dict\n",
    "\n",
    "x = torch.jit.script(EmptyDataStructures())"
   ]
  },
  {
   "attachments": {},
   "cell_type": "markdown",
   "metadata": {},
   "source": [
    "## 可选类型细化\n",
    "\n",
    "当在 `if` 语句的条件中进行与 `None` 的比较或在 `assert` 中进行检查时，TorchScript 将改进 `Optional[T]` 类型变量的类型。编译器可以推断与 {data}`and`、{data}`or` 和 {data}`not` 组合在一起的多个 `None` 检查。对于没有显式编写的 `if` 语句的 `else` 块也会进行细化。\n",
    "\n",
    "`None` 检查必须在 `if` 语句的条件内；给一个变量赋值 `None` 检查，并在 `if` 语句的条件中使用它，不会改进检查中变量的类型。只有局部变量会被细化，比如 `self.x` 不会也必须赋值给一个局部变量进行细化。\n",
    "\n",
    "细化参数和局部变量的类型的示例："
   ]
  },
  {
   "cell_type": "code",
   "execution_count": 3,
   "metadata": {},
   "outputs": [],
   "source": [
    "import torch\n",
    "from torch import nn\n",
    "from typing import Optional\n",
    "\n",
    "class M(nn.Module):\n",
    "    z: Optional[int]\n",
    "\n",
    "    def __init__(self, z):\n",
    "        super().__init__()\n",
    "        # If `z` is None, its type cannot be inferred, so it must\n",
    "        # be specified (above)\n",
    "        self.z = z\n",
    "\n",
    "    def forward(self, x, y, z):\n",
    "        # type: (Optional[int], Optional[int], Optional[int]) -> int\n",
    "        if x is None:\n",
    "            x = 1\n",
    "            x = x + 1\n",
    "\n",
    "        # Refinement for an attribute by assigning it to a local\n",
    "        z = self.z\n",
    "        if y is not None and z is not None:\n",
    "            x = y + z\n",
    "\n",
    "        # Refinement via an `assert`\n",
    "        assert z is not None\n",
    "        x += z\n",
    "        return x\n",
    "\n",
    "module = torch.jit.script(M(2))\n",
    "module = torch.jit.script(M(None))"
   ]
  },
  {
   "attachments": {},
   "cell_type": "markdown",
   "metadata": {},
   "source": [
    "## 更多示例\n",
    "\n",
    "### 编写函数脚本\n",
    "\n",
    "`@torch.jit.script` 装饰器将通过编译函数体来构造 ScriptFunction。"
   ]
  },
  {
   "cell_type": "code",
   "execution_count": 4,
   "metadata": {},
   "outputs": [
    {
     "name": "stdout",
     "output_type": "stream",
     "text": [
      "<class 'torch.jit.ScriptFunction'>\n",
      "def foo(x: Tensor,\n",
      "    y: Tensor) -> Tensor:\n",
      "  _0 = bool(torch.gt(torch.max(x), torch.max(y)))\n",
      "  if _0:\n",
      "    r = x\n",
      "  else:\n",
      "    r = y\n",
      "  return r\n",
      "\n"
     ]
    },
    {
     "data": {
      "text/plain": [
       "tensor([[1., 1.],\n",
       "        [1., 1.]])"
      ]
     },
     "execution_count": 4,
     "metadata": {},
     "output_type": "execute_result"
    }
   ],
   "source": [
    "import torch\n",
    "\n",
    "@torch.jit.script\n",
    "def foo(x, y):\n",
    "    if x.max() > y.max():\n",
    "        r = x\n",
    "    else:\n",
    "        r = y\n",
    "    return r\n",
    "\n",
    "print(type(foo))  # torch.jit.ScriptFunction\n",
    "\n",
    "# See the compiled graph as Python code\n",
    "print(foo.code)\n",
    "\n",
    "# Call the function using the TorchScript interpreter\n",
    "foo(torch.ones(2, 2), torch.ones(2, 2))"
   ]
  },
  {
   "attachments": {},
   "cell_type": "markdown",
   "metadata": {},
   "source": [
    "### 使用 `example_inputs` 编写函数脚本\n",
    "\n",
    "示例输入可用于注释函数参数。\n",
    "\n",
    "````{note}\n",
    "需要：\n",
    "```bash\n",
    "pip install MonkeyType\n",
    "```\n",
    "````"
   ]
  },
  {
   "cell_type": "code",
   "execution_count": 5,
   "metadata": {},
   "outputs": [
    {
     "name": "stdout",
     "output_type": "stream",
     "text": [
      "<class 'torch.jit.ScriptFunction'>\n",
      "def test_sum(a: int,\n",
      "    b: int) -> int:\n",
      "  return torch.add(a, b)\n",
      "\n"
     ]
    },
    {
     "data": {
      "text/plain": [
       "120"
      ]
     },
     "execution_count": 5,
     "metadata": {},
     "output_type": "execute_result"
    }
   ],
   "source": [
    "import torch\n",
    "\n",
    "def test_sum(a, b):\n",
    "    return a + b\n",
    "\n",
    "# Annotate the arguments to be int\n",
    "scripted_fn = torch.jit.script(test_sum, example_inputs=[(3, 4)])\n",
    "\n",
    "print(type(scripted_fn))  # torch.jit.ScriptFunction\n",
    "\n",
    "# See the compiled graph as Python code\n",
    "print(scripted_fn.code)\n",
    "\n",
    "# Call the function using the TorchScript interpreter\n",
    "scripted_fn(20, 100)"
   ]
  },
  {
   "attachments": {},
   "cell_type": "markdown",
   "metadata": {},
   "source": [
    "### 脚本化 {class}`~torch.nn.Module`\n",
    "\n",
    "默认情况下，编写 {class}`~torch.nn.Module` 脚本将编译 `forward` 方法，并递归地编译 `forward` 调用的任何方法、子模块和函数。如果 {class}`~torch.nn.Module` 只使用 TorchScript 中支持的特性，那么就不需要修改原始模块代码。`script` 将构造 {class}`torch.jit.ScriptModule`，其中包含原始模块的属性、参数和方法的副本。\n",
    "\n",
    "脚本化带有参数的简单模块："
   ]
  },
  {
   "cell_type": "code",
   "execution_count": 9,
   "metadata": {},
   "outputs": [],
   "source": [
    "import torch\n",
    "\n",
    "class MyModule(torch.nn.Module):\n",
    "    def __init__(self, N, M):\n",
    "        super().__init__()\n",
    "        # This parameter will be copied to the new ScriptModule\n",
    "        self.weight = torch.nn.Parameter(torch.rand(N, M))\n",
    "\n",
    "        # When this submodule is used, it will be compiled\n",
    "        self.linear = torch.nn.Linear(N, M)\n",
    "\n",
    "    def forward(self, input):\n",
    "        output = self.weight.mv(input)\n",
    "\n",
    "        # This calls the `forward` method of the `nn.Linear` module, which will\n",
    "        # cause the `self.linear` submodule to be compiled to a `ScriptModule` here\n",
    "        output = self.linear(output)\n",
    "        return output\n",
    "\n",
    "scripted_module = torch.jit.script(MyModule(2, 3))"
   ]
  },
  {
   "attachments": {},
   "cell_type": "markdown",
   "metadata": {},
   "source": [
    "脚本化带有跟踪子模块的模块脚本："
   ]
  },
  {
   "cell_type": "code",
   "execution_count": 10,
   "metadata": {},
   "outputs": [],
   "source": [
    "import torch\n",
    "import torch.nn as nn\n",
    "import torch.nn.functional as F\n",
    "\n",
    "class MyModule(nn.Module):\n",
    "    def __init__(self):\n",
    "        super().__init__()\n",
    "        # torch.jit.trace produces a ScriptModule's conv1 and conv2\n",
    "        self.conv1 = torch.jit.trace(nn.Conv2d(1, 20, 5), torch.rand(1, 1, 16, 16))\n",
    "        self.conv2 = torch.jit.trace(nn.Conv2d(20, 20, 5), torch.rand(1, 20, 16, 16))\n",
    "\n",
    "    def forward(self, input):\n",
    "        input = F.relu(self.conv1(input))\n",
    "        input = F.relu(self.conv2(input))\n",
    "        return input\n",
    "\n",
    "scripted_module = torch.jit.script(MyModule())"
   ]
  },
  {
   "attachments": {},
   "cell_type": "markdown",
   "metadata": {},
   "source": [
    "要编译一个方法，而不是 `forward` 编译（并递归编译它调用的任何东西），请向该方法添加 {func}`@torch.jit.export <torch.jit.export>` 装饰器符。选择退出编译使用 {func}`@torch.jit.ignore <torch.jit.ignore>` 或者 {func}`@torch.jit.unused <torch.jit.unused>`。\n",
    "\n",
    "模块中导出并被忽略的方法：\n",
    "\n",
    "```python\n",
    "import torch\n",
    "import torch.nn as nn\n",
    "\n",
    "class MyModule(nn.Module):\n",
    "    def __init__(self):\n",
    "        super().__init__()\n",
    "\n",
    "    @torch.jit.export\n",
    "    def some_entry_point(self, input):\n",
    "        return input + 10\n",
    "\n",
    "    @torch.jit.ignore\n",
    "    def python_only_fn(self, input):\n",
    "        # This function won't be compiled, so any\n",
    "        # Python APIs can be used\n",
    "        import pdb\n",
    "        pdb.set_trace()\n",
    "\n",
    "    def forward(self, input):\n",
    "        if self.training:\n",
    "            self.python_only_fn(input)\n",
    "        return input * 99\n",
    "\n",
    "scripted_module = torch.jit.script(MyModule())\n",
    "print(scripted_module.some_entry_point(torch.randn(2, 2)))\n",
    "print(scripted_module(torch.randn(2, 2)))\n",
    "```"
   ]
  },
  {
   "attachments": {},
   "cell_type": "markdown",
   "metadata": {},
   "source": [
    "使用 `example_inputs` 对 `nn.Module` 进行 forward 注解：\n",
    "\n",
    "```python\n",
    "import torch\n",
    "import torch.nn as nn\n",
    "from typing import NamedTuple\n",
    "\n",
    "class MyModule(NamedTuple):\n",
    "    result: List[int]\n",
    "\n",
    "class TestNNModule(torch.nn.Module):\n",
    "    def forward(self, a) -> MyModule:\n",
    "        result = MyModule(result=a)\n",
    "        return result\n",
    "\n",
    "pdt_model = TestNNModule()\n",
    "\n",
    "# Runs the pdt_model in eager model with the inputs provided and annotates the arguments of forward\n",
    "scripted_model = torch.jit.script(pdt_model, example_inputs={pdt_model: [([10, 20, ], ), ], })\n",
    "\n",
    "# Run the scripted_model with actual inputs\n",
    "print(scripted_model([20]))\n",
    "```"
   ]
  },
  {
   "cell_type": "code",
   "execution_count": null,
   "metadata": {},
   "outputs": [],
   "source": []
  }
 ],
 "metadata": {
  "kernelspec": {
   "display_name": "tvmz",
   "language": "python",
   "name": "python3"
  },
  "language_info": {
   "codemirror_mode": {
    "name": "ipython",
    "version": 3
   },
   "file_extension": ".py",
   "mimetype": "text/x-python",
   "name": "python",
   "nbconvert_exporter": "python",
   "pygments_lexer": "ipython3",
   "version": "3.10.13"
  },
  "orig_nbformat": 4
 },
 "nbformat": 4,
 "nbformat_minor": 2
}
