{
 "cells": [
  {
   "cell_type": "markdown",
   "metadata": {},
   "source": [
    "# FX 算子替换\n",
    "\n",
    "1. 遍历 {class}`~torch.fx.GraphModule` 的 {class}`~torch.fx.Graph` 中的所有 {class}`~torch.fx.Node`。\n",
    "2. 确定是否应该替换当前 {class}`~torch.fx.Node` （建议：匹配节点的 `target` 属性）。\n",
    "3. 创建替换 {class}`~torch.fx.Node` 并将其添加到 {class}`~torch.fx.Graph` 中。\n",
    "4. 使用 FX 内置的 {meth}`~torch.fx.Node.replace_all_uses_with` 替换当前 {class}`~torch.fx.Node` 的所有使用。\n",
    "5. 从 {class}`~torch.fx.Graph` 中删除旧 {class}`~torch.fx.Node`。\n",
    "6. 在 {class}`~torch.fx.GraphModule` 上调用 {class}`~torch.fx.GraphModule.recompile`。这会更新生成的 Python 代码，以反射（reflect）新的 Graph 状态。\n",
    "\n",
    "下面的代码演示了用按位 AND 替换任意加法实例的示例。\n",
    "\n",
    "要检查 {class}`~torch.fx.Graph` 在运算替换期间的演变情况，可以在要检查的行之后添加语句 `print(traced.graph)`。\n",
    "或者，调用 `traced.graph.print_tabular()` 以查看表格格式的 IR。"
   ]
  },
  {
   "cell_type": "code",
   "execution_count": 1,
   "metadata": {},
   "outputs": [],
   "source": [
    "import torch\n",
    "from torch import fx\n",
    "import operator"
   ]
  },
  {
   "cell_type": "code",
   "execution_count": 2,
   "metadata": {},
   "outputs": [],
   "source": [
    "# module 样例\n",
    "class M(torch.nn.Module):\n",
    "    def forward(self, x, y):\n",
    "        return x + y, torch.add(x, y), x.add(y)"
   ]
  },
  {
   "cell_type": "markdown",
   "metadata": {},
   "source": [
    "以符号方式跟踪模块的实例："
   ]
  },
  {
   "cell_type": "code",
   "execution_count": 3,
   "metadata": {},
   "outputs": [],
   "source": [
    "traced = fx.symbolic_trace(M())"
   ]
  },
  {
   "cell_type": "markdown",
   "metadata": {},
   "source": [
    "有几种不同的表示加法的方法："
   ]
  },
  {
   "cell_type": "code",
   "execution_count": 4,
   "metadata": {},
   "outputs": [],
   "source": [
    "patterns = set([operator.add, torch.add, \"add\"])\n",
    "\n",
    "# 遍历 Graph 中全部节点\n",
    "for n in traced.graph.nodes:\n",
    "    # 如果目标匹配其中一个模式\n",
    "    if any(n.target == pattern for pattern in patterns):\n",
    "        # 设置插入点，添加新节点，用新节点替换所有 `n` 的用法\n",
    "        with traced.graph.inserting_after(n):\n",
    "            new_node = traced.graph.call_function(torch.bitwise_and, n.args, n.kwargs)\n",
    "            n.replace_all_uses_with(new_node)\n",
    "        # 移除 graph 中旧的节点\n",
    "        traced.graph.erase_node(n)\n",
    "\n",
    "# 不用忘记 recompile!\n",
    "new_code = traced.recompile()"
   ]
  },
  {
   "cell_type": "code",
   "execution_count": 5,
   "metadata": {},
   "outputs": [
    {
     "name": "stdout",
     "output_type": "stream",
     "text": [
      "\n",
      "\n",
      "\n",
      "def forward(self, x, y):\n",
      "    bitwise_and = torch.bitwise_and(x, y)\n",
      "    bitwise_and_1 = torch.bitwise_and(x, y)\n",
      "    bitwise_and_2 = torch.bitwise_and(x, y);  x = y = None\n",
      "    return (bitwise_and, bitwise_and_1, bitwise_and_2)\n",
      "    \n"
     ]
    }
   ],
   "source": [
    "print(new_code.src)"
   ]
  },
  {
   "cell_type": "code",
   "execution_count": null,
   "metadata": {},
   "outputs": [],
   "source": []
  }
 ],
 "metadata": {
  "kernelspec": {
   "display_name": "Python 3.10.4 ('tvmx': conda)",
   "language": "python",
   "name": "python3"
  },
  "language_info": {
   "codemirror_mode": {
    "name": "ipython",
    "version": 3
   },
   "file_extension": ".py",
   "mimetype": "text/x-python",
   "name": "python",
   "nbconvert_exporter": "python",
   "pygments_lexer": "ipython3",
   "version": "3.10.4"
  },
  "orig_nbformat": 4,
  "vscode": {
   "interpreter": {
    "hash": "e579259ee6098e2b9319de590d145b4b096774fe457bdf04260e3ba5c171e887"
   }
  }
 },
 "nbformat": 4,
 "nbformat_minor": 2
}
