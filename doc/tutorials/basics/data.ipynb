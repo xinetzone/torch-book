{
 "cells": [
  {
   "cell_type": "markdown",
   "metadata": {},
   "source": [
    "# PyTorch 数据处理\n",
    "\n",
    "参考：[Datasets & DataLoaders](https://pytorch.org/tutorials/beginner/basics/data_tutorial.html)\n",
    "\n",
    "处理数据样本的代码可能会变得混乱且难以维护；理想情况下，希望数据集代码能够与模型训练代码解耦，以提高可读性和模块化程度。PyTorch 提供了两个数据原语：{class}`torch.utils.data.DataLoader` 和 {class}`torch.utils.data.Dataset`，它们允许使用预先加载的数据集以及定制的数据。{class}`~torch.utils.data.Dataset` 存储样本及其对应的标签，而 {class}`~torch.utils.data.DataLoader` 则将迭代器包装在 {class}`~torch.utils.data.Dataset` 周围，以便于访问样本。\n",
    "\n",
    "PyTorch 领域库提供了一系列预加载的数据集（例如 FashionMNIST），这些数据集是 {class}`torch.utils.data.Dataset` 的子类，并实现了特定于 `data` 的函数。它们可以用来原型化（prototype）和基准测试（benchmark）模型。可以在这里找到它们：[图像数据集](https://pytorch.org/vision/stable/datasets.html)、[文本数据集](https://pytorch.org/text/stable/datasets.html)和[音频数据集](https://pytorch.org/audio/stable/datasets.html)。"
   ]
  },
  {
   "cell_type": "code",
   "execution_count": 1,
   "metadata": {},
   "outputs": [
    {
     "name": "stdout",
     "output_type": "stream",
     "text": [
      "项目根目录：/media/pc/data/lxw/ai/torch-book\n"
     ]
    }
   ],
   "source": [
    "from set_env import temp_dir  # 加载环境并导入临时目录路径"
   ]
  },
  {
   "cell_type": "markdown",
   "metadata": {},
   "source": [
    "## 加载 {class}`~torch.utils.data.Dataset`\n",
    "\n",
    "以下示例展示了如何从 TorchVision 加载[Fashion-MNIST](https://research.zalando.com/project/fashion_mnist/fashion_mnist/)数据集。Fashion-MNIST 是 Zalando 商品图片的数据集，包含 $60\\,000$ 个训练样例和 $10\\,000$ 个测试样例。每个样例包括 $28 \\times 28$ 的灰度图像和属于 $10$ 个类别之一的标签。\n",
    "\n",
    "使用以下参数加载[FashionMNIST Dataset](https://pytorch.org/vision/stable/datasets.html#fashion-mnist)：\n",
    "- `root` 是存储训练/测试数据的文件路径，\n",
    "- `train` 指定训练集或测试集，\n",
    "- `download=True` 如果数据在 `root` 路径下不可用，则从互联网下载数据。\n",
    "- `transform` 和 `target_transform` 分别指定特征和标签的变换方式。"
   ]
  },
  {
   "cell_type": "code",
   "execution_count": 2,
   "metadata": {
    "collapsed": false
   },
   "outputs": [],
   "source": [
    "import torch\n",
    "from torch.utils.data import Dataset\n",
    "from torchvision import datasets\n",
    "from torchvision.transforms import v2\n",
    "import matplotlib.pyplot as plt\n",
    "\n",
    "\n",
    "training_data = datasets.FashionMNIST(\n",
    "    root=temp_dir/\"data\",\n",
    "    train=True,\n",
    "    download=True,\n",
    "    transform=v2.ToImage()\n",
    ")\n",
    "\n",
    "test_data = datasets.FashionMNIST(\n",
    "    root=temp_dir/\"data\",\n",
    "    train=False,\n",
    "    download=True,\n",
    "    transform=v2.ToImage()\n",
    ")"
   ]
  },
  {
   "cell_type": "markdown",
   "metadata": {},
   "source": [
    "## 迭代和可视化数据集\n",
    "\n",
    "可以像列表一样手动索引 `Datasets`：`training_data[index]`。使用 {mod}`matplotlib` 来可视化训练数据中的一些样本。"
   ]
  },
  {
   "cell_type": "code",
   "execution_count": 3,
   "metadata": {
    "collapsed": false
   },
   "outputs": [
    {
     "name": "stdout",
     "output_type": "stream",
     "text": [
      "<class 'torchvision.tv_tensors._image.Image'> <class 'int'>\n"
     ]
    },
    {
     "data": {
      "image/png": "[encoded data removed]",
      "text/plain": [
       "<Figure size 800x800 with 9 Axes>"
      ]
     },
     "metadata": {},
     "output_type": "display_data"
    }
   ],
   "source": [
    "labels_map = {\n",
    "    0: \"T-Shirt\",\n",
    "    1: \"Trouser\",\n",
    "    2: \"Pullover\",\n",
    "    3: \"Dress\",\n",
    "    4: \"Coat\",\n",
    "    5: \"Sandal\",\n",
    "    6: \"Shirt\",\n",
    "    7: \"Sneaker\",\n",
    "    8: \"Bag\",\n",
    "    9: \"Ankle Boot\",\n",
    "}\n",
    "figure = plt.figure(figsize=(8, 8))\n",
    "cols, rows = 3, 3\n",
    "for i in range(1, cols * rows + 1):\n",
    "    sample_idx = torch.randint(len(training_data), size=(1,)).item()\n",
    "    img, label = training_data[sample_idx]\n",
    "    if i == 1:\n",
    "        print(type(img), type(label))\n",
    "    figure.add_subplot(rows, cols, i)\n",
    "    plt.title(labels_map[label])\n",
    "    plt.axis(\"off\")\n",
    "    plt.imshow(img.squeeze(), cmap=\"gray\")\n",
    "plt.show()"
   ]
  },
  {
   "cell_type": "markdown",
   "metadata": {},
   "source": [
    "## 创建自定义数据集\n",
    "\n",
    "自定义的数据集类必须实现三个函数：`__init__`、`__len__` 和 `__getitem__`。请看下面的实现；FashionMNIST 图像存储在目录 `img_dir` 中，它们的标签分别存储在 CSV 文件 `annotations_file` 中。\n",
    "\n",
    "在接下来的部分中，将分解每个函数中发生的事情。"
   ]
  },
  {
   "cell_type": "markdown",
   "metadata": {},
   "source": [
    "------------------------------------------------------------------------\n"
   ]
  },
  {
   "cell_type": "code",
   "execution_count": 4,
   "metadata": {
    "collapsed": false
   },
   "outputs": [],
   "source": [
    "import os\n",
    "import pandas as pd\n",
    "from torchvision.io import read_image\n",
    "\n",
    "class CustomImageDataset(Dataset):\n",
    "    def __init__(self, annotations_file, img_dir, transform=None, target_transform=None):\n",
    "        self.img_labels = pd.read_csv(annotations_file)\n",
    "        self.img_dir = img_dir\n",
    "        self.transform = transform\n",
    "        self.target_transform = target_transform\n",
    "\n",
    "    def __len__(self):\n",
    "        return len(self.img_labels)\n",
    "\n",
    "    def __getitem__(self, idx):\n",
    "        img_path = os.path.join(self.img_dir, self.img_labels.iloc[idx, 0])\n",
    "        image = read_image(img_path)\n",
    "        label = self.img_labels.iloc[idx, 1]\n",
    "        if self.transform:\n",
    "            image = self.transform(image)\n",
    "        if self.target_transform:\n",
    "            label = self.target_transform(label)\n",
    "        return image, label"
   ]
  },
  {
   "cell_type": "markdown",
   "metadata": {},
   "source": [
    "## `__init__`\n",
    "\n",
    "当实例化 `Dataset` 对象时，`__init__` 函数会运行一次。初始化包含图像的目录、注解文件以及两种变换。\n",
    "\n",
    "`labels.csv` 文件如下所示：\n",
    "\n",
    "```\n",
    "tshirt1.jpg, 0\n",
    "tshirt2.jpg, 0\n",
    "......\n",
    "ankleboot999.jpg, 9\n",
    "```"
   ]
  },
  {
   "cell_type": "code",
   "execution_count": 5,
   "metadata": {
    "collapsed": false
   },
   "outputs": [],
   "source": [
    "def __init__(self, annotations_file, img_dir, transform=None, target_transform=None):\n",
    "    self.img_labels = pd.read_csv(annotations_file)\n",
    "    self.img_dir = img_dir\n",
    "    self.transform = transform\n",
    "    self.target_transform = target_transform"
   ]
  },
  {
   "cell_type": "markdown",
   "metadata": {},
   "source": [
    "## `__len__`\n",
    "\n",
    "`__len__` 函数返回数据集中的样本数量。\n",
    "\n",
    "示例："
   ]
  },
  {
   "cell_type": "code",
   "execution_count": 6,
   "metadata": {
    "collapsed": false
   },
   "outputs": [],
   "source": [
    "def __len__(self):\n",
    "    return len(self.img_labels)"
   ]
  },
  {
   "cell_type": "markdown",
   "metadata": {},
   "source": [
    "## `__getitem__`\n",
    "\n",
    "`__getitem__` 函数根据给定的索引 `idx` 加载并返回数据集中的样本。该函数首先确定图像在磁盘上的位置，然后使用 `read_image` 方法将图像转换为张量。接着从 `self.img_labels` 中的 csv 数据检索相应的标签，对它们应用变换函数（如果适用），并以元组的形式返回张量图像和对应的标签。"
   ]
  },
  {
   "cell_type": "code",
   "execution_count": 7,
   "metadata": {
    "collapsed": false
   },
   "outputs": [],
   "source": [
    "def __getitem__(self, idx):\n",
    "    img_path = os.path.join(self.img_dir, self.img_labels.iloc[idx, 0])\n",
    "    image = read_image(img_path)\n",
    "    label = self.img_labels.iloc[idx, 1]\n",
    "    if self.transform:\n",
    "        image = self.transform(image)\n",
    "    if self.target_transform:\n",
    "        label = self.target_transform(label)\n",
    "    return image, label"
   ]
  },
  {
   "cell_type": "markdown",
   "metadata": {},
   "source": [
    "## 为了训练准备数据：使用 DataLoaders\n",
    "\n",
    "`Dataset` 类负责一次检索一个样本的数据集特征和标签。在模型训练过程中，通常希望以“小批量”的形式传递样本，并在每个周期重新打乱数据以减少模型过拟合，同时利用 Python 的 `multiprocessing` 来加速数据检索。\n",
    "\n",
    "`DataLoader` 是可迭代对象，它通过简单的 API 抽象了这些复杂性。"
   ]
  },
  {
   "cell_type": "markdown",
   "metadata": {},
   "source": [
    "------------------------------------------------------------------------\n"
   ]
  },
  {
   "cell_type": "code",
   "execution_count": 8,
   "metadata": {
    "collapsed": false
   },
   "outputs": [],
   "source": [
    "from torch.utils.data import DataLoader\n",
    "\n",
    "train_dataloader = DataLoader(training_data, batch_size=64, shuffle=True)\n",
    "test_dataloader = DataLoader(test_data, batch_size=64, shuffle=True)"
   ]
  },
  {
   "cell_type": "markdown",
   "metadata": {},
   "source": [
    "## 遍历 `DataLoader`\n",
    "\n",
    "已经将数据集加载到 `DataLoader` 中，可以根据需要遍历数据集。下面的每次迭代都会返回包含64个特征和标签的批次（分别为`train_features`和`train_labels`）。由于指定了`shuffle=True`，在遍历所有批次后，数据会被重新打乱（为了更精细地控制数据加载顺序，请查看[Samplers](https://pytorch.org/docs/stable/data.html#data-loading-order-and-sampler)）。"
   ]
  },
  {
   "cell_type": "code",
   "execution_count": 9,
   "metadata": {
    "collapsed": false
   },
   "outputs": [
    {
     "name": "stdout",
     "output_type": "stream",
     "text": [
      "Feature batch shape: torch.Size([64, 1, 28, 28])\n",
      "Labels batch shape: torch.Size([64])\n"
     ]
    },
    {
     "data": {
      "image/png": "[encoded data removed]",
      "text/plain": [
       "<Figure size 640x480 with 1 Axes>"
      ]
     },
     "metadata": {},
     "output_type": "display_data"
    },
    {
     "name": "stdout",
     "output_type": "stream",
     "text": [
      "Label: 2\n"
     ]
    }
   ],
   "source": [
    "# Display image and label.\n",
    "train_features, train_labels = next(iter(train_dataloader))\n",
    "print(f\"Feature batch shape: {train_features.size()}\")\n",
    "print(f\"Labels batch shape: {train_labels.size()}\")\n",
    "img = train_features[0].squeeze()\n",
    "label = train_labels[0]\n",
    "plt.imshow(img, cmap=\"gray\")\n",
    "plt.show()\n",
    "print(f\"Label: {label}\")"
   ]
  },
  {
   "cell_type": "markdown",
   "metadata": {},
   "source": [
    "------------------------------------------------------------------------\n"
   ]
  },
  {
   "cell_type": "markdown",
   "metadata": {},
   "source": [
    "进一步阅读\n",
    "===============\n",
    "\n",
    "- [PyTorch 数据加载工具 API](https://pytorch.org/docs/stable/data.html)\n"
   ]
  }
 ],
 "metadata": {
  "kernelspec": {
   "display_name": "ai",
   "language": "python",
   "name": "python3"
  },
  "language_info": {
   "codemirror_mode": {
    "name": "ipython",
    "version": 3
   },
   "file_extension": ".py",
   "mimetype": "text/x-python",
   "name": "python",
   "nbconvert_exporter": "python",
   "pygments_lexer": "ipython3",
   "version": "3.12.7"
  }
 },
 "nbformat": 4,
 "nbformat_minor": 0
}
