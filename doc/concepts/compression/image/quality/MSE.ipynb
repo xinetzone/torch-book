{
 "cells": [
  {
   "cell_type": "markdown",
   "metadata": {},
   "source": [
    "# 均方误差\n",
    "\n",
    "均方误差（Mean Squared Error，简称 MSE）衡量两幅图像之间的差异。当压缩图像时，MSE 可以帮助你确定压缩后的图像与原始图像相比发生了多少变化。\n",
    "\n",
    "它是通过采样两幅图像中对应像素的颜色差异，对这些差异进行平方，然后取平均值来实现的。结果是一个单一的数字：MSE 越低，压缩后的图像越接近原始图像。相比之下，MSE 越高，意味着质量损失越明显。"
   ]
  },
  {
   "cell_type": "code",
   "execution_count": null,
   "metadata": {},
   "outputs": [],
   "source": [
    "def calculate_mse(img1, img2):\n",
    "    return np.mean((img1 - img2) ** 2)\n"
   ]
  }
 ],
 "metadata": {
  "kernelspec": {
   "display_name": "ai",
   "language": "python",
   "name": "python3"
  },
  "language_info": {
   "name": "python",
   "version": "3.12.7"
  }
 },
 "nbformat": 4,
 "nbformat_minor": 2
}
