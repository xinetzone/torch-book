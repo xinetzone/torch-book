{
 "cells": [
  {
   "cell_type": "markdown",
   "metadata": {},
   "source": [
    "# WebP压缩\n",
    "\n",
    "你还可以将图像转换为 `.webp` 格式。这是一种较新的压缩方法，近年来越来越受欢迎。\n",
    "\n",
    "在以下代码中，可以将图像写入 `webp` 文件，并将压缩级别设置为 `0` 到 `100`。这与 PNG 的比例相反，因为 `0` 表示设置的是质量而不是压缩。这个小区别很重要，因为设置为 `0` 表示最低质量，文件大小较小但损失显著。`100` 表示最高质量，这意味着文件较大但图像质量最佳。\n",
    "\n",
    "以下是实现这一点的 Python 代码：\n",
    "```python\n",
    "cv2.imwrite('compressed.webp', img, [cv2.IMWRITE_WEBP_QUALITY, 80])\n",
    "```"
   ]
  }
 ],
 "metadata": {
  "language_info": {
   "name": "python"
  }
 },
 "nbformat": 4,
 "nbformat_minor": 2
}
