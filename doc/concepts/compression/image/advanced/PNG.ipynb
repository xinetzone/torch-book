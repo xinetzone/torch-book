{
 "cells": [
  {
   "cell_type": "markdown",
   "metadata": {},
   "source": [
    "# PNG 压缩\n",
    "\n",
    "你可以将图像转换为 PNG 格式，它有许多优点。使用以下代码行根据需要将压缩级别设置为 `0` 到 `9`。`0` 表示没有任何压缩，`9` 是最大压缩。请记住，PNG 是一种“无损”格式，因此在最大压缩下，图像应保持完整。主要的权衡是文件大小和压缩时间。\n",
    "\n",
    "以下是使用 OpenCV 进行 PNG 压缩的代码：\n",
    "\n",
    "```python\n",
    "cv2.imwrite('compressed.png', img, [cv2.IMWRITE_PNG_COMPRESSION, 9])\n",
    "```"
   ]
  },
  {
   "cell_type": "markdown",
   "metadata": {},
   "source": []
  }
 ],
 "metadata": {
  "kernelspec": {
   "display_name": "ai",
   "language": "python",
   "name": "python3"
  },
  "language_info": {
   "name": "python",
   "version": "3.12.7"
  }
 },
 "nbformat": 4,
 "nbformat_minor": 2
}
