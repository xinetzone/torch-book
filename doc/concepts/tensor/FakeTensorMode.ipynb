{
 "cells": [
  {
   "cell_type": "markdown",
   "id": "fa3b006b",
   "metadata": {},
   "source": [
    "# FakeTensorMode"
   ]
  }
 ],
 "metadata": {
  "kernelspec": {
   "display_name": "ai",
   "language": "python",
   "name": "python3"
  },
  "language_info": {
   "name": "python",
   "version": "3.12.2"
  }
 },
 "nbformat": 4,
 "nbformat_minor": 5
}
