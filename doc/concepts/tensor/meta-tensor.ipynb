{
 "cells": [
  {
   "cell_type": "markdown",
   "id": "31dfabe0",
   "metadata": {},
   "source": [
    "# PyTorch Meta Tensor: 理解指南\n",
    "\n",
    "参考：[pytorch-meta-tensor](https://www.codegenes.net/blog/pytorch-meta-tensor/)\n",
    "\n",
    "在深度学习领域，PyTorch 已成为最受欢迎且功能强大的框架之一。在其众多特性中，元张量（Meta Tensor）作为较新的功能，为模型原型设计、内存管理和分布式训练等应用场景提供了显著优势。本文将详细解析 PyTorch 元张量的核心概念、使用方法、常见实践及最佳实践方案。"
   ]
  },
  {
   "cell_type": "markdown",
   "id": "09856e39",
   "metadata": {},
   "source": [
    "## PyTorch 元张量的基本概念\n",
    "\n",
    "```{admonition} 什么是元张量？\n",
    "PyTorch 中的元张量是一种特殊类型的张量，它具有与常规张量相同的形状、数据类型和设备信息，但实际上并不存储任何真实数据。它仅存在于\"元\"概念层面，主要用于符号计算和规划操作，无需为数据分配实际内存空间。\n",
    "```\n",
    "\n",
    "```{admonition} 元张量为什么有用？\n",
    "- **内存高效原型设计**：在设计和测试新模型架构时，您可能需要尝试不同的张量形状和运算。使用元张量可以让您在不消耗大量内存的情况下执行这些运算，因为不会存储实际数据。\n",
    "- **分布式训练规划**：在分布式训练场景中，元张量可用于在实际数据加载之前规划张量在多个设备或节点上的分布。这有助于优化通信和计算模式。\n",
    "```"
   ]
  },
  {
   "cell_type": "markdown",
   "id": "f09fb660",
   "metadata": {},
   "source": [
    "创建 Meta Tensor 的示例："
   ]
  },
  {
   "cell_type": "code",
   "execution_count": 1,
   "id": "a90b4348",
   "metadata": {},
   "outputs": [
    {
     "name": "stdout",
     "output_type": "stream",
     "text": [
      "tensor(..., device='meta', size=(3, 4))\n"
     ]
    }
   ],
   "source": [
    "import torch\n",
    "\n",
    "# Create a meta tensor\n",
    "meta_tensor = torch.empty(3, 4, device='meta')\n",
    "print(meta_tensor)"
   ]
  },
  {
   "cell_type": "markdown",
   "id": "807f93d7",
   "metadata": {},
   "source": [
    "在这个例子中，在`meta`设备上创建了形状为`(3, 4)`的元张量。该张量没有实际数据，但具有指定的形状和设备信息。"
   ]
  },
  {
   "cell_type": "markdown",
   "id": "8d7596a9",
   "metadata": {},
   "source": [
    "## 使用方法\n",
    "\n",
    "### 在 Meta 张量上执行操作"
   ]
  },
  {
   "cell_type": "markdown",
   "id": "cff6fb94",
   "metadata": {},
   "source": [
    "您可以像操作常规张量一样对元张量执行大多数常见的张量运算。这些运算是符号化的，意味着它们实际上并不计算任何真实值，而是描述了在有真实数据时这些运算将如何执行。"
   ]
  },
  {
   "cell_type": "code",
   "execution_count": 2,
   "id": "ef48b749",
   "metadata": {},
   "outputs": [
    {
     "name": "stdout",
     "output_type": "stream",
     "text": [
      "torch.Size([3, 5])\n"
     ]
    }
   ],
   "source": [
    "import torch\n",
    "\n",
    "# Create two meta tensors\n",
    "meta_tensor1 = torch.empty(3, 4, device='meta')\n",
    "meta_tensor2 = torch.empty(4, 5, device='meta')\n",
    "\n",
    "# Perform matrix multiplication\n",
    "result_meta_tensor = torch.matmul(meta_tensor1, meta_tensor2)\n",
    "print(result_meta_tensor.shape)"
   ]
  },
  {
   "cell_type": "markdown",
   "id": "f60a6db0",
   "metadata": {},
   "source": [
    "在这段代码中，对两个元张量执行了矩阵乘法运算。结果同样是元张量，可以检查它的形状，正如预期的那样，形状是`(3, 5)`。"
   ]
  },
  {
   "cell_type": "markdown",
   "id": "cd4f6ade",
   "metadata": {},
   "source": [
    "## 使用 Meta 张量初始化模型"
   ]
  },
  {
   "cell_type": "markdown",
   "id": "fa9b5595",
   "metadata": {},
   "source": [
    "在初始化大型神经网络时，您可以使用元张量来规划内存使用和整体架构。例如："
   ]
  },
  {
   "cell_type": "code",
   "execution_count": 5,
   "id": "f783def1",
   "metadata": {},
   "outputs": [
    {
     "name": "stdout",
     "output_type": "stream",
     "text": [
      "torch.Size([1, 1])\n"
     ]
    }
   ],
   "source": [
    "import torch\n",
    "import torch.nn as nn\n",
    "\n",
    "# Define a simple neural network\n",
    "class SimpleNet(nn.Module):\n",
    "    def __init__(self):\n",
    "        super(SimpleNet, self).__init__()\n",
    "        self.fc1 = nn.Linear(10, 20)\n",
    "        self.fc2 = nn.Linear(20, 1)\n",
    "\n",
    "    def forward(self, x):\n",
    "        x = self.fc1(x)\n",
    "        x = torch.relu(x)\n",
    "        x = self.fc2(x)\n",
    "        return x\n",
    "\n",
    "# Create a meta input tensor\n",
    "meta_input = torch.empty(1, 10, device='meta')\n",
    "\n",
    "with torch.device('meta'):\n",
    "    # Initialize the model\n",
    "    model = SimpleNet()\n",
    "# Perform a forward pass with the meta input\n",
    "meta_output = model(meta_input)\n",
    "print(meta_output.shape)"
   ]
  },
  {
   "cell_type": "markdown",
   "id": "6d56e7a4",
   "metadata": {},
   "source": [
    "在这个例子中，将 Meta Tensor 作为神经网络的输入。前向传播是符号化的，可以检查输出形状，而无需实际为输入数据分配内存。"
   ]
  },
  {
   "cell_type": "markdown",
   "id": "8a959dd8",
   "metadata": {},
   "source": [
    "## 内存感知训练\n",
    "\n",
    "内存感知训练（Memory - Aware Training）：在分布式训练中，可以使用元张量来规划张量在多个设备上的分布。这有助于减少内存开销并优化训练过程。"
   ]
  },
  {
   "cell_type": "markdown",
   "id": "bf5af888",
   "metadata": {},
   "source": [
    "```python\n",
    "import torch\n",
    "import torch.distributed as dist\n",
    "import torch.multiprocessing as mp\n",
    "\n",
    "def setup(rank, world_size):\n",
    "    os.environ['MASTER_ADDR'] = 'localhost'\n",
    "    os.environ['MASTER_PORT'] = '12355'\n",
    "\n",
    "    # initialize the process group\n",
    "    dist.init_process_group(\"gloo\", rank=rank, world_size=world_size)\n",
    "\n",
    "def run(rank, world_size):\n",
    "    setup(rank, world_size)\n",
    "    # Create a meta tensor\n",
    "    meta_tensor = torch.empty(10, 10, device='meta')\n",
    "    # Plan the distribution of the tensor across devices\n",
    "    # Here we are just showing the concept, actual distribution logic needs to be implemented\n",
    "    print(f\"Rank {rank} planning distribution of meta tensor\")\n",
    "    dist.destroy_process_group()\n",
    "\n",
    "if __name__ == \"__main__\":\n",
    "    world_size = 2\n",
    "    mp.spawn(run, args=(world_size,), nprocs=world_size, join=True)\n",
    "```"
   ]
  },
  {
   "cell_type": "markdown",
   "id": "e52cd991",
   "metadata": {},
   "source": [
    "这段代码展示了如何在分布式训练设置中使用 Meta 张量来规划张量在多个进程间的分布。"
   ]
  },
  {
   "cell_type": "markdown",
   "id": "fafb8ef0",
   "metadata": {},
   "source": [
    "## 最佳实践\n",
    "\n",
    "### 使用 Meta 张量进行初步探索"
   ]
  },
  {
   "cell_type": "markdown",
   "id": "baa3048e",
   "metadata": {},
   "source": [
    "在启动新项目或尝试新模型架构时，使用元张量可以快速测试不同想法，无需担心内存限制。这能让您更快地进行迭代，找到最优架构。"
   ]
  },
  {
   "cell_type": "markdown",
   "id": "e2afb139",
   "metadata": {},
   "source": [
    "### 与常规张量进行计算\n",
    "\n",
    "在确定模型架构和操作后，请将元张量转换为常规张量以进行实际计算。这样既能利用元张量的符号规划能力，又能执行实际运算。"
   ]
  },
  {
   "cell_type": "markdown",
   "id": "0f2a8090",
   "metadata": {},
   "source": [
    "### 跟踪设备兼容性\n",
    "\n",
    "将元张量转换为常规张量时，务必指定正确的设备。在分布式训练中，不同设备可能具有不同的内存和计算能力，因此正确的设备管理至关重要。"
   ]
  }
 ],
 "metadata": {
  "kernelspec": {
   "display_name": "ai",
   "language": "python",
   "name": "python3"
  },
  "language_info": {
   "codemirror_mode": {
    "name": "ipython",
    "version": 3
   },
   "file_extension": ".py",
   "mimetype": "text/x-python",
   "name": "python",
   "nbconvert_exporter": "python",
   "pygments_lexer": "ipython3",
   "version": "3.12.2"
  }
 },
 "nbformat": 4,
 "nbformat_minor": 5
}
