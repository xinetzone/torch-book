{
 "cells": [
  {
   "cell_type": "markdown",
   "id": "4ac955b2",
   "metadata": {},
   "source": [
    "# Meta 设备\n",
    "\n",
    "\"meta\" 设备是抽象设备，表示仅记录元数据而不包含实际数据的张量。Meta 张量有两个主要用途：\n",
    "- 模型可以加载到元设备上，这样你就能加载模型的表示形式，而无需实际将参数加载到内存中。如果你需要在加载实际数据之前对模型进行变换，这可能会很有帮助。\n",
    "\n",
    "大多数算子都可以在元张量（meta tensors）上执行，从而生成新的元张量，这些新张量描述了如果在真实张量上执行该算子后结果会是什么样子。你可以利用这一点来进行抽象分析，而无需花费时间进行计算或占用空间来表示实际的张量。由于元张量不包含真实数据，因此你无法执行像 {func}`torch.nonzero` 或 {meth}`~torch.Tensor.item` 这样的数据依赖性运算。在某些情况下，并非所有设备类型（例如 CPU 和 CUDA）对某个算子的输出元数据都完全相同；在这种情况下，通常倾向于忠实表示 CUDA 的行为。"
   ]
  },
  {
   "cell_type": "markdown",
   "id": "2dc2022d",
   "metadata": {},
   "source": [
    "```{warning}\n",
    "虽然原则上元张量计算应该始终比等效的 CPU/CUDA 计算更快，但许多元张量实现是用 Python 编写的，并且尚未移植到 C++ 以提高速度，因此您可能会发现使用小型 CPU 张量时，框架的绝对延迟更低。\n",
    "```"
   ]
  },
  {
   "cell_type": "markdown",
   "id": "c044f173",
   "metadata": {},
   "source": [
    "## 与元张量工作的惯用法\n",
    "\n",
    "可以通过指定 `map_location='meta'`，使用 {func}`torch.load` 将对象加载到元设备上："
   ]
  },
  {
   "cell_type": "code",
   "execution_count": 3,
   "id": "3ba89047",
   "metadata": {},
   "outputs": [],
   "source": [
    "from pathlib import Path\n",
    "\n",
    "temp_dir = Path(\".temp\")\n",
    "temp_dir.mkdir(exist_ok=True)"
   ]
  },
  {
   "cell_type": "code",
   "execution_count": 5,
   "id": "543dedb2",
   "metadata": {},
   "outputs": [
    {
     "data": {
      "text/plain": [
       "tensor(..., device='meta', size=(2,))"
      ]
     },
     "execution_count": 5,
     "metadata": {},
     "output_type": "execute_result"
    }
   ],
   "source": [
    "import torch\n",
    "torch.save(torch.randn(2), temp_dir/'foo.pt')\n",
    "torch.load(temp_dir/'foo.pt', map_location='meta')"
   ]
  },
  {
   "cell_type": "markdown",
   "id": "872aa330",
   "metadata": {},
   "source": [
    "如果你有一段任意代码，在没有明确指定设备的情况下执行张量构建操作，你可以通过使用 `torch.device()` 上下文管理器来覆盖它，改为在元设备上进行构建："
   ]
  },
  {
   "cell_type": "code",
   "execution_count": 6,
   "id": "f0223e7f",
   "metadata": {},
   "outputs": [
    {
     "name": "stdout",
     "output_type": "stream",
     "text": [
      "tensor(..., device='meta', size=(30, 30))\n"
     ]
    }
   ],
   "source": [
    "with torch.device('meta'):\n",
    "    print(torch.randn(30, 30))"
   ]
  },
  {
   "cell_type": "markdown",
   "id": "84619dbc",
   "metadata": {},
   "source": [
    "这在 NN 模块构建中尤其有用，因为在初始化时你通常无法显式传递设备进来："
   ]
  },
  {
   "cell_type": "code",
   "execution_count": 7,
   "id": "651ec17d",
   "metadata": {},
   "outputs": [
    {
     "name": "stdout",
     "output_type": "stream",
     "text": [
      "Linear(in_features=20, out_features=30, bias=True)\n"
     ]
    }
   ],
   "source": [
    "from torch.nn.modules import Linear\n",
    "with torch.device('meta'):\n",
    "    print(Linear(20, 30))"
   ]
  },
  {
   "cell_type": "markdown",
   "id": "7f27406c",
   "metadata": {},
   "source": [
    "你不能直接将元张量转换为 CPU/CUDA 张量，因为元张量不存储任何数据，不知道新张量的正确数据值应该是什么。"
   ]
  },
  {
   "cell_type": "code",
   "execution_count": 8,
   "id": "02931440",
   "metadata": {},
   "outputs": [
    {
     "ename": "NotImplementedError",
     "evalue": "Cannot copy out of meta tensor; no data!",
     "output_type": "error",
     "traceback": [
      "\u001b[0;31m---------------------------------------------------------------------------\u001b[0m",
      "\u001b[0;31mNotImplementedError\u001b[0m                       Traceback (most recent call last)",
      "Cell \u001b[0;32mIn[8], line 1\u001b[0m\n\u001b[0;32m----> 1\u001b[0m \u001b[43mtorch\u001b[49m\u001b[38;5;241;43m.\u001b[39;49m\u001b[43mones\u001b[49m\u001b[43m(\u001b[49m\u001b[38;5;241;43m5\u001b[39;49m\u001b[43m,\u001b[49m\u001b[43m \u001b[49m\u001b[43mdevice\u001b[49m\u001b[38;5;241;43m=\u001b[39;49m\u001b[38;5;124;43m'\u001b[39;49m\u001b[38;5;124;43mmeta\u001b[39;49m\u001b[38;5;124;43m'\u001b[39;49m\u001b[43m)\u001b[49m\u001b[38;5;241;43m.\u001b[39;49m\u001b[43mto\u001b[49m\u001b[43m(\u001b[49m\u001b[38;5;124;43m\"\u001b[39;49m\u001b[38;5;124;43mcpu\u001b[39;49m\u001b[38;5;124;43m\"\u001b[39;49m\u001b[43m)\u001b[49m\n",
      "\u001b[0;31mNotImplementedError\u001b[0m: Cannot copy out of meta tensor; no data!"
     ]
    }
   ],
   "source": [
    "torch.ones(5, device='meta').to(\"cpu\")"
   ]
  },
  {
   "cell_type": "markdown",
   "id": "70ef5082",
   "metadata": {},
   "source": [
    "使用工厂函数如 {func}`torch.empty_like` 来明确指定你希望如何填充缺失数据。\n",
    "\n",
    "NN 模块提供了便捷方法 {func}`torch.nn.Module.to_empty`，允许您将模块移动到另一个设备上，但此时所有参数都处于未初始化状态。您需要手动显式地重新初始化这些参数："
   ]
  },
  {
   "cell_type": "code",
   "execution_count": 9,
   "id": "dcab6658",
   "metadata": {},
   "outputs": [
    {
     "data": {
      "text/plain": [
       "Linear(in_features=20, out_features=30, bias=True)"
      ]
     },
     "execution_count": 9,
     "metadata": {},
     "output_type": "execute_result"
    }
   ],
   "source": [
    "from torch.nn.modules import Linear\n",
    "with torch.device('meta'):\n",
    "    m = Linear(20, 30)\n",
    "m.to_empty(device=\"cpu\")"
   ]
  },
  {
   "cell_type": "markdown",
   "id": "2d6e4df2",
   "metadata": {},
   "source": [
    "{mod}`torch._subclasses.meta_utils` 包含未公开的工具，用于获取任意张量并构建具有高保真度的等效元张量。这些 API 属于实验性质，可能会随时以不兼容的方式更改。"
   ]
  }
 ],
 "metadata": {
  "kernelspec": {
   "display_name": "ai",
   "language": "python",
   "name": "python3"
  },
  "language_info": {
   "codemirror_mode": {
    "name": "ipython",
    "version": 3
   },
   "file_extension": ".py",
   "mimetype": "text/x-python",
   "name": "python",
   "nbconvert_exporter": "python",
   "pygments_lexer": "ipython3",
   "version": "3.12.2"
  }
 },
 "nbformat": 4,
 "nbformat_minor": 5
}
