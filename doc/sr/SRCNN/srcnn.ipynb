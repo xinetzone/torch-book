{
 "cells": [
  {
   "cell_type": "markdown",
   "metadata": {},
   "source": [
    "# SRCNN 实现\n",
    "\n",
    "参考：`mmagic/configs/srcnn/srcnn_x4k915_1xb16-1000k_div2k.py`"
   ]
  },
  {
   "cell_type": "code",
   "execution_count": null,
   "metadata": {},
   "outputs": [
    {
     "name": "stdout",
     "output_type": "stream",
     "text": [
      "Overwriting utils/srcnn.py\n"
     ]
    }
   ],
   "source": [
    "%%file utils/srcnn.py\n",
    "from torch import nn\n",
    "\n",
    "class SRCNN(nn.Module):\n",
    "    \"\"\"SRCNN 网络结构用于图像超分辨率。\n",
    "\n",
    "    SRCNN包含三个卷积层。对于每一层，可以定义输入通道数、输出通道数和卷积核大小。\n",
    "    输入图像首先会使用双三次插值法进行上采样，然后在高分辨率空间尺寸中进行超分辨处理。\n",
    "\n",
    "    论文：Learning a Deep Convolutional Network for Image Super-Resolution.\n",
    "\n",
    "    Args:\n",
    "        channels (tuple[int]): 元组，包含了每一层的通道数，包括输入和输出的通道数。默认值：(3, 64, 32, 3)。\n",
    "        kernel_sizes (tuple[int]): 元组，包含了每个卷积层的卷积核大小。默认值：(9, 1, 5)。\n",
    "        upscale_factor (int): 上采样因子。默认值：4。\n",
    "    \"\"\"\n",
    "\n",
    "    def __init__(self,\n",
    "                 upscale_factor=4,\n",
    "                 channels=(3, 64, 32, 3),\n",
    "                 kernel_sizes=(9, 1, 5),\n",
    "                 *args, **kwargs):\n",
    "        super().__init__(*args, **kwargs)\n",
    "        assert len(channels) == 4, (f'通道元组的长度应为4，但实际得到的长度是 {len(channels)}')\n",
    "        assert len(kernel_sizes) == 3, f\"kernel 元组的长度应为3，但得到的是{len(kernel_sizes)}\"\n",
    "        self.upscale_factor = upscale_factor\n",
    "        self.img_upsampler = nn.Upsample(\n",
    "            scale_factor=self.upscale_factor,\n",
    "            mode='bicubic',\n",
    "            align_corners=False)\n",
    "\n",
    "        self.conv1 = nn.Conv2d(\n",
    "            channels[0],\n",
    "            channels[1],\n",
    "            kernel_size=kernel_sizes[0],\n",
    "            padding=kernel_sizes[0] // 2)\n",
    "        self.conv2 = nn.Conv2d(\n",
    "            channels[1],\n",
    "            channels[2],\n",
    "            kernel_size=kernel_sizes[1],\n",
    "            padding=kernel_sizes[1] // 2)\n",
    "        self.conv3 = nn.Conv2d(\n",
    "            channels[2],\n",
    "            channels[3],\n",
    "            kernel_size=kernel_sizes[2],\n",
    "            padding=kernel_sizes[2] // 2)\n",
    "\n",
    "        self.relu = nn.ReLU()\n",
    "\n",
    "    def forward(self, x):\n",
    "        x = self.img_upsampler(x)\n",
    "        out = self.relu(self.conv1(x))\n",
    "        out = self.relu(self.conv2(out))\n",
    "        out = self.conv3(out)\n",
    "        return out"
   ]
  },
  {
   "cell_type": "code",
   "execution_count": 2,
   "metadata": {},
   "outputs": [],
   "source": [
    "from utils.srcnn import SRCNN"
   ]
  },
  {
   "cell_type": "code",
   "execution_count": 6,
   "metadata": {},
   "outputs": [
    {
     "data": {
      "text/plain": [
       "SRCNN(\n",
       "  (img_upsampler): Upsample(scale_factor=4.0, mode='bicubic')\n",
       "  (conv1): Conv2d(3, 64, kernel_size=(9, 9), stride=(1, 1), padding=(4, 4))\n",
       "  (conv2): Conv2d(64, 32, kernel_size=(1, 1), stride=(1, 1))\n",
       "  (conv3): Conv2d(32, 3, kernel_size=(5, 5), stride=(1, 1), padding=(2, 2))\n",
       "  (relu): ReLU()\n",
       ")"
      ]
     },
     "execution_count": 6,
     "metadata": {},
     "output_type": "execute_result"
    }
   ],
   "source": [
    "net = SRCNN(upscale_factor=4,)\n",
    "net"
   ]
  },
  {
   "cell_type": "code",
   "execution_count": null,
   "metadata": {},
   "outputs": [],
   "source": []
  }
 ],
 "metadata": {
  "kernelspec": {
   "display_name": "ai",
   "language": "python",
   "name": "python3"
  },
  "language_info": {
   "codemirror_mode": {
    "name": "ipython",
    "version": 3
   },
   "file_extension": ".py",
   "mimetype": "text/x-python",
   "name": "python",
   "nbconvert_exporter": "python",
   "pygments_lexer": "ipython3",
   "version": "3.12.7"
  }
 },
 "nbformat": 4,
 "nbformat_minor": 2
}
