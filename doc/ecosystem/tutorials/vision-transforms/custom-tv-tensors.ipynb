{
 "cells": [
  {
   "cell_type": "markdown",
   "metadata": {},
   "source": [
    "\n",
    "# 如何定制 TVTensor 类\n",
    "\n"
   ]
  },
  {
   "cell_type": "code",
   "execution_count": 1,
   "metadata": {
    "collapsed": false
   },
   "outputs": [],
   "source": [
    "import torch\n",
    "from torchvision import tv_tensors\n",
    "from torchvision.transforms import v2"
   ]
  },
  {
   "cell_type": "markdown",
   "metadata": {},
   "source": [
    "将创建简单的类，它继承自 {class}`torchvision.tv_tensors.TVTensor` 基类。这个类将足以涵盖您需要了解的实现更复杂用例的知识。如果您需要创建携带元数据的类，可以参考 {class}`torchvision.tv_tensors.BoundingBoxes` 类的[实现](https://github.com/pytorch/vision/blob/main/torchvision/tv_tensors/_bounding_box.py)。"
   ]
  },
  {
   "cell_type": "code",
   "execution_count": 2,
   "metadata": {
    "collapsed": false
   },
   "outputs": [
    {
     "data": {
      "text/plain": [
       "MyTVTensor([1., 2., 3.])"
      ]
     },
     "execution_count": 2,
     "metadata": {},
     "output_type": "execute_result"
    }
   ],
   "source": [
    "class MyTVTensor(tv_tensors.TVTensor):\n",
    "    pass\n",
    "\n",
    "\n",
    "my_dp = MyTVTensor([1, 2, 3])\n",
    "my_dp"
   ]
  },
  {
   "cell_type": "markdown",
   "metadata": {},
   "source": [
    "现在已经定义了自定义的TVTensor类，希望它能够与内置的torchvision变换以及功能性API兼容。为此，需要实现内核，该内核执行转换的核心部分，然后通过 {func}`~torchvision.transforms.v2.functional.register_kernel` 函数将其“挂钩”到我们想要支持的功能上。\n",
    "\n",
    "下面展示了这个过程：MyTVTensor类的“水平翻转”操作创建内核，并将其注册到功能API中。"
   ]
  },
  {
   "cell_type": "code",
   "execution_count": 3,
   "metadata": {
    "collapsed": false
   },
   "outputs": [],
   "source": [
    "from torchvision.transforms.v2 import functional as F\n",
    "\n",
    "\n",
    "@F.register_kernel(functional=\"hflip\", tv_tensor_cls=MyTVTensor)\n",
    "def hflip_my_tv_tensor(my_dp, *args, **kwargs):\n",
    "    print(\"Flipping!\")\n",
    "    out = my_dp.flip(-1)\n",
    "    return tv_tensors.wrap(out, like=my_dp)"
   ]
  },
  {
   "cell_type": "markdown",
   "metadata": {},
   "source": [
    "已经注册了内核，我们可以在 `MyTVTensor` 实例上调用功能性 API："
   ]
  },
  {
   "cell_type": "code",
   "execution_count": 4,
   "metadata": {
    "collapsed": false
   },
   "outputs": [
    {
     "name": "stdout",
     "output_type": "stream",
     "text": [
      "Flipping!\n"
     ]
    }
   ],
   "source": [
    "my_dp = MyTVTensor(torch.rand(3, 256, 256))\n",
    "_ = F.hflip(my_dp)"
   ]
  },
  {
   "cell_type": "markdown",
   "metadata": {},
   "source": [
    "也可以采用 {class}`~torchvision.transforms.v2.RandomHorizontalFlip` 这一变换，因为它内部依赖于 {func}`~torchvision.transforms.v2.functional.hflip` 函数。"
   ]
  },
  {
   "cell_type": "code",
   "execution_count": 5,
   "metadata": {
    "collapsed": false
   },
   "outputs": [
    {
     "name": "stdout",
     "output_type": "stream",
     "text": [
      "Flipping!\n"
     ]
    }
   ],
   "source": [
    "t = v2.RandomHorizontalFlip(p=1)\n",
    "_ = t(my_dp)"
   ]
  },
  {
   "cell_type": "markdown",
   "metadata": {},
   "source": [
    "## 参数转发和确保你的内核的未来兼容性\n",
    "\n",
    "你正在接入的功能API是公开的，因此具有**向后**兼容：我们保证这些功能的参数不会被移除或重命名，除非经过适当的弃用周期。然而，不保证 `forward` 兼容，未来可能会添加新的参数。\n",
    "\n",
    "想象一下，在未来的版本中，Torchvision 为其 {func}`~torchvision.transforms.v2.functional.hflip` 功能添加了新的 ``inplace`` 参数。如果你已经定义并注册了自己的内核，那么"
   ]
  },
  {
   "cell_type": "code",
   "execution_count": 6,
   "metadata": {
    "collapsed": false
   },
   "outputs": [],
   "source": [
    "def hflip_my_tv_tensor(my_dp):  # noqa\n",
    "    print(\"Flipping!\")\n",
    "    out = my_dp.flip(-1)\n",
    "    return tv_tensors.wrap(out, like=my_dp)"
   ]
  },
  {
   "cell_type": "markdown",
   "metadata": {},
   "source": [
    "因此，调用`F.hflip(my_dp)`将会**失败**，因为`hflip`会尝试将新的`inplace`参数传递给你的核函数，但你的核函数并不接受这个参数。\n",
    "\n",
    "基于这个原因，我们建议总是以`*args, **kwargs`在你的核函数签名中定义它们，就像上面所做的那样。这样，你的核函数就能够接受我们将来可能添加的任何新参数。（从技术上讲，只添加`**kwargs`应该就足够了）。"
   ]
  }
 ],
 "metadata": {
  "kernelspec": {
   "display_name": "ai",
   "language": "python",
   "name": "python3"
  },
  "language_info": {
   "codemirror_mode": {
    "name": "ipython",
    "version": 3
   },
   "file_extension": ".py",
   "mimetype": "text/x-python",
   "name": "python",
   "nbconvert_exporter": "python",
   "pygments_lexer": "ipython3",
   "version": "3.12.7"
  }
 },
 "nbformat": 4,
 "nbformat_minor": 0
}
