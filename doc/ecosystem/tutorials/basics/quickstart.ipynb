{
 "cells": [
  {
   "cell_type": "markdown",
   "metadata": {},
   "source": [
    "# PyTorch 快速入门\n",
    "\n",
    "本节将介绍机器学习中常见任务的 API。"
   ]
  },
  {
   "cell_type": "code",
   "execution_count": 1,
   "metadata": {},
   "outputs": [
    {
     "name": "stdout",
     "output_type": "stream",
     "text": [
      "项目根目录：/media/pc/data/lxw/ai/torch-book\n"
     ]
    }
   ],
   "source": [
    "from set_env import temp_dir  # 加载环境并导入临时目录路径"
   ]
  },
  {
   "cell_type": "markdown",
   "metadata": {},
   "source": [
    "## 处理数据\n",
    "\n",
    "PyTorch 提供两种基础工具来[处理数据](https://pytorch.org/docs/stable/data.html)：{class}`torch.utils.data.DataLoader` 和 {class}`torch.utils.data.Dataset`。{class}`~torch.utils.data.Dataset` 用于存储样本及其对应的标签，而 {class}`~torch.utils.data.DataLoader` 则在 {class}`~torch.utils.data.Dataset` 周围包装可迭代对象。"
   ]
  },
  {
   "cell_type": "code",
   "execution_count": 2,
   "metadata": {},
   "outputs": [],
   "source": [
    "import torch\n",
    "from torch import nn\n",
    "from torch.utils.data import DataLoader\n",
    "from torchvision import datasets\n",
    "from torchvision.transforms import v2"
   ]
  },
  {
   "cell_type": "markdown",
   "metadata": {},
   "source": [
    "PyTorch 提供了针对特定领域的库，例如 [TorchText](https://pytorch.org/text/stable/index.html)、[TorchVision](https://pytorch.org/vision/stable/index.html) 和 [TorchAudio](https://pytorch.org/audio/stable/index.html)，这些库都包含了数据集。在本教程中使用 TorchVision 数据集。\n",
    "\n",
    "{mod}`torchvision.datasets` 模块包含了许多现实世界视觉数据的 [`Dataset` 对象](https://pytorch.org/vision/stable/datasets.html)，例如 CIFAR、COCO（完整列表在这里）。在本教程中，使用的是 FashionMNIST 数据集。每个 TorchVision 数据集都包括两个参数：`transform` 和 `target_transform`，分别用于修改样本和标签。"
   ]
  },
  {
   "cell_type": "code",
   "execution_count": null,
   "metadata": {},
   "outputs": [],
   "source": [
    "transform = v2.Compose(\n",
    "    v2.ToImage(),\n",
    "    v2.ToDtype(torch.float32, scale=True),\n",
    ")\n",
    "# 从公开数据集下载训练数据\n",
    "training_data = datasets.FashionMNIST(root=temp_dir/\"data\", train=True, download=True, transform=transform,)\n",
    "# 从公开数据集下载测试据\n",
    "test_data = datasets.FashionMNIST(root=temp_dir/\"data\", train=False, download=True, transform=transform,)"
   ]
  },
  {
   "cell_type": "markdown",
   "metadata": {},
   "source": [
    "```{note}\n",
    "- {class}`v2.ToImage <torchvision.transforms.v2.ToImage>` 将张量、ndarray 或 PIL图像转换为 {class}`tv_tensors.Image <torchvision.tv_tensors.Image>`；此操作不会缩放值。{class}`v2.ToImage <torchvision.transforms.v2.ToImage>` 变换不支持 torchscript。\n",
    "\n",
    "- {class}`v2.ToDtype <torchvision.transforms.v2.ToDtype>` 将输入转换为特定的数据类型，对于图像或视频，可选择性地进行数值缩放。\n",
    "    - `dtype` ({class}`torch.dtype` 或 dict of TVTensor -> {class}`torch.dtype`) – 要转换的数据类型。如果传入的是 {class}`torch.dtype`，例如 {data}`torch.float32`，则只有图像和视频将被转换为该数据类型：这是为了与 {class}`~torchvision.transforms.v2.ConvertImageDtype` 兼容。可以传递字典来指定每个 `tv_tensor` 的转换，例如 `dtype={tv_tensors.Image: torch.float32, tv_tensors.Mask: torch.int64, \"others\":None}`。`\"others\"` 键可以用作任何其他 `tv_tensor` 类型的通用捕获器，而 `None` 表示不进行转换。\n",
    "    - `scale` ({class}`bool`, 可选) – 是否对图像或视频的值进行缩放。请参阅 [Dtype 和预期值范围](https://pytorch.org/vision/0.19/transforms.html#range-and-dtype)。默认值：`False`。\n",
    "    - 张量图像的值的预期范围由其数据类型隐式定义。浮点型数据类型的张量图像，其值应在 $[0, 1]$ 区间内。整数型数据类型的张量图像，其值应在 $[0, \\text{MAX_DTYPE}]$ 区间内，其中 $\\text{MAX_DTYPE}$ 是该数据类型所能表示的最大值。通常，`torch.uint8` 数据类型的图像，其值应在 $[0, 255]$ 区间内。\n",
    "\n",
    "```\n"
   ]
  },
  {
   "cell_type": "markdown",
   "metadata": {},
   "source": [
    "将 `Dataset` 作为参数传递给 `DataLoader`。`DataLoader` 封装了对数据集的可迭代对象，并支持自动批处理、采样、洗牌以及多进程数据加载。\n",
    "\n",
    "定义了批次大小为64，即 `dataloader` 的每个可迭代元素将返回包含64个特征和标签的批次。"
   ]
  },
  {
   "cell_type": "code",
   "execution_count": 4,
   "metadata": {},
   "outputs": [
    {
     "name": "stdout",
     "output_type": "stream",
     "text": [
      "Shape of X [N, C, H, W]: torch.Size([64, 1, 28, 28])\n",
      "Shape of y: torch.Size([64]) torch.int64\n"
     ]
    }
   ],
   "source": [
    "batch_size = 64\n",
    "\n",
    "# Create data loaders.\n",
    "train_dataloader = DataLoader(training_data, batch_size=batch_size)\n",
    "test_dataloader = DataLoader(test_data, batch_size=batch_size)\n",
    "\n",
    "for X, y in test_dataloader:\n",
    "    print(f\"Shape of X [N, C, H, W]: {X.shape}\")\n",
    "    print(f\"Shape of y: {y.shape} {y.dtype}\")\n",
    "    break"
   ]
  },
  {
   "cell_type": "markdown",
   "metadata": {},
   "source": [
    "## 创建模型\n",
    "\n",
    "在 PyTorch 中定义神经网络，创建继承自 {class}`torch.nn.Module` 的类。在 `__init__` 函数中定义网络的层，并在 `forward` 函数中指定数据如何通过网络传递。为了加速神经网络中的运算，如果可用，将它移动到 GPU 或 MPS。"
   ]
  },
  {
   "cell_type": "code",
   "execution_count": 5,
   "metadata": {},
   "outputs": [
    {
     "name": "stdout",
     "output_type": "stream",
     "text": [
      "Using cuda device\n",
      "NeuralNetwork(\n",
      "  (flatten): Flatten(start_dim=1, end_dim=-1)\n",
      "  (linear_relu_stack): Sequential(\n",
      "    (0): Linear(in_features=784, out_features=512, bias=True)\n",
      "    (1): ReLU()\n",
      "    (2): Linear(in_features=512, out_features=512, bias=True)\n",
      "    (3): ReLU()\n",
      "    (4): Linear(in_features=512, out_features=10, bias=True)\n",
      "  )\n",
      ")\n"
     ]
    }
   ],
   "source": [
    "# Get cpu, gpu or mps device for training.\n",
    "device = (\n",
    "    \"cuda\"\n",
    "    if torch.cuda.is_available()\n",
    "    else \"mps\"\n",
    "    if torch.backends.mps.is_available()\n",
    "    else \"cpu\"\n",
    ")\n",
    "print(f\"Using {device} device\")\n",
    "\n",
    "# Define model\n",
    "class NeuralNetwork(nn.Module):\n",
    "    def __init__(self):\n",
    "        super().__init__()\n",
    "        self.flatten = nn.Flatten()\n",
    "        self.linear_relu_stack = nn.Sequential(\n",
    "            nn.Linear(28*28, 512),\n",
    "            nn.ReLU(),\n",
    "            nn.Linear(512, 512),\n",
    "            nn.ReLU(),\n",
    "            nn.Linear(512, 10)\n",
    "        )\n",
    "\n",
    "    def forward(self, x):\n",
    "        x = self.flatten(x)\n",
    "        logits = self.linear_relu_stack(x)\n",
    "        return logits\n",
    "\n",
    "model = NeuralNetwork().to(device)\n",
    "print(model)"
   ]
  },
  {
   "cell_type": "markdown",
   "metadata": {},
   "source": [
    "## 优化模型参数\n",
    "\n",
    "为了训练模型，需要损失函数和优化器。"
   ]
  },
  {
   "cell_type": "code",
   "execution_count": 6,
   "metadata": {},
   "outputs": [],
   "source": [
    "loss_fn = nn.CrossEntropyLoss()\n",
    "optimizer = torch.optim.SGD(model.parameters(), lr=1e-3)"
   ]
  },
  {
   "cell_type": "markdown",
   "metadata": {},
   "source": [
    "在单次训练循环中，模型对训练数据集（以批次形式输入）进行预测，并通过反向传播预测误差来调整模型参数。"
   ]
  },
  {
   "cell_type": "code",
   "execution_count": 7,
   "metadata": {},
   "outputs": [],
   "source": [
    "def train(dataloader, model, loss_fn, optimizer):\n",
    "    size = len(dataloader.dataset)\n",
    "    model.train()\n",
    "    for batch, (X, y) in enumerate(dataloader):\n",
    "        X, y = X.to(device), y.to(device)\n",
    "\n",
    "        # Compute prediction error\n",
    "        pred = model(X)\n",
    "        loss = loss_fn(pred, y)\n",
    "\n",
    "        # Backpropagation\n",
    "        loss.backward()\n",
    "        optimizer.step()\n",
    "        optimizer.zero_grad()\n",
    "\n",
    "        if batch % 100 == 0:\n",
    "            loss, current = loss.item(), (batch + 1) * len(X)\n",
    "            print(f\"loss: {loss:>7f}  [{current:>5d}/{size:>5d}]\")"
   ]
  },
  {
   "cell_type": "markdown",
   "metadata": {},
   "source": [
    "还通过测试数据集来检验模型的性能，以确保其正在有效学习。"
   ]
  },
  {
   "cell_type": "code",
   "execution_count": 8,
   "metadata": {},
   "outputs": [],
   "source": [
    "def test(dataloader, model, loss_fn):\n",
    "    size = len(dataloader.dataset)\n",
    "    num_batches = len(dataloader)\n",
    "    model.eval()\n",
    "    test_loss, correct = 0, 0\n",
    "    with torch.no_grad():\n",
    "        for X, y in dataloader:\n",
    "            X, y = X.to(device), y.to(device)\n",
    "            pred = model(X)\n",
    "            test_loss += loss_fn(pred, y).item()\n",
    "            correct += (pred.argmax(1) == y).type(torch.float).sum().item()\n",
    "    test_loss /= num_batches\n",
    "    correct /= size\n",
    "    print(f\"Test Error: \\n Accuracy: {(100*correct):>0.1f}%, Avg loss: {test_loss:>8f} \\n\")"
   ]
  },
  {
   "cell_type": "markdown",
   "metadata": {},
   "source": [
    "训练过程通过多次迭代（即“轮次”）进行。\n",
    "在每一轮中，模型学习参数以提高预测的准确性。在每个轮次打印出模型的准确度和损失值；希望看到随着每一轮次的增加，准确度提高而损失减少。"
   ]
  },
  {
   "cell_type": "code",
   "execution_count": 9,
   "metadata": {
    "tags": [
     "hide-output"
    ]
   },
   "outputs": [
    {
     "name": "stdout",
     "output_type": "stream",
     "text": [
      "Epoch 1\n",
      "-------------------------------\n",
      "loss: 2.306069  [   64/60000]\n",
      "loss: 2.299073  [ 6464/60000]\n",
      "loss: 2.277852  [12864/60000]\n",
      "loss: 2.264928  [19264/60000]\n",
      "loss: 2.252309  [25664/60000]\n",
      "loss: 2.210188  [32064/60000]\n",
      "loss: 2.226893  [38464/60000]\n",
      "loss: 2.189837  [44864/60000]\n",
      "loss: 2.190420  [51264/60000]\n",
      "loss: 2.148874  [57664/60000]\n",
      "Test Error: \n",
      " Accuracy: 33.1%, Avg loss: 2.151322 \n",
      "\n",
      "Epoch 2\n",
      "-------------------------------\n",
      "loss: 2.164296  [   64/60000]\n",
      "loss: 2.159659  [ 6464/60000]\n",
      "loss: 2.098582  [12864/60000]\n",
      "loss: 2.110010  [19264/60000]\n",
      "loss: 2.069656  [25664/60000]\n",
      "loss: 1.996943  [32064/60000]\n",
      "loss: 2.034728  [38464/60000]\n",
      "loss: 1.951787  [44864/60000]\n",
      "loss: 1.966385  [51264/60000]\n",
      "loss: 1.888368  [57664/60000]\n",
      "Test Error: \n",
      " Accuracy: 55.5%, Avg loss: 1.886714 \n",
      "\n",
      "Epoch 3\n",
      "-------------------------------\n",
      "loss: 1.922163  [   64/60000]\n",
      "loss: 1.893041  [ 6464/60000]\n",
      "loss: 1.772466  [12864/60000]\n",
      "loss: 1.812631  [19264/60000]\n",
      "loss: 1.713909  [25664/60000]\n",
      "loss: 1.656085  [32064/60000]\n",
      "loss: 1.688545  [38464/60000]\n",
      "loss: 1.582536  [44864/60000]\n",
      "loss: 1.619781  [51264/60000]\n",
      "loss: 1.514278  [57664/60000]\n",
      "Test Error: \n",
      " Accuracy: 59.5%, Avg loss: 1.524411 \n",
      "\n",
      "Epoch 4\n",
      "-------------------------------\n",
      "loss: 1.592879  [   64/60000]\n",
      "loss: 1.555723  [ 6464/60000]\n",
      "loss: 1.403057  [12864/60000]\n",
      "loss: 1.475842  [19264/60000]\n",
      "loss: 1.371099  [25664/60000]\n",
      "loss: 1.354005  [32064/60000]\n",
      "loss: 1.381042  [38464/60000]\n",
      "loss: 1.295066  [44864/60000]\n",
      "loss: 1.339796  [51264/60000]\n",
      "loss: 1.244596  [57664/60000]\n",
      "Test Error: \n",
      " Accuracy: 63.4%, Avg loss: 1.262004 \n",
      "\n",
      "Epoch 5\n",
      "-------------------------------\n",
      "loss: 1.336847  [   64/60000]\n",
      "loss: 1.317122  [ 6464/60000]\n",
      "loss: 1.151755  [12864/60000]\n",
      "loss: 1.258062  [19264/60000]\n",
      "loss: 1.145909  [25664/60000]\n",
      "loss: 1.157517  [32064/60000]\n",
      "loss: 1.191936  [38464/60000]\n",
      "loss: 1.117336  [44864/60000]\n",
      "loss: 1.163072  [51264/60000]\n",
      "loss: 1.086031  [57664/60000]\n",
      "Test Error: \n",
      " Accuracy: 64.8%, Avg loss: 1.098684 \n",
      "\n",
      "Done!\n"
     ]
    }
   ],
   "source": [
    "epochs = 5\n",
    "for t in range(epochs):\n",
    "    print(f\"Epoch {t+1}\\n-------------------------------\")\n",
    "    train(train_dataloader, model, loss_fn, optimizer)\n",
    "    test(test_dataloader, model, loss_fn)\n",
    "print(\"Done!\")"
   ]
  },
  {
   "cell_type": "markdown",
   "metadata": {},
   "source": [
    "## 保存模型\n",
    "\n",
    "保存模型的常见方法是序列化内部状态字典（包含模型参数）"
   ]
  },
  {
   "cell_type": "code",
   "execution_count": 10,
   "metadata": {},
   "outputs": [
    {
     "name": "stdout",
     "output_type": "stream",
     "text": [
      "Saved PyTorch Model State to model.pth\n"
     ]
    }
   ],
   "source": [
    "torch.save(model.state_dict(), temp_dir/\"model.pth\")\n",
    "print(\"Saved PyTorch Model State to model.pth\")"
   ]
  },
  {
   "cell_type": "markdown",
   "metadata": {},
   "source": [
    "## 加载模型\n",
    "\n",
    "加载模型的过程包括重建模型结构并将状态字典载入其中。"
   ]
  },
  {
   "cell_type": "code",
   "execution_count": 11,
   "metadata": {},
   "outputs": [
    {
     "data": {
      "text/plain": [
       "<All keys matched successfully>"
      ]
     },
     "execution_count": 11,
     "metadata": {},
     "output_type": "execute_result"
    }
   ],
   "source": [
    "model = NeuralNetwork().to(device)\n",
    "model.load_state_dict(torch.load(temp_dir/\"model.pth\", weights_only=True))"
   ]
  },
  {
   "cell_type": "markdown",
   "metadata": {},
   "source": [
    "此模型现在可用于进行预测。"
   ]
  },
  {
   "cell_type": "code",
   "execution_count": 12,
   "metadata": {},
   "outputs": [
    {
     "name": "stdout",
     "output_type": "stream",
     "text": [
      "Predicted: \"Ankle boot\", Actual: \"Ankle boot\"\n"
     ]
    }
   ],
   "source": [
    "classes = [\n",
    "    \"T-shirt/top\",\n",
    "    \"Trouser\",\n",
    "    \"Pullover\",\n",
    "    \"Dress\",\n",
    "    \"Coat\",\n",
    "    \"Sandal\",\n",
    "    \"Shirt\",\n",
    "    \"Sneaker\",\n",
    "    \"Bag\",\n",
    "    \"Ankle boot\",\n",
    "]\n",
    "\n",
    "model.eval()\n",
    "x, y = test_data[0][0], test_data[0][1]\n",
    "with torch.no_grad():\n",
    "    x = x.to(device)\n",
    "    pred = model(x)\n",
    "    predicted, actual = classes[pred[0].argmax(0)], classes[y]\n",
    "    print(f'Predicted: \"{predicted}\", Actual: \"{actual}\"')"
   ]
  }
 ],
 "metadata": {
  "kernelspec": {
   "display_name": "ai",
   "language": "python",
   "name": "python3"
  },
  "language_info": {
   "codemirror_mode": {
    "name": "ipython",
    "version": 3
   },
   "file_extension": ".py",
   "mimetype": "text/x-python",
   "name": "python",
   "nbconvert_exporter": "python",
   "pygments_lexer": "ipython3",
   "version": "3.12.7"
  }
 },
 "nbformat": 4,
 "nbformat_minor": 2
}
