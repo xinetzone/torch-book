{
 "cells": [
  {
   "cell_type": "markdown",
   "metadata": {
    "collapsed": false
   },
   "source": [
    "# PyTorch 变换"
   ]
  },
  {
   "cell_type": "code",
   "execution_count": 1,
   "metadata": {},
   "outputs": [
    {
     "name": "stdout",
     "output_type": "stream",
     "text": [
      "项目根目录：/media/pc/data/lxw/ai/torch-book\n"
     ]
    }
   ],
   "source": [
    "from set_env import temp_dir  # 加载环境并导入临时目录路径"
   ]
  },
  {
   "cell_type": "markdown",
   "metadata": {},
   "source": [
    "数据并不总是以最终处理过的形式出现，这种形式是训练机器学习算法所必需的。使用 **变换** 来对数据进行一些操作，使其适合训练。\n",
    "\n",
    "所有 TorchVision 数据集都有两个参数—— `transform` 用于修改特征，`target_transform` 用于修改标签——它们接受包含变换逻辑的可调用对象。\n",
    "[torchvision transforms](https://pytorch.org/vision/stable/transforms.html) 模块提供了几种常用的转换方法。\n",
    "\n",
    "FashionMNIST 的特征是以 PIL 图像格式存在的，而标签是整数。为了训练，需要将特征变换为归一化的张量，并将标签转换为独热编码的张量。要进行这些转换，使用 `ToTensor` 和 {class}`~torchvision.transforms.v2.Lambda`。"
   ]
  },
  {
   "cell_type": "code",
   "execution_count": 2,
   "metadata": {},
   "outputs": [],
   "source": [
    "import torch\n",
    "from torchvision import datasets\n",
    "from torchvision.transforms import v2\n",
    "\n",
    "ToTensor = v2.Compose([\n",
    "    v2.ToImage(),\n",
    "    v2.ToDtype(torch.float32, scale=True),\n",
    "])\n",
    "ds = datasets.FashionMNIST(\n",
    "    root=temp_dir/\"data\",\n",
    "    train=True,\n",
    "    download=True,\n",
    "    transform=ToTensor,\n",
    "    target_transform=v2.Lambda(lambda y: torch.zeros(10, dtype=torch.float).scatter_(0, torch.tensor(y), value=1))\n",
    ")"
   ]
  },
  {
   "cell_type": "markdown",
   "metadata": {},
   "source": [
    "## `ToTensor`\n",
    "\n",
    "`ToTensor` 将 PIL 图像或 NumPy `ndarray` 转换为 {class}`~torchvision.tv_tensors.Image`，并将图像的像素强度值缩放到范围 $[0., 1.]$ 内。"
   ]
  },
  {
   "cell_type": "markdown",
   "metadata": {},
   "source": [
    "## {class}`~torchvision.transforms.v2.Lambda` 变换\n",
    "\n",
    "{class}`~torchvision.transforms.v2.Lambda` 变换应用任何用户定义的 {class}`lambda` 函数。在这里，定义了一个函数，将整数转换为独热编码张量。它首先创建大小为 10（数据集中标签的数量）的零张量，并调用 {meth}`torch.Tensor.scatter_`，在由标签 `y` 给定的索引处分配 `value=1`。"
   ]
  },
  {
   "cell_type": "code",
   "execution_count": 3,
   "metadata": {
    "collapsed": false
   },
   "outputs": [],
   "source": [
    "target_transform = v2.Lambda(lambda y: torch.zeros(\n",
    "    10, dtype=torch.float).scatter_(dim=0, index=torch.tensor(y), value=1))"
   ]
  }
 ],
 "metadata": {
  "kernelspec": {
   "display_name": "ai",
   "language": "python",
   "name": "python3"
  },
  "language_info": {
   "codemirror_mode": {
    "name": "ipython",
    "version": 3
   },
   "file_extension": ".py",
   "mimetype": "text/x-python",
   "name": "python",
   "nbconvert_exporter": "python",
   "pygments_lexer": "ipython3",
   "version": "3.12.2"
  }
 },
 "nbformat": 4,
 "nbformat_minor": 0
}
