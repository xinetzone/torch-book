{
 "cells": [
  {
   "cell_type": "markdown",
   "metadata": {},
   "source": [
    "# 优化模型参数\n",
    "\n",
    "现在已经拥有了模型和数据，是时候通过在数据上优化其参数来训练、验证和测试模型了。训练模型是一个迭代过程；在每次迭代中，模型会对输出做出猜测，计算其猜测中的误差（*损失*），收集误差相对于其参数的导数（正如我们在[先前部分](autograd)看到的），并使用梯度下降法 **优化** 这些参数。想要更详细地了解这个过程，请查看这个关于[反向传播的视频](https://www.youtube.com/watch?v=tIeHLnjs5U8)，由3Blue1Brown提供。\n",
    "\n",
    "## 先决条件代码\n",
    "\n",
    "从之前的部分加载代码，包括[数据集与DataLoaders](data)和[构建模型](buildmodel)。"
   ]
  },
  {
   "cell_type": "code",
   "execution_count": 1,
   "metadata": {},
   "outputs": [
    {
     "name": "stdout",
     "output_type": "stream",
     "text": [
      "项目根目录：/media/pc/data/lxw/ai/torch-book\n"
     ]
    }
   ],
   "source": [
    "from set_env import temp_dir"
   ]
  },
  {
   "cell_type": "code",
   "execution_count": 2,
   "metadata": {
    "collapsed": false
   },
   "outputs": [],
   "source": [
    "import torch\n",
    "from torch import nn\n",
    "from torch.utils.data import DataLoader\n",
    "from torchvision import datasets\n",
    "from torchvision.transforms import ToTensor\n",
    "\n",
    "training_data = datasets.FashionMNIST(\n",
    "    root=temp_dir/\"data\",\n",
    "    train=True,\n",
    "    download=True,\n",
    "    transform=ToTensor()\n",
    ")\n",
    "\n",
    "test_data = datasets.FashionMNIST(\n",
    "    root=temp_dir/\"data\",\n",
    "    train=False,\n",
    "    download=True,\n",
    "    transform=ToTensor()\n",
    ")\n",
    "\n",
    "train_dataloader = DataLoader(training_data, batch_size=64)\n",
    "test_dataloader = DataLoader(test_data, batch_size=64)\n",
    "\n",
    "class NeuralNetwork(nn.Module):\n",
    "    def __init__(self):\n",
    "        super().__init__()\n",
    "        self.flatten = nn.Flatten()\n",
    "        self.linear_relu_stack = nn.Sequential(\n",
    "            nn.Linear(28*28, 512),\n",
    "            nn.ReLU(),\n",
    "            nn.Linear(512, 512),\n",
    "            nn.ReLU(),\n",
    "            nn.Linear(512, 10),\n",
    "        )\n",
    "\n",
    "    def forward(self, x):\n",
    "        x = self.flatten(x)\n",
    "        logits = self.linear_relu_stack(x)\n",
    "        return logits\n",
    "\n",
    "model = NeuralNetwork()"
   ]
  },
  {
   "cell_type": "markdown",
   "metadata": {},
   "source": [
    "## 超参数\n",
    "\n",
    "超参数是可调参数，允许控制模型优化过程。不同的超参数值会影响模型训练和收敛速度（[了解更多](https://pytorch.org/tutorials/beginner/hyperparameter_tuning_tutorial.html) 关于超参数调优）\n",
    "\n",
    "为训练定义了以下超参数：\n",
    "-   **Epoch 数量** - 遍历数据集的次数\n",
    "-   **批量大小** - 在更新参数之前通过网络传播的数据样本数量\n",
    "-   **学习率** - 在每个批次/epoch 更新模型参数的幅度。较小的值会导致学习速度缓慢，而较大的值可能会导致训练过程中出现不可预测的行为。"
   ]
  },
  {
   "cell_type": "code",
   "execution_count": 3,
   "metadata": {
    "collapsed": false
   },
   "outputs": [],
   "source": [
    "learning_rate = 1e-3\n",
    "batch_size = 64\n",
    "epochs = 5"
   ]
  },
  {
   "cell_type": "markdown",
   "metadata": {},
   "source": [
    "## 循环优化\n",
    "\n",
    "一旦我们设置了超参数，就可以通过循环优化来训练和优化我们的模型。优化循环的每次迭代称为一个 **epoch**。\n",
    "\n",
    "每个 epoch 包含两个主要部分：\n",
    "\n",
    "-   **训练循环**：遍历训练数据集，尝试收敛到最优参数。\n",
    "-   **验证/测试循环**：遍历测试数据集，检查模型性能是否有所提高。\n",
    "\n",
    "简要熟悉一下训练循环中使用的一些概念。跳到 [](full-implementation) 查看循环优化的完整实现。\n",
    "\n",
    "### 损失函数\n",
    "\n",
    "当给定一些训练数据时，未训练的网络可能不会给出正确的答案。**损失函数** 衡量获得结果与目标值之间的差异程度，希望在训练过程中最小化损失函数。为了计算损失，使用给定数据样本的输入进行预测，并将其与真实数据标签值进行比较。\n",
    "\n",
    "常见的损失函数包括 {class}`torch.nn.MSELoss`（均方误差）用于回归任务，以及 {class}`torch.nn.NLLLoss`（负对数似然）用于分类任务。{class}`torch.nn.CrossEntropyLoss` 结合了 {class}`torch.nn.LogSoftmax` 和 {class}`torch.nn.NLLLoss`。\n",
    "\n",
    "将模型的输出 `logits` 传递给 {class}`torch.nn.CrossEntropyLoss`，它将对 `logits` 进行归一化并计算预测误差。"
   ]
  },
  {
   "cell_type": "code",
   "execution_count": 4,
   "metadata": {
    "collapsed": false
   },
   "outputs": [],
   "source": [
    "# Initialize the loss function\n",
    "loss_fn = nn.CrossEntropyLoss()"
   ]
  },
  {
   "cell_type": "markdown",
   "metadata": {},
   "source": [
    "## 优化器\n",
    "\n",
    "优化是调整模型参数以在每个训练步骤中减少模型误差的过程。**优化算法** 定义了如何执行此过程（在本例中，使用随机梯度下降）。所有优化逻辑都封装在 `optimizer` 对象中。在这里，使用 SGD 优化器；此外，PyTorch 中还有许多 [不同的优化器](https://pytorch.org/docs/stable/optim.html)，例如 ADAM 和 RMSProp，它们适用于不同类型的模型和数据。\n",
    "\n",
    "通过注册需要训练的模型参数并传入学习率超参数来初始化优化器。"
   ]
  },
  {
   "cell_type": "code",
   "execution_count": 5,
   "metadata": {
    "collapsed": false
   },
   "outputs": [],
   "source": [
    "optimizer = torch.optim.SGD(model.parameters(), lr=learning_rate)"
   ]
  },
  {
   "cell_type": "markdown",
   "metadata": {},
   "source": [
    "在训练循环内部，优化分为三个步骤：\n",
    "\n",
    "-   调用 `optimizer.zero_grad()` 来重置模型参数的梯度。默认情况下，梯度会累加；为了避免重复计算，我们在每次迭代时显式地将它们归零。\n",
    "-   通过调用 `loss.backward()` 反向传播预测损失。PyTorch 将损失相对于每个参数的梯度存储起来。\n",
    "-   一旦我们有了梯度，我们调用 `optimizer.step()` 来根据反向传播中收集的梯度调整参数。"
   ]
  },
  {
   "cell_type": "markdown",
   "metadata": {},
   "source": [
    "(full-implementation)=\n",
    "## 完整实现\n",
    "\n",
    "定义 `train_loop` 来循环执行优化代码，并定义 `test_loop` 来评估模型在测试数据上的性能。\n"
   ]
  },
  {
   "cell_type": "code",
   "execution_count": 6,
   "metadata": {
    "collapsed": false
   },
   "outputs": [],
   "source": [
    "def train_loop(dataloader, model, loss_fn, optimizer):\n",
    "    size = len(dataloader.dataset)\n",
    "    # Set the model to training mode - important for batch normalization and dropout layers\n",
    "    # Unnecessary in this situation but added for best practices\n",
    "    model.train()\n",
    "    for batch, (X, y) in enumerate(dataloader):\n",
    "        # Compute prediction and loss\n",
    "        pred = model(X)\n",
    "        loss = loss_fn(pred, y)\n",
    "\n",
    "        # Backpropagation\n",
    "        loss.backward()\n",
    "        optimizer.step()\n",
    "        optimizer.zero_grad()\n",
    "\n",
    "        if batch % 100 == 0:\n",
    "            loss, current = loss.item(), batch * batch_size + len(X)\n",
    "            print(f\"loss: {loss:>7f}  [{current:>5d}/{size:>5d}]\")\n",
    "\n",
    "\n",
    "def test_loop(dataloader, model, loss_fn):\n",
    "    # Set the model to evaluation mode - important for batch normalization and dropout layers\n",
    "    # Unnecessary in this situation but added for best practices\n",
    "    model.eval()\n",
    "    size = len(dataloader.dataset)\n",
    "    num_batches = len(dataloader)\n",
    "    test_loss, correct = 0, 0\n",
    "\n",
    "    # Evaluating the model with torch.no_grad() ensures that no gradients are computed during test mode\n",
    "    # also serves to reduce unnecessary gradient computations and memory usage for tensors with requires_grad=True\n",
    "    with torch.no_grad():\n",
    "        for X, y in dataloader:\n",
    "            pred = model(X)\n",
    "            test_loss += loss_fn(pred, y).item()\n",
    "            correct += (pred.argmax(1) == y).type(torch.float).sum().item()\n",
    "\n",
    "    test_loss /= num_batches\n",
    "    correct /= size\n",
    "    print(f\"Test Error: \\n Accuracy: {(100*correct):>0.1f}%, Avg loss: {test_loss:>8f} \\n\")"
   ]
  },
  {
   "cell_type": "markdown",
   "metadata": {},
   "source": [
    "初始化损失函数和优化器，并将其传递给 `train_loop` 和 `test_loop`。可以随意增加 `epoch` 的数量以跟踪模型性能的提升。"
   ]
  },
  {
   "cell_type": "code",
   "execution_count": 7,
   "metadata": {
    "collapsed": false,
    "tags": [
     "hide-output"
    ]
   },
   "outputs": [
    {
     "name": "stdout",
     "output_type": "stream",
     "text": [
      "Epoch 1\n",
      "-------------------------------\n",
      "loss: 2.299955  [   64/60000]\n",
      "loss: 2.289047  [ 6464/60000]\n",
      "loss: 2.262702  [12864/60000]\n",
      "loss: 2.262147  [19264/60000]\n",
      "loss: 2.255074  [25664/60000]\n",
      "loss: 2.209852  [32064/60000]\n",
      "loss: 2.228119  [38464/60000]\n",
      "loss: 2.189891  [44864/60000]\n",
      "loss: 2.186696  [51264/60000]\n",
      "loss: 2.157851  [57664/60000]\n",
      "Test Error: \n",
      " Accuracy: 43.2%, Avg loss: 2.150610 \n",
      "\n",
      "Epoch 2\n",
      "-------------------------------\n",
      "loss: 2.160350  [   64/60000]\n",
      "loss: 2.152020  [ 6464/60000]\n",
      "loss: 2.087391  [12864/60000]\n",
      "loss: 2.109184  [19264/60000]\n",
      "loss: 2.062347  [25664/60000]\n",
      "loss: 1.993510  [32064/60000]\n",
      "loss: 2.032360  [38464/60000]\n",
      "loss: 1.952619  [44864/60000]\n",
      "loss: 1.954293  [51264/60000]\n",
      "loss: 1.886026  [57664/60000]\n",
      "Test Error: \n",
      " Accuracy: 60.6%, Avg loss: 1.879761 \n",
      "\n",
      "Epoch 3\n",
      "-------------------------------\n",
      "loss: 1.912941  [   64/60000]\n",
      "loss: 1.882683  [ 6464/60000]\n",
      "loss: 1.757799  [12864/60000]\n",
      "loss: 1.807219  [19264/60000]\n",
      "loss: 1.694405  [25664/60000]\n",
      "loss: 1.644480  [32064/60000]\n",
      "loss: 1.674132  [38464/60000]\n",
      "loss: 1.576804  [44864/60000]\n",
      "loss: 1.595409  [51264/60000]\n",
      "loss: 1.493224  [57664/60000]\n",
      "Test Error: \n",
      " Accuracy: 62.9%, Avg loss: 1.508747 \n",
      "\n",
      "Epoch 4\n",
      "-------------------------------\n",
      "loss: 1.576287  [   64/60000]\n",
      "loss: 1.541384  [ 6464/60000]\n",
      "loss: 1.386807  [12864/60000]\n",
      "loss: 1.465601  [19264/60000]\n",
      "loss: 1.344606  [25664/60000]\n",
      "loss: 1.341592  [32064/60000]\n",
      "loss: 1.360759  [38464/60000]\n",
      "loss: 1.288418  [44864/60000]\n",
      "loss: 1.315813  [51264/60000]\n",
      "loss: 1.218872  [57664/60000]\n",
      "Test Error: \n",
      " Accuracy: 64.0%, Avg loss: 1.244145 \n",
      "\n",
      "Epoch 5\n",
      "-------------------------------\n",
      "loss: 1.322750  [   64/60000]\n",
      "loss: 1.304346  [ 6464/60000]\n",
      "loss: 1.136508  [12864/60000]\n",
      "loss: 1.245479  [19264/60000]\n",
      "loss: 1.122106  [25664/60000]\n",
      "loss: 1.148881  [32064/60000]\n",
      "loss: 1.172815  [38464/60000]\n",
      "loss: 1.111189  [44864/60000]\n",
      "loss: 1.142142  [51264/60000]\n",
      "loss: 1.061584  [57664/60000]\n",
      "Test Error: \n",
      " Accuracy: 65.1%, Avg loss: 1.081436 \n",
      "\n",
      "Epoch 6\n",
      "-------------------------------\n",
      "loss: 1.154250  [   64/60000]\n",
      "loss: 1.156330  [ 6464/60000]\n",
      "loss: 0.972618  [12864/60000]\n",
      "loss: 1.107574  [19264/60000]\n",
      "loss: 0.986492  [25664/60000]\n",
      "loss: 1.020281  [32064/60000]\n",
      "loss: 1.059144  [38464/60000]\n",
      "loss: 0.999622  [44864/60000]\n",
      "loss: 1.029244  [51264/60000]\n",
      "loss: 0.964120  [57664/60000]\n",
      "Test Error: \n",
      " Accuracy: 66.0%, Avg loss: 0.977057 \n",
      "\n",
      "Epoch 7\n",
      "-------------------------------\n",
      "loss: 1.037883  [   64/60000]\n",
      "loss: 1.060785  [ 6464/60000]\n",
      "loss: 0.861099  [12864/60000]\n",
      "loss: 1.015254  [19264/60000]\n",
      "loss: 0.901760  [25664/60000]\n",
      "loss: 0.929478  [32064/60000]\n",
      "loss: 0.985907  [38464/60000]\n",
      "loss: 0.928371  [44864/60000]\n",
      "loss: 0.951404  [51264/60000]\n",
      "loss: 0.899121  [57664/60000]\n",
      "Test Error: \n",
      " Accuracy: 66.9%, Avg loss: 0.906147 \n",
      "\n",
      "Epoch 8\n",
      "-------------------------------\n",
      "loss: 0.952631  [   64/60000]\n",
      "loss: 0.994779  [ 6464/60000]\n",
      "loss: 0.781947  [12864/60000]\n",
      "loss: 0.949366  [19264/60000]\n",
      "loss: 0.845234  [25664/60000]\n",
      "loss: 0.862846  [32064/60000]\n",
      "loss: 0.935118  [38464/60000]\n",
      "loss: 0.881270  [44864/60000]\n",
      "loss: 0.894825  [51264/60000]\n",
      "loss: 0.852345  [57664/60000]\n",
      "Test Error: \n",
      " Accuracy: 68.1%, Avg loss: 0.855028 \n",
      "\n",
      "Epoch 9\n",
      "-------------------------------\n",
      "loss: 0.887047  [   64/60000]\n",
      "loss: 0.945449  [ 6464/60000]\n",
      "loss: 0.722958  [12864/60000]\n",
      "loss: 0.899695  [19264/60000]\n",
      "loss: 0.804949  [25664/60000]\n",
      "loss: 0.812118  [32064/60000]\n",
      "loss: 0.896828  [38464/60000]\n",
      "loss: 0.848763  [44864/60000]\n",
      "loss: 0.851984  [51264/60000]\n",
      "loss: 0.816333  [57664/60000]\n",
      "Test Error: \n",
      " Accuracy: 69.3%, Avg loss: 0.816232 \n",
      "\n",
      "Epoch 10\n",
      "-------------------------------\n",
      "loss: 0.834691  [   64/60000]\n",
      "loss: 0.905861  [ 6464/60000]\n",
      "loss: 0.677137  [12864/60000]\n",
      "loss: 0.861224  [19264/60000]\n",
      "loss: 0.774445  [25664/60000]\n",
      "loss: 0.772846  [32064/60000]\n",
      "loss: 0.866035  [38464/60000]\n",
      "loss: 0.825091  [44864/60000]\n",
      "loss: 0.818532  [51264/60000]\n",
      "loss: 0.787082  [57664/60000]\n",
      "Test Error: \n",
      " Accuracy: 70.5%, Avg loss: 0.785396 \n",
      "\n",
      "Done!\n"
     ]
    }
   ],
   "source": [
    "loss_fn = nn.CrossEntropyLoss()\n",
    "optimizer = torch.optim.SGD(model.parameters(), lr=learning_rate)\n",
    "\n",
    "epochs = 10\n",
    "for t in range(epochs):\n",
    "    print(f\"Epoch {t+1}\\n-------------------------------\")\n",
    "    train_loop(train_dataloader, model, loss_fn, optimizer)\n",
    "    test_loop(test_dataloader, model, loss_fn)\n",
    "print(\"Done!\")"
   ]
  },
  {
   "cell_type": "markdown",
   "metadata": {},
   "source": [
    "## 进一步阅读\n",
    "\n",
    "-   [损失函数](https://pytorch.org/docs/stable/nn.html#loss-functions)\n",
    "-   [torch.optim](https://pytorch.org/docs/stable/optim.html)\n",
    "-   [预热训练模型](https://pytorch.org/tutorials/recipes/recipes/warmstarting_model_using_parameters_from_a_different_model.html)"
   ]
  }
 ],
 "metadata": {
  "kernelspec": {
   "display_name": "ai",
   "language": "python",
   "name": "python3"
  },
  "language_info": {
   "codemirror_mode": {
    "name": "ipython",
    "version": 3
   },
   "file_extension": ".py",
   "mimetype": "text/x-python",
   "name": "python",
   "nbconvert_exporter": "python",
   "pygments_lexer": "ipython3",
   "version": "3.12.7"
  }
 },
 "nbformat": 4,
 "nbformat_minor": 0
}
