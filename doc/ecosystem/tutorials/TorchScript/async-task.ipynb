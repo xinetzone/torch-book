{
 "cells": [
  {
   "cell_type": "markdown",
   "metadata": {},
   "source": [
    "# 异步任务\n",
    "\n",
    "## {func}`torch.jit.fork`\n",
    "{func}`torch.jit.fork` 创建异步任务执行函数，并获取该执行结果的引用值。"
   ]
  },
  {
   "cell_type": "code",
   "execution_count": 1,
   "metadata": {},
   "outputs": [
    {
     "data": {
      "text/plain": [
       "<function torch.jit._async.fork(func, *args, **kwargs)>"
      ]
     },
     "execution_count": 1,
     "metadata": {},
     "output_type": "execute_result"
    }
   ],
   "source": [
    "import torch\n",
    "torch.jit.fork"
   ]
  },
  {
   "cell_type": "markdown",
   "metadata": {},
   "source": [
    "{func}`~torch.jit.fork` 会立即返回，因此 `func` 的返回值可能尚未计算完成。要强制完成任务并访问返回值，请在 {class}`~torch.jit.Future` 上调用 {func}`torch.jit.wait`。{func}`~torch.jit.fork` 调用时，如果 `func` 返回类型为 `T`，则其类型为 `torch.jit.Future[T]`。{func}`~torch.jit.fork` 调用可以任意嵌套，并且可以接受位置参数和关键字参数。异步执行仅在 TorchScript 中运行时才会发生。如果在纯 Python 中运行，{func}`~torch.jit.fork` 不会并行执行。在跟踪过程中调用 {func}`~torch.jit.fork` 时，也不会并行执行，但 {func}`~torch.jit.fork` 和 {func}`torch.jit.wait` 调用将被捕获在导出的 IR 图中。"
   ]
  },
  {
   "cell_type": "markdown",
   "metadata": {},
   "source": [
    "```{warning}\n",
    "{func}`~torch.jit.fork`  任务将以非确定性方式执行。建议仅对不修改其输入、模块属性或全局状态的纯函数生成并行 {func}`~torch.jit.fork` 任务。\n",
    "```"
   ]
  },
  {
   "cell_type": "markdown",
   "metadata": {},
   "source": [
    "`fork` 自由函数："
   ]
  },
  {
   "cell_type": "code",
   "execution_count": 2,
   "metadata": {},
   "outputs": [],
   "source": [
    "import torch\n",
    "from torch import Tensor\n",
    "\n",
    "def foo(a : Tensor, b : int) -> Tensor:\n",
    "    return a + b\n",
    "\n",
    "def bar(a):\n",
    "    fut : torch.jit.Future[Tensor] = torch.jit.fork(foo, a, b=2)\n",
    "    return torch.jit.wait(fut)\n",
    "script_bar = torch.jit.script(bar)"
   ]
  },
  {
   "cell_type": "code",
   "execution_count": 3,
   "metadata": {},
   "outputs": [],
   "source": [
    "x = torch.tensor(2)\n",
    "# only the scripted version executes asynchronously\n",
    "assert script_bar(x) == bar(x)\n",
    "# trace is not run asynchronously, but fork is captured in IR\n",
    "graph = torch.jit.trace(bar, (x,)).graph\n",
    "assert \"fork\" in str(graph)"
   ]
  },
  {
   "cell_type": "markdown",
   "metadata": {},
   "source": [
    "`fork` 模块："
   ]
  },
  {
   "cell_type": "code",
   "execution_count": 4,
   "metadata": {},
   "outputs": [],
   "source": [
    "import torch\n",
    "from torch import Tensor\n",
    "class AddMod(torch.nn.Module):\n",
    "    def forward(self, a: Tensor, b : int):\n",
    "        return a + b\n",
    "class Mod(torch.nn.Module):\n",
    "    def __init__(self) -> None:\n",
    "        super().__init__()\n",
    "        self.mod = AddMod()\n",
    "    def forward(self, a):\n",
    "        fut = torch.jit.fork(self.mod, a, b=2)\n",
    "        return torch.jit.wait(fut)\n",
    "x = torch.tensor(2)\n",
    "mod = Mod()\n",
    "assert mod(x) == torch.jit.script(mod).forward(x)"
   ]
  },
  {
   "cell_type": "code",
   "execution_count": null,
   "metadata": {},
   "outputs": [],
   "source": []
  }
 ],
 "metadata": {
  "kernelspec": {
   "display_name": "ai",
   "language": "python",
   "name": "python3"
  },
  "language_info": {
   "codemirror_mode": {
    "name": "ipython",
    "version": 3
   },
   "file_extension": ".py",
   "mimetype": "text/x-python",
   "name": "python",
   "nbconvert_exporter": "python",
   "pygments_lexer": "ipython3",
   "version": "3.12.7"
  }
 },
 "nbformat": 4,
 "nbformat_minor": 2
}
