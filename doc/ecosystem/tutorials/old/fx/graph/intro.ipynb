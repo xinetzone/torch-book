{
 "cells": [
  {
   "cell_type": "markdown",
   "metadata": {},
   "source": [
    "# {class}`~torch.fx.Graph` 简介\n",
    "{class}`~torch.fx.Graph` 的语义可以在 {class}`~torch.fx.Graph` 文档中找到完整的处理方法，但是在这里只介绍基础知识。{class}`~torch.fx.Graph` 是一个数据结构，表示 {class}`~torch.fx.GraphModule` 上的方法。这需要的信息是：\n",
    "\n",
    "- 此方法的输入是什么？\n",
    "- 此方法当中执行了哪些运算？\n",
    "- 此方法的输出是什么？\n",
    "\n",
    "这三个概念都用 {class}`~torch.fx.Node` 实例表示。\n",
    "\n",
    "用简短的例子来看看这是什么意思："
   ]
  },
  {
   "cell_type": "code",
   "execution_count": 1,
   "metadata": {},
   "outputs": [
    {
     "name": "stdout",
     "output_type": "stream",
     "text": [
      "opcode         name           target                                                   args                kwargs\n",
      "-------------  -------------  -------------------------------------------------------  ------------------  -----------\n",
      "placeholder    x              x                                                        ()                  {}\n",
      "get_attr       linear_weight  linear.weight                                            ()                  {}\n",
      "call_function  add            <built-in function add>                                  (x, linear_weight)  {}\n",
      "call_module    linear         linear                                                   (add,)              {}\n",
      "call_method    relu           relu                                                     (linear,)           {}\n",
      "call_function  sum_1          <built-in method sum of type object at 0x7f0f55399aa0>   (relu,)             {'dim': -1}\n",
      "call_function  topk           <built-in method topk of type object at 0x7f0f55399aa0>  (sum_1, 3)          {}\n",
      "output         output         output                                                   (topk,)             {}\n"
     ]
    }
   ],
   "source": [
    "import torch\n",
    "from torch import fx, nn\n",
    "import warnings\n",
    "warnings.filterwarnings(\"ignore\", category=UserWarning) # 忽略用户警告\n",
    "\n",
    "class MyModule(nn.Module):\n",
    "    def __init__(self):\n",
    "        super().__init__()\n",
    "        self.param = nn.Parameter(torch.rand(3, 4))\n",
    "        self.linear = nn.Linear(4, 5)\n",
    "\n",
    "    def forward(self, x):\n",
    "        return torch.topk(torch.sum(self.linear(x + self.linear.weight).relu(), \n",
    "                                    dim=-1), 3)\n",
    "\n",
    "m = MyModule()\n",
    "gm = fx.symbolic_trace(m)\n",
    "gm.graph.print_tabular()"
   ]
  },
  {
   "cell_type": "code",
   "execution_count": 3,
   "metadata": {},
   "outputs": [
    {
     "name": "stdout",
     "output_type": "stream",
     "text": [
      "graph():\n",
      "    %x : [num_users=1] = placeholder[target=x]\n",
      "    %linear_weight : [num_users=1] = get_attr[target=linear.weight]\n",
      "    %add : [num_users=1] = call_function[target=operator.add](args = (%x, %linear_weight), kwargs = {})\n",
      "    %linear : [num_users=1] = call_module[target=linear](args = (%add,), kwargs = {})\n",
      "    %relu : [num_users=1] = call_method[target=relu](args = (%linear,), kwargs = {})\n",
      "    %sum_1 : [num_users=1] = call_function[target=torch.sum](args = (%relu,), kwargs = {dim: -1})\n",
      "    %topk : [num_users=1] = call_function[target=torch.topk](args = (%sum_1, 3), kwargs = {})\n",
      "    return topk\n"
     ]
    }
   ],
   "source": [
    "print(gm.graph)"
   ]
  },
  {
   "cell_type": "markdown",
   "metadata": {},
   "source": [
    "这里定义了模块 `MyModule`，用于演示，实例化它，象征性地跟踪它，然后调用 {meth}`~torch.fx.Graph.print_tabular` 方法打印出一个表，显示这个图的节点。\n",
    "\n",
    "可以使用这些信息来回答上面提出的问题。\n",
    "\n",
    "上述表格足以回答我们的三个问题：\n",
    "\n",
    "1. 这个方法的输入是什么？在 FX 中, 方法输入被表示为 `placeholder` 节点。在我们的例子中，只有一个 `placeholder`，可以推断出来我们的 `forward` 的函数除了首参数 `self` 外只有一个额外的输入（即 `x`）。\n",
    "2. 这个方法当中执行了哪些运算？我们可以看到 `get_attr`、`call_funcation`、`call_module` 等节点表示了方法中的运算。\n",
    "3. 这个方法的输出是什么？我们使用特别的 `output` 来表示 {class}`~torch.fx.Graph` 的输出。\n",
    "\n",
    "现在知道了方法是如何在 {mod}`torch.fx` 中被记录表示的, 下一步便是通过 {class}`~torch.fx.Graph` 修改它。\n",
    "\n",
    "````{note}\n",
    "{class}`~torch.fx.Node` 是表示 {class}`~torch.fx.Graph` 中各个运算的数据结构。在大多数情况下，{class}`~torch.fx.Node` 表示对各种实体的调用点，如算子、方法和模块（一些例外包括指定函数输入和输出的 {class}`~torch.fx.Node`）。每个 {class}`~torch.fx.Node` 都有一个由 op 属性指定的函数。\n",
    "````"
   ]
  }
 ],
 "metadata": {
  "kernelspec": {
   "display_name": "Python 3.10.4 ('tvmx': conda)",
   "language": "python",
   "name": "python3"
  },
  "language_info": {
   "codemirror_mode": {
    "name": "ipython",
    "version": 3
   },
   "file_extension": ".py",
   "mimetype": "text/x-python",
   "name": "python",
   "nbconvert_exporter": "python",
   "pygments_lexer": "ipython3",
   "version": "3.11.7"
  },
  "orig_nbformat": 4,
  "vscode": {
   "interpreter": {
    "hash": "e579259ee6098e2b9319de590d145b4b096774fe457bdf04260e3ba5c171e887"
   }
  }
 },
 "nbformat": 4,
 "nbformat_minor": 2
}
