{
 "cells": [
  {
   "cell_type": "markdown",
   "metadata": {},
   "source": [
    "# 追踪 {class}`~torch.fx.Graph`\n",
    "\n",
    "构建新 {class}`~torch.fx.Graph` 的一种方法是直接操控旧图。为了帮助实现这一点，可以简单地从符号跟踪中获取 {class}`~torch.fx.Graph` 并对其进行修改。例如，假设希望用 {func}`torch.mul` 调用替换 {func}`torch.add` 调用。"
   ]
  },
  {
   "cell_type": "code",
   "execution_count": 1,
   "metadata": {},
   "outputs": [],
   "source": [
    "import torch\n",
    "from torch import fx, nn\n",
    "\n",
    "# 样例模块\n",
    "class M(nn.Module):\n",
    "    def forward(self, x, y):\n",
    "        return torch.add(x, y)"
   ]
  },
  {
   "cell_type": "markdown",
   "metadata": {},
   "source": [
    "查看节点信息："
   ]
  },
  {
   "cell_type": "code",
   "execution_count": 2,
   "metadata": {},
   "outputs": [
    {
     "name": "stdout",
     "output_type": "stream",
     "text": [
      "x placeholder x\n",
      "y placeholder y\n",
      "add call_function <built-in method add of type object at 0x7fd8cd04a200>\n",
      "output output output\n"
     ]
    }
   ],
   "source": [
    "m = M()\n",
    "gm: fx.GraphModule = fx.symbolic_trace(m)\n",
    "for node in gm.graph.nodes:\n",
    "    print(node, node.op, node.target)"
   ]
  },
  {
   "cell_type": "code",
   "execution_count": 3,
   "metadata": {},
   "outputs": [],
   "source": [
    "tracer = fx.Tracer()\n",
    "graph: fx.Graph = tracer.trace(m)\n",
    "# FX 将其 Graph 表示为节点的有序列表，因此可以遍历它们。\n",
    "for node in graph.nodes:\n",
    "    # 检查是否正在调用函数（例如：torch.add）\n",
    "    if node.op == 'call_function':\n",
    "        # target 属性是 call_function 调用的函数。\n",
    "        if node.target == torch.add:\n",
    "            node.target = torch.mul\n",
    "graph.lint() # 做一些检查，以确保 Graph 是格式良好的。\n",
    "gm = fx.GraphModule(m, graph)"
   ]
  },
  {
   "cell_type": "markdown",
   "metadata": {},
   "source": [
    "或者可以这样："
   ]
  },
  {
   "cell_type": "code",
   "execution_count": 4,
   "metadata": {},
   "outputs": [
    {
     "name": "stdout",
     "output_type": "stream",
     "text": [
      "opcode         name    target                                                  args    kwargs\n",
      "-------------  ------  ------------------------------------------------------  ------  --------\n",
      "placeholder    x       x                                                       ()      {}\n",
      "placeholder    y       y                                                       ()      {}\n",
      "call_function  add     <built-in method mul of type object at 0x7fd8cd04a200>  (x, y)  {}\n",
      "output         output  output                                                  (add,)  {}\n"
     ]
    }
   ],
   "source": [
    "m = M()\n",
    "traced: fx.GraphModule = fx.symbolic_trace(m)\n",
    "for node in traced.graph.nodes:\n",
    "    if node.op == 'call_function':\n",
    "        # target 属性是 call_function 调用的函数。\n",
    "        if node.target == torch.add:\n",
    "            node.target = torch.mul\n",
    "traced.graph.lint() # 做一些检查，以确保 Graph 是格式良好的。\n",
    "traced.recompile()\n",
    "traced.graph.print_tabular()"
   ]
  },
  {
   "cell_type": "markdown",
   "metadata": {},
   "source": [
    "简单的验证："
   ]
  },
  {
   "cell_type": "code",
   "execution_count": 5,
   "metadata": {},
   "outputs": [
    {
     "data": {
      "text/plain": [
       "tensor([5])"
      ]
     },
     "execution_count": 5,
     "metadata": {},
     "output_type": "execute_result"
    }
   ],
   "source": [
    "x = torch.tensor([2])\n",
    "y = torch.tensor([3])\n",
    "m(x, y)"
   ]
  },
  {
   "cell_type": "code",
   "execution_count": 6,
   "metadata": {},
   "outputs": [
    {
     "data": {
      "text/plain": [
       "tensor([6])"
      ]
     },
     "execution_count": 6,
     "metadata": {},
     "output_type": "execute_result"
    }
   ],
   "source": [
    "traced(x, y)"
   ]
  },
  {
   "cell_type": "markdown",
   "metadata": {},
   "source": [
    "还可以进行更复杂的 {class}`~torch.fx.Graph` 重写，比如删除或追加节点。为了帮助完成这些变换，FX 提供了变换 {class}`~torch.fx.Graph` 的实用函数。下面是使用这些 API 附加 {func}`~torch.relu` 调用的示例。"
   ]
  },
  {
   "cell_type": "code",
   "execution_count": 7,
   "metadata": {},
   "outputs": [],
   "source": [
    "def inserting_after(node, new_node=torch.relu):\n",
    "    \"\"\"指定插入点，并在此范围内添加到 Graph 中的任何节点都将插入到 `node` 之后\"\"\"\n",
    "    with traced.graph.inserting_after(node):\n",
    "        # 插入新的 `call_function` 节点调用 `torch.relu``\n",
    "        new_node = traced.graph.call_function(new_node, args=(node,))\n",
    "         \n",
    "        # 希望所有使用 `node` 值的节点后添加 `relu` 回调\n",
    "        # 使用 `replace_all_uses_with` API 来做到这一点。\n",
    "        node.replace_all_uses_with(new_node)"
   ]
  }
 ],
 "metadata": {
  "kernelspec": {
   "display_name": "Python 3.10.4 ('tvmx': conda)",
   "language": "python",
   "name": "python3"
  },
  "language_info": {
   "codemirror_mode": {
    "name": "ipython",
    "version": 3
   },
   "file_extension": ".py",
   "mimetype": "text/x-python",
   "name": "python",
   "nbconvert_exporter": "python",
   "pygments_lexer": "ipython3",
   "version": "3.10.4"
  },
  "orig_nbformat": 4,
  "vscode": {
   "interpreter": {
    "hash": "e579259ee6098e2b9319de590d145b4b096774fe457bdf04260e3ba5c171e887"
   }
  }
 },
 "nbformat": 4,
 "nbformat_minor": 2
}
