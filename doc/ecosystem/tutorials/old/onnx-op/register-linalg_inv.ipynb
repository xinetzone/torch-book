{
 "cells": [
  {
   "cell_type": "markdown",
   "metadata": {},
   "source": [
    "# 注册 `aten::linalg_inv` 到 ONNX\n",
    "\n",
    "参考：[test_pytorch_onnx_shape_inference](https://github.com/pytorch/pytorch/blob/main/test/onnx/test_pytorch_onnx_shape_inference.py#L451)"
   ]
  },
  {
   "cell_type": "code",
   "execution_count": 1,
   "metadata": {},
   "outputs": [
    {
     "name": "stdout",
     "output_type": "stream",
     "text": [
      "================ Diagnostic Run torch.onnx.export version 2.0.0 ================\n",
      "verbose: False, log level: Level.ERROR\n",
      "======================= 0 NONE 0 NOTE 0 WARNING 0 ERROR ========================\n",
      "\n"
     ]
    }
   ],
   "source": [
    "import torch\n",
    "opset_version = 14\n",
    "class CustomInverse(torch.nn.Module):\n",
    "    def forward(self, x):\n",
    "        return torch.inverse(x) + x\n",
    "\n",
    "def linalg_inv_settype(g, self):\n",
    "    return g.op(\"com.microsoft::Inverse\", self).setType(\n",
    "        self.type().with_dtype(torch.float).with_sizes([None, 3, 3])\n",
    "    )\n",
    "\n",
    "torch.onnx.register_custom_op_symbolic(\"::linalg_inv\", linalg_inv_settype, 9)\n",
    "model = CustomInverse()\n",
    "x = torch.randn(2, 3, 3)\n",
    "torch.onnx.export(\n",
    "    model,\n",
    "    (x,),\n",
    "    \"inv.onnx\",\n",
    "    opset_version=opset_version,\n",
    "    custom_opsets={\"com.microsoft\": 1},\n",
    "    input_names=[\"x\"],\n",
    "    dynamic_axes={\"x\": {0: \"batch\"}},\n",
    ")"
   ]
  },
  {
   "cell_type": "code",
   "execution_count": null,
   "metadata": {},
   "outputs": [],
   "source": []
  }
 ],
 "metadata": {
  "kernelspec": {
   "display_name": "tvmz",
   "language": "python",
   "name": "python3"
  },
  "language_info": {
   "codemirror_mode": {
    "name": "ipython",
    "version": 3
   },
   "file_extension": ".py",
   "mimetype": "text/x-python",
   "name": "python",
   "nbconvert_exporter": "python",
   "pygments_lexer": "ipython3",
   "version": "3.10.12"
  },
  "orig_nbformat": 4
 },
 "nbformat": 4,
 "nbformat_minor": 2
}
