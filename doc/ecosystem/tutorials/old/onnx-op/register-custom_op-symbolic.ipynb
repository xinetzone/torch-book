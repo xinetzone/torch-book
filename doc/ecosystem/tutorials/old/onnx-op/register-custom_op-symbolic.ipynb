{
 "cells": [
  {
   "cell_type": "markdown",
   "metadata": {},
   "source": [
    "# 注册自定义 ONNX 算子"
   ]
  },
  {
   "cell_type": "code",
   "execution_count": 2,
   "metadata": {},
   "outputs": [
    {
     "name": "stdout",
     "output_type": "stream",
     "text": [
      "================ Diagnostic Run torch.onnx.export version 2.0.0 ================\n",
      "verbose: False, log level: Level.ERROR\n",
      "======================= 0 NONE 0 NOTE 0 WARNING 0 ERROR ========================\n",
      "\n"
     ]
    }
   ],
   "source": [
    "import functools\n",
    "import torch\n",
    "from torch.onnx import symbolic_helper\n",
    "from torch.onnx._globals import GLOBALS\n",
    "from torch.onnx._internal import _beartype, jit_utils, registration\n",
    "from torch.onnx import register_custom_op_symbolic\n",
    "\n",
    "class Model(torch.nn.Module):\n",
    "    def __init__(self):\n",
    "        super().__init__()\n",
    "\n",
    "    def forward(self, x):\n",
    "        return torch.asinh(x)\n",
    "\n",
    "_onnx_symbolic = functools.partial(registration.onnx_symbolic, opset=14)\n",
    "@_onnx_symbolic(\"aten::asinh\")\n",
    "# @symbolic_helper.parse_args(\"v\")\n",
    "# @_beartype.beartype\n",
    "def asinh_symbolic(g: jit_utils.GraphContext, self, *, out=None):\n",
    "    return g.op(\"Asinh\", self)\n",
    "register_custom_op_symbolic('aten::asinh', asinh_symbolic, 14)\n",
    "\n",
    "model = Model()\n",
    "inputs = torch.rand(1, 3, 10, 10)\n",
    "torch.onnx.export(model, inputs, 'asinh.onnx')"
   ]
  },
  {
   "cell_type": "code",
   "execution_count": null,
   "metadata": {},
   "outputs": [],
   "source": [
    "linalg_inv"
   ]
  }
 ],
 "metadata": {
  "kernelspec": {
   "display_name": "tvmz",
   "language": "python",
   "name": "python3"
  },
  "language_info": {
   "codemirror_mode": {
    "name": "ipython",
    "version": 3
   },
   "file_extension": ".py",
   "mimetype": "text/x-python",
   "name": "python",
   "nbconvert_exporter": "python",
   "pygments_lexer": "ipython3",
   "version": "3.10.12"
  },
  "orig_nbformat": 4
 },
 "nbformat": 4,
 "nbformat_minor": 2
}
