{
 "cells": [
  {
   "cell_type": "markdown",
   "metadata": {},
   "source": [
    "# Accuracy\n",
    "\n",
    "计算公式：\n",
    "\n",
    "$$\n",
    "\\operatorname{Accuracy} = \\frac{1}{N} \\sum_i^N \\mathbf{1}(\\mathbf{y}_i, \\hat{\\mathbf{y}_i})\n",
    "$$ (Accuracy)\n",
    "\n",
    "$\\mathbf{y}$ 是目标值的张量，$\\hat{\\mathbf{y}}$ 是预测值的张量。\n",
    "\n",
    "对于具有概率或 logits 预测的多类（multi-class）和多维多类（multi-dimensional multi-class）数据，参数 `top_k` 将此度量推广为 Top-K accuracy 度量：对于每个样本，考虑 Top-K 最高概率或 logits 评分项以找到正确的标签。\n",
    "\n",
    "对于多标签（multi-label）和多维多类（multi-dimensional multi-class）输入，该度量默认计算“全局”accuracy，它分别计算所有标签或子样本。这可以通过设置 `subset_accuracy=True` 更改为子集 accuracy（要求正确预测样本中的所有标签或子样本）。"
   ]
  },
  {
   "cell_type": "code",
   "execution_count": 4,
   "metadata": {},
   "outputs": [
    {
     "data": {
      "text/plain": [
       "tensor(0.5000)"
      ]
     },
     "execution_count": 4,
     "metadata": {},
     "output_type": "execute_result"
    }
   ],
   "source": [
    "import torch\n",
    "from torchmetrics import Accuracy\n",
    "\n",
    "target = torch.tensor([0, 1, 2, 3])\n",
    "preds = torch.tensor([0, 2, 1, 3])\n",
    "accuracy = Accuracy()\n",
    "accuracy(preds, target)"
   ]
  },
  {
   "cell_type": "code",
   "execution_count": 5,
   "metadata": {},
   "outputs": [
    {
     "data": {
      "text/plain": [
       "tensor(0.6667)"
      ]
     },
     "execution_count": 5,
     "metadata": {},
     "output_type": "execute_result"
    }
   ],
   "source": [
    "target = torch.tensor([0, 1, 2])\n",
    "preds = torch.tensor([[0.1, 0.9, 0], [0.3, 0.1, 0.6], [0.2, 0.5, 0.3]])\n",
    "accuracy = Accuracy(top_k=2)\n",
    "accuracy(preds, target)"
   ]
  },
  {
   "cell_type": "code",
   "execution_count": null,
   "metadata": {},
   "outputs": [],
   "source": []
  }
 ],
 "metadata": {
  "kernelspec": {
   "display_name": "Python 3.10.4 ('tvmx': conda)",
   "language": "python",
   "name": "python3"
  },
  "language_info": {
   "codemirror_mode": {
    "name": "ipython",
    "version": 3
   },
   "file_extension": ".py",
   "mimetype": "text/x-python",
   "name": "python",
   "nbconvert_exporter": "python",
   "pygments_lexer": "ipython3",
   "version": "3.10.4"
  },
  "orig_nbformat": 4,
  "vscode": {
   "interpreter": {
    "hash": "e579259ee6098e2b9319de590d145b4b096774fe457bdf04260e3ba5c171e887"
   }
  }
 },
 "nbformat": 4,
 "nbformat_minor": 2
}
