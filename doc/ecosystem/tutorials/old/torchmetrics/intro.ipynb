{
 "cells": [
  {
   "cell_type": "markdown",
   "metadata": {},
   "source": [
    "# TorchMetrics 简介\n",
    "\n",
    "[TorchMetrics](https://torchmetrics.readthedocs.io/en/latest/) 包含 80 多个 PyTorch 度量实现以及易于使用的 API 来创建自定义度量的集合。它提供了：\n",
    "\n",
    "- 标准化接口以增加再现性\n",
    "- 减少样板\n",
    "- 兼容分布训练\n",
    "- 严格测试\n",
    "- 批量自动累积\n",
    "- 多个设备之间的自动同步\n",
    "\n",
    "你可以在任何 PyTorch 模型中使用 TorchMetrics，或者在 [PyTorch Lightning](https://pytorch-lightning.readthedocs.io/en/stable/) 中使用 TorchMetrics 来享受以下额外的好处：\n",
    "\n",
    "- 数据将始终放在与 metrics 相同的设备上\n",
    "- 您可以在 Lightning 中直接记录 `Metric` 对象，以减少更多的样板\n",
    "\n",
    "## 函数模式\n",
    "\n",
    "类似于 {mod}`torch.nn` 大多数度量既有基于类的版本，也有基于函数的版本。函数版本实现了计算每个度量所需的基本运算。它们是简单的 Python 函数，{class}`torch.Tensor` 作为输入并返回对应的 {class}`torch.Tensor` 作为度量。\n",
    "\n",
    "下面的代码片段显示了使用函数接口计算精度的简单示例："
   ]
  },
  {
   "cell_type": "code",
   "execution_count": 1,
   "metadata": {},
   "outputs": [
    {
     "data": {
      "text/plain": [
       "tensor(0.1000)"
      ]
     },
     "execution_count": 1,
     "metadata": {},
     "output_type": "execute_result"
    }
   ],
   "source": [
    "import torch\n",
    "import torchmetrics\n",
    "\n",
    "# 模拟分类问题\n",
    "preds = torch.randn(10, 5).softmax(dim=-1)\n",
    "target = torch.randint(5, (10,))\n",
    "\n",
    "acc = torchmetrics.functional.accuracy(preds, target)\n",
    "acc"
   ]
  },
  {
   "cell_type": "markdown",
   "metadata": {},
   "source": [
    "## 模块模式\n",
    "\n",
    "几乎所有的函数度量都有对应的基于类的度量，该度量在下面称为函数对应。基于类的度量的特征是有一个或多个内部度量状态（类似于 PyTorch 模块的参数），允许它们提供额外的功能：\n",
    "\n",
    "- 多批次积累\n",
    "- 多台设备间自动同步\n",
    "- 度量算法\n",
    "\n",
    "下面的代码展示了如何使用基于类的接口："
   ]
  },
  {
   "cell_type": "code",
   "execution_count": 2,
   "metadata": {},
   "outputs": [
    {
     "name": "stdout",
     "output_type": "stream",
     "text": [
      "Accuracy on batch 0: 0.4000000059604645\n",
      "Accuracy on batch 1: 0.4000000059604645\n",
      "Accuracy on batch 2: 0.10000000149011612\n",
      "Accuracy on batch 3: 0.5\n",
      "Accuracy on batch 4: 0.20000000298023224\n",
      "Accuracy on batch 5: 0.30000001192092896\n",
      "Accuracy on batch 6: 0.20000000298023224\n",
      "Accuracy on batch 7: 0.4000000059604645\n",
      "Accuracy on batch 8: 0.30000001192092896\n",
      "Accuracy on batch 9: 0.4000000059604645\n",
      "Accuracy on all data: 0.3199999928474426\n"
     ]
    }
   ],
   "source": [
    "import torch\n",
    "import torchmetrics\n",
    "\n",
    "# 初始化 metric\n",
    "metric = torchmetrics.Accuracy()\n",
    "\n",
    "n_batches = 10\n",
    "for i in range(n_batches):\n",
    "    # 模拟分类问题\n",
    "    preds = torch.randn(10, 5).softmax(dim=-1)\n",
    "    target = torch.randint(5, (10,))\n",
    "    # 度量当前 batch\n",
    "    acc = metric(preds, target)\n",
    "    print(f\"Accuracy on batch {i}: {acc}\")\n",
    "\n",
    "# 使用自定义累积对所有批次进行度量\n",
    "acc = metric.compute()\n",
    "print(f\"Accuracy on all data: {acc}\")\n",
    "\n",
    "# 重置内部状态，以便度量为新数据做好准备\n",
    "metric.reset()"
   ]
  },
  {
   "cell_type": "markdown",
   "metadata": {},
   "source": [
    "## 自定义度量\n",
    "\n",
    "实现你自定义度量就像子类化 {class}`torch.nn.Module` 一样简单。简单地说，子类化 {class}`~torchmetrics.Metric` 并执行以下运算：\n",
    "\n",
    "- 在实现 `__init__` 的地方调用 `self.add_state` 以用于度量计算所需的每个内部状态\n",
    "- 实现 `update` 方法，其中更新度量状态所需的所有逻辑都放在这里\n",
    "- 实现 `compute` 方法，在这里进行最终的度量计算"
   ]
  }
 ],
 "metadata": {
  "kernelspec": {
   "display_name": "Python 3.10.4 ('tvmx': conda)",
   "language": "python",
   "name": "python3"
  },
  "language_info": {
   "codemirror_mode": {
    "name": "ipython",
    "version": 3
   },
   "file_extension": ".py",
   "mimetype": "text/x-python",
   "name": "python",
   "nbconvert_exporter": "python",
   "pygments_lexer": "ipython3",
   "version": "3.10.4"
  },
  "orig_nbformat": 4,
  "vscode": {
   "interpreter": {
    "hash": "e579259ee6098e2b9319de590d145b4b096774fe457bdf04260e3ba5c171e887"
   }
  }
 },
 "nbformat": 4,
 "nbformat_minor": 2
}
