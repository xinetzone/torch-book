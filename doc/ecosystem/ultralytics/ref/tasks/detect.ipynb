{
 "cells": [
  {
   "cell_type": "markdown",
   "metadata": {},
   "source": [
    "# 检测\n",
    "检测是 YOLOv11 支持的主要任务。它涉及在图像或视频帧中检测对象，并在它们周围绘制边界框。根据特征，被检测到的对象被分类为不同的类别。YOLOv11 能够在单个图像或视频帧中以高精度和速度检测多个对象。"
   ]
  },
  {
   "cell_type": "markdown",
   "metadata": {},
   "source": [
    "[目标检测]((https://www.ultralytics.com/glossary/object-detection))的输出是一组边界框，这些框包围了图像中的物体，并且每个框都带有类别标签和置信度分数。当您需要识别场景中感兴趣的对象，但又不需要确切知道对象的位置或其精确形状时，目标检测是很好的选择。"
   ]
  },
  {
   "cell_type": "markdown",
   "metadata": {},
   "source": [
    "```{tip}\n",
    "YOLOv11检测模型是默认的YOLOv11模型，即`yolo11n.pt`，这些模型是在 [COCO 数据集](https://github.com/ultralytics/ultralytics/blob/main/ultralytics/cfg/datasets/coco.yaml)上预训练的。\n",
    "```"
   ]
  },
  {
   "cell_type": "markdown",
   "metadata": {},
   "source": [
    "## [模型](https://github.com/ultralytics/ultralytics/tree/main/ultralytics/cfg/models/11)\n",
    "\n",
    "此处展示了YOLOv11预训练的检测模型。检测、分割和姿态估计模型是在[COCO](https://github.com/ultralytics/ultralytics/blob/main/ultralytics/cfg/datasets/coco.yaml)数据集上进行预训练的，而分类模型则是在[ImageNet](https://github.com/ultralytics/ultralytics/blob/main/ultralytics/cfg/datasets/ImageNet.yaml)数据集上进行预训练。\n",
    "\n",
    "[模型](https://github.com/ultralytics/ultralytics/tree/main/ultralytics/cfg/models)会在首次使用时自动从最新的Ultralytics[发布](https://github.com/ultralytics/assets/releases)中下载。\n",
    "\n",
    "模型 | 尺寸(像素) | mAP值 | CPU ONNX速度(毫秒) | T4 TensorRT10速度(毫秒) | 参数量(百万) | 计算量(十亿次浮点运算)\n",
    "-------------------------------------------|-------------------------|------------|--------------------------------|----------------------------------|------------------|------------------\n",
    "[YOLOv11n](https://github.com/ultralytics/assets/releases/download/v8.3.0/yolo11n.pt) | 640         | 39.5         | 56.1 ± 0.8                     | 1.5 ± 0.0                           | 2.6             | 6.5             |\n",
    "[YOLOv11s](https://github.com/ultralytics/assets/releases/download/v8.3.0/yolo11s.pt) | 640         | 47.0         | 90.0 ± 1.2                     | 2.5 ± 0.0                           | 9.4             | 21.5            |\n",
    "[YOLOv11m](https://github.com/ultralytics/assets/releases/download/v8.3.0/yolo11m.pt) | 640         | 51.5         | 183.2 ± 2.0                   | 4.7 ± 0.1                           | 20.1            | 68.0            |\n",
    "[YOLOv11l](https://github.com/ultralytics/assets/releases/download/v8.3.0/yolo11l.pt) | 640         | 53.4         | 238.6 ± 1.4                   | 6.2 ± 0.1                           | 25.3            | 86.9            |\n",
    "[YOLOv11x](https://github.com/ultralytics/assets/releases/download/v8.3.0/yolo11x.pt) | 640         | 54.7         | 462.8 ± 6.7                   | 11.3 ± 0.2                          | 56.9            | 194.9           |\n",
    "\n",
    "- **mAP<sup>val</sup>** 值是基于[COCO val2017](https://cocodataset.org/)数据集上的单模型单尺度计算得出的。可以通过`yolo val detect data=coco.yaml device=0` 命令复现。\n",
    "- **速度**是在[Amazon EC2 P4d](https://aws.amazon.com/ec2/instance-types/p4/)实例上使用COCO验证图像平均得出的。可以通过`yolo val detect data=coco.yaml batch=1 device=0|cpu` 命令复现。"
   ]
  },
  {
   "cell_type": "markdown",
   "metadata": {},
   "source": [
    "## 训练\n",
    "\n",
    "在COCO8数据集上训练YOLOv11n模型，进行100个[周期](https://www.ultralytics.com/glossary/epoch)，图像尺寸为 `640`。"
   ]
  },
  {
   "cell_type": "markdown",
   "metadata": {},
   "source": [
    "```python\n",
    "from ultralytics import YOLO\n",
    "\n",
    "# Load a model\n",
    "model = YOLO(\"yolo11n.yaml\")  # build a new model from YAML\n",
    "model = YOLO(\"yolo11n.pt\")  # load a pretrained model (recommended for training)\n",
    "model = YOLO(\"yolo11n.yaml\").load(\"yolo11n.pt\")  # build from YAML and transfer weights\n",
    "\n",
    "# Train the model\n",
    "results = model.train(data=\"coco8.yaml\", epochs=100, imgsz=640)\n",
    "```"
   ]
  },
  {
   "cell_type": "markdown",
   "metadata": {},
   "source": [
    "### 数据集格式\n",
    "\n",
    "YOLO 检测数据集格式的详细信息可以在[数据集指南](https://docs.ultralytics.com/datasets/detect/)中找到。要将您现有的其他格式（例如COCO等）数据集转换为YOLO格式，请使用Ultralytics提供的[JSON2YOLO](https://github.com/ultralytics/JSON2YOLO)工具。"
   ]
  },
  {
   "cell_type": "markdown",
   "metadata": {},
   "source": [
    "## 验证\n",
    "验证在COCO8数据集上训练的YOLOv11n模型的准确性。由于`model`保留了其训练数据和参数作为模型属性，因此无需额外参数。"
   ]
  },
  {
   "cell_type": "markdown",
   "metadata": {},
   "source": [
    "```python\n",
    "from ultralytics import YOLO\n",
    "\n",
    "# Load a model\n",
    "model = YOLO(\"yolo11n.pt\")  # load an official model\n",
    "model = YOLO(\"path/to/best.pt\")  # load a custom model\n",
    "\n",
    "# Validate the model\n",
    "metrics = model.val()  # no arguments needed, dataset and settings remembered\n",
    "metrics.box.map  # map50-95\n",
    "metrics.box.map50  # map50\n",
    "metrics.box.map75  # map75\n",
    "metrics.box.maps  # a list contains map50-95 of each category\n",
    "```"
   ]
  },
  {
   "cell_type": "markdown",
   "metadata": {},
   "source": [
    "## 预测\n",
    "\n",
    "使用训练有素的YOLOv11n模型对图像进行预测。"
   ]
  },
  {
   "cell_type": "markdown",
   "metadata": {},
   "source": [
    "\n",
    "```python\n",
    "from ultralytics import YOLO\n",
    "\n",
    "# Load a model\n",
    "model = YOLO(\"yolo11n.pt\")  # load an official model\n",
    "model = YOLO(\"path/to/best.pt\")  # load a custom model\n",
    "\n",
    "# Predict with the model\n",
    "results = model(\"https://ultralytics.com/images/bus.jpg\")  # predict on an image\n",
    "```"
   ]
  },
  {
   "cell_type": "markdown",
   "metadata": {},
   "source": []
  }
 ],
 "metadata": {
  "kernelspec": {
   "display_name": "xxx",
   "language": "python",
   "name": "python3"
  },
  "language_info": {
   "name": "python",
   "version": "3.12.2"
  }
 },
 "nbformat": 4,
 "nbformat_minor": 2
}
