{
 "cells": [
  {
   "cell_type": "markdown",
   "metadata": {},
   "source": [
    "# 图像分割\n",
    "\n",
    "[图像分割](https://www.ultralytics.com/glossary/image-segmentation)是一项涉及将图像根据其内容划分为不同区域的任务。每个区域根据其内容被赋予一个标签。这项任务在图像分割和医学成像等应用中非常有用。YOLO11 采用 U-Net 架构的一种变体来执行分割任务。"
   ]
  },
  {
   "cell_type": "markdown",
   "metadata": {},
   "source": [
    "实例分割（Instance segmentation）比对象检测更进一步，它涉及在图像中识别单个对象并将它们从其余部分中分离出来。\n",
    "\n",
    "[实例分割]((https://www.ultralytics.com/glossary/instance-segmentation))模型的输出是一组掩膜或轮廓，这些掩膜或轮廓勾勒出图像中的每个对象，并且还为每个对象提供类别标签和置信度分数。当您不仅需要知道图像中对象的位置，还需要知道它们的确切形状时，实例分割非常有用。"
   ]
  },
  {
   "cell_type": "markdown",
   "metadata": {},
   "source": [
    "```{tip}\n",
    "YOLOv11分割模型使用`-seg`后缀，即`yolo11n-seg.pt`，并在[COCO](https://github.com/ultralytics/ultralytics/blob/main/ultralytics/cfg/datasets/coco.yaml)数据集上进行了预训练。\n",
    "```"
   ]
  },
  {
   "cell_type": "markdown",
   "metadata": {},
   "source": [
    "## [模型](https://github.com/ultralytics/ultralytics/tree/main/ultralytics/cfg/models/11)\n",
    "\n",
    "此处展示了YOLOv11预训练的分割模型。检测、分割和姿态模型是在[COCO](https://github.com/ultralytics/ultralytics/blob/main/ultralytics/cfg/datasets/coco.yaml)数据集上预训练的，而分类模型则是在[ImageNet](https://github.com/ultralytics/ultralytics/blob/main/ultralytics/cfg/datasets/ImageNet.yaml)数据集上预训练的。\n",
    "\n",
    "[模型](https://github.com/ultralytics/ultralytics/tree/main/ultralytics/cfg/models)会在首次使用时自动从最新的Ultralytics [发行版](https://github.com/ultralytics/assets/releases)下载。\n",
    "\n",
    "| 模型名称 | 尺寸（像素） | mAP<sup>box</sup>50-95 | mAP<sup>mask</sup>50-95 | CPU ONNX速度(ms) | T4 TensorRT10速度(ms) | 参数量(M) | FLOPs(B) |\n",
    "|-------------------------|-------------------|----------------------|----------------------|----------------------|----------------------|-----------------|-------------|\n",
    "| [YOLOv11n-seg](https://github.com/ultralytics/assets/releases/download/v8.3.0/yolo11n-seg.pt) | 640                 | 38.9                | 32.0                | 65.9 ± 1.1          | 1.8 ± 0.0             | 2.9             | 10.4        |\n",
    "| [YOLOv11s-seg](https://github.com/ultralytics/assets/releases/download/v8.3.0/yolo11s-seg.pt) | 640                 | 46.6                | 37.8                | 117.6 ± 4.9         | 2.9 ± 0.0             | 10.1             | 35.5        |\n",
    "| [YOLOv11m-seg](https://github.com/ultralytics/assets/releases/download/v8.3.0/yolo11m-seg.pt) | 640                 | 51.5                | 41.5                | 281.6 ± 1.2          | 6.3 ± 0.1             | 22.4             | 123.3       |\n",
    "| [YOLOv11l-seg](https://github.com/ultralytics/assets/releases/download/v8.3.0/yolo11l-seg.pt) | 640                 | 53.4                | 42.9                | 344.2 ± 3.2          | 7.8 ± 0.2             | 27.6             | 142.2       |\n",
    "| [YOLOv11x-seg](https://github.com/ultralytics/assets/releases/download/v8.3.0/yolo11x-seg.pt) | 640                 | 54.7                | 43.8                | 664.5 ± 3.2          | 15.8 ± 0.7             | 62.1             | 319.0       |\n",
    "\n",
    "- **mAP<sup>val</sup>**值是针对[COCO val2017](https://cocodataset.org/)数据集上的单个模型单尺度计算得出的。通过`yolo val segment data=coco-seg.yaml device=0`重现\n",
    "- **速度**是在使用[Amazon EC2 P4d](https://aws.amazon.com/ec2/instance-types/p4/)实例的情况下，对COCO验证图像进行平均计算得出的。通过`yolo val segment data=coco-seg.yaml batch=1 device=0|cpu`重现}"
   ]
  },
  {
   "cell_type": "markdown",
   "metadata": {},
   "source": [
    "## 训练\n",
    "\n",
    "在COCO8-seg数据集上，针对图像尺寸为640的情况，对YOLOv11n-seg进行100个[轮次](https://www.ultralytics.com/glossary/epoch)的训练。"
   ]
  },
  {
   "cell_type": "markdown",
   "metadata": {},
   "source": [
    "```python\n",
    "from ultralytics import YOLO\n",
    "\n",
    "# Load a model\n",
    "model = YOLO(\"yolo11n-seg.yaml\")  # build a new model from YAML\n",
    "model = YOLO(\"yolo11n-seg.pt\")  # load a pretrained model (recommended for training)\n",
    "model = YOLO(\"yolo11n-seg.yaml\").load(\"yolo11n.pt\")  # build from YAML and transfer weights\n",
    "\n",
    "# Train the model\n",
    "results = model.train(data=\"coco8-seg.yaml\", epochs=100, imgsz=640)\n",
    "```"
   ]
  },
  {
   "cell_type": "markdown",
   "metadata": {},
   "source": [
    "## 验证\n",
    "验证训练好的YOLOv11n-seg模型在COCO8-seg数据集上的准确率。由于`model`保留了其训练数据和参数作为模型的属性，因此不需要额外的参数。"
   ]
  },
  {
   "cell_type": "markdown",
   "metadata": {},
   "source": [
    "```python\n",
    "from ultralytics import YOLO\n",
    "\n",
    "# Load a model\n",
    "model = YOLO(\"yolo11n-seg.pt\")  # load an official model\n",
    "model = YOLO(\"path/to/best.pt\")  # load a custom model\n",
    "\n",
    "# Validate the model\n",
    "metrics = model.val()  # no arguments needed, dataset and settings remembered\n",
    "metrics.box.map  # map50-95(B)\n",
    "metrics.box.map50  # map50(B)\n",
    "metrics.box.map75  # map75(B)\n",
    "metrics.box.maps  # a list contains map50-95(B) of each category\n",
    "metrics.seg.map  # map50-95(M)\n",
    "metrics.seg.map50  # map50(M)\n",
    "metrics.seg.map75  # map75(M)\n",
    "metrics.seg.maps  # a list contains map50-95(M) of each category\n",
    "```"
   ]
  },
  {
   "cell_type": "markdown",
   "metadata": {},
   "source": [
    "## 预测\n",
    "\n",
    "使用训练有素的 YOLO11n-seg 模型对图像进行预测。"
   ]
  },
  {
   "cell_type": "markdown",
   "metadata": {},
   "source": [
    "```python\n",
    "from ultralytics import YOLO\n",
    "\n",
    "# Load a model\n",
    "model = YOLO(\"yolo11n-seg.pt\")  # load an official model\n",
    "model = YOLO(\"path/to/best.pt\")  # load a custom model\n",
    "\n",
    "# Predict with the model\n",
    "results = model(\"https://ultralytics.com/images/bus.jpg\")  # predict on an image\n",
    "```"
   ]
  },
  {
   "cell_type": "markdown",
   "metadata": {},
   "source": [
    "## FAQs\n",
    "\n",
    "```{admonition} YOLO11中的目标检测和实例分割有什么区别？\n",
    "\n",
    "目标检测通过在图像中的物体周围绘制边界框来识别和定位对象，而实例分割不仅识别边界框，还描绘每个对象的精确形状。YOLO11实例分割模型提供掩模或轮廓，勾勒出每个检测到的对象的形状，这对于需要知道对象精确形状的任务非常有用，例如医学影像或自动驾驶。\n",
    "```\n",
    "\n",
    "```{admonition} 为什么使用YOLO11进行实例分割？\n",
    "\n",
    "Ultralytics YOLO11是一个被公认为高精度和实时性能的先进模型，使其成为实例分割任务的理想选择。YOLO11分割模型在[COCO数据集](https://github.com/ultralytics/ultralytics/blob/main/ultralytics/cfg/datasets/coco.yaml)上预训练，确保了对各种对象的强大性能。此外，YOLO支持无缝集成的训练、验证、预测和导出功能，使其在研究和工业应用中非常通用。\n",
    "```"
   ]
  },
  {
   "cell_type": "markdown",
   "metadata": {},
   "source": [
    "````{admonition} 如何加载和验证预训练的YOLO分割模型？\n",
    "\n",
    "加载和验证预训练的YOLO分割模型是直接的。以下是如何使用Python和CLI来完成这一过程的方法：\n",
    "\n",
    "```python\n",
    "from ultralytics import YOLO\n",
    "\n",
    "# 加载预训练模型\n",
    "model = YOLO(\"yolo11n-seg.pt\")\n",
    "\n",
    "# 验证模型\n",
    "metrics = model.val()\n",
    "print(\"框的平均精度均值:\", metrics.box.map)\n",
    "print(\"掩码的平均精度均值:\", metrics.seg.map)\n",
    "```\n",
    "````\n",
    "\n",
    "这些步骤将为您提供诸如[Mean Average Precision](https://www.ultralytics.com/glossary/mean-average-precision-map)（mAP）等验证指标，这对于评估模型性能至关重要。"
   ]
  }
 ],
 "metadata": {
  "kernelspec": {
   "display_name": "xxx",
   "language": "python",
   "name": "python3"
  },
  "language_info": {
   "name": "python",
   "version": "3.12.2"
  }
 },
 "nbformat": 4,
 "nbformat_minor": 2
}
