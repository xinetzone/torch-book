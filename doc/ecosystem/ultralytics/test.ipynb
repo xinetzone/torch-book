{
 "cells": [
  {
   "cell_type": "markdown",
   "metadata": {},
   "source": [
    "# {mod}`ultralytics` 测试样例"
   ]
  },
  {
   "cell_type": "code",
   "execution_count": 1,
   "metadata": {},
   "outputs": [],
   "source": [
    "from tasks import set_env\n",
    "from pathlib import Path\n",
    "temp_dir = Path(\"./.temp\") # 设置缓存目录\n",
    "(temp_dir/\"cfg/models\").mkdir(exist_ok=True, parents=True)"
   ]
  },
  {
   "cell_type": "code",
   "execution_count": 2,
   "metadata": {},
   "outputs": [
    {
     "name": "stdout",
     "output_type": "stream",
     "text": [
      "Overwriting .temp/cfg/models/yolo11-custom.yaml\n"
     ]
    }
   ],
   "source": [
    "%%file {temp_dir}/cfg/models/yolo11-custom.yaml\n",
    "\n",
    "# Ultralytics YOLO 🚀，采用 AGPL-3.0许可\n",
    "# YOLOv11 目标检测模型，支持 P3-P5 的输出。使用示例请参阅 https://docs.ultralytics.com/tasks/detect\n",
    "\n",
    "# 参数\n",
    "nc: 80 # n类别数量\n",
    "scales: # 模型复合缩放常数，即 `'model=yolo11n.yaml'` 会调用带有缩放因子 `'n'` 的 yolo11.yaml。\n",
    "  # [depth, width, max_channels]\n",
    "  n: [0.50, 0.25, 1024] # summary: 319 layers, 2624080 parameters, 2624064 gradients, 6.6 GFLOPs\n",
    "  s: [0.50, 0.50, 1024] # summary: 319 layers, 9458752 parameters, 9458736 gradients, 21.7 GFLOPs\n",
    "  m: [0.50, 1.00, 512] # summary: 409 layers, 20114688 parameters, 20114672 gradients, 68.5 GFLOPs\n",
    "  l: [1.00, 1.00, 512] # summary: 631 layers, 25372160 parameters, 25372144 gradients, 87.6 GFLOPs\n",
    "  x: [1.00, 1.50, 512] # summary: 631 layers, 56966176 parameters, 56966160 gradients, 196.0 GFLOPs\n",
    "\n",
    "# YOLO11n backbone\n",
    "backbone:\n",
    "  # [from, repeats, module, args]\n",
    "  - [-1, 1, Conv, [64, 3, 2]] # 0-P1/2\n",
    "#   - [-1, 1, Conv, [128, 3, 2]] # 1-P2/4\n",
    "#   - [-1, 2, C3k2, [256, False, 0.25]]\n",
    "#   - [-1, 1, Conv, [256, 3, 2]] # 3-P3/8\n",
    "#   - [-1, 2, C3k2, [512, False, 0.25]]\n",
    "#   - [-1, 1, Conv, [512, 3, 2]] # 5-P4/16\n",
    "#   - [-1, 2, C3k2, [512, True]]\n",
    "#   - [-1, 1, Conv, [1024, 3, 2]] # 7-P5/32\n",
    "#   - [-1, 2, C3k2, [1024, True]]\n",
    "#   - [-1, 1, SPPF, [1024, 5]] # 9\n",
    "#   - [-1, 2, C2PSA, [1024]] # 10\n",
    "\n",
    "# YOLO11n head\n",
    "head:\n",
    "  - [-1, 1, nn.Upsample, [None, 2, \"nearest\"]]\n",
    "#   - [[-1, 6], 1, Concat, [1]] # cat backbone P4\n",
    "#   - [-1, 2, C3k2, [512, False]] # 13\n",
    "\n",
    "#   - [-1, 1, nn.Upsample, [None, 2, \"nearest\"]]\n",
    "#   - [[-1, 4], 1, Concat, [1]] # cat backbone P3\n",
    "#   - [-1, 2, C3k2, [256, False]] # 16 (P3/8-small)\n",
    "\n",
    "#   - [-1, 1, Conv, [256, 3, 2]]\n",
    "#   - [[-1, 13], 1, Concat, [1]] # cat head P4\n",
    "#   - [-1, 2, C3k2, [512, False]] # 19 (P4/16-medium)\n",
    "\n",
    "#   - [-1, 1, Conv, [512, 3, 2]]\n",
    "#   - [[-1, 10], 1, Concat, [1]] # cat head P5\n",
    "#   - [-1, 2, C3k2, [1024, True]] # 22 (P5/32-large)\n",
    "\n",
    "#   - [[16, 19, 22], 1, Detect, [nc]] # Detect(P3, P4, P5)"
   ]
  },
  {
   "cell_type": "code",
   "execution_count": 3,
   "metadata": {},
   "outputs": [],
   "source": [
    "from ultralytics import YOLO\n",
    "# 加载模型\n",
    "model = YOLO(f\"{temp_dir}/cfg/models/yolo11n-custom.yaml\", task=\"detect\")  # 利用 YAML 构建新模型\n",
    "# 训练模型\n",
    "# results = model.train(data=\"coco8.yaml\", epochs=100, imgsz=640)"
   ]
  },
  {
   "cell_type": "code",
   "execution_count": 4,
   "metadata": {},
   "outputs": [
    {
     "name": "stdout",
     "output_type": "stream",
     "text": [
      "Ultralytics 8.3.28 🚀 Python-3.12.2 torch-2.5.0 CPU (Intel Xeon E5-2678 v3 2.50GHz)\n",
      "\n",
      "\u001b[34m\u001b[1mPyTorch:\u001b[0m starting from 'yolo11n-custom.yaml' with input shape (1, 3, 640, 640) BCHW and output shape(s) (1, 16, 640, 640) (0.0 MB)\n",
      "\n",
      "\u001b[34m\u001b[1mONNX:\u001b[0m starting export with onnx 1.16.2 opset 19...\n",
      "\u001b[34m\u001b[1mONNX:\u001b[0m slimming with onnxslim 0.1.34...\n",
      "\u001b[34m\u001b[1mONNX:\u001b[0m export success ✅ 0.4s, saved as 'yolo11n-custom.onnx' (0.0 MB)\n",
      "\n",
      "Export complete (0.4s)\n",
      "Results saved to \u001b[1m/media/pc/data/lxw/ai/torch-book/doc/ultralytics\u001b[0m\n",
      "Predict:         yolo predict task=detect model=yolo11n-custom.onnx imgsz=640  \n",
      "Validate:        yolo val task=detect model=yolo11n-custom.onnx imgsz=640 data=None  \n",
      "Visualize:       https://netron.app\n"
     ]
    }
   ],
   "source": [
    "path = model.export(format=\"onnx\")  # 返回导出模型的路径"
   ]
  },
  {
   "cell_type": "code",
   "execution_count": null,
   "metadata": {},
   "outputs": [],
   "source": []
  }
 ],
 "metadata": {
  "kernelspec": {
   "display_name": "Python 3",
   "language": "python",
   "name": "python3"
  },
  "language_info": {
   "codemirror_mode": {
    "name": "ipython",
    "version": 3
   },
   "file_extension": ".py",
   "mimetype": "text/x-python",
   "name": "python",
   "nbconvert_exporter": "python",
   "pygments_lexer": "ipython3",
   "version": "3.12.2"
  }
 },
 "nbformat": 4,
 "nbformat_minor": 2
}
