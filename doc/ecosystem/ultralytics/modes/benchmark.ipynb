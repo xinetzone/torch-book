{
 "cells": [
  {
   "cell_type": "markdown",
   "metadata": {},
   "source": [
    "# {mod}`ultralytics` 基准模式\n",
    "\n",
    "基准模式：在不同的部署环境中分析模型的速度和准确性。"
   ]
  },
  {
   "cell_type": "markdown",
   "metadata": {},
   "source": [
    "一旦你的模型训练和验证完成，下一步就是评估它在不同实际场景中的性能。Ultralytics YOLO11 提供的基准模式正是为此目的而设计的，它提供了强大的框架来评估你的模型在多种导出格式下的速度和准确性。"
   ]
  },
  {
   "cell_type": "markdown",
   "metadata": {},
   "source": [
    "```{admonition} 基准测试为何至关重要？\n",
    "- 明智决策：深入了解速度与准确性之间的权衡。\n",
    "- 资源分配：了解不同导出格式在不同硬件上的性能。\n",
    "- 优化：了解哪种导出格式能为您的特定用例提供最佳性能。\n",
    "- 成本效益：根据基准测试结果，更有效地利用硬件资源。\n",
    "```\n",
    "\n",
    "```{admonition} 基准模式下的关键指标\n",
    "- mAP50-95: 用于[目标检测](https://www.ultralytics.com/glossary/object-detection)、分割 和动作估计。\n",
    "- accuracy_top5: 用于[图像分类]((https://www.ultralytics.com/glossary/image-classification)).\n",
    "- 推理时间：每个图像所需推理的时间，以毫秒为单位。\n",
    "```"
   ]
  },
  {
   "cell_type": "code",
   "execution_count": null,
   "metadata": {},
   "outputs": [],
   "source": [
    "import set_env"
   ]
  },
  {
   "cell_type": "markdown",
   "metadata": {},
   "source": [
    "示例：\n",
    "\n",
    "```python\n",
    "from ultralytics.utils.benchmarks import benchmark\n",
    "\n",
    "# Benchmark on GPU\n",
    "benchmark(model=\"yolo11n.pt\", data=\"coco8.yaml\", imgsz=640, half=False, device=0)\n",
    "```"
   ]
  },
  {
   "cell_type": "markdown",
   "metadata": {},
   "source": [
    "## 参数\n",
    "\n",
    "诸如 `model`, `data`, `imgsz`, `half`, `device` 和 `verbose` 用户可以灵活地根据自己的具体需求对基准进行微调，并轻松比较不同导出格式的性能。"
   ]
  },
  {
   "cell_type": "markdown",
   "metadata": {},
   "source": [
    "| Key       | Default Value | Description                                                                                                                                                                                             |\n",
    "| --------- | ------------- | ------------------------------------------------------------------------------------------------------------------------------------------------------------------------------------------------------- |\n",
    "| `model`   | `None`        | Specifies the path to the model file. Accepts both `.pt` and `.yaml` formats, e.g., `\"yolo11n.pt\"` for pre-trained models or configuration files.                                                       |\n",
    "| `data`    | `None`        | Path to a YAML file defining the dataset for benchmarking, typically including paths and settings for [validation data](https://www.ultralytics.com/glossary/validation-data). Example: `\"coco8.yaml\"`. |\n",
    "| `imgsz`   | `640`         | The input image size for the model. Can be a single integer for square images or a tuple `(width, height)` for non-square, e.g., `(640, 480)`.                                                          |\n",
    "| `half`    | `False`       | Enables FP16 (half-precision) inference, reducing memory usage and possibly increasing speed on compatible hardware. Use `half=True` to enable.                                                         |\n",
    "| `int8`    | `False`       | Activates INT8 quantization for further optimized performance on supported devices, especially useful for edge devices. Set `int8=True` to use.                                                         |\n",
    "| `device`  | `None`        | Defines the computation device(s) for benchmarking, such as `\"cpu\"`, `\"cuda:0\"`, or a list of devices like `\"cuda:0,1\"` for multi-GPU setups.                                                           |\n",
    "| `verbose` | `False`       | Controls the level of detail in logging output. A boolean value; set `verbose=True` for detailed logs or a float for thresholding errors.                                                               |\n"
   ]
  },
  {
   "cell_type": "markdown",
   "metadata": {},
   "source": [
    "## 将YOLOv11模型导出为不同格式（如ONNX、TensorRT和OpenVINO）有哪些好处？\n",
    "\n",
    "将YOLOv11模型导出为不同格式，可以根据您的部署环境优化性能。例如：\n",
    "\n",
    "- **ONNX**：提供高达3倍的CPU加速。\n",
    "- **TensorRT**：提供高达5倍的GPU加速。\n",
    "- **OpenVINO**：专门为英特尔硬件优化。\n",
    "\n",
    "这些格式提高了模型的速度和准确性，使它们在各种实际应用中更加高效。"
   ]
  }
 ],
 "metadata": {
  "kernelspec": {
   "display_name": "xxx",
   "language": "python",
   "name": "python3"
  },
  "language_info": {
   "codemirror_mode": {
    "name": "ipython",
    "version": 3
   },
   "file_extension": ".py",
   "mimetype": "text/x-python",
   "name": "python",
   "nbconvert_exporter": "python",
   "pygments_lexer": "ipython3",
   "version": "3.12.2"
  }
 },
 "nbformat": 4,
 "nbformat_minor": 2
}
