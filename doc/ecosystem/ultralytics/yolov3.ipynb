{
 "cells": [
  {
   "cell_type": "markdown",
   "metadata": {},
   "source": [
    "# YOLOv3"
   ]
  },
  {
   "cell_type": "code",
   "execution_count": 1,
   "metadata": {},
   "outputs": [],
   "source": [
    "from pathlib import Path\n",
    "from ultralytics import YOLO\n",
    "from ultralytics import settings\n",
    "\n",
    "temp_dir = Path(\".temp\")\n",
    "temp_dir.mkdir(exist_ok=True)\n",
    "# 修改配置\n",
    "settings.update({\n",
    "    \"datasets_dir\": \"/media/pc/data/lxw/datasets\", # 存储数据集的目录\n",
    "    \"weights_dir\": f\"{temp_dir}/weights\", # 存储模型权重的目录\n",
    "    \"runs_dir\": f\"{temp_dir}/runs\", # 存储实验运行的目录\n",
    "})\n",
    "model = YOLO(f\"{temp_dir}/yolov3-tinyu.pt\")"
   ]
  },
  {
   "cell_type": "code",
   "execution_count": 3,
   "metadata": {},
   "outputs": [
    {
     "name": "stdout",
     "output_type": "stream",
     "text": [
      "Ultralytics 8.3.75 🚀 Python-3.12.2 torch-2.5.1 CPU (Intel Xeon E5-2678 v3 2.50GHz)\n",
      "YOLOv3-tiny summary (fused): 63 layers, 12,168,784 parameters, 0 gradients, 19.0 GFLOPs\n",
      "\n",
      "\u001b[34m\u001b[1mPyTorch:\u001b[0m starting from '.temp/yolov3-tinyu.pt' with input shape (1, 3, 640, 640) BCHW and output shape(s) (1, 84, 2000) (23.3 MB)\n",
      "\n",
      "\u001b[34m\u001b[1mONNX:\u001b[0m starting export with onnx 1.17.0 opset 19...\n",
      "\u001b[34m\u001b[1mONNX:\u001b[0m slimming with onnxslim 0.1.46...\n",
      "\u001b[34m\u001b[1mONNX:\u001b[0m export success ✅ 8.0s, saved as '.temp/yolov3-tinyu.onnx' (46.5 MB)\n",
      "\n",
      "Export complete (12.0s)\n",
      "Results saved to \u001b[1m/media/pc/data/lxw/ai/torch-book/doc/ecosystem/ultralytics/.temp\u001b[0m\n",
      "Predict:         yolo predict task=detect model=.temp/yolov3-tinyu.onnx imgsz=640  \n",
      "Validate:        yolo val task=detect model=.temp/yolov3-tinyu.onnx imgsz=640 data=coco.yaml  \n",
      "Visualize:       https://netron.app\n"
     ]
    },
    {
     "data": {
      "text/plain": [
       "'.temp/yolov3-tinyu.onnx'"
      ]
     },
     "execution_count": 3,
     "metadata": {},
     "output_type": "execute_result"
    }
   ],
   "source": [
    "model.export(format=\"onnx\")"
   ]
  },
  {
   "cell_type": "code",
   "execution_count": null,
   "metadata": {},
   "outputs": [],
   "source": []
  }
 ],
 "metadata": {
  "kernelspec": {
   "display_name": "ai",
   "language": "python",
   "name": "python3"
  },
  "language_info": {
   "codemirror_mode": {
    "name": "ipython",
    "version": 3
   },
   "file_extension": ".py",
   "mimetype": "text/x-python",
   "name": "python",
   "nbconvert_exporter": "python",
   "pygments_lexer": "ipython3",
   "version": "3.12.2"
  }
 },
 "nbformat": 4,
 "nbformat_minor": 2
}
