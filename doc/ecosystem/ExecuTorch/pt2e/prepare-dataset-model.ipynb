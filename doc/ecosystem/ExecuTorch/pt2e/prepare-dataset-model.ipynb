{
 "cells": [
  {
   "cell_type": "markdown",
   "id": "3eb0d622",
   "metadata": {},
   "source": [
    "# 准备数据集和浮点模型\n",
    "\n",
    "从执行必要的导入、定义一些辅助函数和准备数据开始。这些步骤与 [PyTorch 中的静态量化（急速模式）完全相同](https://pytorch.org/tutorials/advanced/static_quantization_tutorial.html)。\n",
    "\n",
    "要在本教程中使用整个 ImageNet 数据集运行代码，首先按照这里 [ImageNet Data 的说明](http://www.image-net.org/download)下载 ImageNet。"
   ]
  },
  {
   "cell_type": "code",
   "execution_count": 1,
   "id": "fe81c3b4",
   "metadata": {},
   "outputs": [],
   "source": [
    "import torch\n",
    "import torch.nn as nn\n",
    "from torchvision.models.resnet import resnet18, ResNet18_Weights\n",
    "from imagenet import ImageNet\n",
    "\n",
    "train_batch_size = 30\n",
    "eval_batch_size = 50\n",
    "# data_path = 'data/imagenet'\n",
    "data_path = \"/media/pc/data/lxw/home/data/datasets/ILSVRC\"\n",
    "dataset = ImageNet(data_path)\n",
    "data_loader = dataset.train_loader(train_batch_size)\n",
    "data_loader_test = dataset.test_loader(eval_batch_size)\n",
    "example_inputs = (next(iter(data_loader))[0])\n",
    "criterion = nn.CrossEntropyLoss()\n",
    "float_model = resnet18(weights=ResNet18_Weights.DEFAULT)\n",
    "float_model = float_model.to(\"cpu\").eval()"
   ]
  },
  {
   "cell_type": "code",
   "execution_count": null,
   "id": "f17927d2",
   "metadata": {},
   "outputs": [],
   "source": []
  }
 ],
 "metadata": {
  "kernelspec": {
   "display_name": "ai",
   "language": "python",
   "name": "python3"
  },
  "language_info": {
   "codemirror_mode": {
    "name": "ipython",
    "version": 3
   },
   "file_extension": ".py",
   "mimetype": "text/x-python",
   "name": "python",
   "nbconvert_exporter": "python",
   "pygments_lexer": "ipython3",
   "version": "3.12.2"
  }
 },
 "nbformat": 4,
 "nbformat_minor": 5
}
