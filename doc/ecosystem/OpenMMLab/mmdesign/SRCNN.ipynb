{
 "cells": [
  {
   "cell_type": "markdown",
   "metadata": {},
   "source": [
    "# 设计 SRCNN 模型\n",
    "\n",
    "参考：[SRCNN 的例子](https://mmagic.readthedocs.io/zh-cn/latest/howto/models.html#srcnn)"
   ]
  },
  {
   "cell_type": "code",
   "execution_count": 1,
   "metadata": {},
   "outputs": [],
   "source": [
    "from env import temp_dir, root_dir # 配置一些基础环境"
   ]
  },
  {
   "cell_type": "markdown",
   "metadata": {},
   "source": [
    "## 定义 SRCNN 网络"
   ]
  },
  {
   "cell_type": "markdown",
   "metadata": {},
   "source": [
    "SRCNN 是第一个用于单幅图像超分辨率 {cite:p}`dong2015imagesuperresolutionusingdeep` 的深度学习方法。为了实现 SRCNN 的网络架构，需要创建文件 `mmagic/models/editors/srgan/sr_resnet.py` 并执行 `class MSRResNet`。\n",
    "\n",
    "在这一步中，通过继承 {class}`mmengine.models.BaseModule` 来实现 `class MSRResNet`，并在 `__init__` 函数中定义网络架构。特别地，需要使用 `@MODELS.register_module()` 将 `class MSRResNet` 的实现添加到 `MMagic` 的注册中。"
   ]
  },
  {
   "cell_type": "code",
   "execution_count": 3,
   "metadata": {},
   "outputs": [],
   "source": [
    "import torch.nn as nn\n",
    "from mmengine.model import BaseModule\n",
    "from mmengine.registry import MODELS\n",
    "from mmagic.models.archs import PixelShufflePack, ResidualBlockNoBN\n",
    "from mmagic.models.utils import default_init_weights, make_layer\n",
    "\n",
    "@MODELS.register_module()\n",
    "class MSRResNet(BaseModule):\n",
    "    \"\"\"修改后的SRResNet。\n",
    "\n",
    "    由 \"使用生成对抗网络的照片-现实的单幅图像超级分辨率 \"中的SRResNet修改而来的压缩版本。\n",
    "\n",
    "    它使用无BN的残差块，类似于EDSR。\n",
    "    目前支持x2、x3和x4上采样比例因子。\n",
    "\n",
    "    Args:\n",
    "        in_channels (int): Channel number of inputs.\n",
    "        out_channels (int): Channel number of outputs.\n",
    "        mid_channels (int): Channel number of intermediate features.\n",
    "            Default: 64.\n",
    "        num_blocks (int): Block number in the trunk network. Default: 16.\n",
    "        upscale_factor (int): Upsampling factor. Support x2, x3 and x4.\n",
    "            Default: 4.\n",
    "    \"\"\"\n",
    "    _supported_upscale_factors = [2, 3, 4]\n",
    "\n",
    "    def __init__(self,\n",
    "                 in_channels,\n",
    "                 out_channels,\n",
    "                 mid_channels=64,\n",
    "                 num_blocks=16,\n",
    "                 upscale_factor=4):\n",
    "\n",
    "        super().__init__()\n",
    "        self.in_channels = in_channels\n",
    "        self.out_channels = out_channels\n",
    "        self.mid_channels = mid_channels\n",
    "        self.num_blocks = num_blocks\n",
    "        self.upscale_factor = upscale_factor\n",
    "\n",
    "        self.conv_first = nn.Conv2d(\n",
    "            in_channels, mid_channels, 3, 1, 1, bias=True)\n",
    "        self.trunk_net = make_layer(\n",
    "            ResidualBlockNoBN, num_blocks, mid_channels=mid_channels)\n",
    "\n",
    "        # upsampling\n",
    "        if self.upscale_factor in [2, 3]:\n",
    "            self.upsample1 = PixelShufflePack(\n",
    "                mid_channels,\n",
    "                mid_channels,\n",
    "                self.upscale_factor,\n",
    "                upsample_kernel=3)\n",
    "        elif self.upscale_factor == 4:\n",
    "            self.upsample1 = PixelShufflePack(\n",
    "                mid_channels, mid_channels, 2, upsample_kernel=3)\n",
    "            self.upsample2 = PixelShufflePack(\n",
    "                mid_channels, mid_channels, 2, upsample_kernel=3)\n",
    "        else:\n",
    "            raise ValueError(\n",
    "                f'Unsupported scale factor {self.upscale_factor}. '\n",
    "                f'Currently supported ones are '\n",
    "                f'{self._supported_upscale_factors}.')\n",
    "\n",
    "        self.conv_hr = nn.Conv2d(\n",
    "            mid_channels, mid_channels, 3, 1, 1, bias=True)\n",
    "        self.conv_last = nn.Conv2d(\n",
    "            mid_channels, out_channels, 3, 1, 1, bias=True)\n",
    "\n",
    "        self.img_upsampler = nn.Upsample(\n",
    "            scale_factor=self.upscale_factor,\n",
    "            mode='bilinear',\n",
    "            align_corners=False)\n",
    "\n",
    "        # activation function\n",
    "        self.lrelu = nn.LeakyReLU(negative_slope=0.1, inplace=True)\n",
    "\n",
    "        self.init_weights()\n",
    "\n",
    "    def init_weights(self):\n",
    "        \"\"\"Init weights for models.\n",
    "\n",
    "        Args:\n",
    "            pretrained (str, optional): Path for pretrained weights. If given\n",
    "                None, pretrained weights will not be loaded. Defaults to None.\n",
    "            strict (boo, optional): Whether strictly load the pretrained model.\n",
    "                Defaults to True.\n",
    "        \"\"\"\n",
    "\n",
    "        for m in [self.conv_first, self.conv_hr, self.conv_last]:\n",
    "            default_init_weights(m, 0.1)"
   ]
  },
  {
   "cell_type": "code",
   "execution_count": null,
   "metadata": {},
   "outputs": [],
   "source": []
  }
 ],
 "metadata": {
  "kernelspec": {
   "display_name": "xxx",
   "language": "python",
   "name": "python3"
  },
  "language_info": {
   "codemirror_mode": {
    "name": "ipython",
    "version": 3
   },
   "file_extension": ".py",
   "mimetype": "text/x-python",
   "name": "python",
   "nbconvert_exporter": "python",
   "pygments_lexer": "ipython3",
   "version": "3.12.2"
  }
 },
 "nbformat": 4,
 "nbformat_minor": 2
}
