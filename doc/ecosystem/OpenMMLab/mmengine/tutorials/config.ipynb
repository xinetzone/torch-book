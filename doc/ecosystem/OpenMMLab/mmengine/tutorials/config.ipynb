{
 "cells": [
  {
   "cell_type": "markdown",
   "metadata": {},
   "source": [
    "# 纯 Python 风格的配置\n",
    "\n",
    "纯 Python 风格的配置文件，即 `lazy import` 模式，它能够充分利用 Python 的语法规则，支持导出成 `json` 和 `yaml` 格式。"
   ]
  },
  {
   "cell_type": "code",
   "execution_count": 1,
   "metadata": {},
   "outputs": [],
   "source": [
    "from pathlib import Path\n",
    "import sys\n",
    "temp_dir = Path(\".temp\")\n",
    "sys.path.extend([str(temp_dir)])\n",
    "temp_dir.mkdir(exist_ok=True)"
   ]
  },
  {
   "cell_type": "markdown",
   "metadata": {},
   "source": [
    "## 模块构建\n",
    "\n",
    "配置文件写法："
   ]
  },
  {
   "cell_type": "code",
   "execution_count": 2,
   "metadata": {},
   "outputs": [
    {
     "name": "stdout",
     "output_type": "stream",
     "text": [
      "Writing .temp/optimizer.py\n"
     ]
    }
   ],
   "source": [
    "%%file {temp_dir}/optimizer.py\n",
    "from torch.optim import SGD\n",
    "\n",
    "optimizer = dict(type=SGD, lr=0.1)"
   ]
  },
  {
   "cell_type": "markdown",
   "metadata": {},
   "source": [
    "构建流程："
   ]
  },
  {
   "cell_type": "code",
   "execution_count": null,
   "metadata": {},
   "outputs": [],
   "source": [
    "import torch.nn as nn\n",
    "from mmengine.config import Config\n",
    "from mmengine.registry import OPTIMIZERS\n",
    "\n",
    "cfg = Config.fromfile(f'{temp_dir}/optimizer.py')\n",
    "model = nn.Conv2d(1, 1, 1)\n",
    "cfg.optimizer.params = model.parameters()\n",
    "optimizer = OPTIMIZERS.build(cfg.optimizer)"
   ]
  },
  {
   "cell_type": "markdown",
   "metadata": {},
   "source": [
    "## 继承配置"
   ]
  },
  {
   "cell_type": "markdown",
   "metadata": {},
   "source": [
    "纯 Python 风格的配置文件通过 `import` 语法来实现继承，这样做的好处是，可以直接跳转到被继承的配置文件中，方便阅读和跳转。变量的继承规则（增删改查）完全对齐 Python 语法，例如我想修改 `base` 配置文件中 `optimizer` 的学习率："
   ]
  },
  {
   "cell_type": "markdown",
   "metadata": {},
   "source": [
    "```python\n",
    "from mmengine.config import read_base\n",
    "\n",
    "\n",
    "with read_base():\n",
    "    from .optimizer import *\n",
    "\n",
    "# optimizer 为 base 配置文件定义的变量\n",
    "optimizer.update(\n",
    "    lr=0.01,\n",
    ")\n",
    "```"
   ]
  },
  {
   "cell_type": "markdown",
   "metadata": {},
   "source": [
    "````{note}\n",
    "需要注意的是，纯 Python 风格的配置文件中，字典的 `update` 方法与 {func}`dict.update` 稍有不同。纯 Python 风格的 `update` 会递归地去更新字典中的内容，例如：\n",
    "```python\n",
    "x = dict(a=1, b=dict(c=2, d=3))\n",
    "\n",
    "x.update(dict(b=dict(d=4)))\n",
    "# 配置文件中的 update 规则：\n",
    "# {a: 1, b: {c: 2, d: 4}}\n",
    "# 普通 dict 的 update 规则：\n",
    "# {a: 1, b: {d: 4}}\n",
    "```\n",
    "可见在配置文件中使用 `update` 方法会递归地去更新字段，而不是简单的覆盖。\n",
    "`````"
   ]
  }
 ],
 "metadata": {
  "kernelspec": {
   "display_name": "Python 3",
   "language": "python",
   "name": "python3"
  },
  "language_info": {
   "codemirror_mode": {
    "name": "ipython",
    "version": 3
   },
   "file_extension": ".py",
   "mimetype": "text/x-python",
   "name": "python",
   "nbconvert_exporter": "python",
   "pygments_lexer": "ipython3",
   "version": "3.12.2"
  }
 },
 "nbformat": 4,
 "nbformat_minor": 2
}
