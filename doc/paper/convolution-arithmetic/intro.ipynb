{
 "cells": [
  {
   "attachments": {},
   "cell_type": "markdown",
   "metadata": {},
   "source": [
    "# 简介\n",
    "\n",
    "```{note}\n",
    "转置卷积层（transposed convolutional layers，也被称为分数步长卷积层（fractionally strided convolutional layers））\n",
    "```\n",
    "\n",
    "神经网络的中心思想是 **仿射变换** （affine transformations）：$Y = XW + b$。\n",
    "\n",
    "对任何卷积运算 $i, k, p$ 和 $s$,\n",
    "\n",
    "$$\n",
    "o = \\lfloor \\frac{i - k + 2p}{s} \\rfloor + 1 \n",
    "$$\n"
   ]
  },
  {
   "cell_type": "markdown",
   "metadata": {},
   "source": []
  },
  {
   "cell_type": "code",
   "execution_count": null,
   "metadata": {},
   "outputs": [],
   "source": []
  }
 ],
 "metadata": {
  "kernelspec": {
   "display_name": "Python 3.10.4 ('tvmx': conda)",
   "language": "python",
   "name": "python3"
  },
  "language_info": {
   "name": "python",
   "version": "3.10.4"
  },
  "orig_nbformat": 4,
  "vscode": {
   "interpreter": {
    "hash": "e579259ee6098e2b9319de590d145b4b096774fe457bdf04260e3ba5c171e887"
   }
  }
 },
 "nbformat": 4,
 "nbformat_minor": 2
}
