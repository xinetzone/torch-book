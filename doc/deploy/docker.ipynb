{
 "cells": [
  {
   "attachments": {},
   "cell_type": "markdown",
   "metadata": {},
   "source": [
    "# Docker 部署\n",
    "\n",
    "## Docker 环境配置\n",
    "\n",
    "如果 Docker 以安装，可忽略本节。\n",
    "\n",
    "### 自动安装更新 Docker\n",
    "\n",
    ":::::{grid} 2\n",
    "::::{grid-item-card}\n",
    "\n",
    "更新可用软件包列表：\n",
    "\n",
    "```bash\n",
    "sudo apt update\n",
    "```\n",
    "\n",
    "更新可用软件包：\n",
    "\n",
    "```bash\n",
    "sudo apt update\n",
    "```\n",
    "::::\n",
    "::::{grid-item-card}\n",
    "安装 docker\n",
    "```bash\n",
    "sudo apt install -y docker.io\n",
    "```\n",
    "::::\n",
    ":::::"
   ]
  }
 ],
 "metadata": {
  "kernelspec": {
   "display_name": "xi",
   "language": "python",
   "name": "python3"
  },
  "language_info": {
   "name": "python",
   "version": "3.10.9"
  },
  "orig_nbformat": 4
 },
 "nbformat": 4,
 "nbformat_minor": 2
}
